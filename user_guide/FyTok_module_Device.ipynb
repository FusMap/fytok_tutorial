{
  "cells": [
    {
      "cell_type": "markdown",
      "metadata": {
        "substitutions": {
          "FyTok": "_Fy_<font color='blue' />__Tok__",
          "SpDM": "_Sp_<font color='blue' />__DM__"
        }
      },
      "source": [
        "# 装置中的子系统\n",
        "\n",
        "用以记录和描述装置独立的子系统状态的 IDS 包括：\n",
        "\n",
        "- 装置: wall, pf_active...\n",
        "- 诊断 : magnetics, ECE, Langmuir Probes , Polarimeter...\n",
        "- 辅助系统: LH Antennas, ECLauhchers,IC Antennas, NBI, Pellets...\n",
        "\n",
        "数据来源包括：\n",
        "\n",
        "- 装置静态几何信息；\n",
        "- 实际控制信号或者设计控制方案；\n",
        "- 实验诊断数据；\n",
        "\n",
        "对于这类 IDS ，{{FyTok}} 通过 {{SpDM}} 数据集成工具将不同来源的数据汇总、映射为符合 IMAS Ontology 的形式。对于 EAST 目前完成数据映射的子系统有：wall, pf_active, magnetics.\n",
        "\n",
        "```{note}\n",
        "在后续示例中，分别以 `wall, pf_active, magnetics` 子系统作为示例，展示如何使用 {{FyTok}} 读取、处理、分析、可视化装置子系统数据。其中数据源包括：本地文件、数据库、远程服务器等。关于数据源的配置请参考{{SpDM}}的相关文档。\n",
        "```\n"
      ]
    },
    {
      "cell_type": "code",
      "execution_count": 1,
      "metadata": {},
      "outputs": [],
      "source": [
        "from spdm.view import sp_view\n"
      ]
    },
    {
      "cell_type": "markdown",
      "metadata": {},
      "source": [
        "## wall\n"
      ]
    },
    {
      "cell_type": "markdown",
      "metadata": {},
      "source": [
        "`wall` 提供对托卡马克装置第一壁的描述（继承自 IMAS Ontology 的定义）\n",
        "\n",
        "```{eval-rst}\n",
        "\n",
        ".. autoclass:: fytok.modules.Wall.Wall\n",
        "    :members: description_2d\n",
        "    :undoc-members: time_slice\n",
        "    :member-order: bysource\n",
        "    :show-inheritance: True\n",
        "\n",
        "```\n"
      ]
    },
    {
      "cell_type": "markdown",
      "metadata": {},
      "source": [
        "### 创建 `Wall` 实例\n"
      ]
    },
    {
      "cell_type": "code",
      "execution_count": 2,
      "metadata": {},
      "outputs": [
        {
          "name": "stdout",
          "output_type": "stream",
          "text": [
            "\u001b[0;34m2024-06-01 08:44:24,143 [   fytok]     INFO: Failed to import IMAS wrapper. Using dummy ontology as fallback.\u001b[0m\n",
            "\u001b[0;34m2024-06-01 08:44:24,566 [   fytok]     INFO: \n",
            "###################################################################################################\n",
            "\n",
            "    ______      _____     _\n",
            "   / ____/_  __|_   _|__ | | __\n",
            "  / /_  / / / /  | |/ _ \\| |/ /\n",
            " / __/ / /_/ /   | | (_) |   <\n",
            "/_/    \\__, /    |_|\\___/|_|\\_\\\n",
            "      /____/\n",
            "\n",
            " Copyright (c) 2021-present Zhi YU @ Institute of Plasma Physics Chinese Academy of Sciences \n",
            "            \n",
            " version = 0.4.1  (spdm=beta extension=0.2.3.dev0+g2cc21ff.d20240223)\n",
            "\n",
            " Run by salmon at 2024-06-01T08:44:24.142905.\n",
            " Job ID: fytok_salmon_surface_10619\n",
            "\n",
            "###################################################################################################\n",
            "\u001b[0m\n"
          ]
        }
      ],
      "source": [
        "from fytok.modules.wall import Wall\n",
        "\n",
        "wall = Wall(\"east://#wall\")"
      ]
    },
    {
      "cell_type": "markdown",
      "metadata": {},
      "source": [
        "由于`Wall`的描述来自装置信息，采用 URI `east://#wall`指定数据源。其中，`east://` 指定了装置 identificer ， {{FyTok}} 会根据其匹配合适的装置描述文件。`#wall` 意为从树中裁剪 `wall` 所对应的一支。由于不涉及数据库或其他动态数据源，省略了 URI 其他部分。\n",
        "\n",
        "其中，关于 `limiter` 几何信息（ `wall.description_2d[0].limiter.unit[0].outline` ） 以`r`，`z`坐标数组的形式描述\n"
      ]
    },
    {
      "cell_type": "code",
      "execution_count": 3,
      "metadata": {},
      "outputs": [
        {
          "ename": "TypeError",
          "evalue": "'tags' object is not subscriptable",
          "output_type": "error",
          "traceback": [
            "\u001b[0;31m---------------------------------------------------------------------------\u001b[0m",
            "\u001b[0;31mTypeError\u001b[0m                                 Traceback (most recent call last)",
            "Cell \u001b[0;32mIn[3], line 1\u001b[0m\n\u001b[0;32m----> 1\u001b[0m \u001b[43mwall\u001b[49m\u001b[38;5;241;43m.\u001b[39;49m\u001b[43mdescription_2d\u001b[49m\u001b[43m[\u001b[49m\u001b[38;5;241;43m0\u001b[39;49m\u001b[43m]\u001b[49m\u001b[38;5;241m.\u001b[39mlimiter\u001b[38;5;241m.\u001b[39munit[\u001b[38;5;241m0\u001b[39m]\u001b[38;5;241m.\u001b[39moutline\u001b[38;5;241m.\u001b[39mz\n",
            "\u001b[0;31mTypeError\u001b[0m: 'tags' object is not subscriptable"
          ]
        }
      ],
      "source": [
        "wall.description_2d[0].limiter.unit[0].outline.z"
      ]
    },
    {
      "cell_type": "markdown",
      "metadata": {},
      "source": [
        "### 可视化效果\n"
      ]
    },
    {
      "cell_type": "code",
      "execution_count": null,
      "metadata": {},
      "outputs": [],
      "source": [
        "fig = sp_view.display(wall)"
      ]
    },
    {
      "cell_type": "markdown",
      "metadata": {},
      "source": [
        "## pf_active\n"
      ]
    },
    {
      "cell_type": "markdown",
      "metadata": {},
      "source": [
        "`pf_active` 提供对托卡马克装置极向场线圈的描述（继承自 IMAS Ontology 的定义）\n",
        "\n",
        "```{eval-rst}\n",
        "\n",
        ".. autoclass::fytok.ontology.imas_lastest.pf_active._T_pf_coils\n",
        "    :members: *\n",
        "    :member-order: bysource\n",
        "    :show-inheritance: True\n",
        ".. autoclass:: fytok.modules.PFActive.PFActive\n",
        "    :members: coil\n",
        "    :undoc-members: time_slice\n",
        "    :member-order: bysource\n",
        "    :show-inheritance: True\n",
        "\n",
        "```\n"
      ]
    },
    {
      "cell_type": "markdown",
      "metadata": {},
      "source": [
        "### 创建 `PFActive` 实例\n",
        "\n",
        "以本地 MDSplus 数据创建 `PFActive` 实例："
      ]
    },
    {
      "cell_type": "code",
      "execution_count": null,
      "metadata": {},
      "outputs": [],
      "source": [
        "from fytok.modules.pf_active import PFActive\n",
        "\n",
        "pf_active = PFActive(f\"east+mdsplus:///home/salmon/workspace/fytok_data/mdsplus/~t/?shot=70754#pf_active\")"
      ]
    },
    {
      "cell_type": "markdown",
      "metadata": {},
      "source": [
        "### 可视化\n",
        "\n",
        "- 2D ：pf 线圈截面"
      ]
    },
    {
      "cell_type": "code",
      "execution_count": null,
      "metadata": {},
      "outputs": [],
      "source": [
        "fig=sp_view.display(pf_active)\n"
      ]
    },
    {
      "cell_type": "markdown",
      "metadata": {},
      "source": [
        "- 1D ：pf 线圈电流随时间变化"
      ]
    },
    {
      "cell_type": "code",
      "execution_count": null,
      "metadata": {},
      "outputs": [],
      "source": [
        "fig = sp_view.plot([(coil.current, {\"label\": False}) for coil in pf_active.coil], y_label=f\"PF [A]\", x_label=\"time[s]\",title=\"PF Coil current\")"
      ]
    },
    {
      "cell_type": "markdown",
      "metadata": {},
      "source": [
        "## magnetics\n"
      ]
    },
    {
      "cell_type": "markdown",
      "metadata": {},
      "source": [
        "`magnetics` 提供对托卡马克磁探针的描述（继承自 IMAS Ontology 的定义）\n",
        "\n",
        "```{eval-rst}\n",
        "\n",
        "\n",
        ".. autoclass:: fytok.modules.Magnetics.Magnetics\n",
        "    :members: b_field_pol_probe, flux_loop\n",
        "    :member-order: bysource\n",
        "    :show-inheritance: True\n",
        "\n",
        "```\n"
      ]
    },
    {
      "cell_type": "markdown",
      "metadata": {},
      "source": [
        "### 创建 `Magnetics` 实例\n",
        "\n",
        "以远程 MDSplus 数据库创建 `Magnetics` 实例："
      ]
    },
    {
      "cell_type": "code",
      "execution_count": null,
      "metadata": {},
      "outputs": [],
      "source": [
        "from fytok.modules.magnetics import Magnetics\n",
        "\n",
        "magnetics = Magnetics(f\"east+mdsplus://202.127.204.12?shot=70754#magnetics\")\n"
      ]
    },
    {
      "cell_type": "markdown",
      "metadata": {},
      "source": [
        "### 可视化\n",
        "\n",
        "- 2D ：磁探针空间分布"
      ]
    },
    {
      "cell_type": "code",
      "execution_count": null,
      "metadata": {},
      "outputs": [],
      "source": [
        "fig = sp_view.display(magnetics)"
      ]
    },
    {
      "cell_type": "markdown",
      "metadata": {},
      "source": [
        "- 2D ：磁探针信号随时间变化"
      ]
    },
    {
      "cell_type": "code",
      "execution_count": null,
      "metadata": {},
      "outputs": [],
      "source": [
        "fig = sp_view.plot(\n",
        "    ([(probe.flux, {\"label\": False}) for probe in magnetics.flux_loop], {\"y_label\": f\"[Wb]\"}),\n",
        "    x_label=\"time[s]\",\n",
        "    title=\" flux_loop\",\n",
        ")"
      ]
    }
  ],
  "metadata": {
    "kernelspec": {
      "display_name": "Python 3",
      "language": "python",
      "name": "python3"
    },
    "language_info": {
      "codemirror_mode": {
        "name": "ipython",
        "version": 3
      },
      "file_extension": ".py",
      "mimetype": "text/x-python",
      "name": "python",
      "nbconvert_exporter": "python",
      "pygments_lexer": "ipython3",
      "version": "3.11.3"
    }
  },
  "nbformat": 4,
  "nbformat_minor": 2
}

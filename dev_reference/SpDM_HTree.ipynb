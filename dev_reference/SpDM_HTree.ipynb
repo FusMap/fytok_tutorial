{
 "cells": [
  {
   "cell_type": "markdown",
   "metadata": {},
   "source": [
    "# 数据绑定"
   ]
  },
  {
   "cell_type": "markdown",
   "metadata": {},
   "source": [
    "`HTree` 是一个类，用来进行数据绑定。它的实例化对象是一个层次化的树形结构，每个节点都是一个 `HTree`，`HTree` 对象的属性可以通过点号访问，也可以通过索引访问。\n"
   ]
  },
  {
   "cell_type": "markdown",
   "metadata": {},
   "source": [
    "## 将Python中原生数据映射到`HTree`中"
   ]
  },
  {
   "cell_type": "code",
   "execution_count": 1,
   "metadata": {},
   "outputs": [],
   "source": [
    "from spdm.core.htree import HTree, List, Dict\n",
    "\n",
    "class Data(Dict):\n",
    "    pass\n",
    "\n",
    "### 传递一个普通的字典结构给Data\n",
    "data = Data(\n",
    "    {\n",
    "        \"name\": \"Alice\",\n",
    "        \"age\": 25,\n",
    "        \"hobbies\": [\"reading\", \"painting\", \"yoga\"],\n",
    "        \"address\": [\n",
    "            {\"street\": \"123 Main St\", \"city\": \"Anytown\", \"state\": \"CA\", \"zip\": \"12345\"},\n",
    "            {\n",
    "                \"street\": \"456 Oak St\",\n",
    "                \"city\": \"Othertown\",\n",
    "                \"state\": \"NY\",\n",
    "                \"zip\": \"67890\",\n",
    "            },\n",
    "            {\"street\": \"789 Elm St\", \"city\": \"Somewhere\", \"state\": \"CO\", \"zip\": \"24680\"},\n",
    "        ],\n",
    "    },\n",
    "    # _entry=open_entry(....)\n",
    ")"
   ]
  },
  {
   "cell_type": "code",
   "execution_count": 2,
   "metadata": {},
   "outputs": [
    {
     "data": {
      "text/plain": [
       "'Alice'"
      ]
     },
     "execution_count": 2,
     "metadata": {},
     "output_type": "execute_result"
    }
   ],
   "source": [
    "## 访问字典中的数据\n",
    "data.get(\"name\")"
   ]
  },
  {
   "cell_type": "code",
   "execution_count": 3,
   "metadata": {},
   "outputs": [
    {
     "data": {
      "text/plain": [
       "[{'street': '123 Main St', 'city': 'Anytown', 'state': 'CA', 'zip': '12345'},\n",
       " {'street': '456 Oak St', 'city': 'Othertown', 'state': 'NY', 'zip': '67890'},\n",
       " {'street': '789 Elm St', 'city': 'Somewhere', 'state': 'CO', 'zip': '24680'}]"
      ]
     },
     "execution_count": 3,
     "metadata": {},
     "output_type": "execute_result"
    }
   ],
   "source": [
    "data.get(\"address\")"
   ]
  },
  {
   "cell_type": "code",
   "execution_count": 4,
   "metadata": {},
   "outputs": [
    {
     "data": {
      "text/plain": [
       "{'street': '456 Oak St', 'city': 'Othertown', 'state': 'NY', 'zip': '67890'}"
      ]
     },
     "execution_count": 4,
     "metadata": {},
     "output_type": "execute_result"
    }
   ],
   "source": [
    "### 但是address不支持直接切片访问。\n",
    "data.get(\"address[1]\")"
   ]
  },
  {
   "cell_type": "code",
   "execution_count": 5,
   "metadata": {},
   "outputs": [
    {
     "data": {
      "text/plain": [
       "{'street': '456 Oak St', 'city': 'Othertown', 'state': 'NY', 'zip': '67890'}"
      ]
     },
     "execution_count": 5,
     "metadata": {},
     "output_type": "execute_result"
    }
   ],
   "source": [
    "### address只能以整体拿回来，然后再切片访问\n",
    "data.get(\"address\")[1]"
   ]
  },
  {
   "cell_type": "markdown",
   "metadata": {},
   "source": [
    "## `sp_tree` 装饰器\n",
    "`sp_tree` 装饰器的作用是根据 `class` 中定义的 `type_hint` 生成 `property`，并于数据源对应 `key` 的 `value` 绑定，且在访问 `property` 时自动根据 `type_hint` 进行类型转换。"
   ]
  },
  {
   "cell_type": "code",
   "execution_count": 6,
   "metadata": {},
   "outputs": [],
   "source": [
    "from spdm.core.sp_tree import sp_property, SpTree\n",
    "from spdm.core.htree import List\n",
    "import pprint\n",
    "\n",
    "\n",
    "### sp_tree装饰器支持在Data类中声明字典中的每个元素key及其value的数据类型，这样就可以直接访问字典中的元素。\n",
    "\n",
    "\n",
    "class Data(SpTree):\n",
    "    name: str\n",
    "    age: int\n",
    "    hobbies: List[str]\n",
    "    address: List[Dict]\n",
    "\n",
    "\n",
    "data = Data(\n",
    "    {\n",
    "        \"name\": \"Alice\",\n",
    "        \"age\": \"25\",\n",
    "        \"hobbies\": [\"reading\", \"painting\", \"yoga\"],\n",
    "        \"address\": [\n",
    "            {\"street\": \"123 Main St\", \"city\": \"Anytown\", \"state\": \"CA\", \"zip\": \"12345\"},\n",
    "            {\n",
    "                \"street\": \"456 Oak St\",\n",
    "                \"city\": \"Othertown\",\n",
    "                \"state\": \"NY\",\n",
    "                \"zip\": \"67890\",\n",
    "            },\n",
    "            {\n",
    "                \"street\": \"789 Elm St\",\n",
    "                \"city\": \"Somewhere\",\n",
    "                \"state\": \"CO\",\n",
    "                \"zip\": \"24680\",\n",
    "            },\n",
    "        ],\n",
    "    },\n",
    "    # _entry=open_entry(....)\n",
    ")"
   ]
  },
  {
   "cell_type": "code",
   "execution_count": 7,
   "metadata": {},
   "outputs": [
    {
     "data": {
      "text/plain": [
       "'Alice'"
      ]
     },
     "execution_count": 7,
     "metadata": {},
     "output_type": "execute_result"
    }
   ],
   "source": [
    "## 发现声明过的元素其颜色都是蓝色的\n",
    "data.name"
   ]
  },
  {
   "cell_type": "code",
   "execution_count": 8,
   "metadata": {},
   "outputs": [
    {
     "data": {
      "text/plain": [
       "int"
      ]
     },
     "execution_count": 8,
     "metadata": {},
     "output_type": "execute_result"
    }
   ],
   "source": [
    "### 除了声明元素的key值，同时可以强制转化原有数据的数据类型\n",
    "type(data.age)"
   ]
  },
  {
   "cell_type": "code",
   "execution_count": 9,
   "metadata": {},
   "outputs": [
    {
     "data": {
      "text/plain": [
       "<spdm.core.htree.List[spdm.core.htree.Dict] at 0x7f4abbc48610>"
      ]
     },
     "execution_count": 9,
     "metadata": {},
     "output_type": "execute_result"
    }
   ],
   "source": [
    "### \n",
    "data.address"
   ]
  },
  {
   "cell_type": "code",
   "execution_count": 10,
   "metadata": {},
   "outputs": [
    {
     "data": {
      "text/plain": [
       "{'street': None,\n",
       " 'city': None,\n",
       " 'state': None,\n",
       " 'zip': None,\n",
       " '$type': 'spdm.core.htree.Dict',\n",
       " '$entry': {'_cache': Ellipsis, '_path': address/0}}"
      ]
     },
     "execution_count": 10,
     "metadata": {},
     "output_type": "execute_result"
    }
   ],
   "source": [
    "### 支持对LIST元素的直接切片访问，而不需要拿回整个字典\n",
    "data.address[0].__getstate__()"
   ]
  },
  {
   "cell_type": "markdown",
   "metadata": {},
   "source": [
    "## List[HTree] 结构体数组"
   ]
  },
  {
   "cell_type": "code",
   "execution_count": 11,
   "metadata": {},
   "outputs": [],
   "source": [
    "### 增加Address类，定义address的数据类型\n",
    "\n",
    "\n",
    "class Addrees(SpTree):\n",
    "    street: str\n",
    "    city: str\n",
    "    state: str\n",
    "    zip: int\n",
    "\n",
    "\n",
    "class Data(SpTree):\n",
    "\n",
    "    name: str\n",
    "    age: int\n",
    "    hobbies: List[str]\n",
    "    address: List[Addrees]\n",
    "\n",
    "\n",
    "data = Data(\n",
    "    {\n",
    "        \"name\": \"Alice\",\n",
    "        \"age\": \"25\",\n",
    "        \"hobbies\": [\"reading\", \"painting\", \"yoga\"],\n",
    "        \"address\": [\n",
    "            {\"street\": \"123 Main St\", \"city\": \"Anytown\", \"state\": \"CA\", \"zip\": \"12345\"},\n",
    "            {\n",
    "                \"street\": \"456 Oak St\",\n",
    "                \"city\": \"Othertown\",\n",
    "                \"state\": \"NY\",\n",
    "                \"zip\": \"67890\",\n",
    "            },\n",
    "            {\n",
    "                \"street\": \"789 Elm St\",\n",
    "                \"city\": \"Somewhere\",\n",
    "                \"state\": \"CO\",\n",
    "                \"zip\": \"24680\",\n",
    "            },\n",
    "        ],\n",
    "    },\n",
    "    # _entry=open_entry(....)\n",
    ")"
   ]
  },
  {
   "cell_type": "code",
   "execution_count": 12,
   "metadata": {},
   "outputs": [
    {
     "data": {
      "text/plain": [
       "12345"
      ]
     },
     "execution_count": 12,
     "metadata": {},
     "output_type": "execute_result"
    }
   ],
   "source": [
    "### zip的颜色变成了蓝色，因为在Addrees类中声明了zip\n",
    "data.address[0].zip"
   ]
  },
  {
   "cell_type": "code",
   "execution_count": 13,
   "metadata": {},
   "outputs": [
    {
     "data": {
      "text/plain": [
       "'456 Oak St'"
      ]
     },
     "execution_count": 13,
     "metadata": {},
     "output_type": "execute_result"
    }
   ],
   "source": [
    "data.address[1].street"
   ]
  },
  {
   "cell_type": "code",
   "execution_count": 14,
   "metadata": {},
   "outputs": [
    {
     "data": {
      "text/plain": [
       "{'street': '123 Main St', 'city': 'Anytown', 'state': 'CA', 'zip': 12345}"
      ]
     },
     "execution_count": 14,
     "metadata": {},
     "output_type": "execute_result"
    }
   ],
   "source": [
    "data.address[0]._cache"
   ]
  },
  {
   "cell_type": "markdown",
   "metadata": {},
   "source": [
    "## 访问属性"
   ]
  },
  {
   "cell_type": "code",
   "execution_count": 15,
   "metadata": {},
   "outputs": [],
   "source": [
    "class Addrees(SpTree):\n",
    "    street: str\n",
    "    city: str\n",
    "    state: str\n",
    "    zip: int\n",
    "    building: str = \"#12345\"  # default value\n",
    "    neighbour: str\n",
    "\n",
    "\n",
    "class Data(SpTree):\n",
    "\n",
    "    name: str\n",
    "    age: int\n",
    "    hobbies: List[str]\n",
    "    address: List[Addrees]\n",
    "\n",
    "\n",
    "data = Data(\n",
    "    {\n",
    "        \"name\": \"Alice\",\n",
    "        \"age\": 25,\n",
    "        \"hobbies\": [\"reading\", \"painting\", \"yoga\"],\n",
    "        \"address\": [\n",
    "            {\"street\": \"123 Main St\", \"city\": \"Anytown\", \"state\": \"CA\", \"zip\": \"12345\"},\n",
    "            {\n",
    "                \"street\": \"456 Oak St\",\n",
    "                \"city\": \"Othertown\",\n",
    "                \"state\": \"NY\",\n",
    "                \"zip\": \"67890\",\n",
    "            },\n",
    "            {\n",
    "                \"street\": \"789 Elm St\",\n",
    "                \"city\": \"Somewhere\",\n",
    "                \"state\": \"CO\",\n",
    "                \"zip\": \"24680\",\n",
    "            },\n",
    "        ],\n",
    "    },\n",
    "    # _entry=open_entry(....)\n",
    ")"
   ]
  },
  {
   "cell_type": "code",
   "execution_count": 16,
   "metadata": {},
   "outputs": [
    {
     "data": {
      "text/plain": [
       "'#12345'"
      ]
     },
     "execution_count": 16,
     "metadata": {},
     "output_type": "execute_result"
    }
   ],
   "source": [
    "data.address[0].building"
   ]
  },
  {
   "cell_type": "code",
   "execution_count": 17,
   "metadata": {},
   "outputs": [],
   "source": [
    "data.address[0].neighbour=\"zhangshan\""
   ]
  },
  {
   "cell_type": "code",
   "execution_count": 18,
   "metadata": {},
   "outputs": [
    {
     "data": {
      "text/plain": [
       "'#12345'"
      ]
     },
     "execution_count": 18,
     "metadata": {},
     "output_type": "execute_result"
    }
   ],
   "source": [
    "### 应用才会生效\n",
    "data.address[1].building"
   ]
  },
  {
   "cell_type": "code",
   "execution_count": 19,
   "metadata": {},
   "outputs": [
    {
     "data": {
      "text/plain": [
       "'zhangshan'"
      ]
     },
     "execution_count": 19,
     "metadata": {},
     "output_type": "execute_result"
    }
   ],
   "source": [
    "data.address[0].neighbour"
   ]
  },
  {
   "cell_type": "code",
   "execution_count": 20,
   "metadata": {},
   "outputs": [],
   "source": [
    "data.address[1].neighbour = \"lisi\""
   ]
  },
  {
   "cell_type": "code",
   "execution_count": 21,
   "metadata": {},
   "outputs": [
    {
     "data": {
      "text/plain": [
       "{'street': '123 Main St',\n",
       " 'city': 'Anytown',\n",
       " 'state': 'CA',\n",
       " 'zip': '12345',\n",
       " 'building': '#12345',\n",
       " 'neighbour': 'zhangshan'}"
      ]
     },
     "execution_count": 21,
     "metadata": {},
     "output_type": "execute_result"
    }
   ],
   "source": [
    "data.address[0]._cache"
   ]
  },
  {
   "cell_type": "code",
   "execution_count": 22,
   "metadata": {},
   "outputs": [
    {
     "data": {
      "text/plain": [
       "'lisi'"
      ]
     },
     "execution_count": 22,
     "metadata": {},
     "output_type": "execute_result"
    }
   ],
   "source": [
    "data.address[1].neighbour"
   ]
  },
  {
   "cell_type": "markdown",
   "metadata": {},
   "source": [
    "### 增加函数sp_property，定义函数"
   ]
  },
  {
   "cell_type": "code",
   "execution_count": 23,
   "metadata": {},
   "outputs": [],
   "source": [
    "class House(SpTree):\n",
    "\n",
    "    level: int = 4\n",
    "    length: float\n",
    "    width: float\n",
    "\n",
    "    @sp_property(units=\"m^2\")\n",
    "    def area(self) -> float:\n",
    "        return self.width * self.length\n",
    "\n",
    "\n",
    "class Addrees(SpTree):\n",
    "    street: str\n",
    "    city: str\n",
    "    state: str\n",
    "    zip: int\n",
    "    building: str = \"#12345\"\n",
    "    neighbour: str\n",
    "    house: House = sp_property(\n",
    "        label=\"big house\", default_value={\"level\": 2, \"area\": 1000}\n",
    "    )\n",
    "\n",
    "\n",
    "class Data(SpTree):\n",
    "\n",
    "    name: str\n",
    "    age: int\n",
    "    hobbies: List[str]\n",
    "    address: List[Addrees]\n",
    "\n",
    "\n",
    "data = Data(\n",
    "    {\n",
    "        \"name\": \"Alice\",\n",
    "        \"age\": 25,\n",
    "        \"hobbies\": [\"reading\", \"painting\", \"yoga\"],\n",
    "        \"address\": [\n",
    "            {\"street\": \"123 Main St\", \"city\": \"Anytown\", \"state\": \"CA\", \"zip\": \"12345\"},\n",
    "            {\n",
    "                \"street\": \"456 Oak St\",\n",
    "                \"city\": \"Othertown\",\n",
    "                \"state\": \"NY\",\n",
    "                \"zip\": \"67890\",\n",
    "                \"house\": {\"length\": 5, \"width\": 10},\n",
    "            },\n",
    "            {\n",
    "                \"street\": \"789 Elm St\",\n",
    "                \"city\": \"Somewhere\",\n",
    "                \"state\": \"CO\",\n",
    "                \"zip\": \"24680\",\n",
    "            },\n",
    "        ],\n",
    "    },\n",
    "    # _entry=open_entry(....)\n",
    ")"
   ]
  },
  {
   "cell_type": "code",
   "execution_count": 24,
   "metadata": {},
   "outputs": [],
   "source": [
    "house=data.address[1].house"
   ]
  },
  {
   "cell_type": "code",
   "execution_count": 25,
   "metadata": {},
   "outputs": [
    {
     "data": {
      "text/plain": [
       "4"
      ]
     },
     "execution_count": 25,
     "metadata": {},
     "output_type": "execute_result"
    }
   ],
   "source": [
    "house.level"
   ]
  },
  {
   "cell_type": "code",
   "execution_count": 26,
   "metadata": {},
   "outputs": [
    {
     "data": {
      "text/plain": [
       "5.0"
      ]
     },
     "execution_count": 26,
     "metadata": {},
     "output_type": "execute_result"
    }
   ],
   "source": [
    "house.length"
   ]
  },
  {
   "cell_type": "code",
   "execution_count": 27,
   "metadata": {},
   "outputs": [
    {
     "data": {
      "text/plain": [
       "10.0"
      ]
     },
     "execution_count": 27,
     "metadata": {},
     "output_type": "execute_result"
    }
   ],
   "source": [
    "house.width"
   ]
  },
  {
   "cell_type": "code",
   "execution_count": 28,
   "metadata": {},
   "outputs": [
    {
     "data": {
      "text/plain": [
       "50.0"
      ]
     },
     "execution_count": 28,
     "metadata": {},
     "output_type": "execute_result"
    }
   ],
   "source": [
    "house.area"
   ]
  },
  {
   "cell_type": "code",
   "execution_count": 29,
   "metadata": {},
   "outputs": [
    {
     "data": {
      "text/plain": [
       "'m^2'"
      ]
     },
     "execution_count": 29,
     "metadata": {},
     "output_type": "execute_result"
    }
   ],
   "source": [
    "House.area.metadata.get(\"units\")"
   ]
  },
  {
   "cell_type": "code",
   "execution_count": 30,
   "metadata": {},
   "outputs": [
    {
     "data": {
      "text/plain": [
       "\"I don't know\""
      ]
     },
     "execution_count": 30,
     "metadata": {},
     "output_type": "execute_result"
    }
   ],
   "source": [
    "data.get(\"address/3/street\", \"I don't know\")"
   ]
  },
  {
   "cell_type": "code",
   "execution_count": 31,
   "metadata": {},
   "outputs": [
    {
     "name": "stdout",
     "output_type": "stream",
     "text": [
      "123 Main St\n",
      "456 Oak St\n",
      "789 Elm St\n"
     ]
    }
   ],
   "source": [
    "for address in data.address:\n",
    "    print(address.street)"
   ]
  },
  {
   "cell_type": "code",
   "execution_count": 32,
   "metadata": {},
   "outputs": [],
   "source": [
    "data.address[0].street = \"456 Main St\""
   ]
  },
  {
   "cell_type": "code",
   "execution_count": 33,
   "metadata": {},
   "outputs": [
    {
     "data": {
      "text/plain": [
       "'456 Main St'"
      ]
     },
     "execution_count": 33,
     "metadata": {},
     "output_type": "execute_result"
    }
   ],
   "source": [
    "data.address[0].street"
   ]
  }
 ],
 "metadata": {
  "kernelspec": {
   "display_name": "Python 3 (ipykernel)",
   "language": "python",
   "name": "python3"
  },
  "language_info": {
   "codemirror_mode": {
    "name": "ipython",
    "version": 3
   },
   "file_extension": ".py",
   "mimetype": "text/x-python",
   "name": "python",
   "nbconvert_exporter": "python",
   "pygments_lexer": "ipython3",
   "version": "3.11.3"
  }
 },
 "nbformat": 4,
 "nbformat_minor": 2
}

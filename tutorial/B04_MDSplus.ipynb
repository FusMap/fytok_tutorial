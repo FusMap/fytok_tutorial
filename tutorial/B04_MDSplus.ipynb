{
 "cells": [
  {
   "cell_type": "markdown",
   "metadata": {},
   "source": [
    "## SpDB Manual之系列4：MDSplus数据库系统"
   ]
  },
  {
   "cell_type": "markdown",
   "metadata": {},
   "source": [
    "#### **SpDB**处理远程MDSplus数据库系统\n",
    "在**SpDB**中，使用open_entry()建立统一的访问入口,支持远程MDSplus Server数据库的访问，及本地MDSplus的数据库中数据的访问。支持两个有用的功能：\n",
    "\n",
    "（1）**不同数据源的自动集成**\n",
    "\n",
    "SpDB中提供**open_entry**建立访问链接，**wall，pf，tf，magnetics**等被映射的数据均可以通过该链接入口访问。数据源来自于静态的XML文件，动态的MDS数据库中的不同tree：east,pcs_east,efit_east等\n",
    "\n",
    "SpDB中数据的访问方式是按照IDS的树状结构逐层访问。\n",
    "\n",
    "（2）**“懒惰加载”数据**\n",
    "\n",
    "SpDB支持”懒惰加载“数据，因为，SpDB后台已经自动集成了不同数据源的数据，对应于不同的IDS条目中。所请求的条目或者某个条目中可能存储了大量的数据，如果请求的时候便立即从底层访问层后端读取所有数据，可能需要很长时间才能完成。通常情况下，用户可能只需要个别的数据子集，”懒惰加载”使得用户仅仅建立链接，只有在需要的时候才真正获取数据，这样会利于加速。\n",
    "\n",
    "- **.child()**操作可以将链接指针移动到下一个树节点，建立新的链接，而不会获取数据\n",
    "- **.get()**操作则直接将获得全部数据。"
   ]
  },
  {
   "cell_type": "markdown",
   "metadata": {},
   "source": [
    "#### 加载基本环境"
   ]
  },
  {
   "cell_type": "code",
   "execution_count": null,
   "metadata": {},
   "outputs": [],
   "source": [
    "### import基本环境\n",
    "from spdm.data.Entry import open_entry\n",
    "from spdm.utils.logger import logger\n",
    "import fytok\n",
    "import MDSplus\n",
    "import os\n",
    "\n",
    "### 指定mappingfile的路径\n",
    "os.environ[\"SP_DATA_MAPPING_PATH\"] = \"${workdir}/fytok_data/mapping\""
   ]
  },
  {
   "cell_type": "markdown",
   "metadata": {},
   "source": [
    "#### 访问远程EAST MDSplus数据库"
   ]
  },
  {
   "cell_type": "code",
   "execution_count": null,
   "metadata": {},
   "outputs": [],
   "source": [
    "### 访问远程EAST MDS数据库中70754炮的数据，\n",
    "shot_num = 70754\n",
    "time_slice = 10\n",
    "entry = open_entry(\"east+mdsplus://202.127.204.12?enable=efit_east&shot={shot_num}\")"
   ]
  },
  {
   "cell_type": "markdown",
   "metadata": {},
   "source": [
    "#### 访问远程本地MDSplus数据库"
   ]
  },
  {
   "cell_type": "code",
   "execution_count": 433,
   "metadata": {},
   "outputs": [],
   "source": [
    "# ### 访问本地MDSplus路径中中的70754炮的数据\n",
    "shot_num = 70754\n",
    "time_slice = 10\n",
    "DATA_PATH = \"/scratch/jupytertest/workspace_fytok/fytok_data\"\n",
    "entry = open_entry(f\"east+mdsplus://{DATA_PATH}/mdsplus/~t/?shot=70745\")"
   ]
  },
  {
   "cell_type": "markdown",
   "metadata": {},
   "source": [
    "#### .child()支持“懒惰执行”"
   ]
  },
  {
   "cell_type": "code",
   "execution_count": 417,
   "metadata": {},
   "outputs": [
    {
     "data": {
      "text/plain": [
       "spdm.data.Entry.EntryProxy"
      ]
     },
     "execution_count": 417,
     "metadata": {},
     "output_type": "execute_result"
    }
   ],
   "source": [
    "### .child操作会将链接进一步指向wall\n",
    "wall = entry.child(\"wall\")\n",
    "### 打印wall的类型，仍然是个entry\n",
    "type(wall)"
   ]
  },
  {
   "cell_type": "code",
   "execution_count": 418,
   "metadata": {},
   "outputs": [
    {
     "name": "stdout",
     "output_type": "stream",
     "text": [
      "{'r': array([2.277, 2.273, 2.267, 1.94 , 1.94 , 1.802, 1.773, 1.751, 1.736,\n",
      "       1.714, 1.707, 1.696, 1.665, 1.656, 1.635, 1.612, 1.478, 1.459,\n",
      "       1.44 , 1.436, 1.399, 1.379, 1.392, 1.43 , 1.439, 1.442, 1.437,\n",
      "       1.363, 1.361, 1.361, 1.361, 1.363, 1.421, 1.423, 1.422, 1.418,\n",
      "       1.331, 1.367, 1.564, 1.597, 1.598, 1.624, 1.754, 1.765, 1.814,\n",
      "       1.824, 1.825, 1.841, 1.971, 1.971, 2.267, 2.273, 2.277, 2.277,\n",
      "       2.306, 2.328, 2.343, 2.35 , 2.35 , 2.35 , 2.343, 2.328, 2.306,\n",
      "       2.277]), 'z': array([ 0.485,  0.485,  0.493,  0.809,  0.809,  0.926,  0.956,  0.993,\n",
      "        1.033,  1.131,  1.162,  1.142,  1.117,  1.111,  1.096,  1.084,\n",
      "        1.025,  1.021,  1.024,  1.026,  1.039,  1.049,  1.014,  0.909,\n",
      "        0.873,  0.835,  0.799,  0.456,  0.454,  0.   , -0.454, -0.456,\n",
      "       -0.725, -0.748, -0.749, -0.77 , -1.011, -0.977, -0.938, -0.941,\n",
      "       -0.941, -0.961, -1.139, -1.17 , -0.959, -0.934, -0.932, -0.91 ,\n",
      "       -0.783, -0.783, -0.493, -0.485, -0.485, -0.309, -0.244, -0.176,\n",
      "       -0.106, -0.036,  0.   ,  0.036,  0.106,  0.176,  0.244,  0.309])}\n"
     ]
    }
   ],
   "source": [
    "### 继续移动链接到wall中的下一个子节点中,outline仍然是个entry\n",
    "outline = entry.child(\"wall.description_2d[0].limiter.unit[0].outline\")\n",
    "### 获取outline的数据\n",
    "print(outline.__value__)"
   ]
  },
  {
   "cell_type": "markdown",
   "metadata": {},
   "source": [
    "#### .get()直接获取数据"
   ]
  },
  {
   "cell_type": "code",
   "execution_count": 419,
   "metadata": {},
   "outputs": [
    {
     "data": {
      "text/plain": [
       "{'ids_properties': {'comment': {},\n",
       "  'provider': 'Guo, Yong',\n",
       "  'creation_date': '2020-10-12',\n",
       "  'homogeneous_time': 2},\n",
       " 'description_2d': {'type': {'name': 'equilibrium', 'index': 1},\n",
       "  'limiter': {'type': {'name': 'limiter', 'index': 0},\n",
       "   'unit': {'name': 'limiter',\n",
       "    'closed': 1,\n",
       "    'outline': {'r': array([2.277, 2.273, 2.267, 1.94 , 1.94 , 1.802, 1.773, 1.751, 1.736,\n",
       "            1.714, 1.707, 1.696, 1.665, 1.656, 1.635, 1.612, 1.478, 1.459,\n",
       "            1.44 , 1.436, 1.399, 1.379, 1.392, 1.43 , 1.439, 1.442, 1.437,\n",
       "            1.363, 1.361, 1.361, 1.361, 1.363, 1.421, 1.423, 1.422, 1.418,\n",
       "            1.331, 1.367, 1.564, 1.597, 1.598, 1.624, 1.754, 1.765, 1.814,\n",
       "            1.824, 1.825, 1.841, 1.971, 1.971, 2.267, 2.273, 2.277, 2.277,\n",
       "            2.306, 2.328, 2.343, 2.35 , 2.35 , 2.35 , 2.343, 2.328, 2.306,\n",
       "            2.277]),\n",
       "     'z': array([ 0.485,  0.485,  0.493,  0.809,  0.809,  0.926,  0.956,  0.993,\n",
       "             1.033,  1.131,  1.162,  1.142,  1.117,  1.111,  1.096,  1.084,\n",
       "             1.025,  1.021,  1.024,  1.026,  1.039,  1.049,  1.014,  0.909,\n",
       "             0.873,  0.835,  0.799,  0.456,  0.454,  0.   , -0.454, -0.456,\n",
       "            -0.725, -0.748, -0.749, -0.77 , -1.011, -0.977, -0.938, -0.941,\n",
       "            -0.941, -0.961, -1.139, -1.17 , -0.959, -0.934, -0.932, -0.91 ,\n",
       "            -0.783, -0.783, -0.493, -0.485, -0.485, -0.309, -0.244, -0.176,\n",
       "            -0.106, -0.036,  0.   ,  0.036,  0.106,  0.176,  0.244,  0.309])},\n",
       "    '@id': '0'}},\n",
       "  'vessel': {'unit': {'name': 'EAST',\n",
       "    'identifier': 'EAST',\n",
       "    'annular': {'outline_inner': {'closed': 1,\n",
       "      'r': array([2.7286, 2.7069, 2.664 , 2.6007, 2.5178, 2.417 , 2.2997, 2.1681,\n",
       "             2.0244, 1.8708, 1.709 , 1.5435, 1.3902, 1.2814, 1.2402, 1.237 ,\n",
       "             1.237 , 1.237 , 1.237 , 1.237 , 1.237 , 1.237 , 1.237 , 1.237 ,\n",
       "             1.237 , 1.2402, 1.2814, 1.3902, 1.5435, 1.709 , 1.8708, 2.0244,\n",
       "             2.1681, 2.2997, 2.417 , 2.5178, 2.6007, 2.664 , 2.7069, 2.7286]),\n",
       "      'z': array([ 0.083289,  0.24846 ,  0.40942 ,  0.56347 ,  0.708   ,  0.84058 ,\n",
       "              0.95892 ,  1.061   ,  1.1452  ,  1.2095  ,  1.2454  ,  1.2439  ,\n",
       "              1.1907  ,  1.075   ,  0.91857 ,  0.75173 ,  0.58468 ,  0.41763 ,\n",
       "              0.25058 ,  0.083526, -0.083526, -0.25058 , -0.41763 , -0.58468 ,\n",
       "             -0.75173 , -0.91857 , -1.075   , -1.1907  , -1.2439  , -1.2454  ,\n",
       "             -1.2095  , -1.1452  , -1.061   , -0.95892 , -0.84058 , -0.708   ,\n",
       "             -0.56347 , -0.40942 , -0.24846 , -0.083289])},\n",
       "     'outline_outer': {'closed': 1,\n",
       "      'r': array([2.844 , 2.8204, 2.7737, 2.7046, 2.6143, 2.5045, 2.3771, 2.2343,\n",
       "             2.0786, 1.9127, 1.7389, 1.5637, 1.3995, 1.2722, 1.2108, 1.199 ,\n",
       "             1.199 , 1.199 , 1.199 , 1.199 , 1.199 , 1.199 , 1.199 , 1.199 ,\n",
       "             1.199 , 1.2108, 1.2722, 1.3995, 1.5637, 1.7389, 1.9127, 2.0786,\n",
       "             2.2343, 2.3771, 2.5045, 2.6143, 2.7046, 2.7737, 2.8204, 2.844 ]),\n",
       "      'z': array([ 0.089216,  0.26608 ,  0.43828 ,  0.6028  ,  0.75671 ,  0.89735 ,\n",
       "              1.0223  ,  1.1292  ,  1.2164  ,  1.282   ,  1.3197  ,  1.3165  ,\n",
       "              1.2605  ,  1.1444  ,  0.98288 ,  0.80532 ,  0.62636 ,  0.4474  ,\n",
       "              0.26844 ,  0.08948 , -0.08948 , -0.26844 , -0.4474  , -0.62636 ,\n",
       "             -0.80532 , -0.98288 , -1.1444  , -1.2605  , -1.3165  , -1.3197  ,\n",
       "             -1.282   , -1.2164  , -1.1292  , -1.0223  , -0.89735 , -0.75671 ,\n",
       "             -0.6028  , -0.43828 , -0.26608 , -0.089216])}},\n",
       "    '@id': '0'}},\n",
       "  '@id': '0'}}"
      ]
     },
     "execution_count": 419,
     "metadata": {},
     "output_type": "execute_result"
    }
   ],
   "source": [
    "###.get()操作直接获取数据，以dict字典的形式返回\n",
    "entry.get(\"wall\")"
   ]
  },
  {
   "cell_type": "markdown",
   "metadata": {},
   "source": [
    "#### SpDB中数据以字典形式在内存中直接交互"
   ]
  },
  {
   "cell_type": "code",
   "execution_count": 435,
   "metadata": {},
   "outputs": [
    {
     "data": {
      "text/plain": [
       "dict_keys(['ids_properties', 'b_field_pol_probe', 'flux_loop', 'ip'])"
      ]
     },
     "execution_count": 435,
     "metadata": {},
     "output_type": "execute_result"
    }
   ],
   "source": [
    "### 打印IDS magnetics中的关键keys\n",
    "shot_num = 70754\n",
    "time_slice = 10\n",
    "DATA_PATH = \"/scratch/jupytertest/workspace_fytok/fytok_data\"\n",
    "entry = open_entry(f\"east+mdsplus://{DATA_PATH}/mdsplus/~t/?shot=70745\")\n",
    "entry.get(\"magnetics]\").keys()\n"
   ]
  },
  {
   "cell_type": "code",
   "execution_count": null,
   "metadata": {},
   "outputs": [],
   "source": [
    "#### SpDB中list的访问"
   ]
  },
  {
   "cell_type": "code",
   "execution_count": 436,
   "metadata": {},
   "outputs": [
    {
     "data": {
      "text/plain": [
       "list"
      ]
     },
     "execution_count": 436,
     "metadata": {},
     "output_type": "execute_result"
    }
   ],
   "source": [
    "### 例如，b_field_pol_probe探针有多个，以list形式存在\n",
    "type(entry.get(\"magnetics\")[\"b_field_pol_probe\"])\n"
   ]
  },
  {
   "cell_type": "code",
   "execution_count": 437,
   "metadata": {},
   "outputs": [
    {
     "data": {
      "text/plain": [
       "dict_keys(['name', 'identifier', 'position', 'toroidal_angle', 'field', '@id'])"
      ]
     },
     "execution_count": 437,
     "metadata": {},
     "output_type": "execute_result"
    }
   ],
   "source": [
    "\n",
    "### 每个探针下面是一个字典结构，获得其keys\n",
    "entry.get(\"magnetics.b_field_pol_probe[0]\").keys()\n"
   ]
  },
  {
   "cell_type": "code",
   "execution_count": 438,
   "metadata": {},
   "outputs": [
    {
     "data": {
      "text/plain": [
       "[{'r': 1.2905, 'z': 0.0, '@id': '*'}]"
      ]
     },
     "execution_count": 438,
     "metadata": {},
     "output_type": "execute_result"
    }
   ],
   "source": [
    "\n",
    "entry.child(\"magnetics.b_field_pol_probe[0].position\").__value__"
   ]
  },
  {
   "cell_type": "markdown",
   "metadata": {},
   "source": [
    "#### SpDB中数据按照树状结构层层访问"
   ]
  },
  {
   "cell_type": "code",
   "execution_count": 439,
   "metadata": {},
   "outputs": [
    {
     "data": {
      "text/plain": [
       "{'r': array([2.277, 2.273, 2.267, 1.94 , 1.94 , 1.802, 1.773, 1.751, 1.736,\n",
       "        1.714, 1.707, 1.696, 1.665, 1.656, 1.635, 1.612, 1.478, 1.459,\n",
       "        1.44 , 1.436, 1.399, 1.379, 1.392, 1.43 , 1.439, 1.442, 1.437,\n",
       "        1.363, 1.361, 1.361, 1.361, 1.363, 1.421, 1.423, 1.422, 1.418,\n",
       "        1.331, 1.367, 1.564, 1.597, 1.598, 1.624, 1.754, 1.765, 1.814,\n",
       "        1.824, 1.825, 1.841, 1.971, 1.971, 2.267, 2.273, 2.277, 2.277,\n",
       "        2.306, 2.328, 2.343, 2.35 , 2.35 , 2.35 , 2.343, 2.328, 2.306,\n",
       "        2.277]),\n",
       " 'z': array([ 0.485,  0.485,  0.493,  0.809,  0.809,  0.926,  0.956,  0.993,\n",
       "         1.033,  1.131,  1.162,  1.142,  1.117,  1.111,  1.096,  1.084,\n",
       "         1.025,  1.021,  1.024,  1.026,  1.039,  1.049,  1.014,  0.909,\n",
       "         0.873,  0.835,  0.799,  0.456,  0.454,  0.   , -0.454, -0.456,\n",
       "        -0.725, -0.748, -0.749, -0.77 , -1.011, -0.977, -0.938, -0.941,\n",
       "        -0.941, -0.961, -1.139, -1.17 , -0.959, -0.934, -0.932, -0.91 ,\n",
       "        -0.783, -0.783, -0.493, -0.485, -0.485, -0.309, -0.244, -0.176,\n",
       "        -0.106, -0.036,  0.   ,  0.036,  0.106,  0.176,  0.244,  0.309])}"
      ]
     },
     "execution_count": 439,
     "metadata": {},
     "output_type": "execute_result"
    }
   ],
   "source": [
    "### SpDB中数据按照层层路径进行访问:wall.description_2d[0].limiter.unit.outlin\n",
    "### 获取outline的数据：\n",
    "entry.get(\"wall.description_2d[0].limiter.unit.outline\")"
   ]
  }
 ],
 "metadata": {
  "kernelspec": {
   "display_name": "Python 3 (ipykernel)",
   "language": "python",
   "name": "python3"
  },
  "language_info": {
   "codemirror_mode": {
    "name": "ipython",
    "version": 3
   },
   "file_extension": ".py",
   "mimetype": "text/x-python",
   "name": "python",
   "nbconvert_exporter": "python",
   "pygments_lexer": "ipython3",
   "version": "3.10.8"
  }
 },
 "nbformat": 4,
 "nbformat_minor": 2
}

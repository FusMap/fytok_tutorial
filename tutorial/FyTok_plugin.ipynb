{
 "cells": [
  {
   "cell_type": "markdown",
   "metadata": {},
   "source": [
    "# 插件功能_第三方物理程序"
   ]
  },
  {
   "cell_type": "markdown",
   "metadata": {},
   "source": [
    "## 动机\n",
    "复杂的模拟通常需要结合许多的物理程序，这些程序可能由社区内不同的研究者提供，并用不同的代码编写。特别是有历史年代的物理程序，或者涉及到许多密集型计算的科学程序和算法，大都使用C++或者Fortran编写的。\n",
    "\n",
    "\n",
    "为了让他们能够协同工作，需要一个额外的中间层来协调特定的物理代码的执行，并负责数据传递。这一层就是“工作流”。\n",
    "\n",
    "通常情况下，工作流协调器是用动态编码元素语言实现的，如，FyTok中选择使用Python语言直接来调度不同的物理程序。\n",
    "这样的话，需要一种“封装器”来帮助本地代码语言和调度协调器语言之间充当介质。使用“封装器”将物理程序封装成统一的调度器的组件，提供统一的API来调用和使用这些组件。\n",
    "\n",
    "因此，FyTok中提供灵活的插件功能来统一封装和组织用户的第三方物理程序，增加物理程序集成的灵活性，进一步降低程序集成的复杂度。\n"
   ]
  },
  {
   "cell_type": "markdown",
   "metadata": {},
   "source": [
    "## FyTok中的插件机制\n",
    "FyTok中采用基于插件的模块化设计，这种机制运行将多种语言（如Fortran，C++，Matlab等）编写的物理代码集成到以Python为主体的复杂计算流程中。\n",
    "用于构建托克马克的的Ontology清楚描述了和托克马克相关的物理概念或者装置组件，称为Actor.\n",
    "FyTok将不同的物理程序绑定到对应的Actor上，通过插件机制灵活封装、组织管理、调用。\n"
   ]
  },
  {
   "cell_type": "markdown",
   "metadata": {},
   "source": [
    "### 物理程序的组织管理\n",
    "\n",
    "#### 目录结构的组织\n",
    "第三方物理程序无需将代码打包在FyTok的框架内，用户仅需将打包好的代码的目录暴露在FyTok可检索的路径下。\n",
    "\n",
    "该目录按照下述规范的组织结构：\n",
    "```\n",
    "{work_dir}/python/fytok/plugins/<模块类型>/<物理模块名称>\n",
    "```\n",
    "其中：\n",
    "- {work_dir}是用户本地指定的任意目录\n",
    "- <模块类型>严格遵守IMAS中对物理概念或者装置组件描述的分类，常用的有：\n",
    "    - equilibrium：efit,freegs,ATEC,FyEq...\n",
    "    - transport_slover:BITS,FyTrans,onetwo,...\n",
    "    - core_transport/model:cgyro,glf23,gyro,neo,tglf,tgyro,...\n",
    "    - core_sources/source:genray,cql3d,...\n",
    "- <物理程序名称>：第三方物理程序名称\n",
    "    - 若是程序功能和装置相关，建议程序名称_装置名称的形式命名，如atec_east\n",
    "\n",
    "例如，被集成到FyTok中的平衡程序ATEC的目录组织：\n",
    "```\n",
    "{work_dir}/python/fytok/plugins/equilibrium/atec_east\n",
    "```\n",
    "#### 目录内文件的组成\n",
    "\n"
   ]
  },
  {
   "cell_type": "markdown",
   "metadata": {},
   "source": [
    "FyTok中支持灵活的插件机制 ：无需将代码打包在FyTok的框架内，支持在本地工作目录内检索。\n",
    "规范的目录结构，如 \n",
    "\n",
    "atec_east/python/fytok/plugins/equilibrium/atec_east\n",
    "\n",
    "简单的调用方式：\n",
    "\n",
    "equilibrium={\"code\": {\"name\": \"atec_east\"}}\n",
    "\n",
    "每个模块封装成一个py文件：\n",
    "atec_east.py\n",
    "输入是IMAS IDS，输出写回IMAS IDS"
   ]
  }
 ],
 "metadata": {
  "language_info": {
   "name": "python"
  }
 },
 "nbformat": 4,
 "nbformat_minor": 2
}

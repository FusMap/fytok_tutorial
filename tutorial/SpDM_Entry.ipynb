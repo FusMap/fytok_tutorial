{
 "cells": [
  {
   "cell_type": "markdown",
   "metadata": {},
   "source": [
    "## **SpDB Manual之系列2：处理Python中原生数据类型**"
   ]
  },
  {
   "cell_type": "markdown",
   "metadata": {},
   "source": [
    "### **2.1 SpDB为数据访问提供统一的Entry入口。**\n",
    "- 在SpDB中，Entry是处理结构化树状结构HTree的入口。\n",
    "- Entry为数据对象提供可灵活游走的指针\n",
    "- Entry()的参数可以是任意的数据对象，包括Dict,List等    "
   ]
  },
  {
   "cell_type": "code",
   "execution_count": 1,
   "metadata": {},
   "outputs": [],
   "source": [
    "## 加载基本环境\n",
    "from spdm.data.Entry import open_entry,Entry\n",
    "from spdm.utils.logger import logger"
   ]
  },
  {
   "cell_type": "code",
   "execution_count": 2,
   "metadata": {},
   "outputs": [
    {
     "data": {
      "text/plain": [
       "{'name': 'Alice',\n",
       " 'age': 25,\n",
       " 'hobbies': ['reading', 'painting', 'yoga'],\n",
       " 'address': [{'street': '123 Main St',\n",
       "   'city': 'Anytown',\n",
       "   'state': 'CA',\n",
       "   'zip': '12345'},\n",
       "  {'street': '456 Oak St', 'city': 'Othertown', 'state': 'NY', 'zip': '67890'},\n",
       "  {'street': '789 Elm St',\n",
       "   'city': 'Somewhere',\n",
       "   'state': 'CO',\n",
       "   'zip': '24680'}],\n",
       " 'spouse': {'spouse_name': {'name': 'Bob', 'age': 27},\n",
       "  'name': 'Bob',\n",
       "  'age': 27,\n",
       "  'hobbies': ['music', 'skiing', 'reading']}}"
      ]
     },
     "execution_count": 2,
     "metadata": {},
     "output_type": "execute_result"
    }
   ],
   "source": [
    "### 接收字典\n",
    "example_dict = {\n",
    "    'name': 'Alice',\n",
    "    'age': 25,\n",
    "    'hobbies': ['reading', 'painting', 'yoga'],\n",
    "    'address': [\n",
    "        {\n",
    "            'street': '123 Main St',\n",
    "            'city': 'Anytown',\n",
    "            'state': 'CA',\n",
    "            'zip': '12345'\n",
    "        },\n",
    "        {\n",
    "            'street': '456 Oak St',\n",
    "            'city': 'Othertown',\n",
    "            'state': 'NY',\n",
    "            'zip': '67890'\n",
    "        },\n",
    "        {\n",
    "            'street': '789 Elm St',\n",
    "            'city': 'Somewhere',\n",
    "            'state': 'CO',\n",
    "            'zip': '24680'\n",
    "        }\n",
    "    ],\n",
    "    'spouse': {\n",
    "        'spouse_name':\n",
    "            {\n",
    "                'name':'Bob',\n",
    "                'age': 27,\n",
    "            },\n",
    "        'name': 'Bob',\n",
    "        'age': 27,\n",
    "        'hobbies': ['music', 'skiing', 'reading']\n",
    "    }\n",
    "}\n",
    "\n",
    "### example_dict作为参数传入Entry，生成Entry对象\n",
    "dict_entry = Entry(example_dict)\n",
    "### dict_entry是一个Entry对象，可以使用Entry的方法。如.get()方法,获取Entry对象的值\n",
    "dict_entry.get()"
   ]
  },
  {
   "cell_type": "code",
   "execution_count": 186,
   "metadata": {},
   "outputs": [
    {
     "data": {
      "text/plain": [
       "[[1, 2, 3, 4, 5],\n",
       " [6, 7, 8, 9, 10],\n",
       " [11, 12, 13],\n",
       " [14, 15, 16, 17],\n",
       " [18, 19, 20, 21, 22, 23, 24]]"
      ]
     },
     "execution_count": 186,
     "metadata": {},
     "output_type": "execute_result"
    }
   ],
   "source": [
    "### 接收list\n",
    "my_list = [\n",
    "    [1, 2, 3, 4, 5],\n",
    "    [6, 7, 8, 9, 10],\n",
    "    [11, 12, 13],\n",
    "    [14, 15, 16, 17],\n",
    "    [18, 19, 20, 21, 22, 23, 24]\n",
    "]   \n",
    "### my_list作为参数传入Entry，生成Entry对象   \n",
    "list_entry = Entry(my_list)\n",
    "list_entry.get()"
   ]
  },
  {
   "cell_type": "markdown",
   "metadata": {},
   "source": [
    "，并不真正的获取数据，只有当执行get操作时，数据才被真正访问。"
   ]
  },
  {
   "cell_type": "markdown",
   "metadata": {},
   "source": [
    "### **2.2 SpDB中基本数据操作**\n",
    "\n",
    "- get()：读取数据\n",
    "- put(): 写入数据\n",
    "- keys()：获得关键节点\n",
    "- count()：计算当前节点的元数个数\n",
    "其目标对象是path\n"
   ]
  },
  {
   "cell_type": "markdown",
   "metadata": {},
   "source": [
    "#### **2.2.1 .get()方法**\n",
    "- get(path): 读取数据,返回数据对象的值.\n",
    "    - path是空的时候,返回当前根节点的数据对象\n",
    "    - path参数是一个路径,路径可以是字符串,也可以是一个包含list索引的字符串的组合。\n",
    "    - 相当于.child()+.fetch()操作"
   ]
  },
  {
   "cell_type": "code",
   "execution_count": 3,
   "metadata": {},
   "outputs": [
    {
     "data": {
      "text/plain": [
       "{'name': 'Alice',\n",
       " 'age': 25,\n",
       " 'hobbies': ['reading', 'painting', 'yoga'],\n",
       " 'address': [{'street': '123 Main St',\n",
       "   'city': 'Anytown',\n",
       "   'state': 'CA',\n",
       "   'zip': '12345'},\n",
       "  {'street': '456 Oak St', 'city': 'Othertown', 'state': 'NY', 'zip': '67890'},\n",
       "  {'street': '789 Elm St',\n",
       "   'city': 'Somewhere',\n",
       "   'state': 'CO',\n",
       "   'zip': '24680'}],\n",
       " 'spouse': {'spouse_name': {'name': 'Bob', 'age': 27},\n",
       "  'name': 'Bob',\n",
       "  'age': 27,\n",
       "  'hobbies': ['music', 'skiing', 'reading']}}"
      ]
     },
     "execution_count": 3,
     "metadata": {},
     "output_type": "execute_result"
    }
   ],
   "source": [
    "### 不指定path，返回整个节点的值\n",
    "dict_entry.get()"
   ]
  },
  {
   "cell_type": "code",
   "execution_count": 6,
   "metadata": {},
   "outputs": [
    {
     "data": {
      "text/plain": [
       "'123 Main St'"
      ]
     },
     "execution_count": 6,
     "metadata": {},
     "output_type": "execute_result"
    }
   ],
   "source": [
    "### 指定path，path表示方法1：'key1.key2.key3'。\n",
    "### address是dict中的一个list，可以使用索引获取list中的元素，如address[0]，address[1]\n",
    "dict_entry.get('address[0].street')"
   ]
  },
  {
   "cell_type": "code",
   "execution_count": 7,
   "metadata": {},
   "outputs": [
    {
     "data": {
      "text/plain": [
       "'123 Main St'"
      ]
     },
     "execution_count": 7,
     "metadata": {},
     "output_type": "execute_result"
    }
   ],
   "source": [
    "### 指定path，path表示方法2：['key1/key2/key3']。\n",
    "dict_entry.get('address/0/street')"
   ]
  },
  {
   "cell_type": "markdown",
   "metadata": {},
   "source": [
    "#### **2.2.1 .put()方法**\n",
    "- put(key:value): 写入数据，返回Entry path对象.\n",
    "    - key是一个路径,路径可以是字符串,也可以是一个包含list索引的字符串的组合。\n",
    "    - 输出的path是一个Entry对象，可以继续进行get等操作。\n",
    "    - 相当于.child()+.update()操作"
   ]
  },
  {
   "cell_type": "code",
   "execution_count": 34,
   "metadata": {},
   "outputs": [
    {
     "data": {
      "text/plain": [
       "<spdm.data.Entry.Entry at 0x7fbdf051b3d0>"
      ]
     },
     "execution_count": 34,
     "metadata": {},
     "output_type": "execute_result"
    }
   ],
   "source": [
    "### 根节点中增加height节点，值为170\n",
    "dict_entry.put('height','170')"
   ]
  },
  {
   "cell_type": "code",
   "execution_count": 35,
   "metadata": {},
   "outputs": [
    {
     "data": {
      "text/plain": [
       "'170'"
      ]
     },
     "execution_count": 35,
     "metadata": {},
     "output_type": "execute_result"
    }
   ],
   "source": [
    "### 获取新增加的height节点的值\n",
    "dict_entry.get('height')"
   ]
  },
  {
   "cell_type": "code",
   "execution_count": 36,
   "metadata": {},
   "outputs": [
    {
     "data": {
      "text/plain": [
       "<spdm.data.Entry.Entry at 0x7fbdf051b640>"
      ]
     },
     "execution_count": 36,
     "metadata": {},
     "output_type": "execute_result"
    }
   ],
   "source": [
    "### 给address[0]节点增加元素\n",
    "dict_entry.put('address[0].phone','17756014979')"
   ]
  },
  {
   "cell_type": "code",
   "execution_count": 37,
   "metadata": {},
   "outputs": [
    {
     "data": {
      "text/plain": [
       "{'street': '123 Main St',\n",
       " 'city': 'Anytown',\n",
       " 'state': 'CA',\n",
       " 'zip': '12345',\n",
       " 'phone': '17756014979'}"
      ]
     },
     "execution_count": 37,
     "metadata": {},
     "output_type": "execute_result"
    }
   ],
   "source": [
    "### 检查iphone节点是否增加成功\n",
    "dict_entry.get('address[0]')"
   ]
  },
  {
   "cell_type": "code",
   "execution_count": null,
   "metadata": {},
   "outputs": [],
   "source": [
    "### 增加新的address list节点的元数\n",
    "### **\"Not implemented \"**\n",
    "dict_entry.put('address[3]',{'street': '901 Elm St','city': 'Somewhere','state': 'CN','zip': '25780'})"
   ]
  },
  {
   "cell_type": "code",
   "execution_count": 21,
   "metadata": {},
   "outputs": [
    {
     "data": {
      "text/plain": [
       "{'street': '901 Elm St', 'city': 'Somewhere', 'state': 'CN', 'zip': '25780'}"
      ]
     },
     "execution_count": 21,
     "metadata": {},
     "output_type": "execute_result"
    }
   ],
   "source": [
    "dict_entry.get('address[2]')"
   ]
  },
  {
   "cell_type": "markdown",
   "metadata": {},
   "source": [
    "#### **2.2.1 .keys()方法**\n",
    "- keys():获得节点关键字"
   ]
  },
  {
   "cell_type": "code",
   "execution_count": 58,
   "metadata": {},
   "outputs": [
    {
     "data": {
      "text/plain": [
       "['name', 'age', 'hobbies', 'address', 'spouse', 'height']"
      ]
     },
     "execution_count": 58,
     "metadata": {},
     "output_type": "execute_result"
    }
   ],
   "source": [
    "[*dict_entry.keys()]"
   ]
  },
  {
   "cell_type": "markdown",
   "metadata": {},
   "source": [
    "#### **2.2.1 .count方法**\n",
    "- count:计算当前节点子节点个数"
   ]
  },
  {
   "cell_type": "code",
   "execution_count": 8,
   "metadata": {},
   "outputs": [
    {
     "data": {
      "text/plain": [
       "{'name': 'Alice',\n",
       " 'age': 25,\n",
       " 'hobbies': ['reading', 'painting', 'yoga'],\n",
       " 'address': [{'street': '123 Main St',\n",
       "   'city': 'Anytown',\n",
       "   'state': 'CA',\n",
       "   'zip': '12345'},\n",
       "  {'street': '456 Oak St', 'city': 'Othertown', 'state': 'NY', 'zip': '67890'},\n",
       "  {'street': '789 Elm St',\n",
       "   'city': 'Somewhere',\n",
       "   'state': 'CO',\n",
       "   'zip': '24680'}],\n",
       " 'spouse': {'spouse_name': {'name': 'Bob', 'age': 27},\n",
       "  'name': 'Bob',\n",
       "  'age': 27,\n",
       "  'hobbies': ['music', 'skiing', 'reading']}}"
      ]
     },
     "execution_count": 8,
     "metadata": {},
     "output_type": "execute_result"
    }
   ],
   "source": [
    "dict_entry.count"
   ]
  },
  {
   "cell_type": "code",
   "execution_count": 9,
   "metadata": {},
   "outputs": [
    {
     "name": "stdout",
     "output_type": "stream",
     "text": [
      "address的元数个数是 [{'street': '123 Main St', 'city': 'Anytown', 'state': 'CA', 'zip': '12345'}, {'street': '456 Oak St', 'city': 'Othertown', 'state': 'NY', 'zip': '67890'}, {'street': '789 Elm St', 'city': 'Somewhere', 'state': 'CO', 'zip': '24680'}]\n",
      "子节点spouse.spouse_name的元数个数是 {'name': 'Bob', 'age': 27}\n"
     ]
    }
   ],
   "source": [
    "### 计算当前节点的元数个数\n",
    "print(f'address的元数个数是',dict_entry.child(\"address\").count)\n",
    "print(f'子节点spouse.spouse_name的元数个数是',dict_entry.child(\"spouse.spouse_name\").count)"
   ]
  },
  {
   "cell_type": "markdown",
   "metadata": {},
   "source": [
    "### *2.3 Entry操作支持指标游走：*\n",
    "- child(path):将指标移动到目标子节点，返回是个entry\n",
    "- paraent(path):将指标移动到目标父节点，返回是个entry\n",
    "- next():将指标移动到目标节点内元素的兄弟，返回是个entry\n",
    " - 该功能只对元素是List有效"
   ]
  },
  {
   "cell_type": "code",
   "execution_count": 15,
   "metadata": {},
   "outputs": [
    {
     "data": {
      "text/plain": [
       "{'name': 'Bob', 'age': 27}"
      ]
     },
     "execution_count": 15,
     "metadata": {},
     "output_type": "execute_result"
    }
   ],
   "source": [
    "### 指标游走到当前节点\"spouse.spouse_name\"\n",
    "child_data = dict_entry.child(\"spouse.spouse_name\")\n",
    "child_data.fetch()"
   ]
  },
  {
   "cell_type": "code",
   "execution_count": 11,
   "metadata": {},
   "outputs": [
    {
     "data": {
      "text/plain": [
       "{'spouse_name': {'name': 'Bob', 'age': 27},\n",
       " 'name': 'Bob',\n",
       " 'age': 27,\n",
       " 'hobbies': ['music', 'skiing', 'reading']}"
      ]
     },
     "execution_count": 11,
     "metadata": {},
     "output_type": "execute_result"
    }
   ],
   "source": [
    "### 指标移到当前节点的paraent节点，并获取数据\n",
    "paraent_tree = child_data.parent\n",
    "paraent_tree.fetch()"
   ]
  },
  {
   "cell_type": "code",
   "execution_count": 12,
   "metadata": {},
   "outputs": [
    {
     "data": {
      "text/plain": [
       "[{'street': '123 Main St', 'city': 'Anytown', 'state': 'CA', 'zip': '12345'},\n",
       " {'street': '456 Oak St', 'city': 'Othertown', 'state': 'NY', 'zip': '67890'},\n",
       " {'street': '789 Elm St', 'city': 'Somewhere', 'state': 'CO', 'zip': '24680'}]"
      ]
     },
     "execution_count": 12,
     "metadata": {},
     "output_type": "execute_result"
    }
   ],
   "source": [
    "\n",
    "dict_entry.child(\"address[0]\").parent.fetch()"
   ]
  },
  {
   "cell_type": "code",
   "execution_count": 17,
   "metadata": {},
   "outputs": [
    {
     "name": "stdout",
     "output_type": "stream",
     "text": [
      "{'street': '456 Oak St', 'city': 'Othertown', 'state': 'NY', 'zip': '67890'}\n",
      "{'street': '789 Elm St', 'city': 'Somewhere', 'state': 'CO', 'zip': '24680'}\n"
     ]
    }
   ],
   "source": [
    "### 当当前节点的元素是LIST时，指标可以移动遍历到其节点内所有value\n",
    "print(dict_entry.child(\"address[0]\").next().fetch())\n",
    "print(dict_entry.child(\"address[1]\").next().fetch())\n"
   ]
  },
  {
   "cell_type": "markdown",
   "metadata": {},
   "source": [
    "### 2.3 对指标path的操作，可灵活支持数据读写和更新：\n",
    "- fetch(): 获取指标所指向的节点的数据，返回是对应的数值\n",
    "- insert(value):在指标所指向的数据中插入新的数据，在原有数据基础上增加新的。\n",
    "- update(value):在指标所指向的数据中更新数据，修改原有的数值。\n",
    "- for_each():在指标所指向的数据中遍历数据"
   ]
  },
  {
   "cell_type": "code",
   "execution_count": 247,
   "metadata": {},
   "outputs": [
    {
     "name": "stdout",
     "output_type": "stream",
     "text": [
      "(0, {'street': '123 Main St', 'city': 'Anytown', 'state': 'CA', 'zip': '12345'})\n",
      "(1, {'street': '456 Oak St', 'city': 'Othertown', 'state': 'NY', 'zip': '67890'})\n",
      "(2, {'street': '789 Elm St', 'city': 'Somewhere', 'state': 'CO', 'zip': '24680'})\n"
     ]
    }
   ],
   "source": [
    "### for_each用来遍历dict中delist\n",
    "for v in dict_entry.child(\"address\").for_each():\n",
    "    print(v)    "
   ]
  },
  {
   "cell_type": "code",
   "execution_count": 14,
   "metadata": {},
   "outputs": [
    {
     "data": {
      "text/plain": [
       "25"
      ]
     },
     "execution_count": 14,
     "metadata": {},
     "output_type": "execute_result"
    }
   ],
   "source": [
    "### insert插入增加一个值，使之前的数变成list\n",
    "dict_entry.child(\"age\").insert(50)\n",
    "dict_entry.child(\"age\").fetch()"
   ]
  },
  {
   "cell_type": "code",
   "execution_count": 250,
   "metadata": {},
   "outputs": [
    {
     "data": {
      "text/plain": [
       "['Alice', {'first': 'Alice', 'last': 'Smith'}]"
      ]
     },
     "execution_count": 250,
     "metadata": {},
     "output_type": "execute_result"
    }
   ],
   "source": [
    "dict_entry.child(\"name\").insert({\"first\":\"Alice\",\"last\":\"Smith\"})\n",
    "## 注意，插入更多数据后，原来的数据被组成了LIST\n",
    "dict_entry.child(\"name\").fetch()"
   ]
  },
  {
   "cell_type": "code",
   "execution_count": 254,
   "metadata": {},
   "outputs": [
    {
     "name": "stdout",
     "output_type": "stream",
     "text": [
      "原来的age是 90\n",
      "现在的age是 100\n"
     ]
    }
   ],
   "source": [
    "### update是更新之前的整个数值\n",
    "print(f'原来的age是',dict_entry.child(\"age\").fetch())\n",
    "dict_entry.child(\"age\").update(100)\n",
    "print(f'现在的age是',dict_entry.child(\"age\").fetch())\n",
    "# dict_entry.child(\"age\").get()"
   ]
  }
 ],
 "metadata": {
  "kernelspec": {
   "display_name": "Python 3 (ipykernel)",
   "language": "python",
   "name": "python3"
  }
 },
 "nbformat": 4,
 "nbformat_minor": 2
}

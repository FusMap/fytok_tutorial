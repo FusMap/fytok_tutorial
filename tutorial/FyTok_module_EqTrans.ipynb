{
 "cells": [
  {
   "cell_type": "markdown",
   "metadata": {},
   "source": [
    "# 平衡和输运"
   ]
  },
  {
   "cell_type": "markdown",
   "metadata": {},
   "source": [
    "\n",
    "## equilibirum"
   ]
  },
  {
   "cell_type": "code",
   "execution_count": null,
   "metadata": {
    "vscode": {
     "languageId": "plaintext"
    }
   },
   "outputs": [],
   "source": []
  },
  {
   "cell_type": "code",
   "execution_count": null,
   "metadata": {
    "vscode": {
     "languageId": "plaintext"
    }
   },
   "outputs": [],
   "source": [
    "surfs = sp_view.plot(\n",
    "    [\n",
    "        (eq_profiles_1d.gm1, {\"label\": r\"$gm1=\\left<\\frac{1}{R^2}\\right>$\"}),\n",
    "        (eq_profiles_1d.gm2, {\"label\": r\"$gm2=\\left<\\frac{\\left|\\nabla \\rho\\right|^2}{R^2}\\right>$\"}),\n",
    "        (eq_profiles_1d.gm3, {\"label\": r\"$gm3=\\left<\\left|\\nabla \\rho\\right|^2\\right>$\"}),\n",
    "        (eq_profiles_1d.gm4, {\"label\": r\"$gm4=\\left<1/B^2\\right>$\"}),\n",
    "        (eq_profiles_1d.gm5, {\"label\": r\"$gm5=\\left<B^2\\right>$\"}),\n",
    "        (eq_profiles_1d.gm6, {\"label\": r\"$gm6=\\left<\\nabla \\rho_{tor}^2/ B^2 \\right>$\"}),\n",
    "        (eq_profiles_1d.gm7, {\"label\": r\"$gm7=\\left<\\left|\\nabla \\rho\\right|\\right>$\"}),\n",
    "        (eq_profiles_1d.gm8, {\"label\": r\"$gm8=\\left<R\\right>$\"}),\n",
    "    ],\n",
    "    x_axis=tok.equilibrium.time_slice.current.profiles_1d.psi.__array__()[1:],\n",
    "    # x_value=tok.equilibrium.time_slice.current.profiles_1d.psi_norm[1:],\n",
    "    x_label=r\"$\\bar{\\psi}[-]$\",\n",
    "    title=r\"Surface averaged quantities\",\n",
    ")"
   ]
  },
  {
   "cell_type": "markdown",
   "metadata": {},
   "source": [
    "## core_profiles\n",
    "\n"
   ]
  },
  {
   "cell_type": "markdown",
   "metadata": {},
   "source": [
    "## core_transport\n",
    "\n"
   ]
  },
  {
   "cell_type": "markdown",
   "metadata": {},
   "source": [
    "## core_sources"
   ]
  }
 ],
 "metadata": {
  "language_info": {
   "name": "python"
  }
 },
 "nbformat": 4,
 "nbformat_minor": 2
}

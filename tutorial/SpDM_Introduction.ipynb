{
 "cells": [
  {
   "cell_type": "markdown",
   "metadata": {},
   "source": [
    "# 概念和设计思想"
   ]
  },
  {
   "cell_type": "markdown",
   "metadata": {},
   "source": [
    "## 概述\n",
    "**SpDM**是一个自主开发的Python库，用于处理EAST数据分析中涉及的多种科学数据格式。它以MAS IDS为标准规范的本体，引入数据集成的思想将以不同语义和格式存储的数据在统一的数据模型下进行检索、查询。\n",
    "\n",
    "**SpDM**专门为集成建模分析系统FyTok的数据交互而设计，但是不一定与之绑定，独立于FyTok仍然可以使用。\n",
    "\n",
    "**SpDM**可以为用户提供：\n",
    "- 以IMAS IDS为标准的数据交互语义，将数据绑定到 IMAS DD，以便在 IMAS DD 名称空间下统一异构多源数据。但是不依赖于IMAS ，不需要安装IMAS 。\n",
    "- 独立的python包，易安装、上手。可独立于ShenMa集群运行，安装在任何有python3.10+的环境下\n",
    "- 囊括日常科研工作中常用数据格式的处理，且以插件形式管理，开发者用户易对其进行扩展\n",
    "- 读取的数据在内存中以Python中数据格式进行交互，其数据的语义是严格遵守IMAS IDS的树状结构\n",
    "- 写数据是灵活的。"
   ]
  },
  {
   "cell_type": "markdown",
   "metadata": {},
   "source": [
    "## 设计思想  \n",
    "**SpDM**是一个数据集成工具。它基于标准的数据模型，为用户提供一种全局的中介模式，将来自不同、异构的数据源集成到一个全局的地址空间，通过唯一的URI实现对数据的统一访问，即是数据集成研究的范畴。它的实现，包含三层构架：面向用户的统一访问层及底层的映射层和转化层。\n",
    "![three-layer](./figures/three-layer_spdb.png)"
   ]
  },
  {
   "cell_type": "markdown",
   "metadata": {},
   "source": [
    "##  **SpDM的处理对象**\n",
    "\n",
    "**SpDM**是一个通用的数据集成工具，意在将聚变研究中常用的数据格式都统一映射在标准的语义表述下，同时降低用户处理对不同格式的数据源的门槛。\n",
    "**SpDM**可以处理常用的多种类型的科学数据格式，包括：\n",
    "- Python原生的数据格式：字典、List。\n",
    "    - 直接在内存中交互\n",
    "- 半结构化数据结构，如：Namelist、JSON、XML、HDF5、netCDF等。\n",
    "    - 按照半结构化数据的已有的树状路径查询\n",
    "- 结构化数据结构，如：Gdskfile，、Inputfile等。\n",
    "    - 数据量比较小，拿回来全部放在内存中，直接访问。\n",
    "- 远程数据库系统，如EAST实验的MDSplus及CFETR设计的MDSplus数据库等。\n",
    "    - 将原始的数据源映射在标准的树状结构的语义下。\n",
    "    - 支持延迟执行\n",
    "    - 支持不同类型数据的集成，统一的入口访问。\n",
    "        - 静态装置描述数据\n",
    "        - 动态实验测量数据"
   ]
  },
  {
   "cell_type": "markdown",
   "metadata": {},
   "source": [
    "#### 已支持的数据格式及完成的映射"
   ]
  },
  {
   "cell_type": "markdown",
   "metadata": {},
   "source": [
    "\n",
    "<table>\n",
    "    <tr>\n",
    "        <td><b>数据格式</b></td>\n",
    "        <td><b>插件名称</b> </td>\n",
    "        <td><b>format标识</b></td>\n",
    "        <td><b>映射和转化</b></td>\n",
    "        <td><b>备注</b></td>\n",
    "    </tr>\n",
    "    <tr>\n",
    "        <td rowspan=\"1\">内存中数据</td>\n",
    "        <td>无</td>\n",
    "        <td>Dict，List</td>\n",
    "        <td>无</td>\n",
    "        <td>无</td>\n",
    "    </tr>\n",
    "    <tr>\n",
    "        <td rowspan=\"3\">非结构化数据</td>\n",
    "        <td>plugin_gdskfile</td>\n",
    "        <td>[\"gfile\", \"gdskfile\"，“GDSKfile”]</td>\n",
    "        <td>无界限</td>\n",
    "        <td>数据直接读入内存</td>\n",
    "    </tr>\n",
    "    <tr>\n",
    "        <td>plugin_namelist </td>\n",
    "        <td>[\"namelist\"] </td>\n",
    "        <td>无界限</td>\n",
    "        <td>数据直接读入内存</td>\n",
    "    </tr>\n",
    "    <tr>\n",
    "        <td>......</td>\n",
    "        <td>......</td>\n",
    "        <td>......</td>\n",
    "        <td>......</td>\n",
    "    </tr>\n",
    "    <tr>\n",
    "        <td rowspan=\"5\">半结构化数据</td>\n",
    "        <td>plugin_netcdf</td>\n",
    "        <td>[\"nc\", \"netcdf\", \"NetCDf\"]</td>\n",
    "        <td>分开</td>\n",
    "        <td>延迟执行</td>\n",
    "    </tr>\n",
    "    <tr>\n",
    "        <td>plugin_hdf5 </td>\n",
    "        <td>[\"h5\", \"hdf5\", \"HDF5\"]</td>\n",
    "        <td>分开</td>\n",
    "        <td>延迟执行</td>\n",
    "    </tr>\n",
    "    <tr>\n",
    "        <td>plugin_json</td>\n",
    "        <td> [\"json\", \"JSON\"]  </td>\n",
    "        <td>分开</td>\n",
    "        <td>延迟执行</td>\n",
    "    </tr>\n",
    "    <tr>\n",
    "        <td>plugin_yaml </td>\n",
    "        <td>[\"yaml\", \"YAML\"]  </td>\n",
    "        <td>分开</td>\n",
    "        <td>延迟执行</td>\n",
    "    </tr>\n",
    "    <tr>\n",
    "        <td>plugin_xml</td>\n",
    "        <td> [\"xml\"] </td>\n",
    "        <td>分开</td>\n",
    "        <td>延迟执行</td>\n",
    "    </tr>\n",
    "    <tr>\n",
    "        <td rowspan=\"2\">远程数据库系统</td>\n",
    "        <td>plugin_mdsplus</td>\n",
    "        <td>[\"mdsplus\", \"mds\", \"mds+\", \"MDSplus\"]</td>\n",
    "        <td>分开</td>\n",
    "        <td>wall,pf_active,tf,magnetics,eq</td>\n",
    "    </tr>\n",
    "    <tr>\n",
    "        <td>......</td>\n",
    "        <td>......</td>\n",
    "        <td>......</td>\n",
    "        <td>......</td>\n",
    "    </tr>\n",
    "\n",
    "</table>\n"
   ]
  },
  {
   "cell_type": "markdown",
   "metadata": {},
   "source": [
    "#### 对文件的处理"
   ]
  },
  {
   "cell_type": "code",
   "execution_count": null,
   "metadata": {
    "vscode": {
     "languageId": "shellscript"
    }
   },
   "outputs": [],
   "source": [
    "### 初始化环境，import open_entry\n",
    "from spdm.data.Entry import open_entry\n",
    "\n",
    "### 指定输入文件的目录workdir\n",
    "workdir = \"/scratch/jupytertest/workspace_fytok/fytok_tutorial/tutorial/\"\n",
    "\n",
    "### 使用open_entry打开一个gdskfile文件\n",
    "file_entry = open_entry(f\"file+geqdsk://{workdir}/data/g070754.05000/\")"
   ]
  },
  {
   "cell_type": "markdown",
   "metadata": {},
   "source": [
    "#### 读MDSplus数据库"
   ]
  },
  {
   "cell_type": "code",
   "execution_count": null,
   "metadata": {
    "vscode": {
     "languageId": "shellscript"
    }
   },
   "outputs": [],
   "source": [
    "### 初始化环境，import open_entry\n",
    "from spdm.data.Entry import open_entry\n",
    "## 指定mapping文件的路径\n",
    "os.environ[\"SP_DATA_MAPPING_PATH\"] = \"/gpfs/fuyun/projects/fuyun/fytok/python/fytok/_mapping\"\n",
    "### 访问远程EAST MDS数据库中70754炮的数据，\n",
    "shot_num = 70754\n",
    "time_slice = 10\n",
    "entry_reomte = open_entry(\"east+mdsplus://202.127.204.12?enable=efit_east&shot={shot_num}\")"
   ]
  }
 ],
 "metadata": {
  "kernelspec": {
   "display_name": "Python 3 (ipykernel)",
   "language": "python",
   "name": "python3"
  },
  "language_info": {
   "codemirror_mode": {
    "name": "ipython",
    "version": 3
   },
   "file_extension": ".py",
   "mimetype": "text/x-python",
   "name": "python",
   "nbconvert_exporter": "python",
   "pygments_lexer": "ipython3",
   "version": "3.10.12"
  }
 },
 "nbformat": 4,
 "nbformat_minor": 2
}

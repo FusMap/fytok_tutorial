{
 "cells": [
  {
   "cell_type": "markdown",
   "metadata": {},
   "source": [
    "## **SpDB Manual之系列3：Entry进阶——Open_Entry**"
   ]
  },
  {
   "cell_type": "markdown",
   "metadata": {},
   "source": [
    "正如上一个系列2中介绍的，SpDB中引入Entry思想来灵活处理Python中的原生数据类型。\n",
    "这种概念对于大型数据处理非常有意义，因为它可以根据需要灵活的进行根节点指针的游走，获取对应的节点的数据，而无需获取整个根目录下的数据。\n",
    "\n",
    "日常的科研环境中，数据科学的类似是多样的，通常被分类为：\n",
    "- 结构化数据\n",
    "- 半结构化数据\n",
    "- 非结构化数据\n",
    "\n",
    "这些数据类型以不同的形式表现出来，如结构化的数据通常以表格的形式出现，\n",
    "半结构化的数据通常以XML或者JSON的形式出现，非结构化的数据通常以二进制的形式出现，如磁约束聚变中常用的GDSKfile。\n",
    "\n",
    "SpDB通过对底层Entry功能封装，提供统一的Open_Entry标准API来访问、处理这些数据。Open_Entry中支持标准的URL语法来访问不同的数据。用户无需关心后台的数据格式及来源。\n",
    "\n"
   ]
  },
  {
   "cell_type": "markdown",
   "metadata": {},
   "source": [
    "标准的URI表述,它是标准RFC3986的扩展：\n",
    "```\n",
    "<schema>+<protocol>+<backend>://< authority >/<path>/?<query>#<fragment>\n",
    "```\n",
    "- \\<schema\\> 则指定了访问资源的 \"语义\"。\n",
    "- \\<protocol\\>指定了资源的协议，如远程的MDSplus或者本地的数据文件格式\n",
    "- \\<backend\\>：指定了访问资源的 \"格式；\n",
    "- \\<authority\\> 组件指定了管理资源的权限，通常包括主机 通常包括主机名和端口号。\n",
    "- \\<path\\>组件指定资源的分层路径，可包括多个层级，每个层级之间用 资源的分层路径，可包括多个层级，以斜线（/）分隔。\n",
    "- \\<query\\> 组件指定随资源请求发送到服务器的查询字符串\n",
    "- \\<fragment\\> 组件指定指向特定资源的 片段标识符"
   ]
  },
  {
   "cell_type": "markdown",
   "metadata": {},
   "source": [
    "标准的URI表述,它是标准RFC3986的扩展：\n",
    "```\n",
    "<device>+<protocol>://<netloc>/<path>?<query>#<fragment>\n",
    "\n",
    "```\n",
    "- device: specifies  device description;\n",
    "- \\<protocol\\>://\\<netloc\\>/\\<path\\>: specifies the address of the data source\n",
    "- \\<query\\> query command, e.g. specify shot or  run number\n",
    "- \\<fragment\\>specifies  path to subnodes\n"
   ]
  },
  {
   "cell_type": "markdown",
   "metadata": {},
   "source": [
    "####处理文件的URL表达式：\n",
    "```\n",
    "file_entry = open_entry(f\"file+format://{file_path}}\")\n",
    "```\n",
    "- open_entry() :API入口\n",
    "- file：处理对象是文件\n",
    "- format：指定文件格式\n",
    "- file_path：文件路径"
   ]
  },
  {
   "cell_type": "code",
   "execution_count": 102,
   "metadata": {},
   "outputs": [],
   "source": [
    "from spdm.data.Entry import open_entry, Entry, EntryProxy\n",
    "from spdm.data.File import File\n",
    "from spdm.utils.logger import logger\n",
    "\n",
    "file_entry = open_entry(f\"file+geqdsk://{workdir}//data/g900003.00230_ITER_15MA_eqdsk16HR.txt/\")\n",
    "### file表示处理对象是文件\n",
    "### geqdsk表示文件类型是geqdsk\n",
    "### \n",
    "\n",
    "### 指定子节点的标识符\n",
    "file_entry = open_entry(f\"file+geqdsk://{workdir}//data/g900003.00230_ITER_15MA_eqdsk16HR.txt/#equilibrium\")\n"
   ]
  },
  {
   "cell_type": "markdown",
   "metadata": {},
   "source": [
    "#### 处理数据库系统的URL表达式：\n",
    "```\n",
    "\n",
    "db_entry = open_entry(f\"db+protocol://{db_path}}\")\n",
    "entry = open_entry(\"device+mdsplus://202.127.204.12?enable=efit_east&shot={shot_num}\")\n",
    "\n",
    "entry_local = open_entry(f\"east+mdsplus://{DATA_PATH}/mdsplus/~t/?shot=70745\")\n",
    "\n",
    "```\n",
    "- device : 指定数据来源的装置\n",
    "- mdsplus： 处理对象是MDS数据库\n",
    "- 202.127.204.12 ：EAST mds数据库访问地址\n",
    "- enable：同时可以获取efit_east数据\n",
    "- shot：指定炮号\n",
    "\n",
    "怎么阐述这些？？？\n"
   ]
  },
  {
   "cell_type": "code",
   "execution_count": 103,
   "metadata": {},
   "outputs": [
    {
     "data": {
      "text/plain": [
       "['wall', 'equilibrium']"
      ]
     },
     "execution_count": 103,
     "metadata": {},
     "output_type": "execute_result"
    }
   ],
   "source": [
    "[*file_entry.keys()]"
   ]
  },
  {
   "cell_type": "code",
   "execution_count": 63,
   "metadata": {},
   "outputs": [],
   "source": [
    "## 加载基本环境\n",
    "from spdm.data.Entry import open_entry, Entry, EntryProxy\n",
    "from spdm.data.File import File\n",
    "from spdm.utils.logger import logger\n",
    "import os\n",
    "### 需要解决，暂时先依赖fytok，理论上spdb单独使用不需要fytok\n",
    "os.environ[\"SP_DATA_MAPPING_PATH\"] = \"/gpfs/fuyun//projects/fuyun/fytok/python/fytok/_mapping/\""
   ]
  },
  {
   "cell_type": "code",
   "execution_count": 74,
   "metadata": {},
   "outputs": [],
   "source": [
    "### 指定workdir\n",
    "workdir = \"/scratch/jupytertest/workspace_fytok/fytok_tutorial/tutorial/\"\n"
   ]
  },
  {
   "cell_type": "code",
   "execution_count": 75,
   "metadata": {},
   "outputs": [],
   "source": [
    "## 通过open_entry函数,将原始换的gdskfile，转成entry对象，B02_SpDB_entry中对entry的操作均有效\n",
    "\n",
    "file_entry = open_entry(f\"file+geqdsk://{workdir}//data/g900003.00230_ITER_15MA_eqdsk16HR.txt/#equilibrium\")\n",
    "\n",
    "# /scratch/jupytertest/workspace_fytok/fytok_tutorial/tutorial/data/g900003.00230_ITER_15MA_eqdsk16HR.txt"
   ]
  },
  {
   "cell_type": "code",
   "execution_count": null,
   "metadata": {},
   "outputs": [],
   "source": [
    "### 访问远程EAST MDS数据库中70754炮的数据，\n",
    "shot_num = 70754\n",
    "time_slice = 10\n",
    "entry = open_entry(\"east+mdsplus://202.127.204.12?enable=efit_east&shot={shot_num}\")"
   ]
  },
  {
   "cell_type": "code",
   "execution_count": 76,
   "metadata": {},
   "outputs": [
    {
     "data": {
      "text/plain": [
       "['time', 'vacuum_toroidal_field', 'time_slice']"
      ]
     },
     "execution_count": 76,
     "metadata": {},
     "output_type": "execute_result"
    }
   ],
   "source": [
    "[*file_entry.keys()]"
   ]
  },
  {
   "cell_type": "code",
   "execution_count": 77,
   "metadata": {},
   "outputs": [
    {
     "data": {
      "text/plain": [
       "{'r0': 6.2, 'b0': [-5.3]}"
      ]
     },
     "execution_count": 77,
     "metadata": {},
     "output_type": "execute_result"
    }
   ],
   "source": [
    "file_entry.get(\"vacuum_toroidal_field\")"
   ]
  },
  {
   "cell_type": "code",
   "execution_count": 78,
   "metadata": {},
   "outputs": [
    {
     "data": {
      "text/plain": [
       "{'r0': 6.2, 'b0': [-5.3]}"
      ]
     },
     "execution_count": 78,
     "metadata": {},
     "output_type": "execute_result"
    }
   ],
   "source": [
    "file_entry.child(\"vacuum_toroidal_field\").fetch()"
   ]
  },
  {
   "cell_type": "markdown",
   "metadata": {},
   "source": [
    "#### \"hdf5_entry 要确定下。\""
   ]
  },
  {
   "cell_type": "code",
   "execution_count": 79,
   "metadata": {},
   "outputs": [
    {
     "name": "stdout",
     "output_type": "stream",
     "text": [
      "\u001b[0;37m2023-11-15 20:17:10,780 [    spdm]    DEBUG: /gpfs/fuyun/projects/fuyun/spdm/python/spdm/utils/sp_export.py:66:sp_load_module: Load module spdm.plugins.data.plugin_hdf5\u001b[0m\n",
      "\u001b[0;37m2023-11-15 20:17:10,793 [    spdm]    DEBUG: /gpfs/fuyun/projects/fuyun/spdm/python/spdm/plugins/data/plugin_hdf5.py:196:open: Open HDF5 File /scratch/jupytertest/workspace_fytok/fytok_tutorial/tutorial//data/test_eq.h5 mode=Mode.read\u001b[0m\n"
     ]
    }
   ],
   "source": [
    "## 通过open_entry函数,将原始换的gdskfile，转成entry对象，B02_SpDB_entry中对entry的操作均有效\n",
    "hdf5_entry = open_entry(f\"file+hdf5://{workdir}/data/test_eq.h5\")"
   ]
  },
  {
   "cell_type": "code",
   "execution_count": 82,
   "metadata": {},
   "outputs": [
    {
     "data": {
      "text/plain": [
       "['equilibrium', 'wall']"
      ]
     },
     "execution_count": 82,
     "metadata": {},
     "output_type": "execute_result"
    }
   ],
   "source": [
    "[*hdf5_entry.keys()]"
   ]
  },
  {
   "cell_type": "code",
   "execution_count": 97,
   "metadata": {},
   "outputs": [
    {
     "data": {
      "text/plain": [
       "array([1.35838, 1.35838, 1.35838, 1.36314, 1.4371 , 1.43721, 1.44164,\n",
       "       1.4297 , 1.39169, 1.39151, 1.37929, 1.399  , 1.43623, 1.45919,\n",
       "       1.47791, 1.54494, 1.61204, 1.63506, 1.66054, 1.66519, 1.6955 ,\n",
       "       1.70668, 1.71388, 1.714  , 1.73649, 1.76324, 1.80199, 1.80237,\n",
       "       1.93972, 1.97063, 2.07495, 2.1771 , 2.27925, 2.35   , 2.35   ,\n",
       "       2.35   , 2.27925, 2.1771 , 2.07495, 1.9728 , 1.97063, 1.92059,\n",
       "       1.87055, 1.82051, 1.79281, 1.76511, 1.75421, 1.67782, 1.60143,\n",
       "       1.48426, 1.36709, 1.33132, 1.37874, 1.42615, 1.40528, 1.3844 ,\n",
       "       1.36353, 1.35838, 1.35838, 1.35838, 1.35838])"
      ]
     },
     "execution_count": 97,
     "metadata": {},
     "output_type": "execute_result"
    }
   ],
   "source": [
    "hdf5_entry.get(\"wall.description_2d[0].limiter.unit[0].outline.r\")"
   ]
  },
  {
   "cell_type": "code",
   "execution_count": 101,
   "metadata": {},
   "outputs": [
    {
     "data": {
      "text/plain": [
       "{'description_2d': [{'limiter': {'unit': [{'outline': {'r': array([1.35838, 1.35838, 1.35838, 1.36314, 1.4371 , 1.43721, 1.44164,\n",
       "              1.4297 , 1.39169, 1.39151, 1.37929, 1.399  , 1.43623, 1.45919,\n",
       "              1.47791, 1.54494, 1.61204, 1.63506, 1.66054, 1.66519, 1.6955 ,\n",
       "              1.70668, 1.71388, 1.714  , 1.73649, 1.76324, 1.80199, 1.80237,\n",
       "              1.93972, 1.97063, 2.07495, 2.1771 , 2.27925, 2.35   , 2.35   ,\n",
       "              2.35   , 2.27925, 2.1771 , 2.07495, 1.9728 , 1.97063, 1.92059,\n",
       "              1.87055, 1.82051, 1.79281, 1.76511, 1.75421, 1.67782, 1.60143,\n",
       "              1.48426, 1.36709, 1.33132, 1.37874, 1.42615, 1.40528, 1.3844 ,\n",
       "              1.36353, 1.35838, 1.35838, 1.35838, 1.35838]),\n",
       "       'z': array([ 0.      ,  0.227   ,  0.454   ,  0.455735,  0.798332,  0.798821,\n",
       "               0.838195,  0.908908,  1.01426 ,  1.01473 ,  1.04859 ,  1.03946 ,\n",
       "               1.0256  ,  1.02095 ,  1.02514 ,  1.05454 ,  1.08394 ,  1.09586 ,\n",
       "               1.114   ,  1.11765 ,  1.14183 ,  1.16211 ,  1.13093 ,  1.13044 ,\n",
       "               1.033   ,  0.969832,  0.92567 ,  0.925347,  0.809223,  0.783389,\n",
       "               0.68838 ,  0.58904 ,  0.4897  ,  0.49    ,  0.      , -0.49    ,\n",
       "              -0.4897  , -0.58904 , -0.68838 , -0.78772 , -0.783389, -0.832375,\n",
       "              -0.881361, -0.930347, -1.05034 , -1.17034 , -1.13917 , -1.03465 ,\n",
       "              -0.930138, -0.95338 , -0.976622, -1.01072 , -0.879327, -0.747939,\n",
       "              -0.65062 , -0.5533  , -0.455981, -0.454   , -0.227   ,  0.      ,\n",
       "               0.      ])}}]}}]}"
      ]
     },
     "execution_count": 101,
     "metadata": {},
     "output_type": "execute_result"
    }
   ],
   "source": [
    "hdf5_entry.child(\"wall\").fetch()"
   ]
  },
  {
   "cell_type": "code",
   "execution_count": 100,
   "metadata": {},
   "outputs": [
    {
     "data": {
      "text/plain": [
       "{'unit': [{'outline': {'r': array([1.35838, 1.35838, 1.35838, 1.36314, 1.4371 , 1.43721, 1.44164,\n",
       "           1.4297 , 1.39169, 1.39151, 1.37929, 1.399  , 1.43623, 1.45919,\n",
       "           1.47791, 1.54494, 1.61204, 1.63506, 1.66054, 1.66519, 1.6955 ,\n",
       "           1.70668, 1.71388, 1.714  , 1.73649, 1.76324, 1.80199, 1.80237,\n",
       "           1.93972, 1.97063, 2.07495, 2.1771 , 2.27925, 2.35   , 2.35   ,\n",
       "           2.35   , 2.27925, 2.1771 , 2.07495, 1.9728 , 1.97063, 1.92059,\n",
       "           1.87055, 1.82051, 1.79281, 1.76511, 1.75421, 1.67782, 1.60143,\n",
       "           1.48426, 1.36709, 1.33132, 1.37874, 1.42615, 1.40528, 1.3844 ,\n",
       "           1.36353, 1.35838, 1.35838, 1.35838, 1.35838]),\n",
       "    'z': array([ 0.      ,  0.227   ,  0.454   ,  0.455735,  0.798332,  0.798821,\n",
       "            0.838195,  0.908908,  1.01426 ,  1.01473 ,  1.04859 ,  1.03946 ,\n",
       "            1.0256  ,  1.02095 ,  1.02514 ,  1.05454 ,  1.08394 ,  1.09586 ,\n",
       "            1.114   ,  1.11765 ,  1.14183 ,  1.16211 ,  1.13093 ,  1.13044 ,\n",
       "            1.033   ,  0.969832,  0.92567 ,  0.925347,  0.809223,  0.783389,\n",
       "            0.68838 ,  0.58904 ,  0.4897  ,  0.49    ,  0.      , -0.49    ,\n",
       "           -0.4897  , -0.58904 , -0.68838 , -0.78772 , -0.783389, -0.832375,\n",
       "           -0.881361, -0.930347, -1.05034 , -1.17034 , -1.13917 , -1.03465 ,\n",
       "           -0.930138, -0.95338 , -0.976622, -1.01072 , -0.879327, -0.747939,\n",
       "           -0.65062 , -0.5533  , -0.455981, -0.454   , -0.227   ,  0.      ,\n",
       "            0.      ])}}]}"
      ]
     },
     "execution_count": 100,
     "metadata": {},
     "output_type": "execute_result"
    }
   ],
   "source": [
    "hdf5_entry.child(\"wall.description_2d[0].limiter\").fetch()"
   ]
  },
  {
   "cell_type": "code",
   "execution_count": 84,
   "metadata": {},
   "outputs": [
    {
     "data": {
      "text/plain": [
       "array([[-0.41393183, -0.40004918, -0.38699915, ..., -0.40942308,\n",
       "        -0.42310933, -0.43761767],\n",
       "       [-0.41614134, -0.40232849, -0.38933536, ..., -0.41150394,\n",
       "        -0.42512211, -0.43954969],\n",
       "       [-0.41808789, -0.40436263, -0.39144252, ..., -0.41335733,\n",
       "        -0.42688992, -0.44121735],\n",
       "       ...,\n",
       "       [ 0.33574223,  0.31507868,  0.29482098, ...,  0.28401798,\n",
       "         0.30266326,  0.32155843],\n",
       "       [ 0.34931039,  0.3273043 ,  0.30587716, ...,  0.29560275,\n",
       "         0.31543752,  0.33569433],\n",
       "       [ 0.3628118 ,  0.33939058,  0.3167504 , ...,  0.30705014,\n",
       "         0.32813432,  0.34984719]])"
      ]
     },
     "execution_count": 84,
     "metadata": {},
     "output_type": "execute_result"
    }
   ],
   "source": [
    "hdf5_entry.get(\"equilibrium/time_slice/0/profiles_2d/psi\") "
   ]
  },
  {
   "cell_type": "code",
   "execution_count": 8,
   "metadata": {},
   "outputs": [],
   "source": [
    "with File(\"./data/g070754.05000\", mode=\"r\", format=\"GEQdsk\") as fid:\n",
    "    doc = fid.read()\n",
    "    eq_test = doc.dump()"
   ]
  },
  {
   "cell_type": "markdown",
   "metadata": {},
   "source": [
    "####处理MDSplus的URL表达式"
   ]
  },
  {
   "cell_type": "code",
   "execution_count": 10,
   "metadata": {},
   "outputs": [
    {
     "name": "stdout",
     "output_type": "stream",
     "text": [
      "\u001b[0;37m2023-11-15 14:46:56,152 [    spdm]    DEBUG: /home/salmon/workspace/fytok/SpDM/python/spdm/utils/sp_export.py:66:sp_load_module: Load module spdm.plugins.data.plugin_xml\u001b[0m\n"
     ]
    }
   ],
   "source": [
    "### 访问远程EAST MDS数据库中70754炮的数据，\n",
    "shot_num = 70754\n",
    "time_slice = 10\n",
    "entry = open_entry(\"east+mdsplus://202.127.204.12?enable=efit_east&shot={shot_num}\")"
   ]
  },
  {
   "cell_type": "code",
   "execution_count": 11,
   "metadata": {},
   "outputs": [
    {
     "data": {
      "text/plain": [
       "{'ids_properties': {'comment': {},\n",
       "  'provider': 'Guo, Yong',\n",
       "  'creation_date': '2020-10-12',\n",
       "  'homogeneous_time': 2},\n",
       " 'description_2d': {'type': {'name': 'equilibrium', 'index': 1},\n",
       "  'limiter': {'type': {'name': 'limiter', 'index': 0},\n",
       "   'unit': {'name': 'limiter',\n",
       "    'closed': 1,\n",
       "    'outline': {'r': array([2.277, 2.273, 2.267, 1.94 , 1.94 , 1.802, 1.773, 1.751, 1.736,\n",
       "            1.714, 1.707, 1.696, 1.665, 1.656, 1.635, 1.612, 1.478, 1.459,\n",
       "            1.44 , 1.436, 1.399, 1.379, 1.392, 1.43 , 1.439, 1.442, 1.437,\n",
       "            1.363, 1.361, 1.361, 1.361, 1.363, 1.421, 1.423, 1.422, 1.418,\n",
       "            1.331, 1.367, 1.564, 1.597, 1.598, 1.624, 1.754, 1.765, 1.814,\n",
       "            1.824, 1.825, 1.841, 1.971, 1.971, 2.267, 2.273, 2.277, 2.277,\n",
       "            2.306, 2.328, 2.343, 2.35 , 2.35 , 2.35 , 2.343, 2.328, 2.306,\n",
       "            2.277]),\n",
       "     'z': array([ 0.485,  0.485,  0.493,  0.809,  0.809,  0.926,  0.956,  0.993,\n",
       "             1.033,  1.131,  1.162,  1.142,  1.117,  1.111,  1.096,  1.084,\n",
       "             1.025,  1.021,  1.024,  1.026,  1.039,  1.049,  1.014,  0.909,\n",
       "             0.873,  0.835,  0.799,  0.456,  0.454,  0.   , -0.454, -0.456,\n",
       "            -0.725, -0.748, -0.749, -0.77 , -1.011, -0.977, -0.938, -0.941,\n",
       "            -0.941, -0.961, -1.139, -1.17 , -0.959, -0.934, -0.932, -0.91 ,\n",
       "            -0.783, -0.783, -0.493, -0.485, -0.485, -0.309, -0.244, -0.176,\n",
       "            -0.106, -0.036,  0.   ,  0.036,  0.106,  0.176,  0.244,  0.309])},\n",
       "    '@id': '0'}},\n",
       "  'vessel': {'unit': {'name': 'EAST',\n",
       "    'identifier': 'EAST',\n",
       "    'annular': {'outline_inner': {'closed': 1,\n",
       "      'r': array([2.7286, 2.7069, 2.664 , 2.6007, 2.5178, 2.417 , 2.2997, 2.1681,\n",
       "             2.0244, 1.8708, 1.709 , 1.5435, 1.3902, 1.2814, 1.2402, 1.237 ,\n",
       "             1.237 , 1.237 , 1.237 , 1.237 , 1.237 , 1.237 , 1.237 , 1.237 ,\n",
       "             1.237 , 1.2402, 1.2814, 1.3902, 1.5435, 1.709 , 1.8708, 2.0244,\n",
       "             2.1681, 2.2997, 2.417 , 2.5178, 2.6007, 2.664 , 2.7069, 2.7286]),\n",
       "      'z': array([ 0.083289,  0.24846 ,  0.40942 ,  0.56347 ,  0.708   ,  0.84058 ,\n",
       "              0.95892 ,  1.061   ,  1.1452  ,  1.2095  ,  1.2454  ,  1.2439  ,\n",
       "              1.1907  ,  1.075   ,  0.91857 ,  0.75173 ,  0.58468 ,  0.41763 ,\n",
       "              0.25058 ,  0.083526, -0.083526, -0.25058 , -0.41763 , -0.58468 ,\n",
       "             -0.75173 , -0.91857 , -1.075   , -1.1907  , -1.2439  , -1.2454  ,\n",
       "             -1.2095  , -1.1452  , -1.061   , -0.95892 , -0.84058 , -0.708   ,\n",
       "             -0.56347 , -0.40942 , -0.24846 , -0.083289])},\n",
       "     'outline_outer': {'closed': 1,\n",
       "      'r': array([2.844 , 2.8204, 2.7737, 2.7046, 2.6143, 2.5045, 2.3771, 2.2343,\n",
       "             2.0786, 1.9127, 1.7389, 1.5637, 1.3995, 1.2722, 1.2108, 1.199 ,\n",
       "             1.199 , 1.199 , 1.199 , 1.199 , 1.199 , 1.199 , 1.199 , 1.199 ,\n",
       "             1.199 , 1.2108, 1.2722, 1.3995, 1.5637, 1.7389, 1.9127, 2.0786,\n",
       "             2.2343, 2.3771, 2.5045, 2.6143, 2.7046, 2.7737, 2.8204, 2.844 ]),\n",
       "      'z': array([ 0.089216,  0.26608 ,  0.43828 ,  0.6028  ,  0.75671 ,  0.89735 ,\n",
       "              1.0223  ,  1.1292  ,  1.2164  ,  1.282   ,  1.3197  ,  1.3165  ,\n",
       "              1.2605  ,  1.1444  ,  0.98288 ,  0.80532 ,  0.62636 ,  0.4474  ,\n",
       "              0.26844 ,  0.08948 , -0.08948 , -0.26844 , -0.4474  , -0.62636 ,\n",
       "             -0.80532 , -0.98288 , -1.1444  , -1.2605  , -1.3165  , -1.3197  ,\n",
       "             -1.282   , -1.2164  , -1.1292  , -1.0223  , -0.89735 , -0.75671 ,\n",
       "             -0.6028  , -0.43828 , -0.26608 , -0.089216])}},\n",
       "    '@id': '0'}},\n",
       "  '@id': '0'}}"
      ]
     },
     "execution_count": 11,
     "metadata": {},
     "output_type": "execute_result"
    }
   ],
   "source": [
    "entry.get('wall')"
   ]
  },
  {
   "cell_type": "code",
   "execution_count": 12,
   "metadata": {},
   "outputs": [
    {
     "data": {
      "text/plain": [
       "{'ids_properties': {'comment': {},\n",
       "  'provider': 'Guo, Yong',\n",
       "  'creation_date': '2020-10-12',\n",
       "  'homogeneous_time': 2},\n",
       " 'description_2d': {'type': {'name': 'equilibrium', 'index': 1},\n",
       "  'limiter': {'type': {'name': 'limiter', 'index': 0},\n",
       "   'unit': {'name': 'limiter',\n",
       "    'closed': 1,\n",
       "    'outline': {'r': array([2.277, 2.273, 2.267, 1.94 , 1.94 , 1.802, 1.773, 1.751, 1.736,\n",
       "            1.714, 1.707, 1.696, 1.665, 1.656, 1.635, 1.612, 1.478, 1.459,\n",
       "            1.44 , 1.436, 1.399, 1.379, 1.392, 1.43 , 1.439, 1.442, 1.437,\n",
       "            1.363, 1.361, 1.361, 1.361, 1.363, 1.421, 1.423, 1.422, 1.418,\n",
       "            1.331, 1.367, 1.564, 1.597, 1.598, 1.624, 1.754, 1.765, 1.814,\n",
       "            1.824, 1.825, 1.841, 1.971, 1.971, 2.267, 2.273, 2.277, 2.277,\n",
       "            2.306, 2.328, 2.343, 2.35 , 2.35 , 2.35 , 2.343, 2.328, 2.306,\n",
       "            2.277]),\n",
       "     'z': array([ 0.485,  0.485,  0.493,  0.809,  0.809,  0.926,  0.956,  0.993,\n",
       "             1.033,  1.131,  1.162,  1.142,  1.117,  1.111,  1.096,  1.084,\n",
       "             1.025,  1.021,  1.024,  1.026,  1.039,  1.049,  1.014,  0.909,\n",
       "             0.873,  0.835,  0.799,  0.456,  0.454,  0.   , -0.454, -0.456,\n",
       "            -0.725, -0.748, -0.749, -0.77 , -1.011, -0.977, -0.938, -0.941,\n",
       "            -0.941, -0.961, -1.139, -1.17 , -0.959, -0.934, -0.932, -0.91 ,\n",
       "            -0.783, -0.783, -0.493, -0.485, -0.485, -0.309, -0.244, -0.176,\n",
       "            -0.106, -0.036,  0.   ,  0.036,  0.106,  0.176,  0.244,  0.309])},\n",
       "    '@id': '0'}},\n",
       "  'vessel': {'unit': {'name': 'EAST',\n",
       "    'identifier': 'EAST',\n",
       "    'annular': {'outline_inner': {'closed': 1,\n",
       "      'r': array([2.7286, 2.7069, 2.664 , 2.6007, 2.5178, 2.417 , 2.2997, 2.1681,\n",
       "             2.0244, 1.8708, 1.709 , 1.5435, 1.3902, 1.2814, 1.2402, 1.237 ,\n",
       "             1.237 , 1.237 , 1.237 , 1.237 , 1.237 , 1.237 , 1.237 , 1.237 ,\n",
       "             1.237 , 1.2402, 1.2814, 1.3902, 1.5435, 1.709 , 1.8708, 2.0244,\n",
       "             2.1681, 2.2997, 2.417 , 2.5178, 2.6007, 2.664 , 2.7069, 2.7286]),\n",
       "      'z': array([ 0.083289,  0.24846 ,  0.40942 ,  0.56347 ,  0.708   ,  0.84058 ,\n",
       "              0.95892 ,  1.061   ,  1.1452  ,  1.2095  ,  1.2454  ,  1.2439  ,\n",
       "              1.1907  ,  1.075   ,  0.91857 ,  0.75173 ,  0.58468 ,  0.41763 ,\n",
       "              0.25058 ,  0.083526, -0.083526, -0.25058 , -0.41763 , -0.58468 ,\n",
       "             -0.75173 , -0.91857 , -1.075   , -1.1907  , -1.2439  , -1.2454  ,\n",
       "             -1.2095  , -1.1452  , -1.061   , -0.95892 , -0.84058 , -0.708   ,\n",
       "             -0.56347 , -0.40942 , -0.24846 , -0.083289])},\n",
       "     'outline_outer': {'closed': 1,\n",
       "      'r': array([2.844 , 2.8204, 2.7737, 2.7046, 2.6143, 2.5045, 2.3771, 2.2343,\n",
       "             2.0786, 1.9127, 1.7389, 1.5637, 1.3995, 1.2722, 1.2108, 1.199 ,\n",
       "             1.199 , 1.199 , 1.199 , 1.199 , 1.199 , 1.199 , 1.199 , 1.199 ,\n",
       "             1.199 , 1.2108, 1.2722, 1.3995, 1.5637, 1.7389, 1.9127, 2.0786,\n",
       "             2.2343, 2.3771, 2.5045, 2.6143, 2.7046, 2.7737, 2.8204, 2.844 ]),\n",
       "      'z': array([ 0.089216,  0.26608 ,  0.43828 ,  0.6028  ,  0.75671 ,  0.89735 ,\n",
       "              1.0223  ,  1.1292  ,  1.2164  ,  1.282   ,  1.3197  ,  1.3165  ,\n",
       "              1.2605  ,  1.1444  ,  0.98288 ,  0.80532 ,  0.62636 ,  0.4474  ,\n",
       "              0.26844 ,  0.08948 , -0.08948 , -0.26844 , -0.4474  , -0.62636 ,\n",
       "             -0.80532 , -0.98288 , -1.1444  , -1.2605  , -1.3165  , -1.3197  ,\n",
       "             -1.282   , -1.2164  , -1.1292  , -1.0223  , -0.89735 , -0.75671 ,\n",
       "             -0.6028  , -0.43828 , -0.26608 , -0.089216])}},\n",
       "    '@id': '0'}},\n",
       "  '@id': '0'}}"
      ]
     },
     "execution_count": 12,
     "metadata": {},
     "output_type": "execute_result"
    }
   ],
   "source": [
    "entry.child('wall').fetch()"
   ]
  }
 ],
 "metadata": {
  "kernelspec": {
   "display_name": "Python 3 (ipykernel)",
   "language": "python",
   "name": "python3"
  },
  "language_info": {
   "codemirror_mode": {
    "name": "ipython",
    "version": 3
   },
   "file_extension": ".py",
   "mimetype": "text/x-python",
   "name": "python",
   "nbconvert_exporter": "python",
   "pygments_lexer": "ipython3",
   "version": "3.10.8"
  }
 },
 "nbformat": 4,
 "nbformat_minor": 2
}

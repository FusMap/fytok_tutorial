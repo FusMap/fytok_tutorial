{
 "cells": [
  {
   "cell_type": "markdown",
   "metadata": {},
   "source": [
    "## **SpDB Manual之系列3：Entry进阶——Open_Entry**"
   ]
  },
  {
   "cell_type": "markdown",
   "metadata": {},
   "source": [
    "SpDB中引入Entry来灵活处理Python中的原生数据类型。\n",
    "\n",
    "日常的科研环境中，数据科学的类似是多样的，通常被分类为：\n",
    "- 结构化数据\n",
    "- 半结构化数据\n",
    "- 非结构化数据\n",
    "\n",
    "这些数据类型以不同的形式表现出来，如结构化的数据通常以表格的形式出现，\n",
    "半结构化的数据通常以XML或者JSON的形式出现，非结构化的数据通常以二进制的形式出现，如磁约束聚变中常用的GDSKfile。\n",
    "\n",
    "SpDB通过对底层Entry功能封装，提供统一的Open_Entry标准API来访问、处理这些数据。Open_Entry中支持标准的URL语法来访问不同的数据。用户无需关心后台的数据格式及来源。\n",
    "\n"
   ]
  },
  {
   "cell_type": "markdown",
   "metadata": {},
   "source": [
    "标准的URI表述,它是标准RFC3986的扩展：\n",
    "```\n",
    "<protocol>+<backend>[<schema>]://< authority >/<path>/?<query>#<fragment>\n",
    "```\n",
    "- \\<protocol\\>指定了资源的协议，如远程的MDSplus或者本地的数据文件格式\n",
    "- \\<backend\\>[\\<schema\\>]： SpDB 添加到标准 URI 中的扩展关键字，<Backend> 指定了访问资源的 \"格式；而 \\<schema\\> 则指定了访问资源的 \"语义\"。\n",
    "- \\<authority\\> 组件指定了管理资源的权限，通常包括主机 通常包括主机名和端口号。\n",
    "- \\<path\\>组件指定资源的分层路径，可包括多个层级，每个层级之间用 资源的分层路径，可包括多个层级，以斜线（/）分隔。\n",
    "- \\<query\\> 组件指定随资源请求发送到服务器的查询字符串\n",
    "- \\<fragment\\> 组件指定指向特定资源的 片段标识符"
   ]
  },
  {
   "cell_type": "markdown",
   "metadata": {},
   "source": [
    "标准的URI表述,它是标准RFC3986的扩展：\n",
    "```\n",
    "<device>+<protocol>://<netloc>/<path>?<query>#<fragment>\n",
    "\n",
    "```\n",
    "- device: specifies  device description;\n",
    "- \\<protocol\\>://\\<netloc\\>/\\<path\\>: specifies the address of the data source\n",
    "- \\<query\\> query command, e.g. specify shot or  run number\n",
    "- \\<fragment\\>specifies   path to subnodes\n"
   ]
  },
  {
   "cell_type": "markdown",
   "metadata": {},
   "source": [
    "####处理文件的URL表达式"
   ]
  },
  {
   "cell_type": "code",
   "execution_count": 26,
   "metadata": {},
   "outputs": [],
   "source": [
    "## 加载基本环境\n",
    "from spdm.data.Entry import open_entry,Entry\n",
    "from spdm.utils.logger import logger\n",
    "from pathlib import Path\n",
    "\n",
    "import os\n",
    "os.environ[\"SP_DATA_MAPPING_PATH\"] = \"//scratch/jupytertest/workspace_fytok/fytok_data/mapping\""
   ]
  },
  {
   "cell_type": "code",
   "execution_count": 52,
   "metadata": {},
   "outputs": [],
   "source": [
    "## 通过open_entry函数,将原始换的gdskfile，转成entry对象，B02_SpDB_entry中对entry的操作均有效\n",
    "file_entry = open_entry(\"file+geqdsk:///scratch/jupytertest/workspace_fytok/output/g070754.05000#equilibrium\")"
   ]
  },
  {
   "cell_type": "code",
   "execution_count": 18,
   "metadata": {},
   "outputs": [
    {
     "data": {
      "text/plain": [
       "['time', 'vacuum_toroidal_field', 'time_slice']"
      ]
     },
     "execution_count": 18,
     "metadata": {},
     "output_type": "execute_result"
    }
   ],
   "source": [
    "[*file_entry.keys()]"
   ]
  },
  {
   "cell_type": "code",
   "execution_count": 24,
   "metadata": {},
   "outputs": [
    {
     "data": {
      "text/plain": [
       "{'r0': 1.85000002, 'b0': [1.79915598]}"
      ]
     },
     "execution_count": 24,
     "metadata": {},
     "output_type": "execute_result"
    }
   ],
   "source": [
    "file_entry.get(\"vacuum_toroidal_field\")"
   ]
  },
  {
   "cell_type": "code",
   "execution_count": 23,
   "metadata": {},
   "outputs": [
    {
     "data": {
      "text/plain": [
       "{'r0': 1.85000002, 'b0': [1.79915598]}"
      ]
     },
     "execution_count": 23,
     "metadata": {},
     "output_type": "execute_result"
    }
   ],
   "source": [
    "file_entry.child(\"vacuum_toroidal_field\").fetch()"
   ]
  },
  {
   "cell_type": "code",
   "execution_count": 56,
   "metadata": {},
   "outputs": [
    {
     "name": "stdout",
     "output_type": "stream",
     "text": [
      "\u001b[0;37m2023-11-15 10:16:10,204 [    spdm]    DEBUG: /gpfs/fuyun/projects/fuyun/spdm/python/spdm/plugins/data/plugin_hdf5.py:197:open: Open HDF5 File /scratch/jupytertest/workspace_fytok/fytok_tutorial/tutorial/data/test-eq.hdf5 mode=Mode.read\u001b[0m\n"
     ]
    }
   ],
   "source": [
    "## 通过open_entry函数,将原始换的gdskfile，转成entry对象，B02_SpDB_entry中对entry的操作均有效\n",
    "hdf5_entry = open_entry(\"file+hdf5:///scratch/jupytertest/workspace_fytok/fytok_tutorial/tutorial/data/test-eq.hdf5\")"
   ]
  },
  {
   "cell_type": "code",
   "execution_count": 57,
   "metadata": {},
   "outputs": [
    {
     "ename": "KeyError",
     "evalue": "'Unable to synchronously open object (invalid identifier type to function)'",
     "output_type": "error",
     "traceback": [
      "\u001b[0;31m---------------------------------------------------------------------------\u001b[0m",
      "\u001b[0;31mKeyError\u001b[0m                                  Traceback (most recent call last)",
      "\u001b[1;32m/scratch/jupytertest/workspace_fytok/fytok_tutorial/tutorial/B03_SpDB_Open_Entry.ipynb Cell 12\u001b[0m line \u001b[0;36m1\n\u001b[0;32m----> <a href='vscode-notebook-cell://ssh-remote%2Bjupytertest-service108-direct/scratch/jupytertest/workspace_fytok/fytok_tutorial/tutorial/B03_SpDB_Open_Entry.ipynb#X32sdnNjb2RlLXJlbW90ZQ%3D%3D?line=0'>1</a>\u001b[0m hdf5_entry\u001b[39m.\u001b[39;49mget()\n",
      "File \u001b[0;32m/gpfs/fuyun/projects/fuyun/spdm/python/spdm/data/Entry.py:125\u001b[0m, in \u001b[0;36mEntry.get\u001b[0;34m(self, query, default_value, **kwargs)\u001b[0m\n\u001b[1;32m    122\u001b[0m     entry \u001b[39m=\u001b[39m \u001b[39mself\u001b[39m\u001b[39m.\u001b[39mchild(query)\n\u001b[1;32m    123\u001b[0m     args \u001b[39m=\u001b[39m ()\n\u001b[0;32m--> 125\u001b[0m res \u001b[39m=\u001b[39m entry\u001b[39m.\u001b[39;49mfetch(Path\u001b[39m.\u001b[39;49mtags\u001b[39m.\u001b[39;49mfetch, \u001b[39m*\u001b[39;49margs, default_value\u001b[39m=\u001b[39;49mdefault_value, \u001b[39m*\u001b[39;49m\u001b[39m*\u001b[39;49mkwargs)\n\u001b[1;32m    127\u001b[0m \u001b[39mif\u001b[39;00m res \u001b[39mis\u001b[39;00m _undefined_:\n\u001b[1;32m    128\u001b[0m     \u001b[39mraise\u001b[39;00m \u001b[39mRuntimeError\u001b[39;00m(\u001b[39mf\u001b[39m\u001b[39m'\u001b[39m\u001b[39mCan not find \u001b[39m\u001b[39m\"\u001b[39m\u001b[39m{\u001b[39;00mquery\u001b[39m}\u001b[39;00m\u001b[39m\"\u001b[39m\u001b[39m in \u001b[39m\u001b[39m{\u001b[39;00m\u001b[39mself\u001b[39m\u001b[39m}\u001b[39;00m\u001b[39m'\u001b[39m)\n",
      "File \u001b[0;32m/gpfs/fuyun/projects/fuyun/spdm/python/spdm/plugins/data/plugin_hdf5.py:251\u001b[0m, in \u001b[0;36mH5Entry.fetch\u001b[0;34m(self, *args, **kwargs)\u001b[0m\n\u001b[1;32m    250\u001b[0m \u001b[39mdef\u001b[39;00m \u001b[39mfetch\u001b[39m(\u001b[39mself\u001b[39m,   \u001b[39m*\u001b[39margs, \u001b[39m*\u001b[39m\u001b[39m*\u001b[39mkwargs) \u001b[39m-\u001b[39m\u001b[39m>\u001b[39m typing\u001b[39m.\u001b[39mAny:\n\u001b[0;32m--> 251\u001b[0m     \u001b[39mreturn\u001b[39;00m h5_get_value(\u001b[39mself\u001b[39;49m\u001b[39m.\u001b[39;49m_data, \u001b[39mself\u001b[39;49m\u001b[39m.\u001b[39;49m_path, \u001b[39m*\u001b[39;49margs,  \u001b[39m*\u001b[39;49m\u001b[39m*\u001b[39;49mkwargs)\n",
      "File \u001b[0;32m/gpfs/fuyun/projects/fuyun/spdm/python/spdm/plugins/data/plugin_hdf5.py:141\u001b[0m, in \u001b[0;36mh5_get_value\u001b[0;34m(obj, path, projection, default, **kwargs)\u001b[0m\n\u001b[1;32m    138\u001b[0m         res \u001b[39m=\u001b[39m h5_get_value(obj\u001b[39m.\u001b[39mget(projection, \u001b[39mNone\u001b[39;00m))\n\u001b[1;32m    140\u001b[0m \u001b[39melif\u001b[39;00m \u001b[39misinstance\u001b[39m(obj, h5py\u001b[39m.\u001b[39mGroup):\n\u001b[0;32m--> 141\u001b[0m     \u001b[39mif\u001b[39;00m obj\u001b[39m.\u001b[39;49mattrs\u001b[39m.\u001b[39mget(\u001b[39m\"\u001b[39m\u001b[39m__is_list__\u001b[39m\u001b[39m\"\u001b[39m, \u001b[39mFalse\u001b[39;00m):\n\u001b[1;32m    142\u001b[0m         res \u001b[39m=\u001b[39m []\n\u001b[1;32m    143\u001b[0m     \u001b[39melse\u001b[39;00m:\n",
      "File \u001b[0;32m/gpfs/fuyun/software/h5py/3.8.0-foss-2022b/lib/python3.10/site-packages/h5py/_hl/files.py:286\u001b[0m, in \u001b[0;36mFile.attrs\u001b[0;34m(self)\u001b[0m\n\u001b[1;32m    284\u001b[0m \u001b[39mfrom\u001b[39;00m \u001b[39m.\u001b[39;00m \u001b[39mimport\u001b[39;00m attrs\n\u001b[1;32m    285\u001b[0m \u001b[39mwith\u001b[39;00m phil:\n\u001b[0;32m--> 286\u001b[0m     \u001b[39mreturn\u001b[39;00m attrs\u001b[39m.\u001b[39mAttributeManager(\u001b[39mself\u001b[39;49m[\u001b[39m'\u001b[39;49m\u001b[39m/\u001b[39;49m\u001b[39m'\u001b[39;49m])\n",
      "File \u001b[0;32mh5py/_objects.pyx:54\u001b[0m, in \u001b[0;36mh5py._objects.with_phil.wrapper\u001b[0;34m()\u001b[0m\n",
      "File \u001b[0;32mh5py/_objects.pyx:55\u001b[0m, in \u001b[0;36mh5py._objects.with_phil.wrapper\u001b[0;34m()\u001b[0m\n",
      "File \u001b[0;32m/gpfs/fuyun/software/h5py/3.8.0-foss-2022b/lib/python3.10/site-packages/h5py/_hl/group.py:357\u001b[0m, in \u001b[0;36mGroup.__getitem__\u001b[0;34m(self, name)\u001b[0m\n\u001b[1;32m    355\u001b[0m         \u001b[39mraise\u001b[39;00m \u001b[39mValueError\u001b[39;00m(\u001b[39m\"\u001b[39m\u001b[39mInvalid HDF5 object reference\u001b[39m\u001b[39m\"\u001b[39m)\n\u001b[1;32m    356\u001b[0m \u001b[39melif\u001b[39;00m \u001b[39misinstance\u001b[39m(name, (\u001b[39mbytes\u001b[39m, \u001b[39mstr\u001b[39m)):\n\u001b[0;32m--> 357\u001b[0m     oid \u001b[39m=\u001b[39m h5o\u001b[39m.\u001b[39;49mopen(\u001b[39mself\u001b[39;49m\u001b[39m.\u001b[39;49mid, \u001b[39mself\u001b[39;49m\u001b[39m.\u001b[39;49m_e(name), lapl\u001b[39m=\u001b[39;49m\u001b[39mself\u001b[39;49m\u001b[39m.\u001b[39;49m_lapl)\n\u001b[1;32m    358\u001b[0m \u001b[39melse\u001b[39;00m:\n\u001b[1;32m    359\u001b[0m     \u001b[39mraise\u001b[39;00m \u001b[39mTypeError\u001b[39;00m(\u001b[39m\"\u001b[39m\u001b[39mAccessing a group is done with bytes or str, \u001b[39m\u001b[39m\"\u001b[39m\n\u001b[1;32m    360\u001b[0m                     \u001b[39m\"\u001b[39m\u001b[39mnot \u001b[39m\u001b[39m{}\u001b[39;00m\u001b[39m\"\u001b[39m\u001b[39m.\u001b[39mformat(\u001b[39mtype\u001b[39m(name)))\n",
      "File \u001b[0;32mh5py/_objects.pyx:54\u001b[0m, in \u001b[0;36mh5py._objects.with_phil.wrapper\u001b[0;34m()\u001b[0m\n",
      "File \u001b[0;32mh5py/_objects.pyx:55\u001b[0m, in \u001b[0;36mh5py._objects.with_phil.wrapper\u001b[0;34m()\u001b[0m\n",
      "File \u001b[0;32mh5py/h5o.pyx:190\u001b[0m, in \u001b[0;36mh5py.h5o.open\u001b[0;34m()\u001b[0m\n",
      "\u001b[0;31mKeyError\u001b[0m: 'Unable to synchronously open object (invalid identifier type to function)'"
     ]
    }
   ],
   "source": [
    "hdf5_entry.get()"
   ]
  },
  {
   "cell_type": "code",
   "execution_count": 48,
   "metadata": {},
   "outputs": [
    {
     "ename": "ValueError",
     "evalue": "Invalid group (or file) id (invalid group (or file) ID)",
     "output_type": "error",
     "traceback": [
      "\u001b[0;31m---------------------------------------------------------------------------\u001b[0m",
      "\u001b[0;31mValueError\u001b[0m                                Traceback (most recent call last)",
      "\u001b[1;32m/scratch/jupytertest/workspace_fytok/fytok_tutorial/tutorial/B03_SpDB_Open_Entry.ipynb Cell 13\u001b[0m line \u001b[0;36m1\n\u001b[0;32m----> <a href='vscode-notebook-cell://ssh-remote%2Bjupytertest-service108-direct/scratch/jupytertest/workspace_fytok/fytok_tutorial/tutorial/B03_SpDB_Open_Entry.ipynb#X31sdnNjb2RlLXJlbW90ZQ%3D%3D?line=0'>1</a>\u001b[0m [\u001b[39m*\u001b[39mhdf5_entry\u001b[39m.\u001b[39mkeys()]\n",
      "File \u001b[0;32m/gpfs/fuyun/projects/fuyun/spdm/python/spdm/data/Entry.py:221\u001b[0m, in \u001b[0;36mEntry.keys\u001b[0;34m(self)\u001b[0m\n\u001b[1;32m    220\u001b[0m \u001b[39mdef\u001b[39;00m \u001b[39mkeys\u001b[39m(\u001b[39mself\u001b[39m) \u001b[39m-\u001b[39m\u001b[39m>\u001b[39m typing\u001b[39m.\u001b[39mGenerator[\u001b[39mstr\u001b[39m, \u001b[39mNone\u001b[39;00m, \u001b[39mNone\u001b[39;00m]:\n\u001b[0;32m--> 221\u001b[0m     \u001b[39myield from\u001b[39;00m \u001b[39mself\u001b[39m\u001b[39m.\u001b[39m_path\u001b[39m.\u001b[39mkeys(\u001b[39mself\u001b[39m\u001b[39m.\u001b[39m_data)\n",
      "File \u001b[0;32m/gpfs/fuyun/projects/fuyun/spdm/python/spdm/data/Path.py:792\u001b[0m, in \u001b[0;36mPath.keys\u001b[0;34m(self, target, **kwargs)\u001b[0m\n\u001b[1;32m    790\u001b[0m \u001b[39melif\u001b[39;00m \u001b[39mnot\u001b[39;00m \u001b[39misinstance\u001b[39m(obj,collections\u001b[39m.\u001b[39mabc\u001b[39m.\u001b[39mMapping):\n\u001b[1;32m    791\u001b[0m     \u001b[39mraise\u001b[39;00m \u001b[39mKeyError\u001b[39;00m(\u001b[39mf\u001b[39m\u001b[39m\"\u001b[39m\u001b[39mCan not get keys from \u001b[39m\u001b[39m{\u001b[39;00m\u001b[39mtype\u001b[39m(target)\u001b[39m}\u001b[39;00m\u001b[39m\"\u001b[39m)\n\u001b[0;32m--> 792\u001b[0m \u001b[39myield from\u001b[39;00m obj\n",
      "File \u001b[0;32m/gpfs/fuyun/software/h5py/3.8.0-foss-2022b/lib/python3.10/site-packages/h5py/_hl/group.py:499\u001b[0m, in \u001b[0;36mGroup.__iter__\u001b[0;34m(self)\u001b[0m\n\u001b[1;32m    496\u001b[0m \u001b[39m@with_phil\u001b[39m\n\u001b[1;32m    497\u001b[0m \u001b[39mdef\u001b[39;00m \u001b[39m__iter__\u001b[39m(\u001b[39mself\u001b[39m):\n\u001b[1;32m    498\u001b[0m     \u001b[39m\"\"\" Iterate over member names \"\"\"\u001b[39;00m\n\u001b[0;32m--> 499\u001b[0m     \u001b[39mfor\u001b[39;00m x \u001b[39min\u001b[39;00m \u001b[39mself\u001b[39;49m\u001b[39m.\u001b[39;49mid\u001b[39m.\u001b[39;49m\u001b[39m__iter__\u001b[39;49m():\n\u001b[1;32m    500\u001b[0m         \u001b[39myield\u001b[39;00m \u001b[39mself\u001b[39m\u001b[39m.\u001b[39m_d(x)\n",
      "File \u001b[0;32mh5py/h5g.pyx:477\u001b[0m, in \u001b[0;36mh5py.h5g.GroupID.__iter__\u001b[0;34m()\u001b[0m\n",
      "File \u001b[0;32mh5py/h5g.pyx:478\u001b[0m, in \u001b[0;36mh5py.h5g.GroupID.__iter__\u001b[0;34m()\u001b[0m\n",
      "File \u001b[0;32mh5py/h5g.pyx:102\u001b[0m, in \u001b[0;36mh5py.h5g.GroupIter.__init__\u001b[0;34m()\u001b[0m\n",
      "File \u001b[0;32mh5py/_objects.pyx:54\u001b[0m, in \u001b[0;36mh5py._objects.with_phil.wrapper\u001b[0;34m()\u001b[0m\n",
      "File \u001b[0;32mh5py/_objects.pyx:55\u001b[0m, in \u001b[0;36mh5py._objects.with_phil.wrapper\u001b[0;34m()\u001b[0m\n",
      "File \u001b[0;32mh5py/h5g.pyx:336\u001b[0m, in \u001b[0;36mh5py.h5g.GroupID.get_num_objs\u001b[0;34m()\u001b[0m\n",
      "\u001b[0;31mValueError\u001b[0m: Invalid group (or file) id (invalid group (or file) ID)"
     ]
    }
   ],
   "source": [
    "[*hdf5_entry.keys()]"
   ]
  },
  {
   "cell_type": "code",
   "execution_count": null,
   "metadata": {},
   "outputs": [],
   "source": [
    "entry = open_entry(\"east+mdsplus://202.127.204.12?enable=efit_east&shot={shot_num}\")"
   ]
  },
  {
   "cell_type": "code",
   "execution_count": 6,
   "metadata": {},
   "outputs": [],
   "source": []
  },
  {
   "cell_type": "code",
   "execution_count": null,
   "metadata": {},
   "outputs": [],
   "source": [
    "file_entry= open_entry(f\"file:///{current_path}/g063982.04800\", format=\"gdskfile\" ,mode=\"r\")"
   ]
  },
  {
   "cell_type": "code",
   "execution_count": null,
   "metadata": {},
   "outputs": [],
   "source": [
    "file_entry = open_entry(f'file://current_path+'\"/g070754.05000\")"
   ]
  },
  {
   "cell_type": "code",
   "execution_count": null,
   "metadata": {},
   "outputs": [],
   "source": [
    "current_path = \"/scratch/jupytertest/workspace_fytok/fytok_tutorial/tutorial\"\n",
    "### For NameList File\n",
    "DATA_INPUT = current_path+\"/data/\"\n",
    "with File(DATA_INPUT+\"/g070754.05000\", mode=\"r\", format=\"GEQdsk\") as fid:\n",
    "    doc = fid.read()\n",
    "    eq_test = doc.dump()"
   ]
  },
  {
   "cell_type": "markdown",
   "metadata": {},
   "source": [
    "####处理MDSplus的URL表达式"
   ]
  },
  {
   "cell_type": "code",
   "execution_count": 27,
   "metadata": {},
   "outputs": [
    {
     "ename": "FileNotFoundError",
     "evalue": "Can not find mapping files for ['east', 'imas/3', 'mdsplus'] MAPPING_PATH=[] !",
     "output_type": "error",
     "traceback": [
      "\u001b[0;31m---------------------------------------------------------------------------\u001b[0m",
      "\u001b[0;31mFileNotFoundError\u001b[0m                         Traceback (most recent call last)",
      "\u001b[1;32m/scratch/jupytertest/workspace_fytok/fytok_tutorial/tutorial/B03_SpDB_Open_Entry.ipynb Cell 17\u001b[0m line \u001b[0;36m4\n\u001b[1;32m      <a href='vscode-notebook-cell://ssh-remote%2Bjupytertest-service108-direct/scratch/jupytertest/workspace_fytok/fytok_tutorial/tutorial/B03_SpDB_Open_Entry.ipynb#X20sdnNjb2RlLXJlbW90ZQ%3D%3D?line=1'>2</a>\u001b[0m shot_num \u001b[39m=\u001b[39m \u001b[39m70754\u001b[39m\n\u001b[1;32m      <a href='vscode-notebook-cell://ssh-remote%2Bjupytertest-service108-direct/scratch/jupytertest/workspace_fytok/fytok_tutorial/tutorial/B03_SpDB_Open_Entry.ipynb#X20sdnNjb2RlLXJlbW90ZQ%3D%3D?line=2'>3</a>\u001b[0m time_slice \u001b[39m=\u001b[39m \u001b[39m10\u001b[39m\n\u001b[0;32m----> <a href='vscode-notebook-cell://ssh-remote%2Bjupytertest-service108-direct/scratch/jupytertest/workspace_fytok/fytok_tutorial/tutorial/B03_SpDB_Open_Entry.ipynb#X20sdnNjb2RlLXJlbW90ZQ%3D%3D?line=3'>4</a>\u001b[0m entry \u001b[39m=\u001b[39m open_entry(\u001b[39m\"\u001b[39;49m\u001b[39meast+mdsplus://202.127.204.12?enable=efit_east&shot=\u001b[39;49m\u001b[39m{shot_num}\u001b[39;49;00m\u001b[39m\"\u001b[39;49m)\n",
      "File \u001b[0;32m/gpfs/fuyun/projects/fuyun/spdm/python/spdm/data/Entry.py:402\u001b[0m, in \u001b[0;36mopen_entry\u001b[0;34m(entry, **kwargs)\u001b[0m\n\u001b[1;32m    399\u001b[0m     \u001b[39mreturn\u001b[39;00m ChainEntry(\u001b[39m*\u001b[39mentry, \u001b[39m*\u001b[39m\u001b[39m*\u001b[39mkwargs)\n\u001b[1;32m    401\u001b[0m \u001b[39melse\u001b[39;00m:\n\u001b[0;32m--> 402\u001b[0m     \u001b[39mreturn\u001b[39;00m _open_entry(entry[\u001b[39m0\u001b[39;49m], \u001b[39m*\u001b[39;49m\u001b[39m*\u001b[39;49mkwargs)\n",
      "File \u001b[0;32m/gpfs/fuyun/projects/fuyun/spdm/python/spdm/data/Entry.py:379\u001b[0m, in \u001b[0;36m_open_entry\u001b[0;34m(entry, **kwargs)\u001b[0m\n\u001b[1;32m    376\u001b[0m     \u001b[39mraise\u001b[39;00m \u001b[39mNotImplementedError\u001b[39;00m(\u001b[39mf\u001b[39m\u001b[39m\"\u001b[39m\u001b[39m{\u001b[39;00mnew_url\u001b[39m}\u001b[39;00m\u001b[39m\"\u001b[39m)\n\u001b[1;32m    377\u001b[0m \u001b[39melif\u001b[39;00m local_schema \u001b[39mis\u001b[39;00m \u001b[39mnot\u001b[39;00m \u001b[39mNone\u001b[39;00m \u001b[39mand\u001b[39;00m global_schema \u001b[39m!=\u001b[39m local_schema:\n\u001b[1;32m    378\u001b[0m     \u001b[39m# 本地schema和全局schema不一致，需要进行schema转换\u001b[39;00m\n\u001b[0;32m--> 379\u001b[0m     entry \u001b[39m=\u001b[39m EntryProxy(new_url, local_schema\u001b[39m=\u001b[39;49mlocal_schema, global_schema\u001b[39m=\u001b[39;49mglobal_schema, \u001b[39m*\u001b[39;49m\u001b[39m*\u001b[39;49mquery)\n\u001b[1;32m    380\u001b[0m \u001b[39melse\u001b[39;00m:\n\u001b[1;32m    381\u001b[0m     entry \u001b[39m=\u001b[39m Entry(new_url, \u001b[39m*\u001b[39m\u001b[39m*\u001b[39mquery)\n",
      "File \u001b[0;32m/gpfs/fuyun/projects/fuyun/spdm/python/spdm/data/Entry.py:682\u001b[0m, in \u001b[0;36mEntryProxy.__init__\u001b[0;34m(self, *args, **kwargs)\u001b[0m\n\u001b[1;32m    680\u001b[0m     \u001b[39mself\u001b[39m\u001b[39m.\u001b[39m_entry_list \u001b[39m=\u001b[39m args[\u001b[39m1\u001b[39m]\n\u001b[1;32m    681\u001b[0m \u001b[39melse\u001b[39;00m:\n\u001b[0;32m--> 682\u001b[0m     \u001b[39mself\u001b[39m\u001b[39m.\u001b[39m_mapper, \u001b[39mself\u001b[39m\u001b[39m.\u001b[39m_entry_list \u001b[39m=\u001b[39m \u001b[39mself\u001b[39;49m\u001b[39m.\u001b[39;49m\u001b[39m__class__\u001b[39;49m\u001b[39m.\u001b[39;49mload(\u001b[39m*\u001b[39;49margs, \u001b[39m*\u001b[39;49m\u001b[39m*\u001b[39;49mkwargs)\n",
      "File \u001b[0;32m/gpfs/fuyun/projects/fuyun/spdm/python/spdm/data/Entry.py:641\u001b[0m, in \u001b[0;36mEntryProxy.load\u001b[0;34m(cls, url, local_schema, global_schema, **kwargs)\u001b[0m\n\u001b[1;32m    638\u001b[0m             mapping_files\u001b[39m.\u001b[39mappend(p)\n\u001b[1;32m    640\u001b[0m \u001b[39mif\u001b[39;00m \u001b[39mlen\u001b[39m(mapping_files) \u001b[39m==\u001b[39m \u001b[39m0\u001b[39m:\n\u001b[0;32m--> 641\u001b[0m     \u001b[39mraise\u001b[39;00m \u001b[39mFileNotFoundError\u001b[39;00m(\n\u001b[1;32m    642\u001b[0m         \u001b[39mf\u001b[39m\u001b[39m\"\u001b[39m\u001b[39mCan not find mapping files for \u001b[39m\u001b[39m{\u001b[39;00mmap_tag\u001b[39m}\u001b[39;00m\u001b[39m MAPPING_PATH=\u001b[39m\u001b[39m{\u001b[39;00mEntryProxy\u001b[39m.\u001b[39m_mapping_path\u001b[39m}\u001b[39;00m\u001b[39m !\u001b[39m\u001b[39m\"\u001b[39m\n\u001b[1;32m    643\u001b[0m     )\n\u001b[1;32m    645\u001b[0m mapper \u001b[39m=\u001b[39m File(mapping_files, mode\u001b[39m=\u001b[39m\u001b[39m\"\u001b[39m\u001b[39mr\u001b[39m\u001b[39m\"\u001b[39m, \u001b[39mformat\u001b[39m\u001b[39m=\u001b[39m\u001b[39m\"\u001b[39m\u001b[39mXML\u001b[39m\u001b[39m\"\u001b[39m)\u001b[39m.\u001b[39mread()\n\u001b[1;32m    647\u001b[0m mapper_list[map_tag_str] \u001b[39m=\u001b[39m mapper\n",
      "\u001b[0;31mFileNotFoundError\u001b[0m: Can not find mapping files for ['east', 'imas/3', 'mdsplus'] MAPPING_PATH=[] !"
     ]
    }
   ],
   "source": [
    "### 访问远程EAST MDS数据库中70754炮的数据，\n",
    "shot_num = 70754\n",
    "time_slice = 10\n",
    "entry = open_entry(\"east+mdsplus://202.127.204.12?enable=efit_east&shot={shot_num}\")"
   ]
  }
 ],
 "metadata": {
  "kernelspec": {
   "display_name": "Python 3 (ipykernel)",
   "language": "python",
   "name": "python3"
  },
  "language_info": {
   "codemirror_mode": {
    "name": "ipython",
    "version": 3
   },
   "file_extension": ".py",
   "mimetype": "text/x-python",
   "name": "python",
   "nbconvert_exporter": "python",
   "pygments_lexer": "ipython3",
   "version": "3.10.8"
  }
 },
 "nbformat": 4,
 "nbformat_minor": 2
}

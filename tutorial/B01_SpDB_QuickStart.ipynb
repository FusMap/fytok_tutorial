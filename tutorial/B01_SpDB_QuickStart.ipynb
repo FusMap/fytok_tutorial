{
 "cells": [
  {
   "cell_type": "markdown",
   "metadata": {},
   "source": [
    "## SpDB Manual之系列1：基本概念和设计思想"
   ]
  },
  {
   "cell_type": "markdown",
   "metadata": {},
   "source": [
    "### **概述**\n",
    "**SpDB**是一个自主开发的Python库，用于处理EAST数据分析中涉及的多种科学数据格式。它以MAS IDS为标准规范的本体，引入数据集成的思想将以不同语义和格式存储的数据在统一的数据模型下进行检索、查询。\n",
    "\n",
    "**SpDB**专门为集成建模分析系统FyTok的数据交互而设计，但是不一定与之绑定，独立于FyTok仍然可以使用。\n",
    "\n",
    "**SpDB**可以为用户提供：\n",
    "- 以IMAS IDS为标准的数据交互语义，将数据绑定到 IMAS DD，以便在 IMAS DD 名称空间下统一异构多源数据。但是不依赖于IMAS ，不需要安装IMAS 。\n",
    "- 独立的python包，易安装、上手。可独立于ShenMa集群运行，安装在任何有python3.10+的环境下\n",
    "- 囊括日常科研工作中常用数据格式的处理，且以插件形式管理，开发者用户易对其进行扩展\n",
    "- 读取的数据在内存中以Python中数据格式进行交互，其数据的语义是严格遵守IMAS IDS的树状结构\n",
    "- 写数据是灵活的。"
   ]
  },
  {
   "cell_type": "markdown",
   "metadata": {},
   "source": [
    "### **SpDB的设计思想**\n",
    "**SpDB**是一个数据集成工具。它基于标准的数据模型，为用户提供一种全局的中介模式，将来自不同、异构的数据源集成到一个全局的地址空间，通过唯一的URI实现对数据的统一访问，即是数据集成研究的范畴。它的实现，包含三层构架：面向用户的统一访问层及底层的映射层和转化层。\n"
   ]
  },
  {
   "cell_type": "markdown",
   "metadata": {},
   "source": [
    "<img src=\"./figures/three-layer_spdb.png\" width = \"500\" height = \"400\" alt=\"/three-layer\" align=center />"
   ]
  },
  {
   "cell_type": "markdown",
   "metadata": {},
   "source": [
    "### **SpDB的处理对象**\n",
    "\n",
    "**SpDB**是一个通用的数据集成工具，意在将聚变研究中常用的数据格式都统一映射在标准的语义表述下，同时降低用户处理对不同格式的数据源的门槛。\n",
    "**SpDB**可以处理常用的多种类型的科学数据格式，包括：\n",
    "- Python原生的数据格式：字典、List。\n",
    "    - 直接在内存中交互\n",
    "- 半结构化数据结构，如：Namelist、JSON、XML、HDF5、netCDF等。\n",
    "    - 按照半结构化数据的已有的树状路径查询\n",
    "- 结构化数据结构，如：Gdskfile，、Inputfile等。\n",
    "    - 数据量比较小，拿回来全部放在内存中，直接访问。\n",
    "- 远程数据库系统，如EAST实验的MDSplus及CFETR设计的MDSplus数据库等。\n",
    "    - 将原始的数据源映射在标准的树状结构的语义下。\n",
    "    - 支持延迟执行\n",
    "    - 支持不同类型数据的集成，统一的入口访问。\n",
    "        - 静态装置描述数据\n",
    "        - 动态实验测量数据"
   ]
  },
  {
   "cell_type": "markdown",
   "metadata": {},
   "source": [
    "### **安装SpDB**\n",
    "#### ShenMa集群上的**SpDB** 模块\n",
    "目前，ShenMa集群内（service108）服务器上SpDB模块是可用的。你能运行下面命令，加载其环境："
   ]
  },
  {
   "cell_type": "code",
   "execution_count": null,
   "metadata": {
    "vscode": {
     "languageId": "shellscript"
    }
   },
   "outputs": [],
   "source": [
    "module load spdm/0.0.0-foss-2022b"
   ]
  },
  {
   "cell_type": "markdown",
   "metadata": {},
   "source": [
    "另外，如果你想使用MDSplus 后端，需要load："
   ]
  },
  {
   "cell_type": "code",
   "execution_count": null,
   "metadata": {
    "vscode": {
     "languageId": "shellscript"
    }
   },
   "outputs": [],
   "source": [
    "module load MDSplus-Python/7.131.5-gfbf-2022b-Python-3.10.8"
   ]
  },
  {
   "cell_type": "markdown",
   "metadata": {},
   "source": [
    "测试安装："
   ]
  },
  {
   "cell_type": "code",
   "execution_count": null,
   "metadata": {
    "vscode": {
     "languageId": "shellscript"
    }
   },
   "outputs": [],
   "source": [
    "python -c \"import spdm; print(spdm.__version__)\""
   ]
  },
  {
   "cell_type": "markdown",
   "metadata": {},
   "source": [
    "#### 个人Python环境本地安装\n",
    "推荐使用anconda维护个人Python环境，Python版本3.10+。\n",
    "SpDB的发行包已上传在pip 仓库中，运行pip install直接安装:"
   ]
  },
  {
   "cell_type": "code",
   "execution_count": null,
   "metadata": {
    "vscode": {
     "languageId": "shellscript"
    }
   },
   "outputs": [],
   "source": [
    "pip install --upgrade pip\n",
    "pip install spdm "
   ]
  },
  {
   "cell_type": "markdown",
   "metadata": {},
   "source": [
    "或者，也可以下载打包好的whl源码包安装："
   ]
  },
  {
   "cell_type": "code",
   "execution_count": null,
   "metadata": {
    "vscode": {
     "languageId": "shellscript"
    }
   },
   "outputs": [],
   "source": [
    "wget https://gitee.com/SimPla/SpDM/releases/tag/0.3.0-rc\n",
    "pip install --upgrade pip\n",
    "pip install spdm "
   ]
  },
  {
   "cell_type": "markdown",
   "metadata": {},
   "source": [
    "如果pip安装指定了安装目录，需先添加安装目录到PYTHONPATH中。否者在默认的~/.local/lib/下面："
   ]
  },
  {
   "cell_type": "code",
   "execution_count": null,
   "metadata": {
    "vscode": {
     "languageId": "shellscript"
    }
   },
   "outputs": [],
   "source": [
    "export PYTHONPATH=${INSTALLPATH}/site-packages:${PYTHONPATH}"
   ]
  },
  {
   "cell_type": "markdown",
   "metadata": {},
   "source": [
    "测试你的安装："
   ]
  },
  {
   "cell_type": "code",
   "execution_count": null,
   "metadata": {
    "vscode": {
     "languageId": "shellscript"
    }
   },
   "outputs": [],
   "source": [
    "cd ~\n",
    "python -c \"import spdm; print(spdm.__version__)\""
   ]
  }
 ],
 "metadata": {
  "kernelspec": {
   "display_name": "Python 3 (ipykernel)",
   "language": "python",
   "name": "python3"
  },
  "language_info": {
   "codemirror_mode": {
    "name": "ipython",
    "version": 3
   },
   "file_extension": ".py",
   "mimetype": "text/x-python",
   "name": "python",
   "nbconvert_exporter": "python",
   "pygments_lexer": "ipython3",
   "version": "3.10.8"
  }
 },
 "nbformat": 4,
 "nbformat_minor": 2
}

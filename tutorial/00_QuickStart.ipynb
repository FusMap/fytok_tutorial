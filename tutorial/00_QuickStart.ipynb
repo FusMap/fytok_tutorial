{
 "cells": [
  {
   "cell_type": "code",
   "execution_count": 1,
   "metadata": {},
   "outputs": [
    {
     "name": "stdout",
     "output_type": "stream",
     "text": [
      "\u001b[0;34m2023-09-29 11:03:05,953 [   fytok]     INFO: \n",
      "#######################################################################################################################\n",
      "\n",
      "    ______      _____     _\n",
      "   / ____/_  __|_   _|__ | | __\n",
      "  / /_  / / / /  | |/ _ \\| |/ /\n",
      " / __/ / /_/ /   | | (_) |   <\n",
      "/_/    \\__, /    |_|\\___/|_|\\_\\\n",
      "      /____/      \n",
      "Copyright (c) 2021-present Zhi YU (Institute of Plasma Physics Chinese Academy of Sciences) \n",
      "URL         : https://gitee.com/openfusion/fytok_tutorial\n",
      "\n",
      "version = 0.0.0\n",
      "#######################################################################################################################\n",
      "\u001b[0m\n",
      "\u001b[0;34m2023-09-29 11:03:06,330 [   fytok]     INFO: Mapping path [PosixPath('/home/salmon/workspace/fytok/python/fytok/_mapping')]\u001b[0m\n",
      "\u001b[0;34m2023-09-29 11:03:09,293 [   fytok]     INFO: FyTok (0.2.0-153-gace0bd1-dirty) is compatible with the IMAS data dictionary 3.38.1-dirty.\u001b[0m\n"
     ]
    }
   ],
   "source": [
    "from fytok.Tokamak import Tokamak\n",
    "from spdm.view import View as sp_view\n"
   ]
  },
  {
   "cell_type": "code",
   "execution_count": 2,
   "metadata": {},
   "outputs": [
    {
     "name": "stdout",
     "output_type": "stream",
     "text": [
      "\u001b[0;34m2023-09-29 11:03:10,024 [    spdm]     INFO: Load module spdm.plugins.data.plugin_xml\u001b[0m\n"
     ]
    }
   ],
   "source": [
    "tok = Tokamak(\"file+geqdsk://./data/g900003.00230_ITER_15MA_eqdsk16HR.txt\",\n",
    "              device='ITER', shot='900003', time=2.3)"
   ]
  },
  {
   "cell_type": "code",
   "execution_count": 3,
   "metadata": {},
   "outputs": [
    {
     "name": "stdout",
     "output_type": "stream",
     "text": [
      "\u001b[0;34m2023-09-29 11:03:12,500 [    spdm]     INFO: Load module fytok.plugins.equilibrium.eq_analyze\u001b[0m\n",
      "\u001b[0;34m2023-09-29 11:03:12,549 [    spdm]     INFO: Load module spdm.plugins.data.plugin_geqdsk\u001b[0m\n",
      "\u001b[0;37m2023-09-29 11:03:12,576 [    spdm]    DEBUG: /home/salmon/workspace/fytok_tutorial/../fytok/python/spdm/plugins/data/plugin_geqdsk.py:437:__init__: Open File mode=Mode.read  URITuple(protocol='file+geqdsk', authority='', path='./data/g900003.00230_ITER_15MA_eqdsk16HR.txt', query={'shot': '900003', 'run': '', 'uid': '900003'}, fragment='') \u001b[0m\n",
      "\u001b[0;34m2023-09-29 11:03:13,206 [   fytok]     INFO: Load module FyEqAnalyze \u001b[0m\n",
      "\u001b[0;34m2023-09-29 11:03:13,240 [    spdm]     INFO: Load module spdm.view.view_matplotlib\u001b[0m\n"
     ]
    },
    {
     "ename": "RuntimeError",
     "evalue": "ignore unsupported geometry FyEqAnalyze <FyEqAnalyze />! ",
     "output_type": "error",
     "traceback": [
      "\u001b[0;31m---------------------------------------------------------------------------\u001b[0m",
      "\u001b[0;31mModuleNotFoundError\u001b[0m                       Traceback (most recent call last)",
      "File \u001b[0;32m~/workspace/fytok_tutorial/../fytok/SpDB/python/spdm/view/view_matplotlib.py:135\u001b[0m, in \u001b[0;36mMatplotlibView._draw\u001b[0;34m(self, canvas, obj, styles, view_point, **kwargs)\u001b[0m\n\u001b[1;32m    134\u001b[0m \u001b[39mtry\u001b[39;00m:\n\u001b[0;32m--> 135\u001b[0m     geo, s \u001b[39m=\u001b[39m obj\u001b[39m.\u001b[39;49m__geometry__(view_point\u001b[39m=\u001b[39;49mview_point, \u001b[39m*\u001b[39;49m\u001b[39m*\u001b[39;49mkwargs)\n\u001b[1;32m    136\u001b[0m     styles \u001b[39m=\u001b[39m merge_tree_recursive(styles, s)\n",
      "File \u001b[0;32m~/workspace/fytok_tutorial/../fytok/python/fytok/modules/Equilibrium.py:195\u001b[0m, in \u001b[0;36mEquilibrium.__geometry__\u001b[0;34m(self, view, **kwargs)\u001b[0m\n\u001b[1;32m    194\u001b[0m \u001b[39mdef\u001b[39;00m \u001b[39m__geometry__\u001b[39m(\u001b[39mself\u001b[39m, view\u001b[39m=\u001b[39m\u001b[39m\"\u001b[39m\u001b[39mRZ\u001b[39m\u001b[39m\"\u001b[39m, \u001b[39m*\u001b[39m\u001b[39m*\u001b[39mkwargs) \u001b[39m-\u001b[39m\u001b[39m>\u001b[39m GeoObject:\n\u001b[0;32m--> 195\u001b[0m     \u001b[39mreturn\u001b[39;00m \u001b[39mself\u001b[39;49m\u001b[39m.\u001b[39;49mtime_slice\u001b[39m.\u001b[39;49mcurrent\u001b[39m.\u001b[39;49m__geometry__(view\u001b[39m=\u001b[39;49mview, \u001b[39m*\u001b[39;49m\u001b[39m*\u001b[39;49mkwargs)\n",
      "File \u001b[0;32m~/workspace/fytok_tutorial/../fytok/python/fytok/plugins/equilibrium/eq_analyze.py:1028\u001b[0m, in \u001b[0;36mFyEquilibriumTimeSlice.__geometry__\u001b[0;34m(self, view_point, **kwargs)\u001b[0m\n\u001b[1;32m   1026\u001b[0m \u001b[39mif\u001b[39;00m \u001b[39mself\u001b[39m\u001b[39m.\u001b[39mprofiles_2d[\u001b[39m0\u001b[39m]\u001b[39m.\u001b[39mpsi\u001b[39m.\u001b[39m__value__ \u001b[39mis\u001b[39;00m \u001b[39mnot\u001b[39;00m _not_found_:\n\u001b[0;32m-> 1028\u001b[0m     o_points, x_points \u001b[39m=\u001b[39m \u001b[39mself\u001b[39;49m\u001b[39m.\u001b[39;49mcoordinate_system\u001b[39m.\u001b[39;49mcritical_points\n\u001b[1;32m   1030\u001b[0m     geo[\u001b[39m\"\u001b[39m\u001b[39mo_points\u001b[39m\u001b[39m\"\u001b[39m] \u001b[39m=\u001b[39m [Point(p\u001b[39m.\u001b[39mr, p\u001b[39m.\u001b[39mz, name\u001b[39m=\u001b[39m\u001b[39mf\u001b[39m\u001b[39m\"\u001b[39m\u001b[39m{\u001b[39;00midx\u001b[39m}\u001b[39;00m\u001b[39m\"\u001b[39m) \u001b[39mfor\u001b[39;00m idx, p \u001b[39min\u001b[39;00m \u001b[39menumerate\u001b[39m(o_points)]\n",
      "File \u001b[0;32m/usr/lib/python3.10/functools.py:981\u001b[0m, in \u001b[0;36mcached_property.__get__\u001b[0;34m(self, instance, owner)\u001b[0m\n\u001b[1;32m    980\u001b[0m \u001b[39mif\u001b[39;00m val \u001b[39mis\u001b[39;00m _NOT_FOUND:\n\u001b[0;32m--> 981\u001b[0m     val \u001b[39m=\u001b[39m \u001b[39mself\u001b[39;49m\u001b[39m.\u001b[39;49mfunc(instance)\n\u001b[1;32m    982\u001b[0m     \u001b[39mtry\u001b[39;00m:\n",
      "File \u001b[0;32m~/workspace/fytok_tutorial/../fytok/python/fytok/plugins/equilibrium/eq_analyze.py:154\u001b[0m, in \u001b[0;36mFyEquilibriumCoordinateSystem.critical_points\u001b[0;34m(self)\u001b[0m\n\u001b[1;32m    152\u001b[0m psi \u001b[39m=\u001b[39m \u001b[39mself\u001b[39m\u001b[39m.\u001b[39m_psirz\n\u001b[0;32m--> 154\u001b[0m R, Z \u001b[39m=\u001b[39m psi\u001b[39m.\u001b[39;49mmesh\u001b[39m.\u001b[39mpoints\n\u001b[1;32m    156\u001b[0m Bp2 \u001b[39m=\u001b[39m (psi\u001b[39m.\u001b[39mpd(\u001b[39m0\u001b[39m, \u001b[39m1\u001b[39m)\u001b[39m*\u001b[39m\u001b[39m*\u001b[39m\u001b[39m2\u001b[39m \u001b[39m+\u001b[39m psi\u001b[39m.\u001b[39mpd(\u001b[39m1\u001b[39m, \u001b[39m0\u001b[39m)\u001b[39m*\u001b[39m\u001b[39m*\u001b[39m\u001b[39m2\u001b[39m)\u001b[39m/\u001b[39m(_R\u001b[39m*\u001b[39m\u001b[39m*\u001b[39m\u001b[39m2\u001b[39m)\n",
      "File \u001b[0;32m~/workspace/fytok_tutorial/../fytok/SpDB/python/spdm/data/Field.py:72\u001b[0m, in \u001b[0;36mField.mesh\u001b[0;34m(self)\u001b[0m\n\u001b[1;32m     71\u001b[0m \u001b[39mproperty\u001b[39m\n\u001b[0;32m---> 72\u001b[0m \u001b[39mdef\u001b[39;00m \u001b[39mmesh\u001b[39m(\u001b[39mself\u001b[39m): \u001b[39mreturn\u001b[39;00m \u001b[39mself\u001b[39;49m\u001b[39m.\u001b[39;49m__mesh__\n",
      "File \u001b[0;32m~/workspace/fytok_tutorial/../fytok/SpDB/python/spdm/data/Field.py:86\u001b[0m, in \u001b[0;36mField.__mesh__\u001b[0;34m(self)\u001b[0m\n\u001b[1;32m     85\u001b[0m \u001b[39mif\u001b[39;00m \u001b[39mall\u001b[39m([\u001b[39misinstance\u001b[39m(c, \u001b[39mstr\u001b[39m) \u001b[39mand\u001b[39;00m c\u001b[39m.\u001b[39mstartswith(\u001b[39m'\u001b[39m\u001b[39m../grid\u001b[39m\u001b[39m'\u001b[39m) \u001b[39mfor\u001b[39;00m c \u001b[39min\u001b[39;00m coordinates\u001b[39m.\u001b[39mvalues()]):\n\u001b[0;32m---> 86\u001b[0m     o_mesh \u001b[39m=\u001b[39m \u001b[39mgetattr\u001b[39;49m(\u001b[39mself\u001b[39;49m\u001b[39m.\u001b[39;49m_parent, \u001b[39m\"\u001b[39;49m\u001b[39mgrid\u001b[39;49m\u001b[39m\"\u001b[39;49m, \u001b[39mNone\u001b[39;49;00m)\n\u001b[1;32m     87\u001b[0m     \u001b[39mif\u001b[39;00m \u001b[39misinstance\u001b[39m(o_mesh, Mesh):\n\u001b[1;32m     88\u001b[0m         \u001b[39m# if self._mesh is not None and len(self._mesh) > 0:\u001b[39;00m\n\u001b[1;32m     89\u001b[0m         \u001b[39m#     logger.warning(f\"Ignore {self._mesh}\")\u001b[39;00m\n",
      "File \u001b[0;32m~/workspace/fytok_tutorial/../fytok/SpDB/python/spdm/data/sp_property.py:275\u001b[0m, in \u001b[0;36msp_property.__get__\u001b[0;34m(self, instance, owner)\u001b[0m\n\u001b[1;32m    273\u001b[0m \u001b[39mwith\u001b[39;00m \u001b[39mself\u001b[39m\u001b[39m.\u001b[39mlock:\n\u001b[0;32m--> 275\u001b[0m     value \u001b[39m=\u001b[39m instance\u001b[39m.\u001b[39;49m__get_property__(\u001b[39mself\u001b[39;49m\u001b[39m.\u001b[39;49mproperty_cache_key,\n\u001b[1;32m    276\u001b[0m                                       type_hint\u001b[39m=\u001b[39;49mtype_hint,\n\u001b[1;32m    277\u001b[0m                                       getter\u001b[39m=\u001b[39;49m\u001b[39mself\u001b[39;49m\u001b[39m.\u001b[39;49mgetter,\n\u001b[1;32m    278\u001b[0m                                       default_value\u001b[39m=\u001b[39;49m\u001b[39mself\u001b[39;49m\u001b[39m.\u001b[39;49mdefault_value,\n\u001b[1;32m    279\u001b[0m                                       metadata\u001b[39m=\u001b[39;49mmetadata,\n\u001b[1;32m    280\u001b[0m                                       )\n\u001b[1;32m    282\u001b[0m     \u001b[39mif\u001b[39;00m \u001b[39mself\u001b[39m\u001b[39m.\u001b[39mstrict \u001b[39mand\u001b[39;00m value \u001b[39mis\u001b[39;00m _not_found_:\n",
      "File \u001b[0;32m~/workspace/fytok_tutorial/../fytok/SpDB/python/spdm/data/sp_property.py:67\u001b[0m, in \u001b[0;36mSpTree.__get_property__\u001b[0;34m(self, key, *args, **kwargs)\u001b[0m\n\u001b[0;32m---> 67\u001b[0m \u001b[39mdef\u001b[39;00m \u001b[39m__get_property__\u001b[39m(\u001b[39mself\u001b[39m, key: \u001b[39mstr\u001b[39m, \u001b[39m*\u001b[39margs, \u001b[39m*\u001b[39m\u001b[39m*\u001b[39mkwargs) \u001b[39m-\u001b[39m\u001b[39m>\u001b[39m _T: \u001b[39mreturn\u001b[39;00m \u001b[39mself\u001b[39;49m\u001b[39m.\u001b[39;49m_get(key, \u001b[39m*\u001b[39;49margs, \u001b[39m*\u001b[39;49m\u001b[39m*\u001b[39;49mkwargs)\n",
      "File \u001b[0;32m~/workspace/fytok_tutorial/../fytok/SpDB/python/spdm/data/HTree.py:384\u001b[0m, in \u001b[0;36mHTree._get\u001b[0;34m(self, query, type_hint, *args, **kwargs)\u001b[0m\n\u001b[1;32m    383\u001b[0m \u001b[39melif\u001b[39;00m \u001b[39misinstance\u001b[39m(query, \u001b[39mstr\u001b[39m):\n\u001b[0;32m--> 384\u001b[0m     value \u001b[39m=\u001b[39m \u001b[39mself\u001b[39;49m\u001b[39m.\u001b[39;49m_get_as_dict(query, \u001b[39m*\u001b[39;49margs,  type_hint\u001b[39m=\u001b[39;49mtype_hint, \u001b[39m*\u001b[39;49m\u001b[39m*\u001b[39;49mkwargs)\n\u001b[1;32m    386\u001b[0m \u001b[39melif\u001b[39;00m \u001b[39misinstance\u001b[39m(query, \u001b[39mset\u001b[39m):  \u001b[39m# compound\u001b[39;00m\n",
      "File \u001b[0;32m~/workspace/fytok_tutorial/../fytok/SpDB/python/spdm/data/HTree.py:422\u001b[0m, in \u001b[0;36mHTree._get_as_dict\u001b[0;34m(self, key, *args, **kwargs)\u001b[0m\n\u001b[1;32m    420\u001b[0m     entry \u001b[39m=\u001b[39m \u001b[39mNone\u001b[39;00m\n\u001b[0;32m--> 422\u001b[0m value \u001b[39m=\u001b[39m \u001b[39mself\u001b[39;49m\u001b[39m.\u001b[39;49m_as_child(cache, key, \u001b[39m*\u001b[39;49margs, entry\u001b[39m=\u001b[39;49mentry, \u001b[39m*\u001b[39;49m\u001b[39m*\u001b[39;49mkwargs)\n\u001b[1;32m    424\u001b[0m \u001b[39mif\u001b[39;00m \u001b[39mself\u001b[39m\u001b[39m.\u001b[39m_cache \u001b[39mis\u001b[39;00m _not_found_ \u001b[39mor\u001b[39;00m \u001b[39mself\u001b[39m\u001b[39m.\u001b[39m_cache \u001b[39mis\u001b[39;00m \u001b[39mNone\u001b[39;00m:\n",
      "File \u001b[0;32m~/workspace/fytok_tutorial/../fytok/SpDB/python/spdm/data/HTree.py:350\u001b[0m, in \u001b[0;36mHTree._as_child\u001b[0;34m(self, value, key, entry, parent, type_hint, default_value, getter, force, metadata, *args, **kwargs)\u001b[0m\n\u001b[1;32m    349\u001b[0m     \u001b[39mif\u001b[39;00m type_hint \u001b[39mis\u001b[39;00m \u001b[39mnot\u001b[39;00m \u001b[39mNone\u001b[39;00m:\n\u001b[0;32m--> 350\u001b[0m         value \u001b[39m=\u001b[39m type_convert(value, type_hint\u001b[39m=\u001b[39;49mtype_hint, \u001b[39m*\u001b[39;49m\u001b[39m*\u001b[39;49mkwargs)\n\u001b[1;32m    352\u001b[0m \u001b[39mreturn\u001b[39;00m value\n",
      "File \u001b[0;32m~/workspace/fytok_tutorial/../fytok/SpDB/python/spdm/utils/typing.py:304\u001b[0m, in \u001b[0;36mtype_convert\u001b[0;34m(value, type_hint, **kwargs)\u001b[0m\n\u001b[1;32m    301\u001b[0m \u001b[39mif\u001b[39;00m (\u001b[39mnot\u001b[39;00m inspect\u001b[39m.\u001b[39misclass(type_hint) \u001b[39mor\u001b[39;00m \u001b[39mnot\u001b[39;00m \u001b[39missubclass\u001b[39m(type_hint, (Enum, \u001b[39m*\u001b[39mprimary_type)))\\\n\u001b[1;32m    302\u001b[0m         \u001b[39mand\u001b[39;00m \u001b[39mnot\u001b[39;00m dataclasses\u001b[39m.\u001b[39mis_dataclass(type_hint):\n\u001b[0;32m--> 304\u001b[0m     \u001b[39mreturn\u001b[39;00m type_hint(value, \u001b[39m*\u001b[39;49m\u001b[39m*\u001b[39;49mkwargs)\n\u001b[1;32m    306\u001b[0m default_value \u001b[39m=\u001b[39m kwargs\u001b[39m.\u001b[39mpop(\u001b[39m\"\u001b[39m\u001b[39mdefault_value\u001b[39m\u001b[39m\"\u001b[39m, _not_found_)\n",
      "File \u001b[0;32m~/workspace/fytok_tutorial/../fytok/SpDB/python/spdm/mesh/Mesh.py:44\u001b[0m, in \u001b[0;36mMesh.__init__\u001b[0;34m(self, *args, **kwargs)\u001b[0m\n\u001b[1;32m     42\u001b[0m     mesh_type \u001b[39m=\u001b[39m \u001b[39m\"\u001b[39m\u001b[39mrectilinear\u001b[39m\u001b[39m\"\u001b[39m\n\u001b[0;32m---> 44\u001b[0m \u001b[39msuper\u001b[39;49m()\u001b[39m.\u001b[39;49m__dispatch_init__(mesh_type, \u001b[39mself\u001b[39;49m, \u001b[39m*\u001b[39;49margs, \u001b[39m*\u001b[39;49m\u001b[39m*\u001b[39;49mkwargs)\n\u001b[1;32m     46\u001b[0m \u001b[39mreturn\u001b[39;00m\n",
      "File \u001b[0;32m~/workspace/fytok_tutorial/../fytok/SpDB/python/spdm/utils/plugin.py:85\u001b[0m, in \u001b[0;36mPluggable.__dispatch_init__\u001b[0;34m(cls, sub_list, self, *args, **kwargs)\u001b[0m\n\u001b[1;32m     84\u001b[0m \u001b[39mif\u001b[39;00m \u001b[39mnot\u001b[39;00m inspect\u001b[39m.\u001b[39misclass(n_cls) \u001b[39mor\u001b[39;00m \u001b[39mnot\u001b[39;00m \u001b[39missubclass\u001b[39m(n_cls, \u001b[39mcls\u001b[39m):\n\u001b[0;32m---> 85\u001b[0m     \u001b[39mraise\u001b[39;00m \u001b[39mModuleNotFoundError\u001b[39;00m(\u001b[39mf\u001b[39m\u001b[39m\"\u001b[39m\u001b[39mCan not find module as subclass of \u001b[39m\u001b[39m'\u001b[39m\u001b[39m{\u001b[39;00m\u001b[39mcls\u001b[39m\u001b[39m.\u001b[39m\u001b[39m__name__\u001b[39m\u001b[39m}\u001b[39;00m\u001b[39m'\u001b[39m\u001b[39m \u001b[39m\u001b[39m{\u001b[39;00mn_cls\u001b[39m}\u001b[39;00m\u001b[39m from \u001b[39m\u001b[39m{\u001b[39;00msub_list\u001b[39m}\u001b[39;00m\u001b[39m!\u001b[39m\u001b[39m\"\u001b[39m)\n\u001b[1;32m     87\u001b[0m \u001b[39mself\u001b[39m\u001b[39m.\u001b[39m\u001b[39m__class__\u001b[39m \u001b[39m=\u001b[39m n_cls\n",
      "\u001b[0;31mModuleNotFoundError\u001b[0m: Can not find module as subclass of 'Mesh' None from [None]!",
      "\nThe above exception was the direct cause of the following exception:\n",
      "\u001b[0;31mRuntimeError\u001b[0m                              Traceback (most recent call last)",
      "File \u001b[0;32m~/.local/lib/python3.10/site-packages/IPython/core/formatters.py:344\u001b[0m, in \u001b[0;36mBaseFormatter.__call__\u001b[0;34m(self, obj)\u001b[0m\n\u001b[1;32m    342\u001b[0m     method \u001b[39m=\u001b[39m get_real_method(obj, \u001b[39mself\u001b[39m\u001b[39m.\u001b[39mprint_method)\n\u001b[1;32m    343\u001b[0m     \u001b[39mif\u001b[39;00m method \u001b[39mis\u001b[39;00m \u001b[39mnot\u001b[39;00m \u001b[39mNone\u001b[39;00m:\n\u001b[0;32m--> 344\u001b[0m         \u001b[39mreturn\u001b[39;00m method()\n\u001b[1;32m    345\u001b[0m     \u001b[39mreturn\u001b[39;00m \u001b[39mNone\u001b[39;00m\n\u001b[1;32m    346\u001b[0m \u001b[39melse\u001b[39;00m:\n",
      "File \u001b[0;32m~/workspace/fytok_tutorial/../fytok/SpDB/python/spdm/data/HTree.py:109\u001b[0m, in \u001b[0;36mHTree._repr_svg_\u001b[0;34m(self)\u001b[0m\n\u001b[1;32m    107\u001b[0m \u001b[39mdef\u001b[39;00m \u001b[39m_repr_svg_\u001b[39m(\u001b[39mself\u001b[39m) \u001b[39m-\u001b[39m\u001b[39m>\u001b[39m \u001b[39mstr\u001b[39m:\n\u001b[1;32m    108\u001b[0m     \u001b[39mfrom\u001b[39;00m \u001b[39m.\u001b[39;00m\u001b[39m.\u001b[39;00m\u001b[39mview\u001b[39;00m\u001b[39m.\u001b[39;00m\u001b[39mView\u001b[39;00m \u001b[39mimport\u001b[39;00m display\n\u001b[0;32m--> 109\u001b[0m     \u001b[39mreturn\u001b[39;00m display(\u001b[39mself\u001b[39;49m, output\u001b[39m=\u001b[39;49m\u001b[39m\"\u001b[39;49m\u001b[39msvg\u001b[39;49m\u001b[39m\"\u001b[39;49m)\n",
      "File \u001b[0;32m~/workspace/fytok_tutorial/../fytok/SpDB/python/spdm/view/View.py:86\u001b[0m, in \u001b[0;36mdisplay\u001b[0;34m(backend, *args, **kwargs)\u001b[0m\n\u001b[1;32m     83\u001b[0m \u001b[39mdef\u001b[39;00m \u001b[39mdisplay\u001b[39m(\u001b[39m*\u001b[39margs,   backend\u001b[39m=\u001b[39m\u001b[39mNone\u001b[39;00m,  \u001b[39m*\u001b[39m\u001b[39m*\u001b[39mkwargs):\n\u001b[1;32m     84\u001b[0m \u001b[39m    \u001b[39m\u001b[39m\"\"\"Show an object\"\"\"\u001b[39;00m\n\u001b[0;32m---> 86\u001b[0m     \u001b[39mreturn\u001b[39;00m viewer(backend)\u001b[39m.\u001b[39;49mrender(\u001b[39m*\u001b[39;49margs,  \u001b[39m*\u001b[39;49m\u001b[39m*\u001b[39;49mkwargs)\n",
      "File \u001b[0;32m~/workspace/fytok_tutorial/../fytok/SpDB/python/spdm/view/view_matplotlib.py:83\u001b[0m, in \u001b[0;36mMatplotlibView.render\u001b[0;34m(self, obj, styles, view_point, title, **kwargs)\u001b[0m\n\u001b[1;32m     79\u001b[0m     styles \u001b[39m=\u001b[39m {}\n\u001b[1;32m     81\u001b[0m fig, canvas \u001b[39m=\u001b[39m plt\u001b[39m.\u001b[39msubplots()\n\u001b[0;32m---> 83\u001b[0m \u001b[39mself\u001b[39;49m\u001b[39m.\u001b[39;49m_draw(canvas, obj, styles \u001b[39mor\u001b[39;49;00m {}, view_point\u001b[39m=\u001b[39;49mview_point)\n\u001b[1;32m     85\u001b[0m xlabel \u001b[39m=\u001b[39m styles\u001b[39m.\u001b[39mget(\u001b[39m\"\u001b[39m\u001b[39mxlabel\u001b[39m\u001b[39m\"\u001b[39m, \u001b[39mNone\u001b[39;00m)\n\u001b[1;32m     87\u001b[0m \u001b[39mif\u001b[39;00m xlabel \u001b[39mis\u001b[39;00m \u001b[39mnot\u001b[39;00m \u001b[39mNone\u001b[39;00m:\n",
      "File \u001b[0;32m~/workspace/fytok_tutorial/../fytok/SpDB/python/spdm/view/view_matplotlib.py:139\u001b[0m, in \u001b[0;36mMatplotlibView._draw\u001b[0;34m(self, canvas, obj, styles, view_point, **kwargs)\u001b[0m\n\u001b[1;32m    137\u001b[0m \u001b[39mexcept\u001b[39;00m \u001b[39mException\u001b[39;00m \u001b[39mas\u001b[39;00m e:\n\u001b[1;32m    138\u001b[0m     \u001b[39mif\u001b[39;00m SP_DEBUG:\n\u001b[0;32m--> 139\u001b[0m         \u001b[39mraise\u001b[39;00m \u001b[39mRuntimeError\u001b[39;00m(\u001b[39mf\u001b[39m\u001b[39m\"\u001b[39m\u001b[39mignore unsupported geometry \u001b[39m\u001b[39m{\u001b[39;00mobj\u001b[39m.\u001b[39m\u001b[39m__class__\u001b[39m\u001b[39m.\u001b[39m\u001b[39m__name__\u001b[39m\u001b[39m}\u001b[39;00m\u001b[39m \u001b[39m\u001b[39m{\u001b[39;00mobj\u001b[39m}\u001b[39;00m\u001b[39m! \u001b[39m\u001b[39m\"\u001b[39m) \u001b[39mfrom\u001b[39;00m \u001b[39me\u001b[39;00m\n\u001b[1;32m    140\u001b[0m     \u001b[39melse\u001b[39;00m:\n\u001b[1;32m    141\u001b[0m         logger\u001b[39m.\u001b[39mwarning(\u001b[39mf\u001b[39m\u001b[39m\"\u001b[39m\u001b[39mignore unsupported geometry \u001b[39m\u001b[39m{\u001b[39;00mobj\u001b[39m.\u001b[39m\u001b[39m__class__\u001b[39m\u001b[39m.\u001b[39m\u001b[39m__name__\u001b[39m\u001b[39m}\u001b[39;00m\u001b[39m \u001b[39m\u001b[39m{\u001b[39;00mobj\u001b[39m}\u001b[39;00m\u001b[39m! ERROR: \u001b[39m\u001b[39m{\u001b[39;00me\u001b[39m}\u001b[39;00m\u001b[39m\"\u001b[39m)\n",
      "\u001b[0;31mRuntimeError\u001b[0m: ignore unsupported geometry FyEqAnalyze <FyEqAnalyze />! "
     ]
    },
    {
     "data": {
      "text/plain": [
       "<fytok.plugins.equilibrium.eq_analyze.FyEqAnalyze at 0x7f387ad766e0>"
      ]
     },
     "metadata": {},
     "output_type": "display_data"
    },
    {
     "data": {
      "image/png": "[encoded data removed]",
      "text/plain": [
       "<Figure size 640x480 with 1 Axes>"
      ]
     },
     "metadata": {},
     "output_type": "display_data"
    }
   ],
   "source": [
    "display(tok.equilibrium)"
   ]
  },
  {
   "cell_type": "code",
   "execution_count": null,
   "metadata": {},
   "outputs": [],
   "source": [
    "fig=sp_view.display([tok.equilibrium,tok.wall])"
   ]
  },
  {
   "cell_type": "code",
   "execution_count": null,
   "metadata": {},
   "outputs": [],
   "source": [
    "profs = sp_view.profiles([\n",
    "    ((tok.equilibrium.time_slice.current.profiles_1d.q, {\"label\": r\"$q$\"}), {\"y_label\": r\"$q[-]$\"}),\n",
    "    (tok.equilibrium.time_slice.current.profiles_1d.magnetic_shear, {\"label\": r\"$s$\"}),\n",
    "    (tok.equilibrium.time_slice.current.profiles_1d.gm1, {\"label\": r\"$gm1$\"}),\n",
    "    (tok.equilibrium.time_slice.current.profiles_1d.gm2, {\"label\": r\"$gm2$\"}),\n",
    "    (tok.equilibrium.time_slice.current.profiles_1d.gm3, {\"label\": r\"$gm3$\"}),\n",
    "    (tok.equilibrium.time_slice.current.profiles_1d.gm4, {\"label\": r\"$gm4$\"}),\n",
    "\n",
    "    ((tok.equilibrium.time_slice.current.profiles_1d.pressure, {\"label\": r\"$P$\"}), {\"y_label\": r\"$P$\"}),\n",
    "\n",
    "],\n",
    "\n",
    "    x_value=tok.equilibrium.time_slice.current.profiles_1d.psi_norm,\n",
    "    x_axis=tok.equilibrium.time_slice.current.profiles_1d.psi,\n",
    "    x_label=r\"$\\bar{\\psi}[-]$\",\n",
    ")\n"
   ]
  },
  {
   "cell_type": "code",
   "execution_count": null,
   "metadata": {},
   "outputs": [],
   "source": []
  }
 ],
 "metadata": {
  "kernelspec": {
   "display_name": "Python 3",
   "language": "python",
   "name": "python3"
  },
  "language_info": {
   "codemirror_mode": {
    "name": "ipython",
    "version": 3
   },
   "file_extension": ".py",
   "mimetype": "text/x-python",
   "name": "python",
   "nbconvert_exporter": "python",
   "pygments_lexer": "ipython3",
   "version": "3.10.12"
  },
  "orig_nbformat": 4
 },
 "nbformat": 4,
 "nbformat_minor": 2
}

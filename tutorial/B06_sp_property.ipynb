{
 "cells": [
  {
   "cell_type": "markdown",
   "metadata": {},
   "source": [
    "## **SpDB Manual之系列5：数据绑定**"
   ]
  },
  {
   "cell_type": "markdown",
   "metadata": {},
   "source": [
    "总述：IMAS将tokamak的装置藐视和物理概念进行了统一的分类、分层次管理，清晰描述了物理量之间的内在约束关系，形成了树状、层次化的、静态的IMAS本体。\n",
    "数据绑定的目的，是将树状结构的IMAS本体的静态的表述转化为动态的实现。通过代码实现，将一系列静态数据，或者静态的物理量绑定在动态的实现类中，让数据赋予了行为，这样的话每个数据的变化会带动与之相关的数据的变化，这就实现物理量的自洽、自动演化。这既保证了物理量之间的关系的唯一确定性，又简化了计算模型的构建过程。\n",
    "\n",
    "区别于传统的集成建模，传统的集成建模是将数据集成在一起，但是数据之间的关系是静态的，不会随着数据的变化而变化。而我们的方法是将数据和行为绑定在一起，赋予行为的数据是可操作的，同时带动与之关联的其他数据的变化。\n",
    "\n",
    "- 普通字典\n",
    "- 自定义数据类型\n",
    "- 定义函数，自定义计算"
   ]
  },
  {
   "cell_type": "markdown",
   "metadata": {},
   "source": [
    "实现：SpDB中提供API SpTree来实现数据绑定，它是一个装饰器，可以将一个类转化为SpTree类，同时给数据赋予更多的功能。\n",
    "SpTree（）的操作对象：\n",
    "- 内存中的Cache\n",
    "- entry"
   ]
  },
  {
   "cell_type": "code",
   "execution_count": 24,
   "metadata": {},
   "outputs": [],
   "source": [
    "### 初始化环境\n",
    "from spdm.data.sp_property import sp_tree, sp_property, SpTree\n",
    "from spdm.data.HTree import HTree, List, Dict\n",
    "from spdm.data.Entry import open_entry\n",
    "from spdm.data.AoS import AoS\n",
    "import typing\n",
    "import pprint"
   ]
  },
  {
   "cell_type": "markdown",
   "metadata": {},
   "source": [
    "待定：\n",
    "\n",
    "本来在裸数据里面是字典，没有功能，很多量也没有，特别是导出来\n",
    "\n",
    "通过绑定，将导出来在需要的时候再计算，保证计算结果的一致性。关系是function保证的。保证结果的唯一性。\n",
    "\n",
    "\n",
    "\n",
    "IMAS 标称属性转化为。。。。\n",
    "\n",
    "按照属性访问\n",
    "类型提示，将裸数据转化为具有功能的对象实体（数组转化为表达式或者function）"
   ]
  },
  {
   "cell_type": "markdown",
   "metadata": {},
   "source": [
    "#### 原生Python中字典的访问(树状结构的访问)"
   ]
  },
  {
   "cell_type": "code",
   "execution_count": 117,
   "metadata": {},
   "outputs": [],
   "source": [
    "### 原生Python中字典的访问(树状结构的访问)\n",
    "data = {\n",
    "        \"name\": \"Alice\",\n",
    "        \"age\": 25,\n",
    "        \"hobbies\": [\"reading\", \"painting\", \"yoga\"],\n",
    "        \"address\": [\n",
    "            {\"street\": \"123 Main St\", \"city\": \"Anytown\", \"state\": \"CA\", \"zip\": \"12345\"},\n",
    "            {\n",
    "                \"street\": \"456 Oak St\",\n",
    "                \"city\": \"Othertown\",\n",
    "                \"state\": \"NY\",\n",
    "                \"zip\": \"67890\",\n",
    "            },\n",
    "            {\"street\": \"789 Elm St\", \"city\": \"Somewhere\", \"state\": \"CO\", \"zip\": \"24680\"},\n",
    "        ],\n",
    "    }\n",
    "    # _entry=open_entry(....)"
   ]
  },
  {
   "cell_type": "code",
   "execution_count": 68,
   "metadata": {},
   "outputs": [
    {
     "data": {
      "text/plain": [
       "'Alice'"
      ]
     },
     "execution_count": 68,
     "metadata": {},
     "output_type": "execute_result"
    }
   ],
   "source": [
    "data[\"name\"]\n"
   ]
  },
  {
   "cell_type": "code",
   "execution_count": 69,
   "metadata": {},
   "outputs": [
    {
     "data": {
      "text/plain": [
       "25"
      ]
     },
     "execution_count": 69,
     "metadata": {},
     "output_type": "execute_result"
    }
   ],
   "source": [
    "data[\"age\"]"
   ]
  },
  {
   "cell_type": "code",
   "execution_count": 118,
   "metadata": {},
   "outputs": [
    {
     "data": {
      "text/plain": [
       "[{'street': '123 Main St', 'city': 'Anytown', 'state': 'CA', 'zip': '12345'},\n",
       " {'street': '456 Oak St', 'city': 'Othertown', 'state': 'NY', 'zip': '67890'},\n",
       " {'street': '789 Elm St', 'city': 'Somewhere', 'state': 'CO', 'zip': '24680'}]"
      ]
     },
     "execution_count": 118,
     "metadata": {},
     "output_type": "execute_result"
    }
   ],
   "source": [
    "data[\"address\"]"
   ]
  },
  {
   "cell_type": "code",
   "execution_count": 89,
   "metadata": {},
   "outputs": [
    {
     "data": {
      "text/plain": [
       "{'street': '123 Main St', 'city': 'Anytown', 'state': 'CA', 'zip': '12345'}"
      ]
     },
     "execution_count": 89,
     "metadata": {},
     "output_type": "execute_result"
    }
   ],
   "source": [
    "data[\"address\"][0]"
   ]
  },
  {
   "cell_type": "markdown",
   "metadata": {},
   "source": [
    "#### 将Python中原生数据映射到SpTree中"
   ]
  },
  {
   "cell_type": "code",
   "execution_count": 119,
   "metadata": {},
   "outputs": [],
   "source": [
    "### 利用sp_tree装饰器定义Data类，Data的输入是一个字典，输出是一个树状结构\n",
    "@sp_tree\n",
    "class Data:\n",
    "    def __init__(self, *args, **kwargs) -> None:\n",
    "        super().__init__(*args, **kwargs)\n",
    "### 传递一个普通的字典结构给Data\n",
    "data = Data(\n",
    "    {\n",
    "        \"name\": \"Alice\",\n",
    "        \"age\": 25,\n",
    "        \"hobbies\": [\"reading\", \"painting\", \"yoga\"],\n",
    "        \"address\": [\n",
    "            {\"street\": \"123 Main St\", \"city\": \"Anytown\", \"state\": \"CA\", \"zip\": \"12345\"},\n",
    "            {\n",
    "                \"street\": \"456 Oak St\",\n",
    "                \"city\": \"Othertown\",\n",
    "                \"state\": \"NY\",\n",
    "                \"zip\": \"67890\",\n",
    "            },\n",
    "            {\"street\": \"789 Elm St\", \"city\": \"Somewhere\", \"state\": \"CO\", \"zip\": \"24680\"},\n",
    "        ],\n",
    "    },\n",
    "    # _entry=open_entry(....)\n",
    ")"
   ]
  },
  {
   "cell_type": "code",
   "execution_count": 91,
   "metadata": {},
   "outputs": [
    {
     "data": {
      "text/plain": [
       "'Alice'"
      ]
     },
     "execution_count": 91,
     "metadata": {},
     "output_type": "execute_result"
    }
   ],
   "source": [
    "## 访问字典中的数据\n",
    "data.get(\"name\")"
   ]
  },
  {
   "cell_type": "code",
   "execution_count": 120,
   "metadata": {},
   "outputs": [
    {
     "data": {
      "text/plain": [
       "[{'street': '123 Main St', 'city': 'Anytown', 'state': 'CA', 'zip': '12345'},\n",
       " {'street': '456 Oak St', 'city': 'Othertown', 'state': 'NY', 'zip': '67890'},\n",
       " {'street': '789 Elm St', 'city': 'Somewhere', 'state': 'CO', 'zip': '24680'}]"
      ]
     },
     "execution_count": 120,
     "metadata": {},
     "output_type": "execute_result"
    }
   ],
   "source": [
    "data.get(\"address\")"
   ]
  },
  {
   "cell_type": "code",
   "execution_count": 96,
   "metadata": {},
   "outputs": [
    {
     "data": {
      "text/plain": [
       "<tags.not_found: 0>"
      ]
     },
     "execution_count": 96,
     "metadata": {},
     "output_type": "execute_result"
    }
   ],
   "source": [
    "### 但是address不支持直接切片访问。\n",
    "data.get(\"address[1]\")"
   ]
  },
  {
   "cell_type": "code",
   "execution_count": 121,
   "metadata": {},
   "outputs": [
    {
     "data": {
      "text/plain": [
       "{'street': '456 Oak St', 'city': 'Othertown', 'state': 'NY', 'zip': '67890'}"
      ]
     },
     "execution_count": 121,
     "metadata": {},
     "output_type": "execute_result"
    }
   ],
   "source": [
    "### address只能以整体拿回来，然后再切片访问\n",
    "data.get(\"address\")[1]"
   ]
  },
  {
   "cell_type": "markdown",
   "metadata": {},
   "source": [
    "#### sp_tree装饰器支持在Data类中声明字典中的每个元素key及其value的数据类型"
   ]
  },
  {
   "cell_type": "code",
   "execution_count": 122,
   "metadata": {},
   "outputs": [],
   "source": [
    "### sp_tree装饰器支持在Data类中声明字典中的每个元素key及其value的数据类型，这样就可以直接访问字典中的元素。\n",
    "@sp_tree\n",
    "class Data:\n",
    "    def __init__(self, *args, **kwargs) -> None:\n",
    "        super().__init__(*args, **kwargs)\n",
    "\n",
    "    name: str\n",
    "    age: int\n",
    "    hobbies: List[str]\n",
    "    address: List[Dict]   \n",
    "    # address: AoS[Dict]\n",
    "    # address: AoS[Addrees]\n",
    "\n",
    "\n",
    "data = Data(\n",
    "    {\n",
    "        \"name\": \"Alice\",\n",
    "        \"age\": '25',\n",
    "        \"hobbies\": [\"reading\", \"painting\", \"yoga\"],\n",
    "        \"address\": [\n",
    "            {\"street\": \"123 Main St\", \"city\": \"Anytown\", \"state\": \"CA\", \"zip\": \"12345\"},\n",
    "            {\n",
    "                \"street\": \"456 Oak St\",\n",
    "                \"city\": \"Othertown\",\n",
    "                \"state\": \"NY\",\n",
    "                \"zip\": \"67890\",\n",
    "            },\n",
    "            {\"street\": \"789 Elm St\", \"city\": \"Somewhere\", \"state\": \"CO\", \"zip\": \"24680\"},\n",
    "        ],\n",
    "    },\n",
    "    # _entry=open_entry(....)\n",
    ")"
   ]
  },
  {
   "cell_type": "code",
   "execution_count": 108,
   "metadata": {},
   "outputs": [
    {
     "data": {
      "text/plain": [
       "'Alice'"
      ]
     },
     "execution_count": 108,
     "metadata": {},
     "output_type": "execute_result"
    }
   ],
   "source": [
    "## name已经在Class Data() 中声明\n",
    "data.name"
   ]
  },
  {
   "cell_type": "code",
   "execution_count": 111,
   "metadata": {},
   "outputs": [
    {
     "data": {
      "text/plain": [
       "int"
      ]
     },
     "execution_count": 111,
     "metadata": {},
     "output_type": "execute_result"
    }
   ],
   "source": [
    "### 除了声明元素的key值，同时可以强制转化原有数据的数据类型\n",
    "type(data.age)"
   ]
  },
  {
   "cell_type": "code",
   "execution_count": 123,
   "metadata": {},
   "outputs": [
    {
     "data": {
      "text/plain": [
       "[{'street': '123 Main St', 'city': 'Anytown', 'state': 'CA', 'zip': '12345'},\n",
       " {'street': '456 Oak St', 'city': 'Othertown', 'state': 'NY', 'zip': '67890'},\n",
       " {'street': '789 Elm St', 'city': 'Somewhere', 'state': 'CO', 'zip': '24680'}]"
      ]
     },
     "execution_count": 123,
     "metadata": {},
     "output_type": "execute_result"
    }
   ],
   "source": [
    "### 数据在_cache里面\n",
    "data.address._cache"
   ]
  },
  {
   "cell_type": "code",
   "execution_count": 62,
   "metadata": {},
   "outputs": [
    {
     "ename": "AttributeError",
     "evalue": "'Dict' object has no attribute 'zip'",
     "output_type": "error",
     "traceback": [
      "\u001b[0;31m---------------------------------------------------------------------------\u001b[0m",
      "\u001b[0;31mAttributeError\u001b[0m                            Traceback (most recent call last)",
      "\u001b[1;32m/scratch/jupytertest/workspace_fytok/fytok_tutorial/tutorial/B06_sp_property_old.ipynb Cell 14\u001b[0m line \u001b[0;36m1\n\u001b[0;32m----> <a href='vscode-notebook-cell://ssh-remote%2Bjupytertest-service108-direct/scratch/jupytertest/workspace_fytok/fytok_tutorial/tutorial/B06_sp_property_old.ipynb#X52sdnNjb2RlLXJlbW90ZQ%3D%3D?line=0'>1</a>\u001b[0m data\u001b[39m.\u001b[39;49maddress[\u001b[39m0\u001b[39;49m]\u001b[39m.\u001b[39;49mzip\n",
      "\u001b[0;31mAttributeError\u001b[0m: 'Dict' object has no attribute 'zip'"
     ]
    }
   ],
   "source": [
    "## zip没有被声明\n",
    "data.address[0].zip"
   ]
  },
  {
   "cell_type": "code",
   "execution_count": 112,
   "metadata": {},
   "outputs": [
    {
     "data": {
      "text/plain": [
       "{'street': '123 Main St', 'city': 'Anytown', 'state': 'CA', 'zip': '12345'}"
      ]
     },
     "execution_count": 112,
     "metadata": {},
     "output_type": "execute_result"
    }
   ],
   "source": [
    "### 支持对LIST元素的直接切片访问，而不需要拿回整个字典\n",
    "data.address[0]._cache"
   ]
  },
  {
   "cell_type": "markdown",
   "metadata": {},
   "source": [
    "### 进一步定义复杂AOS内的数据结构"
   ]
  },
  {
   "cell_type": "code",
   "execution_count": 129,
   "metadata": {},
   "outputs": [],
   "source": [
    "### 增加Address类，定义address的数据类型\n",
    "\n",
    "@sp_tree\n",
    "class Addrees:\n",
    "    street: str\n",
    "    city: str\n",
    "    state: str\n",
    "    zip: int\n",
    "\n",
    "\n",
    "@sp_tree\n",
    "class Data:\n",
    "    def __init__(self, *args, **kwargs) -> None:\n",
    "        super().__init__(*args, **kwargs)\n",
    "\n",
    "    name: str\n",
    "    age: int\n",
    "    hobbies: List[str]\n",
    "    address: AoS[Addrees]\n",
    "\n",
    "\n",
    "data = Data(\n",
    "    {\n",
    "        \"name\": \"Alice\",\n",
    "        \"age\": '25',\n",
    "        \"hobbies\": [\"reading\", \"painting\", \"yoga\"],\n",
    "        \"address\": [\n",
    "            {\"street\": \"123 Main St\", \"city\": \"Anytown\", \"state\": \"CA\", \"zip\": \"12345\"},\n",
    "            {\n",
    "                \"street\": \"456 Oak St\",\n",
    "                \"city\": \"Othertown\",\n",
    "                \"state\": \"NY\",\n",
    "                \"zip\": \"67890\",\n",
    "            },\n",
    "            {\"street\": \"789 Elm St\", \"city\": \"Somewhere\", \"state\": \"CO\", \"zip\": \"24680\"},\n",
    "        ],\n",
    "    },\n",
    "    # _entry=open_entry(....)\n",
    ")"
   ]
  },
  {
   "cell_type": "code",
   "execution_count": 130,
   "metadata": {},
   "outputs": [
    {
     "data": {
      "text/plain": [
       "12345"
      ]
     },
     "execution_count": 130,
     "metadata": {},
     "output_type": "execute_result"
    }
   ],
   "source": [
    "### zip的颜色变成了蓝色，因为在Addrees类中声明了zip\n",
    "data.address[0].zip"
   ]
  },
  {
   "cell_type": "code",
   "execution_count": 132,
   "metadata": {},
   "outputs": [
    {
     "data": {
      "text/plain": [
       "'456 Oak St'"
      ]
     },
     "execution_count": 132,
     "metadata": {},
     "output_type": "execute_result"
    }
   ],
   "source": [
    "data.address[1].street"
   ]
  },
  {
   "cell_type": "code",
   "execution_count": 131,
   "metadata": {},
   "outputs": [
    {
     "data": {
      "text/plain": [
       "{'street': '123 Main St', 'city': 'Anytown', 'state': 'CA', 'zip': 12345}"
      ]
     },
     "execution_count": 131,
     "metadata": {},
     "output_type": "execute_result"
    }
   ],
   "source": [
    "data.address[0]._cache"
   ]
  },
  {
   "cell_type": "markdown",
   "metadata": {},
   "source": [
    "### 直接在Class Adress中增加元素\n",
    "- 增加building 和neighbour\n",
    "- 可以设置默认值：building: str = \"#12345\"\n"
   ]
  },
  {
   "cell_type": "code",
   "execution_count": 134,
   "metadata": {},
   "outputs": [],
   "source": [
    "\n",
    "\n",
    "@sp_tree\n",
    "class Addrees:\n",
    "    street: str\n",
    "    city: str\n",
    "    state: str\n",
    "    zip: int\n",
    "    building: str = \"#12345\"\n",
    "    neighbour: str\n",
    "\n",
    "\n",
    "@sp_tree\n",
    "class Data:\n",
    "    def __init__(self, *args, **kwargs) -> None:\n",
    "        super().__init__(*args, **kwargs)\n",
    "\n",
    "    name: str\n",
    "    age: int\n",
    "    hobbies: List[str]\n",
    "    address: AoS[Addrees]\n",
    "\n",
    "\n",
    "data = Data(\n",
    "    {\n",
    "        \"name\": \"Alice\",\n",
    "        \"age\": 25,\n",
    "        \"hobbies\": [\"reading\", \"painting\", \"yoga\"],\n",
    "        \"address\": [\n",
    "            {\"street\": \"123 Main St\", \"city\": \"Anytown\", \"state\": \"CA\", \"zip\": \"12345\"},\n",
    "            {\n",
    "                \"street\": \"456 Oak St\",\n",
    "                \"city\": \"Othertown\",\n",
    "                \"state\": \"NY\",\n",
    "                \"zip\": \"67890\",\n",
    "            },\n",
    "            {\"street\": \"789 Elm St\", \"city\": \"Somewhere\", \"state\": \"CO\", \"zip\": \"24680\"},\n",
    "        ],\n",
    "    },\n",
    ")\n",
    "\n"
   ]
  },
  {
   "cell_type": "code",
   "execution_count": 135,
   "metadata": {},
   "outputs": [
    {
     "data": {
      "text/plain": [
       "'#12345'"
      ]
     },
     "execution_count": 135,
     "metadata": {},
     "output_type": "execute_result"
    }
   ],
   "source": [
    "data.address[0].building"
   ]
  },
  {
   "cell_type": "code",
   "execution_count": 137,
   "metadata": {},
   "outputs": [],
   "source": [
    "data.address[0].neighbour=\"zhangshan\""
   ]
  },
  {
   "cell_type": "code",
   "execution_count": 144,
   "metadata": {},
   "outputs": [
    {
     "data": {
      "text/plain": [
       "'#12345'"
      ]
     },
     "execution_count": 144,
     "metadata": {},
     "output_type": "execute_result"
    }
   ],
   "source": [
    "### 应用才会生效\n",
    "data.address[1].building"
   ]
  },
  {
   "cell_type": "code",
   "execution_count": 139,
   "metadata": {},
   "outputs": [
    {
     "data": {
      "text/plain": [
       "'zhangshan'"
      ]
     },
     "execution_count": 139,
     "metadata": {},
     "output_type": "execute_result"
    }
   ],
   "source": [
    "data.address[0].neighbour"
   ]
  },
  {
   "cell_type": "code",
   "execution_count": 146,
   "metadata": {},
   "outputs": [],
   "source": [
    "data.address[1].neighbour = \"lisi\""
   ]
  },
  {
   "cell_type": "code",
   "execution_count": 142,
   "metadata": {},
   "outputs": [
    {
     "data": {
      "text/plain": [
       "{'street': '123 Main St',\n",
       " 'city': 'Anytown',\n",
       " 'state': 'CA',\n",
       " 'zip': '12345',\n",
       " 'building': '#12345',\n",
       " 'neighbour': 'zhangshan'}"
      ]
     },
     "execution_count": 142,
     "metadata": {},
     "output_type": "execute_result"
    }
   ],
   "source": [
    "data.address[0]._cache"
   ]
  },
  {
   "cell_type": "code",
   "execution_count": 147,
   "metadata": {},
   "outputs": [
    {
     "data": {
      "text/plain": [
       "{'street': '456 Oak St',\n",
       " 'city': 'Othertown',\n",
       " 'state': 'NY',\n",
       " 'zip': '67890',\n",
       " 'building': '#12345',\n",
       " 'neighbour': 'lisi'}"
      ]
     },
     "execution_count": 147,
     "metadata": {},
     "output_type": "execute_result"
    }
   ],
   "source": [
    "data.address[1]._cache"
   ]
  },
  {
   "cell_type": "markdown",
   "metadata": {},
   "source": [
    "### 高阶功能，增加函数sp_property，定义函数"
   ]
  },
  {
   "cell_type": "code",
   "execution_count": 149,
   "metadata": {},
   "outputs": [],
   "source": [
    "@sp_tree\n",
    "class House:\n",
    "    def __init__(self, *args, **kwargs) -> None:\n",
    "        super().__init__(*args, **kwargs)\n",
    "        pprint.pprint((args, kwargs))\n",
    "\n",
    "    level: int = 4\n",
    "    length: float\n",
    "    width: float\n",
    "\n",
    "    @sp_property(units=\"m^2\")\n",
    "    def area(self) -> float:\n",
    "        return self.width * self.length\n",
    "\n",
    "\n",
    "@sp_tree\n",
    "class Addrees:\n",
    "    street: str\n",
    "    city: str\n",
    "    state: str\n",
    "    zip: int\n",
    "    building: str = \"#12345\"\n",
    "    neighbour: str\n",
    "    house: House = sp_property(label=\"big house\", default_value={\"level\": 2, \"area\": 1000})\n",
    "\n",
    "\n",
    "@sp_tree\n",
    "class Data:\n",
    "    def __init__(self, *args, **kwargs) -> None:\n",
    "        super().__init__(*args, **kwargs)\n",
    "\n",
    "    name: str\n",
    "    age: int\n",
    "    hobbies: List[str]\n",
    "    address: AoS[Addrees]\n",
    "\n",
    "\n",
    "data = Data(\n",
    "    {\n",
    "        \"name\": \"Alice\",\n",
    "        \"age\": 25,\n",
    "        \"hobbies\": [\"reading\", \"painting\", \"yoga\"],\n",
    "        \"address\": [\n",
    "            {\"street\": \"123 Main St\", \"city\": \"Anytown\", \"state\": \"CA\", \"zip\": \"12345\"},\n",
    "            {\n",
    "                \"street\": \"456 Oak St\",\n",
    "                \"city\": \"Othertown\",\n",
    "                \"state\": \"NY\",\n",
    "                \"zip\": \"67890\",\n",
    "                \"house\": {\"length\": 5, \"width\": 10},\n",
    "            },\n",
    "            {\"street\": \"789 Elm St\", \"city\": \"Somewhere\", \"state\": \"CO\", \"zip\": \"24680\"},\n",
    "        ],\n",
    "    },\n",
    ")\n",
    "\n"
   ]
  },
  {
   "cell_type": "code",
   "execution_count": 150,
   "metadata": {},
   "outputs": [
    {
     "name": "stdout",
     "output_type": "stream",
     "text": [
      "(({'length': 5, 'width': 10},),\n",
      " {'_entry': None,\n",
      "  '_parent': <__main__.Addrees object at 0x7efc7ea7f760>,\n",
      "  'default_value': {'area': 1000, 'level': 2},\n",
      "  'label': 'big house',\n",
      "  'name': 'house'})\n"
     ]
    }
   ],
   "source": [
    "house=data.address[1].house"
   ]
  },
  {
   "cell_type": "code",
   "execution_count": 151,
   "metadata": {},
   "outputs": [
    {
     "data": {
      "text/plain": [
       "4"
      ]
     },
     "execution_count": 151,
     "metadata": {},
     "output_type": "execute_result"
    }
   ],
   "source": [
    "house.level"
   ]
  },
  {
   "cell_type": "code",
   "execution_count": 152,
   "metadata": {},
   "outputs": [
    {
     "data": {
      "text/plain": [
       "5.0"
      ]
     },
     "execution_count": 152,
     "metadata": {},
     "output_type": "execute_result"
    }
   ],
   "source": [
    "house.length"
   ]
  },
  {
   "cell_type": "code",
   "execution_count": 153,
   "metadata": {},
   "outputs": [
    {
     "data": {
      "text/plain": [
       "10.0"
      ]
     },
     "execution_count": 153,
     "metadata": {},
     "output_type": "execute_result"
    }
   ],
   "source": [
    "house.width"
   ]
  },
  {
   "cell_type": "code",
   "execution_count": 154,
   "metadata": {},
   "outputs": [
    {
     "data": {
      "text/plain": [
       "50.0"
      ]
     },
     "execution_count": 154,
     "metadata": {},
     "output_type": "execute_result"
    }
   ],
   "source": [
    "house.area"
   ]
  },
  {
   "cell_type": "code",
   "execution_count": 155,
   "metadata": {},
   "outputs": [
    {
     "data": {
      "text/plain": [
       "'m^2'"
      ]
     },
     "execution_count": 155,
     "metadata": {},
     "output_type": "execute_result"
    }
   ],
   "source": [
    "House.area.metadata.get(\"units\")"
   ]
  },
  {
   "cell_type": "code",
   "execution_count": 156,
   "metadata": {},
   "outputs": [
    {
     "data": {
      "text/plain": [
       "\"I don't know\""
      ]
     },
     "execution_count": 156,
     "metadata": {},
     "output_type": "execute_result"
    }
   ],
   "source": [
    "data.get(\"address/3/street\", \"I don't know\")"
   ]
  },
  {
   "cell_type": "code",
   "execution_count": 157,
   "metadata": {},
   "outputs": [
    {
     "name": "stdout",
     "output_type": "stream",
     "text": [
      "123 Main St\n",
      "456 Oak St\n",
      "789 Elm St\n",
      "tags.not_found\n"
     ]
    }
   ],
   "source": [
    "for address in data.address:\n",
    "    print(address.street)"
   ]
  },
  {
   "cell_type": "code",
   "execution_count": 158,
   "metadata": {},
   "outputs": [],
   "source": [
    "data.address[0].street = \"456 Main St\""
   ]
  },
  {
   "cell_type": "code",
   "execution_count": 159,
   "metadata": {},
   "outputs": [
    {
     "data": {
      "text/plain": [
       "'456 Main St'"
      ]
     },
     "execution_count": 159,
     "metadata": {},
     "output_type": "execute_result"
    }
   ],
   "source": [
    "data.address[0].street"
   ]
  },
  {
   "cell_type": "code",
   "execution_count": null,
   "metadata": {},
   "outputs": [],
   "source": [
    "data2 = Data({}, _entry=open_entry(\"file://./data/address.json\"))"
   ]
  },
  {
   "cell_type": "code",
   "execution_count": null,
   "metadata": {},
   "outputs": [],
   "source": [
    "\n",
    "file_entry可以给data，这个明天试下。\n",
    "file_entry = open_entry(f\"file+geqdsk://{workdir}//data/g900003.00230_ITER_15MA_eqdsk16HR.txt/#equilibrium\")"
   ]
  },
  {
   "cell_type": "code",
   "execution_count": 2,
   "metadata": {},
   "outputs": [
    {
     "name": "stdout",
     "output_type": "stream",
     "text": [
      "{'label': 'boo', 'name': 'boo', 'units': 'm'}\n",
      "{'label': 'boo', 'name': 'boo'}\n",
      "{'label': 'boo', 'name': 'boo'}\n"
     ]
    }
   ],
   "source": [
    "\n",
    "\n",
    "\n",
    "class Foo(SpTree):\n",
    "    boo: Data = sp_property(label=\"boo\", default_value=1.0)\n",
    "\n",
    "\n",
    "class Bar(Foo):\n",
    "    boo: Data = sp_property(label=\"boo\", units=\"m\")\n",
    "\n",
    "\n",
    "@sp_tree\n",
    "class Bar2(Foo):\n",
    "    boo: Data = 2.1234\n",
    "\n",
    "\n",
    "a = Bar()\n",
    "b = Bar2()\n",
    "print(a.boo._metadata)\n",
    "print(b.boo._metadata)\n",
    "print(b.get(\"boo\")._metadata)"
   ]
  }
 ],
 "metadata": {
  "kernelspec": {
   "display_name": "Python 3 (ipykernel)",
   "language": "python",
   "name": "python3"
  },
  "language_info": {
   "codemirror_mode": {
    "name": "ipython",
    "version": 3
   },
   "file_extension": ".py",
   "mimetype": "text/x-python",
   "name": "python",
   "nbconvert_exporter": "python",
   "pygments_lexer": "ipython3",
   "version": "3.10.8"
  }
 },
 "nbformat": 4,
 "nbformat_minor": 2
}

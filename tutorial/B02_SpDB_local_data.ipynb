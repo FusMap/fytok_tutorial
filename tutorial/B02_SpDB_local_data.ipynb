{
 "cells": [
  {
   "cell_type": "markdown",
   "metadata": {},
   "source": [
    "## **SpDB Manual之系列2：处理Python中原生数据类型**"
   ]
  },
  {
   "cell_type": "markdown",
   "metadata": {},
   "source": [
    "### 提供统一的Entry入口。\n",
    "- Entry为数据对象提供一个指针游标，并不真正的获取数据，只有当执行get操作时，数据才被真正访问。\n",
    "- 其对象可以是Dict，也可以是List"
   ]
  },
  {
   "cell_type": "code",
   "execution_count": 127,
   "metadata": {},
   "outputs": [],
   "source": [
    "## 加载基本环境\n",
    "from spdm.data.Entry import open_entry,Entry\n",
    "from spdm.utils.logger import logger"
   ]
  },
  {
   "cell_type": "code",
   "execution_count": 231,
   "metadata": {},
   "outputs": [
    {
     "data": {
      "text/plain": [
       "{'name': 'Alice',\n",
       " 'age': 25,\n",
       " 'hobbies': ['reading', 'painting', 'yoga'],\n",
       " 'address': [{'street': '123 Main St',\n",
       "   'city': 'Anytown',\n",
       "   'state': 'CA',\n",
       "   'zip': '12345'},\n",
       "  {'street': '456 Oak St', 'city': 'Othertown', 'state': 'NY', 'zip': '67890'},\n",
       "  {'street': '789 Elm St',\n",
       "   'city': 'Somewhere',\n",
       "   'state': 'CO',\n",
       "   'zip': '24680'}],\n",
       " 'spouse': {'spouse_name': {'name': 'Bob', 'age': 27},\n",
       "  'name': 'Bob',\n",
       "  'age': 27,\n",
       "  'hobbies': ['music', 'skiing', 'reading']}}"
      ]
     },
     "execution_count": 231,
     "metadata": {},
     "output_type": "execute_result"
    }
   ],
   "source": [
    "### 接收字典\n",
    "example_dict = {\n",
    "    'name': 'Alice',\n",
    "    'age': 25,\n",
    "    'hobbies': ['reading', 'painting', 'yoga'],\n",
    "    'address': [\n",
    "        {\n",
    "            'street': '123 Main St',\n",
    "            'city': 'Anytown',\n",
    "            'state': 'CA',\n",
    "            'zip': '12345'\n",
    "        },\n",
    "        {\n",
    "            'street': '456 Oak St',\n",
    "            'city': 'Othertown',\n",
    "            'state': 'NY',\n",
    "            'zip': '67890'\n",
    "        },\n",
    "        {\n",
    "            'street': '789 Elm St',\n",
    "            'city': 'Somewhere',\n",
    "            'state': 'CO',\n",
    "            'zip': '24680'\n",
    "        }\n",
    "    ],\n",
    "    'spouse': {\n",
    "        'spouse_name':\n",
    "            {\n",
    "                'name':'Bob',\n",
    "                'age': 27,\n",
    "            },\n",
    "        'name': 'Bob',\n",
    "        'age': 27,\n",
    "        'hobbies': ['music', 'skiing', 'reading']\n",
    "    }\n",
    "}\n",
    "dict_entry = Entry(data=example_dict)\n",
    "dict_entry.get()"
   ]
  },
  {
   "cell_type": "code",
   "execution_count": 186,
   "metadata": {},
   "outputs": [
    {
     "data": {
      "text/plain": [
       "[[1, 2, 3, 4, 5],\n",
       " [6, 7, 8, 9, 10],\n",
       " [11, 12, 13],\n",
       " [14, 15, 16, 17],\n",
       " [18, 19, 20, 21, 22, 23, 24]]"
      ]
     },
     "execution_count": 186,
     "metadata": {},
     "output_type": "execute_result"
    }
   ],
   "source": [
    "### 接收list\n",
    "my_list = [\n",
    "    [1, 2, 3, 4, 5],\n",
    "    [6, 7, 8, 9, 10],\n",
    "    [11, 12, 13],\n",
    "    [14, 15, 16, 17],\n",
    "    [18, 19, 20, 21, 22, 23, 24]\n",
    "]      \n",
    "list_entry = Entry(my_list)\n",
    "list_entry.get()"
   ]
  },
  {
   "cell_type": "markdown",
   "metadata": {},
   "source": [
    "### Enry操作支持指标游走：\n",
    "- child():将指标移动到目标子节点\n",
    "- paraent():将指标移动到目标父节点\n",
    "- next():将指标移动到目标节点内元素的兄弟\n",
    " - 该功能只对元素是List有效"
   ]
  },
  {
   "cell_type": "code",
   "execution_count": 219,
   "metadata": {},
   "outputs": [
    {
     "data": {
      "text/plain": [
       "{'name': 'Bob', 'age': 27}"
      ]
     },
     "execution_count": 219,
     "metadata": {},
     "output_type": "execute_result"
    }
   ],
   "source": [
    "### 指标游走到当前节点\"spouse.spouse_name\"\n",
    "child_data = dict_entry.child(\"spouse.spouse_name\")\n",
    "child_data.get()"
   ]
  },
  {
   "cell_type": "code",
   "execution_count": 221,
   "metadata": {},
   "outputs": [
    {
     "data": {
      "text/plain": [
       "{'spouse_name': {'name': 'Bob', 'age': 27},\n",
       " 'name': 'Bob',\n",
       " 'age': 27,\n",
       " 'hobbies': ['music', 'skiing', 'reading']}"
      ]
     },
     "execution_count": 221,
     "metadata": {},
     "output_type": "execute_result"
    }
   ],
   "source": [
    "### 指标移到当前节点的paraent节点，并获取数据\n",
    "paraent_tree = child_data.parent\n",
    "paraent_tree.get()"
   ]
  },
  {
   "cell_type": "code",
   "execution_count": 238,
   "metadata": {},
   "outputs": [
    {
     "data": {
      "text/plain": [
       "[{'street': '123 Main St', 'city': 'Anytown', 'state': 'CA', 'zip': '12345'},\n",
       " {'street': '456 Oak St', 'city': 'Othertown', 'state': 'NY', 'zip': '67890'},\n",
       " {'street': '789 Elm St', 'city': 'Somewhere', 'state': 'CO', 'zip': '24680'}]"
      ]
     },
     "execution_count": 238,
     "metadata": {},
     "output_type": "execute_result"
    }
   ],
   "source": [
    "\n",
    "dict_entry.child(\"address[0]\").parent.get()"
   ]
  },
  {
   "cell_type": "code",
   "execution_count": 232,
   "metadata": {},
   "outputs": [
    {
     "name": "stdout",
     "output_type": "stream",
     "text": [
      "{'street': '456 Oak St', 'city': 'Othertown', 'state': 'NY', 'zip': '67890'}\n",
      "{'street': '789 Elm St', 'city': 'Somewhere', 'state': 'CO', 'zip': '24680'}\n"
     ]
    }
   ],
   "source": [
    "### 当当前节点的元素是LIST时，指标可以移动遍历到其节点内所有value\n",
    "print(dict_entry.child(\"address[0]\").next().get())\n",
    "print(dict_entry.child(\"address[1]\").next().get())\n"
   ]
  },
  {
   "cell_type": "markdown",
   "metadata": {},
   "source": [
    "### 在Entry操作的基础上，可灵活支持数据读写和更新：\n",
    "- get():获取指标所指向的数据\n",
    "- put():更新指标所指向的数据\n",
    "- insert():在指标所指向的数据中插入数据\n",
    "- update():在指标所指向的数据中更新数据\n",
    "- for_each():在指标所指向的数据中遍历数据\n",
    "- keys():在指标所指向的数据中查找数据的键"
   ]
  },
  {
   "cell_type": "code",
   "execution_count": 239,
   "metadata": {},
   "outputs": [
    {
     "data": {
      "text/plain": [
       "{'name': 'Alice',\n",
       " 'age': 25,\n",
       " 'hobbies': ['reading', 'painting', 'yoga'],\n",
       " 'address': [{'street': '123 Main St',\n",
       "   'city': 'Anytown',\n",
       "   'state': 'CA',\n",
       "   'zip': '12345'},\n",
       "  {'street': '456 Oak St', 'city': 'Othertown', 'state': 'NY', 'zip': '67890'},\n",
       "  {'street': '789 Elm St',\n",
       "   'city': 'Somewhere',\n",
       "   'state': 'CO',\n",
       "   'zip': '24680'}],\n",
       " 'spouse': {'spouse_name': {'name': 'Bob', 'age': 27},\n",
       "  'name': 'Bob',\n",
       "  'age': 27,\n",
       "  'hobbies': ['music', 'skiing', 'reading']}}"
      ]
     },
     "execution_count": 239,
     "metadata": {},
     "output_type": "execute_result"
    }
   ],
   "source": [
    "### 对象是dict，get所有数据\n",
    "dict_entry.get()"
   ]
  },
  {
   "cell_type": "code",
   "execution_count": 241,
   "metadata": {},
   "outputs": [
    {
     "data": {
      "text/plain": [
       "{'spouse_name': {'name': 'Bob', 'age': 27},\n",
       " 'name': 'Bob',\n",
       " 'age': 27,\n",
       " 'hobbies': ['music', 'skiing', 'reading']}"
      ]
     },
     "execution_count": 241,
     "metadata": {},
     "output_type": "execute_result"
    }
   ],
   "source": [
    "## get某个子节点的数据\n",
    "dict_entry.child(\"spouse\").get()"
   ]
  },
  {
   "cell_type": "code",
   "execution_count": 244,
   "metadata": {},
   "outputs": [
    {
     "data": {
      "text/plain": [
       "[[1, 2, 3, 4, 5],\n",
       " [6, 7, 8, 9, 10],\n",
       " [11, 12, 13],\n",
       " [14, 15, 16, 17],\n",
       " [18, 19, 20, 21, 22, 23, 24]]"
      ]
     },
     "execution_count": 244,
     "metadata": {},
     "output_type": "execute_result"
    }
   ],
   "source": [
    "### 对象是list。get得到所有数据\n",
    "list_entry.get()\n"
   ]
  },
  {
   "cell_type": "code",
   "execution_count": 246,
   "metadata": {},
   "outputs": [
    {
     "data": {
      "text/plain": [
       "[18, 19, 20, 21, 22, 23, 24]"
      ]
     },
     "execution_count": 246,
     "metadata": {},
     "output_type": "execute_result"
    }
   ],
   "source": [
    "### List对象标识符以数字编号排序，get得到第4个子节点的数据\n",
    "list_entry.child(4).get()"
   ]
  },
  {
   "cell_type": "code",
   "execution_count": 247,
   "metadata": {},
   "outputs": [
    {
     "name": "stdout",
     "output_type": "stream",
     "text": [
      "(0, {'street': '123 Main St', 'city': 'Anytown', 'state': 'CA', 'zip': '12345'})\n",
      "(1, {'street': '456 Oak St', 'city': 'Othertown', 'state': 'NY', 'zip': '67890'})\n",
      "(2, {'street': '789 Elm St', 'city': 'Somewhere', 'state': 'CO', 'zip': '24680'})\n"
     ]
    }
   ],
   "source": [
    "### for_each用来遍历dict中delist\n",
    "for v in dict_entry.child(\"address\").for_each():\n",
    "    print(v)    "
   ]
  },
  {
   "cell_type": "code",
   "execution_count": 248,
   "metadata": {},
   "outputs": [
    {
     "data": {
      "text/plain": [
       "[25, 50]"
      ]
     },
     "execution_count": 248,
     "metadata": {},
     "output_type": "execute_result"
    }
   ],
   "source": [
    "### insert插入增加一个值，使之前的数变成list\n",
    "dict_entry.child(\"age\").insert(50)\n",
    "dict_entry.child(\"age\").get()"
   ]
  },
  {
   "cell_type": "code",
   "execution_count": 250,
   "metadata": {},
   "outputs": [
    {
     "data": {
      "text/plain": [
       "['Alice', {'first': 'Alice', 'last': 'Smith'}]"
      ]
     },
     "execution_count": 250,
     "metadata": {},
     "output_type": "execute_result"
    }
   ],
   "source": [
    "dict_entry.child(\"name\").insert({\"first\":\"Alice\",\"last\":\"Smith\"})\n",
    "## 注意，插入更多数据后，原来的数据被组成了LIST\n",
    "dict_entry.child(\"name\").get()"
   ]
  },
  {
   "cell_type": "code",
   "execution_count": 254,
   "metadata": {},
   "outputs": [
    {
     "name": "stdout",
     "output_type": "stream",
     "text": [
      "原来的age是 90\n",
      "现在的age是 100\n"
     ]
    }
   ],
   "source": [
    "### update是更新之前的整个数值\n",
    "print(f'原来的age是',dict_entry.child(\"age\").get())\n",
    "dict_entry.child(\"age\").update(100)\n",
    "print(f'现在的age是',dict_entry.child(\"age\").get())\n",
    "# dict_entry.child(\"age\").get()"
   ]
  },
  {
   "cell_type": "code",
   "execution_count": 275,
   "metadata": {},
   "outputs": [
    {
     "name": "stdout",
     "output_type": "stream",
     "text": [
      "address的元数个数是 3\n",
      "子节点spouse.spouse_name的元数个数是 1\n"
     ]
    }
   ],
   "source": [
    "### 计算当前节点的元数个数\n",
    "print(f'address的元数个数是',dict_entry.child(\"address\").count)\n",
    "print(f'子节点spouse.spouse_name的元数个数是',dict_entry.child(\"spouse.spouse_name\").count)"
   ]
  },
  {
   "cell_type": "code",
   "execution_count": null,
   "metadata": {},
   "outputs": [],
   "source": [
    "### 获得节点的关键keys\n",
    "dict_entry.keys()"
   ]
  }
 ],
 "metadata": {
  "kernelspec": {
   "display_name": "Python 3 (ipykernel)",
   "language": "python",
   "name": "python3"
  },
  "language_info": {
   "codemirror_mode": {
    "name": "ipython",
    "version": 3
   },
   "file_extension": ".py",
   "mimetype": "text/x-python",
   "name": "python",
   "nbconvert_exporter": "python",
   "pygments_lexer": "ipython3",
   "version": "3.10.8"
  }
 },
 "nbformat": 4,
 "nbformat_minor": 2
}

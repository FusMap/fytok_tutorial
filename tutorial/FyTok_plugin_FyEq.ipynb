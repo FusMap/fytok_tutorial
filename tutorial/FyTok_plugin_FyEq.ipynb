{
 "cells": [
  {
   "cell_type": "markdown",
   "metadata": {},
   "source": [
    "# FyEq 二维平衡分析 "
   ]
  },
  {
   "cell_type": "markdown",
   "metadata": {},
   "source": [
    "绘出部分由`fy_eq`计算得出磁面平均量。"
   ]
  },
  {
   "cell_type": "code",
   "execution_count": null,
   "metadata": {},
   "outputs": [],
   "source": [
    "profs = sp_view.plot(\n",
    "    [\n",
    "        eq_profiles_1d.pressure,\n",
    "        eq_profiles_1d.dpressure_dpsi,\n",
    "        eq_profiles_1d.f_df_dpsi,\n",
    "        ((eq_profiles_1d.dvolume_dpsi, {\"label\": r\"$\\frac{dV}{d\\psi}$\"}), {\"y_label\": r\"$[Wb]$\"}),\n",
    "        (eq_profiles_1d.dpsi_drho_tor, {\"label\": r\"$\\frac{d\\psi}{d\\rho_{tor}}$\"}),\n",
    "        ((eq_profiles_1d.f, {\"label\": r\"fytok\"}), {\"y_label\": r\"$F_{pol} [Wb\\cdot m]$\"}),\n",
    "        ((eq_profiles_1d.q, {\"label\": r\"$fytok$\"}), {\"y_label\": r\"$q [-]$\"}),\n",
    "        ((eq_profiles_1d.rho_tor, {\"label\": r\"$\\rho$\"}), {\"y_label\": r\"$\\rho_{tor}[m]$\"}),\n",
    "        ((eq_profiles_1d.rho_tor_norm, {\"label\": r\"$\\bar{\\rho}$\"}), {\"y_label\": r\"[-]\"}),\n",
    "        ((eq_profiles_1d.dvolume_drho_tor, {\"label\": r\"$dV/d\\rho_{tor}$\"}), {\"y_label\": r\"$4\\pi ^ 2 R_0 \\rho[m ^ 2]$\"}),\n",
    "    ],\n",
    "    x_axis=equilibrium.time_slice.current.profiles_1d.psi,\n",
    "    x_label=r\"$\\bar{\\psi}[-]$\",\n",
    "    title=r\"$\\psi$ dependent profiles\",\n",
    ")"
   ]
  },
  {
   "cell_type": "code",
   "execution_count": null,
   "metadata": {},
   "outputs": [],
   "source": [
    "surfs = sp_view.plot(\n",
    "    [\n",
    "        (eq_profiles_1d.gm1, {\"label\": r\"$gm1=\\left<\\frac{1}{R^2}\\right>$\"}),\n",
    "        (eq_profiles_1d.gm2, {\"label\": r\"$gm2=\\left<\\frac{\\left|\\nabla \\rho\\right|^2}{R^2}\\right>$\"}),\n",
    "        (eq_profiles_1d.gm3, {\"label\": r\"$gm3=\\left<\\left|\\nabla \\rho\\right|^2\\right>$\"}),\n",
    "        (eq_profiles_1d.gm4, {\"label\": r\"$gm4=\\left<1/B^2\\right>$\"}),\n",
    "        (eq_profiles_1d.gm5, {\"label\": r\"$gm5=\\left<B^2\\right>$\"}),\n",
    "        (eq_profiles_1d.gm6, {\"label\": r\"$gm6=\\left<\\nabla \\rho_{tor}^2/ B^2 \\right>$\"}),\n",
    "        (eq_profiles_1d.gm7, {\"label\": r\"$gm7=\\left<\\left|\\nabla \\rho\\right|\\right>$\"}),\n",
    "        (eq_profiles_1d.gm8, {\"label\": r\"$gm8=\\left<R\\right>$\"}),\n",
    "    ],\n",
    "    x_axis=equilibrium.time_slice.current.profiles_1d.psi.__array__()[1:],\n",
    "    # x_value=tok.equilibrium.time_slice.current.profiles_1d.psi_norm[1:],\n",
    "    x_label=r\"$\\bar{\\psi}[-]$\",\n",
    "    title=r\"Surface averaged quantities\",\n",
    ")"
   ]
  },
  {
   "cell_type": "markdown",
   "metadata": {},
   "source": []
  }
 ],
 "metadata": {
  "kernelspec": {
   "display_name": "Python 3",
   "language": "python",
   "name": "python3"
  },
  "language_info": {
   "name": "python",
   "version": "3.10.12"
  }
 },
 "nbformat": 4,
 "nbformat_minor": 2
}

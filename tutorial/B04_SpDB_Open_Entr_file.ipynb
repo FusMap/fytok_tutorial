{
 "cells": [
  {
   "cell_type": "markdown",
   "metadata": {},
   "source": [
    "## **SpDB Manual之系列3：处理非结构化及半结构化数据文件**"
   ]
  },
  {
   "cell_type": "markdown",
   "metadata": {},
   "source": [
    "### 初始化环境"
   ]
  },
  {
   "cell_type": "code",
   "execution_count": 104,
   "metadata": {},
   "outputs": [],
   "source": [
    "from spdm.data.Entry import open_entry, Entry, EntryProxy\n",
    "from spdm.data.File import File\n",
    "from spdm.utils.logger import logger\n"
   ]
  },
  {
   "cell_type": "code",
   "execution_count": 105,
   "metadata": {},
   "outputs": [],
   "source": [
    "### 指定workdir\n",
    "workdir = \"/scratch/jupytertest/workspace_fytok/fytok_tutorial/tutorial/\"\n"
   ]
  },
  {
   "cell_type": "markdown",
   "metadata": {},
   "source": [
    "#### **SpDB** 处理Python中非结构化数据,如GDSKfile等"
   ]
  },
  {
   "cell_type": "code",
   "execution_count": 106,
   "metadata": {},
   "outputs": [],
   "source": [
    "## 通过open_entry函数,将原始换的gdskfile，转成entry对象，B02_SpDB_entry中对entry的操作均有效.#equilibrium指定equilibrium节点的名称\n",
    "\n",
    "file_entry = open_entry(f\"file+geqdsk://{workdir}//data/g900003.00230_ITER_15MA_eqdsk16HR.txt/#equilibrium\")\n",
    "\n",
    "# /scratch/jupytertest/workspace_fytok/fytok_tutorial/tutorial/data/g900003.00230_ITER_15MA_eqdsk16HR.txt"
   ]
  },
  {
   "cell_type": "code",
   "execution_count": 109,
   "metadata": {},
   "outputs": [
    {
     "data": {
      "text/plain": [
       "['time', 'vacuum_toroidal_field', 'time_slice']"
      ]
     },
     "execution_count": 109,
     "metadata": {},
     "output_type": "execute_result"
    }
   ],
   "source": [
    "#### eq_test是Python中的字典，其key遵守IMAS IDS的组织结构\n",
    "[*file_entry.keys()]"
   ]
  },
  {
   "cell_type": "code",
   "execution_count": 110,
   "metadata": {},
   "outputs": [],
   "source": [
    "## 不指定equilibrium\n",
    "file_entry_no = open_entry(f\"file+geqdsk://{workdir}//data/g900003.00230_ITER_15MA_eqdsk16HR.txt/\")"
   ]
  },
  {
   "cell_type": "code",
   "execution_count": 111,
   "metadata": {},
   "outputs": [
    {
     "data": {
      "text/plain": [
       "['wall', 'equilibrium']"
      ]
     },
     "execution_count": 111,
     "metadata": {},
     "output_type": "execute_result"
    }
   ],
   "source": [
    "#### eq_test是Python中的字典，其key遵守IMAS IDS的组织结构\n",
    "[*file_entry_no.keys()]"
   ]
  },
  {
   "cell_type": "code",
   "execution_count": 113,
   "metadata": {},
   "outputs": [
    {
     "data": {
      "text/plain": [
       "{'description_2d': [{'limiter': {'unit': [{'outline': {'r': array([6.3454, 6.2721, 7.2877, 7.9019, 8.3019, 8.394 , 8.2462, 7.8793,\n",
       "              7.3872, 6.5716, 5.7488, 4.976 , 4.3074, 4.0465, 4.0465, 4.0321,\n",
       "              4.1375, 4.2365, 4.325 , 4.3988, 4.4549, 4.4908, 4.5049, 4.4966,\n",
       "              4.4662, 4.396 , 4.3623, 4.1787, 4.4857, 4.6393, 4.6539, 4.7519,\n",
       "              4.8486, 4.9442, 5.0344, 5.1153, 5.1835, 5.2458, 5.2655, 5.5563,\n",
       "              5.5517, 5.5609, 5.5621, 5.5787, 5.6111, 5.6584, 5.7196, 5.7931,\n",
       "              5.8772, 5.9696, 6.0683, 6.1706, 6.2742, 6.3454]),\n",
       "       'z': array([-3.1523 , -3.0481 , -2.2615 , -1.3332 , -0.42574,  0.62058,\n",
       "               1.6737 ,  2.4642 ,  3.1678 ,  3.8826 ,  4.5408 ,  4.6853 ,\n",
       "               4.3093 ,  3.6313 , -2.5096 , -2.5455 , -2.565  , -2.6059 ,\n",
       "              -2.6665 , -2.7442 , -2.8356 , -2.9366 , -3.0429 , -3.1497 ,\n",
       "              -3.2526 , -3.4016 , -3.4958 , -3.8815 , -3.903  , -3.74   ,\n",
       "              -3.7318 , -3.7054 , -3.7007 , -3.7163 , -3.7514 , -3.8044 ,\n",
       "              -3.8732 , -3.9789 , -4.2568 , -4.5318 , -4.0581 , -3.9779 ,\n",
       "              -3.8181 , -3.7158 , -3.6174 , -3.5253 , -3.4417 , -3.3687 ,\n",
       "              -3.3081 , -3.2614 , -3.2298 , -3.2139 , -3.2143 , -3.1523 ])}}]}}]}"
      ]
     },
     "execution_count": 113,
     "metadata": {},
     "output_type": "execute_result"
    }
   ],
   "source": [
    "file_entry_no.get(\"wall\")"
   ]
  },
  {
   "cell_type": "markdown",
   "metadata": {},
   "source": [
    "#### **SpDB** 访问Python中半结构化数据,如NameList,netCDF,HDF5等"
   ]
  },
  {
   "cell_type": "markdown",
   "metadata": {},
   "source": [
    "##### **NameList**文件"
   ]
  },
  {
   "cell_type": "code",
   "execution_count": 5,
   "metadata": {},
   "outputs": [
    {
     "name": "stdout",
     "output_type": "stream",
     "text": [
      "\u001b[0;37m2023-11-15 14:18:53,280 [    spdm]    DEBUG: /home/salmon/workspace/fytok/SpDM/python/spdm/utils/sp_export.py:66:sp_load_module: Load module spdm.plugins.data.plugin_namelist\u001b[0m\n",
      "\u001b[0;34m2023-11-15 14:18:53,356 [    spdm]     INFO: dict_keys(['main_lobes', 'genr', 'tokamak', 'wave', 'scatnper', 'dispers', 'numercl', 'output', 'plasma', 'species', 'varden', 'denprof', 'tpopprof', 'vflprof', 'zprof', 'tprof', 'grill', 'rz_launch_grill_tab', 'eccone', 'dentab', 'dentab_nonuniform_line', 'temtab', 'temtab_nonuniform_line', 'tpoptab', 'tpoptab_nonuniform_line', 'vflowtab', 'vflowtab_nonuniform_line', 'zeftab', 'zeftab_nonuniform_line', 'read_diskf', 'emission', 'ox', 'adj_nml', 'edge_prof_nml', 'lsc_approach_nml', 'edctsctab', 'jpartsctab'])\u001b[0m\n",
      "\u001b[0;34m2023-11-15 14:18:53,357 [    spdm]     INFO: OrderedDict([('total_grills', 5),\n",
      "             ('main_grills', 4),\n",
      "             ('bt_direction', 1),\n",
      "             ('power_fraction_factor', 0.8248)])\u001b[0m\n"
     ]
    },
    {
     "name": "stderr",
     "output_type": "stream",
     "text": [
      "/home/salmon/.local/lib/python3.10/site-packages/f90nml/parser.py:827: UserWarning: f90nml: warning: Value -0.319356437496 is not assigned to any variable and has been removed.\n",
      "  warnings.warn(\n",
      "/home/salmon/.local/lib/python3.10/site-packages/f90nml/parser.py:827: UserWarning: f90nml: warning: Value 0.25 is not assigned to any variable and has been removed.\n",
      "  warnings.warn(\n",
      "/home/salmon/.local/lib/python3.10/site-packages/f90nml/parser.py:827: UserWarning: f90nml: warning: Value 2.35087179772 is not assigned to any variable and has been removed.\n",
      "  warnings.warn(\n",
      "/home/salmon/.local/lib/python3.10/site-packages/f90nml/parser.py:827: UserWarning: f90nml: warning: Value -0.0903859428184 is not assigned to any variable and has been removed.\n",
      "  warnings.warn(\n",
      "/home/salmon/.local/lib/python3.10/site-packages/f90nml/parser.py:827: UserWarning: f90nml: warning: Value 2.3432537639 is not assigned to any variable and has been removed.\n",
      "  warnings.warn(\n",
      "/home/salmon/.local/lib/python3.10/site-packages/f90nml/parser.py:827: UserWarning: f90nml: warning: Value 0.135873276762 is not assigned to any variable and has been removed.\n",
      "  warnings.warn(\n",
      "/home/salmon/.local/lib/python3.10/site-packages/f90nml/parser.py:827: UserWarning: f90nml: warning: Value 2.26070683323 is not assigned to any variable and has been removed.\n",
      "  warnings.warn(\n",
      "/home/salmon/.local/lib/python3.10/site-packages/f90nml/parser.py:827: UserWarning: f90nml: warning: Value 0.35694008914 is not assigned to any variable and has been removed.\n",
      "  warnings.warn(\n",
      "/home/salmon/.local/lib/python3.10/site-packages/f90nml/parser.py:827: UserWarning: f90nml: warning: Value 0.5 is not assigned to any variable and has been removed.\n",
      "  warnings.warn(\n",
      "/home/salmon/.local/lib/python3.10/site-packages/f90nml/parser.py:827: UserWarning: f90nml: warning: Value 0.001 is not assigned to any variable and has been removed.\n",
      "  warnings.warn(\n",
      "/home/salmon/.local/lib/python3.10/site-packages/f90nml/parser.py:827: UserWarning: f90nml: warning: Value 0.7 is not assigned to any variable and has been removed.\n",
      "  warnings.warn(\n",
      "/home/salmon/.local/lib/python3.10/site-packages/f90nml/parser.py:827: UserWarning: f90nml: warning: Value 0.9 is not assigned to any variable and has been removed.\n",
      "  warnings.warn(\n",
      "/home/salmon/.local/lib/python3.10/site-packages/f90nml/parser.py:827: UserWarning: f90nml: warning: Value 0.5d is not assigned to any variable and has been removed.\n",
      "  warnings.warn(\n",
      "/home/salmon/.local/lib/python3.10/site-packages/f90nml/parser.py:827: UserWarning: f90nml: warning: Value 0.12 is not assigned to any variable and has been removed.\n",
      "  warnings.warn(\n",
      "/home/salmon/.local/lib/python3.10/site-packages/f90nml/parser.py:827: UserWarning: f90nml: warning: Value 1.0 is not assigned to any variable and has been removed.\n",
      "  warnings.warn(\n",
      "/home/salmon/.local/lib/python3.10/site-packages/f90nml/parser.py:827: UserWarning: f90nml: warning: Value 0.2 is not assigned to any variable and has been removed.\n",
      "  warnings.warn(\n",
      "/home/salmon/.local/lib/python3.10/site-packages/f90nml/parser.py:827: UserWarning: f90nml: warning: Value 0.3 is not assigned to any variable and has been removed.\n",
      "  warnings.warn(\n",
      "/home/salmon/.local/lib/python3.10/site-packages/f90nml/parser.py:827: UserWarning: f90nml: warning: Value 0.9.d0 is not assigned to any variable and has been removed.\n",
      "  warnings.warn(\n",
      "/home/salmon/.local/lib/python3.10/site-packages/f90nml/parser.py:827: UserWarning: f90nml: warning: Value 0.0 is not assigned to any variable and has been removed.\n",
      "  warnings.warn(\n"
     ]
    }
   ],
   "source": [
    "###以GENRAY的输入文件genray.dat为例，它是一个NameList格式的文件。\n",
    "with File(f\"./data/genray.dat\", format= \"namelist\" ,mode=\"r\") as oid:\n",
    "### 仅仅建立链接，而没有拿回数据\n",
    "    output_entry = oid.read()\n",
    "### 拿回所有数据\n",
    "    output_data = oid.read().dump()\n",
    "###获取namelist中的关键字key\n",
    "logger.info(output_data.keys())\n",
    "### 通过child获取某个子节点的值，而不需要把整个树读回来\n",
    "logger.info(output_entry.child(\"main_lobes\").__value__)"
   ]
  },
  {
   "cell_type": "code",
   "execution_count": 6,
   "metadata": {},
   "outputs": [
    {
     "name": "stdout",
     "output_type": "stream",
     "text": [
      "\u001b[0;34m2023-11-15 14:19:06,575 [    spdm]     INFO: dict_keys(['main_lobes', 'genr', 'tokamak', 'wave', 'scatnper', 'dispers', 'numercl', 'output', 'plasma', 'species', 'varden', 'denprof', 'tpopprof', 'vflprof', 'zprof', 'tprof', 'grill', 'rz_launch_grill_tab', 'eccone', 'dentab', 'dentab_nonuniform_line', 'temtab', 'temtab_nonuniform_line', 'tpoptab', 'tpoptab_nonuniform_line', 'vflowtab', 'vflowtab_nonuniform_line', 'zeftab', 'zeftab_nonuniform_line', 'read_diskf', 'emission', 'ox', 'adj_nml', 'edge_prof_nml', 'lsc_approach_nml', 'edctsctab', 'jpartsctab'])\u001b[0m\n",
      "\u001b[0;34m2023-11-15 14:19:06,580 [    spdm]     INFO: OrderedDict([('total_grills', 5),\n",
      "             ('main_grills', 4),\n",
      "             ('bt_direction', 1),\n",
      "             ('power_fraction_factor', 0.8248)])\u001b[0m\n"
     ]
    }
   ],
   "source": [
    "###获取namelist中的关键字key\n",
    "logger.info(output_data.keys())\n",
    "### 通过child获取某个子节点的值，而不需要把整个树读回来\n",
    "logger.info(output_entry.child(\"main_lobes\").__value__)"
   ]
  },
  {
   "cell_type": "code",
   "execution_count": null,
   "metadata": {},
   "outputs": [],
   "source": [
    "#### NotImplementedError: TODO: NAMELISTFile.write\n",
    "# with File(f\"{DATA_INPUT}/test-eq.h5\", mode=\"w\", format=\"namelist\") as oid:\n",
    "#     oid.write(eq_test)"
   ]
  },
  {
   "cell_type": "markdown",
   "metadata": {},
   "source": [
    "##### **netCDF**文件\n"
   ]
  },
  {
   "cell_type": "code",
   "execution_count": 7,
   "metadata": {},
   "outputs": [
    {
     "name": "stdout",
     "output_type": "stream",
     "text": [
      "\u001b[0;37m2023-11-15 14:19:21,349 [    spdm]    DEBUG: /home/salmon/workspace/fytok/SpDM/python/spdm/utils/sp_export.py:66:sp_load_module: Load module spdm.plugins.data.plugin_netcdf\u001b[0m\n",
      "\u001b[0;37m2023-11-15 14:19:21,373 [    spdm]    DEBUG: /home/salmon/workspace/fytok/SpDM/python/spdm/plugins/data/plugin_netcdf.py:149:open: Open NetCDF File ./data/genray_profs_in.nc mode=Mode.read\u001b[0m\n",
      "\u001b[0;34m2023-11-15 14:19:21,379 [    spdm]     INFO: dict_keys(['charge', 'dmass', 'en', 'eqdsk_name', 'nj', 'nspecgr', 'r', 'temp', 'zeff', 'title'])\u001b[0m\n",
      "\u001b[0;34m2023-11-15 14:19:21,380 [    spdm]     INFO: [1.00000000e+00 1.83619995e+03 3.67239990e+03 2.20343994e+04]\u001b[0m\n"
     ]
    }
   ],
   "source": [
    "### 以GENRAY的剖面输入文件genray_profs_in.nc为例，它是一个netCDF格式的文件。\n",
    "with File(f\"./data/genray_profs_in.nc\", format= \"NetCDf\" ,mode=\"r\") as oid:\n",
    "### 仅仅建立链接，而没有拿回数据\n",
    "    output_entry = oid.read()\n",
    "### 拿回所有数据\n",
    "    output_data = oid.read().dump()\n",
    "###获取namelist中的关键字key\n",
    "logger.info(output_data.keys())\n",
    "logger.info(output_data[\"dmass\"].data)\n",
    "### 通过child获取某个子节点的值，而不需要把整个树读回来\n",
    "# logger.info(output_entry.child(\"dmass\").__value__)"
   ]
  },
  {
   "cell_type": "code",
   "execution_count": 8,
   "metadata": {},
   "outputs": [
    {
     "name": "stdout",
     "output_type": "stream",
     "text": [
      "\u001b[0;37m2023-11-15 14:19:32,717 [    spdm]    DEBUG: /home/salmon/workspace/fytok/SpDM/python/spdm/plugins/data/plugin_netcdf.py:149:open: Open NetCDF File ./data/test-eq.nc mode=Mode.create|write\u001b[0m\n",
      "\u001b[0;37m2023-11-15 14:19:32,741 [    spdm]    DEBUG: /home/salmon/workspace/fytok/SpDM/python/spdm/plugins/data/plugin_netcdf.py:149:open: Open NetCDF File ./data/test-eq.nc mode=Mode.read\u001b[0m\n",
      "\u001b[0;34m2023-11-15 14:19:32,745 [    spdm]     INFO: dict_keys(['wall', 'equilibrium'])\u001b[0m\n",
      "\u001b[0;34m2023-11-15 14:19:32,746 [    spdm]     INFO: {'description_2d': {'0': {'limiter': {'unit': {'0': {'outline': {'r': array([1.35838, 1.35838, 1.35838, 1.36314, 1.4371 , 1.43721, 1.44164,\n",
      "       1.4297 , 1.39169, 1.39151, 1.37929, 1.399  , 1.43623, 1.45919,\n",
      "       1.47791, 1.54494, 1.61204, 1.63506, 1.66054, 1.66519, 1.6955 ,\n",
      "       1.70668, 1.71388, 1.714  , 1.73649, 1.76324, 1.80199, 1.80237,\n",
      "       1.93972, 1.97063, 2.07495, 2.1771 , 2.27925, 2.35   , 2.35   ,\n",
      "       2.35   , 2.27925, 2.1771 , 2.07495, 1.9728 , 1.97063, 1.92059,\n",
      "       1.87055, 1.82051, 1.79281, 1.76511, 1.75421, 1.67782, 1.60143,\n",
      "       1.48426, 1.36709, 1.33132, 1.37874, 1.42615, 1.40528, 1.3844 ,\n",
      "       1.36353, 1.35838, 1.35838, 1.35838, 1.35838]),\n",
      "                                                                 'z': array([ 0.      ,  0.227   ,  0.454   ,  0.455735,  0.798332,  0.798821,\n",
      "        0.838195,  0.908908,  1.01426 ,  1.01473 ,  1.04859 ,  1.03946 ,\n",
      "        1.0256  ,  1.02095 ,  1.02514 ,  1.05454 ,  1.08394 ,  1.09586 ,\n",
      "        1.114   ,  1.11765 ,  1.14183 ,  1.16211 ,  1.13093 ,  1.13044 ,\n",
      "        1.033   ,  0.969832,  0.92567 ,  0.925347,  0.809223,  0.783389,\n",
      "        0.68838 ,  0.58904 ,  0.4897  ,  0.49    ,  0.      , -0.49    ,\n",
      "       -0.4897  , -0.58904 , -0.68838 , -0.78772 , -0.783389, -0.832375,\n",
      "       -0.881361, -0.930347, -1.05034 , -1.17034 , -1.13917 , -1.03465 ,\n",
      "       -0.930138, -0.95338 , -0.976622, -1.01072 , -0.879327, -0.747939,\n",
      "       -0.65062 , -0.5533  , -0.455981, -0.454   , -0.227   ,  0.      ,\n",
      "        0.      ])}}}}}}}\u001b[0m\n"
     ]
    }
   ],
   "source": [
    "#### 写.nc文件\n",
    "with File(f\"./data/test-eq.nc\", mode=\"w\", format=\"netcdf\") as oid:\n",
    "    oid.write(eq_test)\n",
    "with File(f\"./data/test-eq.nc\", format= \"NetCDf\" ,mode=\"r\") as oid: \n",
    "    test_data = oid.read().dump()\n",
    "    logger.info(test_data.keys())\n",
    "    logger.info(test_data[\"wall\"])"
   ]
  },
  {
   "cell_type": "markdown",
   "metadata": {},
   "source": [
    "##### **HDF5**文件"
   ]
  },
  {
   "cell_type": "code",
   "execution_count": 9,
   "metadata": {},
   "outputs": [
    {
     "name": "stdout",
     "output_type": "stream",
     "text": [
      "\u001b[0;37m2023-11-15 14:19:43,508 [    spdm]    DEBUG: /home/salmon/workspace/fytok/SpDM/python/spdm/utils/sp_export.py:66:sp_load_module: Load module spdm.plugins.data.plugin_hdf5\u001b[0m\n",
      "\u001b[0;37m2023-11-15 14:19:43,511 [    spdm]    DEBUG: /home/salmon/workspace/fytok/SpDM/python/spdm/plugins/data/plugin_hdf5.py:197:open: Open HDF5 File ./data/testall.h5 mode=Mode.read\u001b[0m\n",
      "\u001b[0;34m2023-11-15 14:19:43,518 [    spdm]     INFO: dict_keys(['coherent_wave'])\u001b[0m\n",
      "\u001b[0;34m2023-11-15 14:19:43,519 [    spdm]     INFO: {'current_tor': 461821.31203568814,\n",
      " 'frequency': 4600000000.0,\n",
      " 'power': 19375694355948.902}\u001b[0m\n"
     ]
    }
   ],
   "source": [
    "### 以testall.h5，它是一个HDF5格式的文件。\n",
    "with File(f\"./data/testall.h5\", format= \"HDF5\" ,mode=\"r\") as oid:\n",
    "### 仅仅建立链接，而没有拿回数据\n",
    "    output_entry = oid.read()\n",
    "### 拿回所有数据\n",
    "    output_data = oid.read().dump()\n",
    "###获取namelist中的关键字key\n",
    "logger.info(output_data.keys())\n",
    "logger.info(output_data[\"coherent_wave\"][\"global_quantities\"])\n",
    "\n",
    "### 通过child获取某个子节点的值，而不需要把整个树读回来\n",
    "# logger.info(output_entry.child(\"coherent_wave.current_tor\").__value__)"
   ]
  },
  {
   "cell_type": "code",
   "execution_count": 10,
   "metadata": {},
   "outputs": [
    {
     "name": "stdout",
     "output_type": "stream",
     "text": [
      "\u001b[0;37m2023-11-15 14:19:47,011 [    spdm]    DEBUG: /home/salmon/workspace/fytok/SpDM/python/spdm/plugins/data/plugin_hdf5.py:197:open: Open HDF5 File ./data/test-eq.hdf5 mode=Mode.create|write\u001b[0m\n",
      "\u001b[0;37m2023-11-15 14:19:47,034 [    spdm]    DEBUG: /home/salmon/workspace/fytok/SpDM/python/spdm/plugins/data/plugin_hdf5.py:197:open: Open HDF5 File ./data/test-eq.hdf5 mode=Mode.read\u001b[0m\n",
      "\u001b[0;34m2023-11-15 14:19:47,044 [    spdm]     INFO: dict_keys(['equilibrium', 'wall'])\u001b[0m\n",
      "\u001b[0;34m2023-11-15 14:19:47,046 [    spdm]     INFO: {'description_2d': [{'limiter': {'unit': [{'outline': {'r': array([1.35838, 1.35838, 1.35838, 1.36314, 1.4371 , 1.43721, 1.44164,\n",
      "       1.4297 , 1.39169, 1.39151, 1.37929, 1.399  , 1.43623, 1.45919,\n",
      "       1.47791, 1.54494, 1.61204, 1.63506, 1.66054, 1.66519, 1.6955 ,\n",
      "       1.70668, 1.71388, 1.714  , 1.73649, 1.76324, 1.80199, 1.80237,\n",
      "       1.93972, 1.97063, 2.07495, 2.1771 , 2.27925, 2.35   , 2.35   ,\n",
      "       2.35   , 2.27925, 2.1771 , 2.07495, 1.9728 , 1.97063, 1.92059,\n",
      "       1.87055, 1.82051, 1.79281, 1.76511, 1.75421, 1.67782, 1.60143,\n",
      "       1.48426, 1.36709, 1.33132, 1.37874, 1.42615, 1.40528, 1.3844 ,\n",
      "       1.36353, 1.35838, 1.35838, 1.35838, 1.35838]),\n",
      "                                                       'z': array([ 0.      ,  0.227   ,  0.454   ,  0.455735,  0.798332,  0.798821,\n",
      "        0.838195,  0.908908,  1.01426 ,  1.01473 ,  1.04859 ,  1.03946 ,\n",
      "        1.0256  ,  1.02095 ,  1.02514 ,  1.05454 ,  1.08394 ,  1.09586 ,\n",
      "        1.114   ,  1.11765 ,  1.14183 ,  1.16211 ,  1.13093 ,  1.13044 ,\n",
      "        1.033   ,  0.969832,  0.92567 ,  0.925347,  0.809223,  0.783389,\n",
      "        0.68838 ,  0.58904 ,  0.4897  ,  0.49    ,  0.      , -0.49    ,\n",
      "       -0.4897  , -0.58904 , -0.68838 , -0.78772 , -0.783389, -0.832375,\n",
      "       -0.881361, -0.930347, -1.05034 , -1.17034 , -1.13917 , -1.03465 ,\n",
      "       -0.930138, -0.95338 , -0.976622, -1.01072 , -0.879327, -0.747939,\n",
      "       -0.65062 , -0.5533  , -0.455981, -0.454   , -0.227   ,  0.      ,\n",
      "        0.      ])}}]}}]}\u001b[0m\n"
     ]
    }
   ],
   "source": [
    "#### 写.nc文件\n",
    "with File(f\"./data/test-eq.hdf5\", mode=\"w\", format=\"HDF5\") as oid:\n",
    "    oid.write(eq_test)\n",
    "with File(f\"./data/test-eq.hdf5\", format= \"HDF5\" ,mode=\"r\") as oid: \n",
    "    test_data = oid.read().dump()\n",
    "    logger.info(test_data.keys())\n",
    "    logger.info(test_data[\"wall\"])"
   ]
  },
  {
   "cell_type": "markdown",
   "metadata": {},
   "source": [
    "注：（1）其他的半结构化数据,YAML,JSON等，访问形式类似。"
   ]
  }
 ],
 "metadata": {
  "kernelspec": {
   "display_name": "Python 3 (ipykernel)",
   "language": "python",
   "name": "python3"
  }
 },
 "nbformat": 4,
 "nbformat_minor": 2
}

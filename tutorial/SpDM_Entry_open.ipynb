{
 "cells": [
  {
   "cell_type": "markdown",
   "metadata": {},
   "source": [
    "## **SpDM Manual之系列3：Entry进阶——Open_Entry**"
   ]
  },
  {
   "cell_type": "markdown",
   "metadata": {},
   "source": [
    "在磁约束聚变研究中，科学数据是重要的处理对象。按照普遍的数据科学中分类，大体上被分为\n",
    "- 结构化数据：如大型的MDSplus数据库\n",
    "- 半结构化数据：如NameList,JSON,netCDF,HDF5，XML,YAML等\n",
    "- 非结构化数据：如GDSKfile,InPut文件\n",
    "\n",
    "每种数据都有其特定的读取、处理方式，SpDM通过对底层Entry功能封装，提供统一的Open_Entry标准API来访问、处理这些数据，使得用户可以通过同一种访问入口读取不同类型的数据。\n",
    "\n",
    "Open_Entry中支持标准的URL语法来访问不同的数据。用户无需关心后台的数据格式及来源。\n"
   ]
  },
  {
   "cell_type": "markdown",
   "metadata": {},
   "source": [
    "### **标准的URI表述,它是标准RFC3986的扩展：**\n",
    "```\n",
    "<schema>+<protocol>+<backend>://< authority >/<path>/?<query>#<fragment>\n",
    "```\n",
    "- \\<schema\\> 则指定了访问资源的 \"语义\"。\n",
    "- \\<protocol\\>指定了资源的协议，如远程的MDSplus或者本地的数据文件格式\n",
    "- \\<backend\\>：指定了访问资源的 \"格式；\n",
    "- \\<authority\\> 组件指定了管理资源的权限，通常包括主机 通常包括主机名和端口号。\n",
    "- \\<path\\>组件指定资源的分层路径，可包括多个层级，每个层级之间用 资源的分层路径，可包括多个层级，以斜线（/）分隔。\n",
    "- \\<query\\> 组件指定随资源请求发送到服务器的查询字符串\n",
    "- \\<fragment\\> 组件指定指向特定资源的 片段标识符"
   ]
  },
  {
   "cell_type": "markdown",
   "metadata": {},
   "source": [
    "标准的URI表述,它是标准RFC3986的扩展：\n",
    "```\n",
    "<device>+<protocol>://<netloc>/<path>?<query>#<fragment>\n",
    "\n",
    "```\n",
    "- device: specifies  device description;\n",
    "- \\<protocol\\>://\\<netloc\\>/\\<path\\>: specifies the address of the data source\n",
    "- \\<query\\> query command, e.g. specify shot or  run number\n",
    "- \\<fragment\\>specifies  path to subnodes\n"
   ]
  },
  {
   "cell_type": "markdown",
   "metadata": {},
   "source": [
    "### **Open_Entry对文件的处理**"
   ]
  },
  {
   "cell_type": "markdown",
   "metadata": {},
   "source": [
    "####针对文件的URL表达式：\n",
    "```\n",
    "file_entry = open_entry(f\"file+format://{file_path}}\")\n",
    "```\n",
    "- open_entry() :API入口\n",
    "- file：处理对象是文件\n",
    "- format：指定文件格式\n",
    "- file_path：文件路径"
   ]
  },
  {
   "cell_type": "markdown",
   "metadata": {},
   "source": [
    "#### 处理gdskfile文件"
   ]
  },
  {
   "cell_type": "code",
   "execution_count": 115,
   "metadata": {},
   "outputs": [],
   "source": [
    "### 初始化环境，import open_entry\n",
    "from spdm.data.Entry import open_entry\n",
    "\n",
    "### 指定输入文件的目录workdir\n",
    "workdir = \"/scratch/jupytertest/workspace_fytok/fytok_tutorial/tutorial/\"\n",
    "\n",
    "### 使用open_entry打开一个gdskfile文件\n",
    "file_entry = open_entry(f\"file+geqdsk://{workdir}/data/g070754.05000/\")\n",
    "\n",
    "\n",
    "### 指定子节点的标识符\n",
    "# file_entry = open_entry(f\"file+geqdsk://{workdir}//data/g900003.00230_ITER_15MA_eqdsk16HR.txt/#equilibrium\")\n"
   ]
  },
  {
   "cell_type": "code",
   "execution_count": 117,
   "metadata": {},
   "outputs": [
    {
     "data": {
      "text/plain": [
       "['wall', 'equilibrium']"
      ]
     },
     "execution_count": 117,
     "metadata": {},
     "output_type": "execute_result"
    }
   ],
   "source": [
    "## file_entry是一个Entry对象,B02节介绍的针对entry的对象的操作均可使用\n",
    "## 获得该entry树的所有节点的标识符\n",
    "[*file_entry.keys()]"
   ]
  },
  {
   "cell_type": "code",
   "execution_count": 119,
   "metadata": {},
   "outputs": [
    {
     "data": {
      "text/plain": [
       "{'description_2d': [{'limiter': {'unit': [{'outline': {'r': array([1.35838, 1.35838, 1.35838, 1.36314, 1.4371 , 1.43721, 1.44164,\n",
       "              1.4297 , 1.39169, 1.39151, 1.37929, 1.399  , 1.43623, 1.45919,\n",
       "              1.47791, 1.54494, 1.61204, 1.63506, 1.66054, 1.66519, 1.6955 ,\n",
       "              1.70668, 1.71388, 1.714  , 1.73649, 1.76324, 1.80199, 1.80237,\n",
       "              1.93972, 1.97063, 2.07495, 2.1771 , 2.27925, 2.35   , 2.35   ,\n",
       "              2.35   , 2.27925, 2.1771 , 2.07495, 1.9728 , 1.97063, 1.92059,\n",
       "              1.87055, 1.82051, 1.79281, 1.76511, 1.75421, 1.67782, 1.60143,\n",
       "              1.48426, 1.36709, 1.33132, 1.37874, 1.42615, 1.40528, 1.3844 ,\n",
       "              1.36353, 1.35838, 1.35838, 1.35838, 1.35838]),\n",
       "       'z': array([ 0.      ,  0.227   ,  0.454   ,  0.455735,  0.798332,  0.798821,\n",
       "               0.838195,  0.908908,  1.01426 ,  1.01473 ,  1.04859 ,  1.03946 ,\n",
       "               1.0256  ,  1.02095 ,  1.02514 ,  1.05454 ,  1.08394 ,  1.09586 ,\n",
       "               1.114   ,  1.11765 ,  1.14183 ,  1.16211 ,  1.13093 ,  1.13044 ,\n",
       "               1.033   ,  0.969832,  0.92567 ,  0.925347,  0.809223,  0.783389,\n",
       "               0.68838 ,  0.58904 ,  0.4897  ,  0.49    ,  0.      , -0.49    ,\n",
       "              -0.4897  , -0.58904 , -0.68838 , -0.78772 , -0.783389, -0.832375,\n",
       "              -0.881361, -0.930347, -1.05034 , -1.17034 , -1.13917 , -1.03465 ,\n",
       "              -0.930138, -0.95338 , -0.976622, -1.01072 , -0.879327, -0.747939,\n",
       "              -0.65062 , -0.5533  , -0.455981, -0.454   , -0.227   ,  0.      ,\n",
       "               0.      ])}}]}}]}"
      ]
     },
     "execution_count": 119,
     "metadata": {},
     "output_type": "execute_result"
    }
   ],
   "source": [
    "## 指标移到wall节点，获得数据\n",
    "file_entry.child(\"wall\").fetch()"
   ]
  },
  {
   "cell_type": "code",
   "execution_count": 120,
   "metadata": {},
   "outputs": [],
   "source": [
    "### 指定子节点的标识符\n",
    "file_entry_eq = open_entry(f\"file+geqdsk://{workdir}//data/g900003.00230_ITER_15MA_eqdsk16HR.txt/#equilibrium\")"
   ]
  },
  {
   "cell_type": "code",
   "execution_count": 121,
   "metadata": {},
   "outputs": [
    {
     "data": {
      "text/plain": [
       "['time', 'vacuum_toroidal_field', 'time_slice']"
      ]
     },
     "execution_count": 121,
     "metadata": {},
     "output_type": "execute_result"
    }
   ],
   "source": [
    "## equilibrium节点的子节点\n",
    "[*file_entry_eq.keys()]"
   ]
  },
  {
   "cell_type": "markdown",
   "metadata": {},
   "source": [
    "#### 处理hdf5文件"
   ]
  },
  {
   "cell_type": "code",
   "execution_count": 122,
   "metadata": {},
   "outputs": [
    {
     "name": "stdout",
     "output_type": "stream",
     "text": [
      "\u001b[0;37m2023-11-16 21:05:44,677 [    spdm]    DEBUG: /gpfs/fuyun/projects/fuyun/spdm/python/spdm/plugins/data/plugin_hdf5.py:196:open: Open HDF5 File /scratch/jupytertest/workspace_fytok/fytok_tutorial/tutorial//data/test_eq.h5 mode=Mode.read\u001b[0m\n"
     ]
    }
   ],
   "source": [
    "\n",
    "hdf5_entry = open_entry(f\"file+hdf5://{workdir}/data/test_eq.h5\")"
   ]
  },
  {
   "cell_type": "code",
   "execution_count": 123,
   "metadata": {},
   "outputs": [
    {
     "data": {
      "text/plain": [
       "['equilibrium', 'wall']"
      ]
     },
     "execution_count": 123,
     "metadata": {},
     "output_type": "execute_result"
    }
   ],
   "source": [
    "[*hdf5_entry.keys()]"
   ]
  },
  {
   "cell_type": "code",
   "execution_count": 126,
   "metadata": {},
   "outputs": [
    {
     "data": {
      "text/plain": [
       "{'geometric_axis': {'r': 1.85000002, 'z': 0.0},\n",
       " 'outline': {'r': array([1.41273642, 1.41389295, 1.41822664, 1.425     , 1.43209863,\n",
       "         1.43980543, 1.45      , 1.4625    , 1.475     , 1.4875    ,\n",
       "         1.5       , 1.5125    , 1.525     , 1.54090029, 1.55857183,\n",
       "         1.575     , 1.5875    , 1.60822115, 1.625     , 1.64220094,\n",
       "         1.675     , 1.7       , 1.72689129, 1.7625    , 1.7875    ,\n",
       "         1.8125    , 1.8375    , 1.86378618, 1.893304  , 1.92133389,\n",
       "         1.94791747, 1.9731425 , 1.99710604, 2.01989722, 2.0415908 ,\n",
       "         2.0625    , 2.0875    , 2.1125    , 2.13503267, 2.15095696,\n",
       "         2.175     , 2.19360357, 2.2125    , 2.22883407, 2.24833148,\n",
       "         2.2625    , 2.275     , 2.2875    , 2.29561793, 2.3       ,\n",
       "         2.30052821, 2.29718556, 2.2875    , 2.275     , 2.2625    ,\n",
       "         2.25      , 2.23203494, 2.2125    , 2.19533868, 2.175     ,\n",
       "         2.15      , 2.13201545, 2.1125    , 2.0875    , 2.0625    ,\n",
       "         2.0375    , 2.0125    , 1.9875    , 1.9625    , 1.9353857 ,\n",
       "         1.9       , 1.875     , 1.85      , 1.8125    , 1.7875    ,\n",
       "         1.75      , 1.7125    , 1.6875    , 1.65      , 1.625     ,\n",
       "         1.6       , 1.57788566, 1.5625    , 1.5375    , 1.525     ,\n",
       "         1.5049414 , 1.4875    , 1.475     , 1.4625    , 1.45      ,\n",
       "         1.43769196, 1.42957712, 1.42310696, 1.41633893, 1.41307553,\n",
       "         1.41273642]),\n",
       "  'z': array([ 0.        ,  0.065625  ,  0.13125   ,  0.19194756,  0.240625  ,\n",
       "          0.284375  ,  0.33423411,  0.38775715,  0.43549313,  0.47904169,\n",
       "          0.5193792 ,  0.55706639,  0.59230534,  0.634375  ,  0.678125  ,\n",
       "          0.71687204,  0.74420412,  0.7875    ,  0.82429578,  0.85525714,\n",
       "          0.83954523,  0.82526535,  0.809375  ,  0.78869278,  0.77356616,\n",
       "          0.75746309,  0.74052226,  0.721875  ,  0.7       ,  0.678125  ,\n",
       "          0.65625   ,  0.634375  ,  0.6125    ,  0.590625  ,  0.56875   ,\n",
       "          0.54659888,  0.51855995,  0.48849663,  0.459375  ,  0.4375    ,\n",
       "          0.40193967,  0.371875  ,  0.33829558,  0.30625   ,  0.2625    ,\n",
       "          0.22505378,  0.1856974 ,  0.13510461,  0.0875    ,  0.03997558,\n",
       "         -0.021875  , -0.065625  , -0.12525664, -0.17499408, -0.2128994 ,\n",
       "         -0.24493408, -0.284375  , -0.32114872, -0.35      , -0.38083695,\n",
       "         -0.4150113 , -0.4375    , -0.46029528, -0.48734772, -0.51226288,\n",
       "         -0.53529371, -0.55661962, -0.57635108, -0.59453317, -0.6125    ,\n",
       "         -0.63356282, -0.64675334, -0.65804837, -0.6720044 , -0.67853898,\n",
       "         -0.68429772, -0.68302709, -0.67729193, -0.66033755, -0.6422052 ,\n",
       "         -0.61782529, -0.590625  , -0.56865804, -0.52684039, -0.50279392,\n",
       "         -0.459375  , -0.41579306, -0.38041418, -0.34056526, -0.29466146,\n",
       "         -0.240625  , -0.196875  , -0.153125  , -0.0875    , -0.021875  ,\n",
       "          0.        ])}}"
      ]
     },
     "execution_count": 126,
     "metadata": {},
     "output_type": "execute_result"
    }
   ],
   "source": [
    "hdf5_entry.child(\"equilibrium/time_slice/0/boundary\").fetch()"
   ]
  },
  {
   "cell_type": "code",
   "execution_count": 129,
   "metadata": {},
   "outputs": [
    {
     "data": {
      "text/plain": [
       "{'r': 1.85000002, 'z': 0.0}"
      ]
     },
     "execution_count": 129,
     "metadata": {},
     "output_type": "execute_result"
    }
   ],
   "source": [
    "## 或者使用.来表示字符串\n",
    "hdf5_entry.child(\"equilibrium.time_slice[0].boundary.geometric_axis\").fetch()"
   ]
  },
  {
   "cell_type": "markdown",
   "metadata": {},
   "source": [
    "### 处理netCDF文件\n"
   ]
  },
  {
   "cell_type": "code",
   "execution_count": 139,
   "metadata": {},
   "outputs": [
    {
     "name": "stdout",
     "output_type": "stream",
     "text": [
      "\u001b[0;37m2023-11-16 21:10:30,889 [    spdm]    DEBUG: /gpfs/fuyun/projects/fuyun/spdm/python/spdm/plugins/data/plugin_hdf5.py:196:open: Open HDF5 File /scratch/jupytertest/workspace_fytok/fytok_tutorial/tutorial//data/test.nc mode=Mode.read\u001b[0m\n"
     ]
    }
   ],
   "source": [
    "nc_entry = open_entry(f\"file+hdf5://{workdir}/data/test.nc\")"
   ]
  },
  {
   "cell_type": "code",
   "execution_count": 144,
   "metadata": {},
   "outputs": [
    {
     "data": {
      "text/plain": [
       "['coherent_wave']"
      ]
     },
     "execution_count": 144,
     "metadata": {},
     "output_type": "execute_result"
    }
   ],
   "source": [
    "[*nc_entry.keys()]"
   ]
  },
  {
   "cell_type": "code",
   "execution_count": 153,
   "metadata": {},
   "outputs": [
    {
     "data": {
      "text/plain": [
       "{'0': {'profiles_1d': {'0': {'power_density': array([0.        , 0.        , 0.        , 0.        , 0.99999802,\n",
       "           0.99999918, 0.99999994, 1.00000037, 1.00000072, 1.00000098,\n",
       "           1.0000012 , 1.00000132, 1.00000145, 1.00000163, 1.00000158,\n",
       "           1.00000156, 1.00000155, 1.00000155, 1.00000154, 1.00000155,\n",
       "           1.00000153, 1.00000149, 1.00000145, 1.00000139, 1.00000134,\n",
       "           1.00000129, 1.00000124, 1.00000125, 1.00000131, 1.00000145,\n",
       "           1.00000149, 1.0000015 , 1.00000144, 1.00000136, 1.00000122,\n",
       "           1.0000011 , 1.00000096, 1.00000085, 1.00000083, 1.00000088,\n",
       "           1.00000105, 1.00000128, 1.0000014 , 1.00000142, 1.00000148,\n",
       "           1.0000015 , 1.0000015 , 1.00000145, 1.0000012 , 1.00000149]),\n",
       "    'current_parallel_density': array([-0.00000000e+00, -0.00000000e+00, -0.00000000e+00, -0.00000000e+00,\n",
       "            1.99364358e-13,  2.14821878e-08,  3.93642769e-05,  2.86688349e-03,\n",
       "            9.60013670e-02,  1.23434308e+00,  1.03052517e+01,  3.40975907e+01,\n",
       "            1.27767832e+02,  8.03338628e+02,  4.84207827e+02,  3.60250285e+02,\n",
       "            2.84093429e+02,  2.66870953e+02,  2.27307283e+02,  2.29816800e+02,\n",
       "            1.81405673e+02,  1.20656896e+02,  8.05569657e+01,  4.50482215e+01,\n",
       "            2.53651230e+01,  1.52108096e+01,  7.64395581e+00,  7.25623510e+00,\n",
       "            1.17114376e+01,  4.32715441e+01,  6.48528120e+01,  7.52389104e+01,\n",
       "            4.14450706e+01,  1.96846041e+01,  4.89572505e+00,  1.43632231e+00,\n",
       "            3.62878642e-01,  6.95244839e-02,  1.75151033e-02, -2.21662387e-02,\n",
       "           -3.89583106e-01, -3.95056278e+00, -1.38417137e+01, -1.74193858e+01,\n",
       "           -3.01090468e+01, -3.86729141e+01, -4.03153212e+01, -2.48381992e+01,\n",
       "           -1.19357956e+00, -3.86867567e-01]),\n",
       "    'grid': {'rho_tor_norm': array([0.01, 0.03, 0.05, 0.07, 0.09, 0.11, 0.13, 0.15, 0.17, 0.19, 0.21,\n",
       "            0.23, 0.25, 0.27, 0.29, 0.31, 0.33, 0.35, 0.37, 0.39, 0.41, 0.43,\n",
       "            0.45, 0.47, 0.49, 0.51, 0.53, 0.55, 0.57, 0.59, 0.61, 0.63, 0.65,\n",
       "            0.67, 0.69, 0.71, 0.73, 0.75, 0.77, 0.79, 0.81, 0.83, 0.85, 0.87,\n",
       "            0.89, 0.91, 0.93, 0.95, 0.97, 0.99])},\n",
       "    'electrons': {'power_density_thermal': array([0.00000000e+00, 0.00000000e+00, 0.00000000e+00, 0.00000000e+00,\n",
       "            2.47389160e-16, 2.76673170e-11, 5.32673700e-08, 4.03489236e-06,\n",
       "            1.38610968e-04, 1.84668042e-03, 1.61529270e-02, 5.60366441e-02,\n",
       "            2.02266735e-01, 1.14922075e+00, 7.58349000e-01, 6.15352146e-01,\n",
       "            5.20135233e-01, 5.42653550e-01, 4.89433633e-01, 5.31448764e-01,\n",
       "            4.30602818e-01, 2.90238020e-01, 1.97551038e-01, 1.13034650e-01,\n",
       "            6.64365651e-02, 4.17000387e-02, 2.33857989e-02, 2.59507709e-02,\n",
       "            5.11777186e-02, 2.04015882e-01, 3.02458440e-01, 3.40749100e-01,\n",
       "            1.83455844e-01, 8.28459551e-02, 1.98170713e-02, 5.64636162e-03,\n",
       "            1.33097798e-03, 2.43573510e-04, 1.11680512e-04, 2.92732068e-04,\n",
       "            3.38213156e-03, 3.54961697e-02, 1.23920281e-01, 1.53797565e-01,\n",
       "            2.62316497e-01, 3.26007311e-01, 3.21541597e-01, 1.92326851e-01,\n",
       "            1.34692247e-02, 9.24638613e-03])}}}}}"
      ]
     },
     "execution_count": 153,
     "metadata": {},
     "output_type": "execute_result"
    }
   ],
   "source": [
    "nc_entry.child(\"coherent_wave\").fetch()"
   ]
  },
  {
   "cell_type": "markdown",
   "metadata": {},
   "source": []
  },
  {
   "cell_type": "code",
   "execution_count": 103,
   "metadata": {},
   "outputs": [
    {
     "data": {
      "text/plain": [
       "['wall', 'equilibrium']"
      ]
     },
     "execution_count": 103,
     "metadata": {},
     "output_type": "execute_result"
    }
   ],
   "source": [
    "[*file_entry.keys()]"
   ]
  },
  {
   "cell_type": "code",
   "execution_count": null,
   "metadata": {},
   "outputs": [],
   "source": [
    "### 访问远程EAST MDS数据库中70754炮的数据，\n",
    "shot_num = 70754\n",
    "time_slice = 10\n",
    "entry = open_entry(\"east+mdsplus://202.127.204.12?enable=efit_east&shot={shot_num}\")"
   ]
  },
  {
   "cell_type": "code",
   "execution_count": 76,
   "metadata": {},
   "outputs": [
    {
     "data": {
      "text/plain": [
       "['time', 'vacuum_toroidal_field', 'time_slice']"
      ]
     },
     "execution_count": 76,
     "metadata": {},
     "output_type": "execute_result"
    }
   ],
   "source": [
    "[*file_entry.keys()]"
   ]
  },
  {
   "cell_type": "code",
   "execution_count": 77,
   "metadata": {},
   "outputs": [
    {
     "data": {
      "text/plain": [
       "{'r0': 6.2, 'b0': [-5.3]}"
      ]
     },
     "execution_count": 77,
     "metadata": {},
     "output_type": "execute_result"
    }
   ],
   "source": [
    "file_entry.get(\"vacuum_toroidal_field\")"
   ]
  },
  {
   "cell_type": "code",
   "execution_count": 78,
   "metadata": {},
   "outputs": [
    {
     "data": {
      "text/plain": [
       "{'r0': 6.2, 'b0': [-5.3]}"
      ]
     },
     "execution_count": 78,
     "metadata": {},
     "output_type": "execute_result"
    }
   ],
   "source": [
    "file_entry.child(\"vacuum_toroidal_field\").fetch()"
   ]
  }
 ],
 "metadata": {
  "kernelspec": {
   "display_name": "Python 3 (ipykernel)",
   "language": "python",
   "name": "python3"
  },
  "language_info": {
   "name": "python",
   "version": "3.10.12"
  }
 },
 "nbformat": 4,
 "nbformat_minor": 2
}

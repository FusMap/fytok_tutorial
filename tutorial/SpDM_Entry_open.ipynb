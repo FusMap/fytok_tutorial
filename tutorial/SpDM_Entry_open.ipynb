{
 "cells": [
  {
   "cell_type": "markdown",
   "metadata": {},
   "source": [
    "# 统一URI访问 `open_entry`"
   ]
  },
  {
   "cell_type": "markdown",
   "metadata": {},
   "source": [
    "在磁约束聚变研究中，科学数据是重要的处理对象。按照普遍的数据科学中分类，大体上被分为\n",
    "- 结构化数据：如大型的MDSplus数据库\n",
    "- 半结构化数据：如NameList,JSON,netCDF,HDF5，XML,YAML等\n",
    "- 非结构化数据：如GDSKfile,InPut文件\n",
    "\n",
    "每种数据都有其特定的读取、处理方式，SpDM通过对底层Entry功能封装，提供统一的Open_Entry标准API来访问、处理这些数据，使得用户可以通过同一种访问入口读取不同类型的数据。\n",
    "\n",
    "`open_entry` 中支持标准的URL语法来访问不同的数据。用户无需关心后台的数据格式及来源。\n"
   ]
  },
  {
   "cell_type": "markdown",
   "metadata": {},
   "source": [
    "## 标准的URI表述\n",
    "\n",
    "URI遵守标准的RFC3986的语法，在其基础上进行扩展。\n",
    "\n",
    "```\n",
    "<schema>+<protocol>+<backend>://< authority >/<path>/?<query>#<fragment>\n",
    "```\n",
    "- \\<schema\\> 则指定了访问资源的 \"语义\"。\n",
    "- \\<protocol\\>指定了资源的协议，如远程的MDSplus或者本地的数据文件格式\n",
    "- \\<backend\\>：指定了访问资源的 \"格式；\n",
    "- \\<authority\\> 组件指定了管理资源的权限，通常包括主机 通常包括主机名和端口号。\n",
    "- \\<path\\>组件指定资源的分层路径，可包括多个层级，每个层级之间用 资源的分层路径，可包括多个层级，以斜线（/）分隔。\n",
    "- \\<query\\> 组件指定随资源请求发送到服务器的查询字符串\n",
    "- \\<fragment\\> 组件指定指向特定资源的 片段标识符"
   ]
  }
 ],
 "metadata": {
  "kernelspec": {
   "display_name": "Python 3 (ipykernel)",
   "language": "python",
   "name": "python3"
  },
  "language_info": {
   "name": "python",
   "version": "3.10.12"
  }
 },
 "nbformat": 4,
 "nbformat_minor": 2
}

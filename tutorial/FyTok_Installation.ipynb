{
 "cells": [
  {
   "cell_type": "markdown",
   "metadata": {},
   "source": [
    "# 安装"
   ]
  },
  {
   "cell_type": "markdown",
   "metadata": {},
   "source": [
    "## ShenMa集群上的**FyTok** 模块\n",
    "目前，ShenMa集群内（service108）服务器上FyTok模块是可用的。您能运行下面命令，加载其环境："
   ]
  },
  {
   "cell_type": "code",
   "execution_count": null,
   "metadata": {
    "vscode": {
     "languageId": "shellscript"
    }
   },
   "outputs": [],
   "source": [
    "module load fytok/0.0.0-foss-2022b"
   ]
  },
  {
   "cell_type": "markdown",
   "metadata": {},
   "source": [
    "注：执行该操作后，fytok会自动将其依赖的其他环境一起加载，如Python、数据集成工具SpDM等"
   ]
  },
  {
   "cell_type": "markdown",
   "metadata": {},
   "source": [
    "如果，您需要使用其他第三方物理模块，可以继续执行下面操作："
   ]
  },
  {
   "cell_type": "code",
   "execution_count": null,
   "metadata": {
    "vscode": {
     "languageId": "shellscript"
    }
   },
   "outputs": [],
   "source": [
    "module load fytok_ext/0.0.0-foss-2022b"
   ]
  },
  {
   "cell_type": "markdown",
   "metadata": {},
   "source": [
    "测试安装："
   ]
  },
  {
   "cell_type": "code",
   "execution_count": null,
   "metadata": {
    "vscode": {
     "languageId": "shellscript"
    }
   },
   "outputs": [],
   "source": [
    "python -c \"import fytok; print(fytok.__version__)\""
   ]
  },
  {
   "cell_type": "markdown",
   "metadata": {},
   "source": [
    "## 本地安装\n",
    "在自己维护的Python环境下安装FyTok，如Anconda\n",
    "要求：\n",
    "- Python版本3.10+。\n",
    "- FyTok 依赖 SpDM"
   ]
  },
  {
   "cell_type": "code",
   "execution_count": null,
   "metadata": {
    "vscode": {
     "languageId": "shellscript"
    }
   },
   "outputs": [],
   "source": [
    "#先安装SpDM\n",
    "pip install --upgrade pip\n",
    "pip install spdm \n",
    "## 再安装fytok\n",
    "## 下载FyTok-0.0.0-py3-none-any.whl\n",
    "pip install FyTok-0.0.0-py3-none-any.whl \n"
   ]
  },
  {
   "cell_type": "markdown",
   "metadata": {},
   "source": [
    "如果pip安装指定了安装目录，需先添加安装目录到PYTHONPATH中。否者在默认的~/.local/lib/下面："
   ]
  },
  {
   "cell_type": "code",
   "execution_count": null,
   "metadata": {
    "vscode": {
     "languageId": "shellscript"
    }
   },
   "outputs": [],
   "source": [
    "export PYTHONPATH=${INSTALLPATH}/site-packages:${PYTHONPATH}"
   ]
  },
  {
   "cell_type": "markdown",
   "metadata": {},
   "source": [
    "测试您的安装：\n"
   ]
  },
  {
   "cell_type": "code",
   "execution_count": null,
   "metadata": {
    "vscode": {
     "languageId": "shellscript"
    }
   },
   "outputs": [],
   "source": [
    "cd ~\n",
    "python -c \"import spdm; print(spdm.__version__)\"\n",
    "python -c \"import fytok; print(fytok.__version__)\""
   ]
  }
 ],
 "metadata": {
  "kernelspec": {
   "display_name": "Python 3 (ipykernel)",
   "language": "python",
   "name": "python3"
  },
  "language_info": {
   "codemirror_mode": {
    "name": "ipython",
    "version": 3
   },
   "file_extension": ".py",
   "mimetype": "text/x-python",
   "name": "python",
   "nbconvert_exporter": "python",
   "pygments_lexer": "ipython3",
   "version": "3.10.12"
  },
  "orig_nbformat": 4
 },
 "nbformat": 4,
 "nbformat_minor": 2
}

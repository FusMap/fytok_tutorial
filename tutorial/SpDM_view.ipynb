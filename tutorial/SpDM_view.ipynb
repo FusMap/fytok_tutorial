{
 "cells": [
  {
   "cell_type": "markdown",
   "metadata": {},
   "source": [
    "# SpView 可视化"
   ]
  },
  {
   "cell_type": "code",
   "execution_count": null,
   "metadata": {},
   "outputs": [],
   "source": [
    "import spdm.view as sp_view"
   ]
  },
  {
   "cell_type": "markdown",
   "metadata": {},
   "source": [
    "##  sp_view.plot\n",
    "\n",
    "- 根据 x，y 数据绘制成一维曲线。\n",
    "- 将共享同一组 x 坐标的多组 y 坐标绘制在同一张图上。"
   ]
  },
  {
   "cell_type": "markdown",
   "metadata": {},
   "source": [
    "## sp_view.display\n",
    "\n",
    "- 绘制二维场\n",
    "- 绘制二维几何体"
   ]
  }
 ],
 "metadata": {
  "kernelspec": {
   "display_name": "Python 3",
   "language": "python",
   "name": "python3"
  },
  "language_info": {
   "name": "python",
   "version": "3.10.12"
  }
 },
 "nbformat": 4,
 "nbformat_minor": 2
}

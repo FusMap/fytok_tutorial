{
 "cells": [
  {
   "cell_type": "code",
   "execution_count": 13,
   "metadata": {},
   "outputs": [],
   "source": [
    "from fytok.Tokamak import Tokamak\n",
    "from spdm.view import View as sp_view\n",
    "import numpy as np"
   ]
  },
  {
   "cell_type": "code",
   "execution_count": 2,
   "metadata": {},
   "outputs": [
    {
     "name": "stdout",
     "output_type": "stream",
     "text": [
      "\u001b[0;34m2023-09-29 15:28:05,103 [    spdm]     INFO: Load module spdm.plugins.data.plugin_xml\u001b[0m\n"
     ]
    }
   ],
   "source": [
    "tok = Tokamak(\"ITER+file+geqdsk://.//data/g900003.00230_ITER_15MA_eqdsk16HR.txt\", shot=900003, time=0.02)\n"
   ]
  },
  {
   "cell_type": "code",
   "execution_count": 15,
   "metadata": {},
   "outputs": [
    {
     "name": "stdout",
     "output_type": "stream",
     "text": [
      "('iter_900003_000002', 'ITER #900003 time=0.02s', 'iter', 900003, 0.02)\n"
     ]
    }
   ],
   "source": [
    "print( (\n",
    "tok.tag,\n",
    "tok.short_description,\n",
    "tok.device,\n",
    "tok.shot,\n",
    "tok.time,\n",
    "))"
   ]
  },
  {
   "cell_type": "code",
   "execution_count": 16,
   "metadata": {},
   "outputs": [
    {
     "data": {
      "text/plain": [
       "-1.139969823754715"
      ]
     },
     "execution_count": 16,
     "metadata": {},
     "output_type": "execute_result"
    }
   ],
   "source": [
    "tok.equilibrium.time_slice.current.boundary.psi"
   ]
  },
  {
   "cell_type": "code",
   "execution_count": 18,
   "metadata": {},
   "outputs": [
    {
     "data": {
      "text/plain": [
       "-13.464095"
      ]
     },
     "execution_count": 18,
     "metadata": {},
     "output_type": "execute_result"
    }
   ],
   "source": [
    "psi_axis = tok.equilibrium.time_slice.current.global_quantities.psi_axis\n",
    "psi_boundary = tok.equilibrium.time_slice.current.global_quantities.psi_boundary\n",
    "psi = np.linspace(psi_axis, psi_boundary, 128)\n",
    "rho_tor_norm = np.linspace(0, 1.0, 128)\n"
   ]
  },
  {
   "cell_type": "code",
   "execution_count": 19,
   "metadata": {},
   "outputs": [
    {
     "data": {
      "text/plain": [
       "-1.12762217"
      ]
     },
     "execution_count": 19,
     "metadata": {},
     "output_type": "execute_result"
    }
   ],
   "source": [
    "tok[\"core_profiles\"] = {\n",
    "    \"$default_value\": {\n",
    "        \"profiles_1d\": {\n",
    "            \"grid\": {\n",
    "                \"rho_tor_norm\": rho_tor_norm,\n",
    "                \"psi\": psi,\n",
    "                \"psi_magnetic_axis\": psi_axis,\n",
    "                \"psi_boundary\": psi_boundary,\n",
    "            }}}\n",
    "}\n"
   ]
  },
  {
   "cell_type": "code",
   "execution_count": 11,
   "metadata": {},
   "outputs": [
    {
     "data": {
      "text/plain": [
       "0.02"
      ]
     },
     "execution_count": 11,
     "metadata": {},
     "output_type": "execute_result"
    }
   ],
   "source": []
  }
 ],
 "metadata": {
  "kernelspec": {
   "display_name": "Python 3",
   "language": "python",
   "name": "python3"
  },
  "language_info": {
   "codemirror_mode": {
    "name": "ipython",
    "version": 3
   },
   "file_extension": ".py",
   "mimetype": "text/x-python",
   "name": "python",
   "nbconvert_exporter": "python",
   "pygments_lexer": "ipython3",
   "version": "3.10.12"
  },
  "orig_nbformat": 4
 },
 "nbformat": 4,
 "nbformat_minor": 2
}

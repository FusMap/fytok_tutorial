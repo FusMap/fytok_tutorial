{
 "cells": [
  {
   "cell_type": "code",
   "execution_count": null,
   "metadata": {},
   "outputs": [],
   "source": [
    "import pathlib\n",
    "from spdm.data.File import File\n",
    "from spdm.utils.logger import logger"
   ]
  },
  {
   "cell_type": "markdown",
   "metadata": {},
   "source": [
    "# File\n",
    " \n"
   ]
  },
  {
   "cell_type": "code",
   "execution_count": null,
   "metadata": {},
   "outputs": [],
   "source": [
    "DATA_PATH = pathlib.Path(f\"../data\")"
   ]
  },
  {
   "cell_type": "code",
   "execution_count": null,
   "metadata": {},
   "outputs": [],
   "source": [
    "\n",
    "with File(DATA_PATH/\"g900003.00230_ITER_15MA_eqdsk16HR.txt\", mode=\"r\", format=\"GEQdsk\") as fid:\n",
    "    doc = fid.read()\n",
    "    eq = doc.dump()\n",
    "\n",
    "with File(\"../output/test.gfile\", mode=\"w\", format=\"GEQdsk\") as oid:\n",
    "    oid.write(eq)\n",
    "\n",
    "with File(\"../output/test.json\", mode=\"w\") as oid:\n",
    "    oid.write(eq)\n",
    "\n",
    "with File(\"../output/test.json\", mode=\"r\") as oid:\n",
    "    logger.debug(oid.read().dump())\n",
    "\n",
    "with File(\"../output/test.yaml\", mode=\"w\") as oid:\n",
    "    oid.write(eq)\n",
    "\n",
    "with File(\"../output/test.yaml\", mode=\"r\") as oid:\n",
    "    logger.debug(oid.read().dump())\n",
    "\n",
    "with File(\"../output/test.h5\", mode=\"w\", format=\"HDF5\") as oid:\n",
    "    oid.write(eq)\n",
    "\n",
    "with File(\"../output/test.h5\", mode=\"r\", format=\"HDF5\") as oid:\n",
    "    logger.debug(oid.read().dump())\n",
    "\n",
    "with File(\"../output/test.nc\", mode=\"w\", format=\"NetCDF\") as oid:\n",
    "    oid.write(eq)\n",
    "\n",
    "with File(\"../output/test.nc\", mode=\"r\", format=\"NetCDF\") as oid:\n",
    "    logger.debug(oid.read().dump())\n"
   ]
  }
 ],
 "metadata": {
  "language_info": {
   "name": "python"
  },
  "orig_nbformat": 4
 },
 "nbformat": 4,
 "nbformat_minor": 2
}

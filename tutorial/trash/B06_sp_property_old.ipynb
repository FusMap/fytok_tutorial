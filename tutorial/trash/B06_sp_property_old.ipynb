{
 "cells": [
  {
   "cell_type": "markdown",
   "metadata": {},
   "source": [
    "## **SpDB Manual之系列5：数据绑定**"
   ]
  },
  {
   "cell_type": "markdown",
   "metadata": {},
   "source": [
    "IMAS将tokamak的装置藐视和物理概念进行了统一的分类、分层次管理，清晰描述了物理量之间的内在约束关系，形成了树状、层次化的、静态的IMAS本体。\n",
    "数据绑定的目的，是将树状结构的IMAS本体的静态的表述转化为动态的实现。通过代码实现，将一系列静态数据，或者静态的物理量绑定在动态的实现类中，让数据赋予了行为，这样的话每个数据的变化会带动与之相关的苏剧的变化。区别于传统的集成建模，传统的集成建模是将数据集成在一起，但是数据之间的关系是静态的，不会随着数据的变化而变化。而我们的方法是将数据和行为绑定在一起，赋予行为的数据是可操作的，同时带动与之关联的其他数据的变化。"
   ]
  },
  {
   "cell_type": "code",
   "execution_count": 40,
   "metadata": {},
   "outputs": [],
   "source": [
    "from spdm.data.sp_property import sp_tree, sp_property, SpTree\n",
    "from spdm.data.HTree import HTree, List, Dict\n",
    "from spdm.data.Entry import open_entry\n",
    "from spdm.data.AoS import AoS\n",
    "import typing\n",
    "import pprint"
   ]
  },
  {
   "cell_type": "markdown",
   "metadata": {},
   "source": [
    "__getitem__和__getattr__都是Python中的特殊方法，用于访问对象的属性。它们的区别在于：\n",
    "\n",
    "__getitem__用于访问对象的索引，例如obj[key]，其中key是索引值。\n",
    "__getattr__用于访问对象的属性，例如obj.attr，其中attr是属性名。\n",
    "如果对象同时实现了__getitem__和__getattr__，那么在访问对象的属性时，Python会先调用__getattr__方法，如果该方法抛出AttributeError异常，则会调用__getitem__方法。"
   ]
  },
  {
   "cell_type": "code",
   "execution_count": 14,
   "metadata": {},
   "outputs": [],
   "source": [
    "### Python中的内置函数，用来返回、修改、删除一个对象的属性\n",
    "from typing import Any\n",
    "\n",
    "\n",
    "class Foo:\n",
    "    def __getitem__(self, key: str) -> typing.Any:\n",
    "        print(f\"__getitem__({key})\")\n",
    "\n",
    "    def __setitem__(self, key: str, value: typing.Any):\n",
    "        print(f\"__setitem__({key}, {value})\")\n",
    "\n",
    "    def __delitem__(self, key: str):\n",
    "        print(f\"__delitem__({key})\")\n",
    "\n",
    "    def __getattr__(self, __name: str) -> Any:\n",
    "        print(f\"__getattr__({__name})\")\n",
    "\n",
    "    def __setattr__(self, __name: str,value) -> Any:\n",
    "        print(f\"__setattr__({__name})\")\n",
    "        \n",
    "    def __delattr__(self, __name: str) -> Any:\n",
    "        print(f\"__delattr__({__name})\")\n",
    "        "
   ]
  },
  {
   "cell_type": "code",
   "execution_count": 15,
   "metadata": {},
   "outputs": [
    {
     "name": "stdout",
     "output_type": "stream",
     "text": [
      "__getitem__(a)\n"
     ]
    }
   ],
   "source": [
    "foo=Foo()\n",
    "\n",
    "foo[\"a\"] "
   ]
  },
  {
   "cell_type": "code",
   "execution_count": 11,
   "metadata": {},
   "outputs": [
    {
     "name": "stdout",
     "output_type": "stream",
     "text": [
      "__setitem__(a, 1)\n"
     ]
    }
   ],
   "source": [
    "foo[\"a\"]=1"
   ]
  },
  {
   "cell_type": "code",
   "execution_count": 8,
   "metadata": {},
   "outputs": [
    {
     "name": "stdout",
     "output_type": "stream",
     "text": [
      "__delitem__(a)\n"
     ]
    }
   ],
   "source": [
    "del foo[\"a\"]"
   ]
  },
  {
   "cell_type": "code",
   "execution_count": 12,
   "metadata": {},
   "outputs": [
    {
     "name": "stdout",
     "output_type": "stream",
     "text": [
      "__getattr__(a)\n"
     ]
    }
   ],
   "source": [
    "foo.a"
   ]
  },
  {
   "cell_type": "code",
   "execution_count": 16,
   "metadata": {},
   "outputs": [
    {
     "name": "stdout",
     "output_type": "stream",
     "text": [
      "__setattr__(a)\n"
     ]
    }
   ],
   "source": [
    "foo.a=5"
   ]
  },
  {
   "cell_type": "code",
   "execution_count": 17,
   "metadata": {},
   "outputs": [
    {
     "name": "stdout",
     "output_type": "stream",
     "text": [
      "__delattr__(a)\n"
     ]
    }
   ],
   "source": [
    "del foo.a"
   ]
  },
  {
   "cell_type": "code",
   "execution_count": 63,
   "metadata": {},
   "outputs": [
    {
     "data": {
      "text/plain": [
       "'Alice'"
      ]
     },
     "execution_count": 63,
     "metadata": {},
     "output_type": "execute_result"
    }
   ],
   "source": [
    "@sp_tree\n",
    "class House:\n",
    "    def __init__(self, *args, **kwargs) -> None:\n",
    "        super().__init__(*args, **kwargs)\n",
    "        pprint.pprint((args, kwargs))\n",
    "\n",
    "    level: int = 4\n",
    "    length: float\n",
    "    width: float\n",
    "\n",
    "    @sp_property(units=\"m^2\")\n",
    "    def area(self) -> float:\n",
    "        return self.width * self.length\n",
    "\n",
    "\n",
    "@sp_tree\n",
    "class Addrees:\n",
    "    street: str\n",
    "    city: str\n",
    "    state: str\n",
    "    zip: int\n",
    "    building: str = \"#12345\"\n",
    "    neighbour: str\n",
    "    house: House = sp_property(label=\"big house\", default_value={\"level\": 2, \"area\": 1000})\n",
    "\n",
    "\n",
    "@sp_tree\n",
    "class Data:\n",
    "    def __init__(self, *args, **kwargs) -> None:\n",
    "        super().__init__(*args, **kwargs)\n",
    "\n",
    "    name: str\n",
    "    age: int\n",
    "    hobbies: List[str]\n",
    "    address: AoS[Addrees]\n",
    "\n",
    "\n",
    "data = Data(\n",
    "    {\n",
    "        \"name\": \"Alice\",\n",
    "        \"age\": 25,\n",
    "        \"hobbies\": [\"reading\", \"painting\", \"yoga\"],\n",
    "        \"address\": [\n",
    "            {\"street\": \"123 Main St\", \"city\": \"Anytown\", \"state\": \"CA\", \"zip\": \"12345\"},\n",
    "            {\n",
    "                \"street\": \"456 Oak St\",\n",
    "                \"city\": \"Othertown\",\n",
    "                \"state\": \"NY\",\n",
    "                \"zip\": \"67890\",\n",
    "                \"house\": {\"length\": 5, \"width\": 10},\n",
    "            },\n",
    "            {\"street\": \"789 Elm St\", \"city\": \"Somewhere\", \"state\": \"CO\", \"zip\": \"24680\"},\n",
    "        ],\n",
    "    },\n",
    "    # _entry=open_entry(....)\n",
    ")\n",
    "\n",
    "data.name"
   ]
  },
  {
   "cell_type": "code",
   "execution_count": 53,
   "metadata": {},
   "outputs": [
    {
     "data": {
      "text/plain": [
       "25"
      ]
     },
     "execution_count": 53,
     "metadata": {},
     "output_type": "execute_result"
    }
   ],
   "source": [
    "data.age"
   ]
  },
  {
   "cell_type": "code",
   "execution_count": 25,
   "metadata": {},
   "outputs": [
    {
     "data": {
      "text/plain": [
       "'reading'"
      ]
     },
     "execution_count": 25,
     "metadata": {},
     "output_type": "execute_result"
    }
   ],
   "source": [
    "data.hobbies[0]"
   ]
  },
  {
   "cell_type": "code",
   "execution_count": 31,
   "metadata": {},
   "outputs": [
    {
     "data": {
      "text/plain": [
       "12345"
      ]
     },
     "execution_count": 31,
     "metadata": {},
     "output_type": "execute_result"
    }
   ],
   "source": [
    "data.address[0].zip"
   ]
  },
  {
   "cell_type": "code",
   "execution_count": 33,
   "metadata": {},
   "outputs": [
    {
     "data": {
      "text/plain": [
       "<tags.not_found: 0>"
      ]
     },
     "execution_count": 33,
     "metadata": {},
     "output_type": "execute_result"
    }
   ],
   "source": [
    "data.address[0].neighbour"
   ]
  },
  {
   "cell_type": "code",
   "execution_count": 58,
   "metadata": {},
   "outputs": [
    {
     "name": "stdout",
     "output_type": "stream",
     "text": [
      "(({'length': 5, 'width': 10},),\n",
      " {'_entry': None,\n",
      "  '_parent': <__main__.Addrees object at 0x7f3be9446b30>,\n",
      "  'default_value': {'area': 1000, 'level': 2},\n",
      "  'label': 'big house',\n",
      "  'name': 'house'})\n"
     ]
    }
   ],
   "source": [
    "house=data.address[1].house"
   ]
  },
  {
   "cell_type": "code",
   "execution_count": 59,
   "metadata": {},
   "outputs": [
    {
     "data": {
      "text/plain": [
       "2"
      ]
     },
     "execution_count": 59,
     "metadata": {},
     "output_type": "execute_result"
    }
   ],
   "source": [
    "house.level"
   ]
  },
  {
   "cell_type": "code",
   "execution_count": 60,
   "metadata": {},
   "outputs": [
    {
     "data": {
      "text/plain": [
       "5.0"
      ]
     },
     "execution_count": 60,
     "metadata": {},
     "output_type": "execute_result"
    }
   ],
   "source": [
    "house.length"
   ]
  },
  {
   "cell_type": "code",
   "execution_count": 61,
   "metadata": {},
   "outputs": [
    {
     "data": {
      "text/plain": [
       "10.0"
      ]
     },
     "execution_count": 61,
     "metadata": {},
     "output_type": "execute_result"
    }
   ],
   "source": [
    "house.width"
   ]
  },
  {
   "cell_type": "code",
   "execution_count": 62,
   "metadata": {},
   "outputs": [
    {
     "data": {
      "text/plain": [
       "50.0"
      ]
     },
     "execution_count": 62,
     "metadata": {},
     "output_type": "execute_result"
    }
   ],
   "source": [
    "house.area"
   ]
  },
  {
   "cell_type": "code",
   "execution_count": 64,
   "metadata": {},
   "outputs": [
    {
     "data": {
      "text/plain": [
       "'m^2'"
      ]
     },
     "execution_count": 64,
     "metadata": {},
     "output_type": "execute_result"
    }
   ],
   "source": [
    "House.area.metadata.get(\"units\")"
   ]
  },
  {
   "cell_type": "code",
   "execution_count": 67,
   "metadata": {},
   "outputs": [
    {
     "data": {
      "text/plain": [
       "\"I don't know\""
      ]
     },
     "execution_count": 67,
     "metadata": {},
     "output_type": "execute_result"
    }
   ],
   "source": [
    "data.get(\"address/3/street\", \"I don't know\")"
   ]
  },
  {
   "cell_type": "code",
   "execution_count": 68,
   "metadata": {},
   "outputs": [
    {
     "name": "stdout",
     "output_type": "stream",
     "text": [
      "123 Main St\n",
      "456 Oak St\n",
      "789 Elm St\n",
      "I don't know\n"
     ]
    }
   ],
   "source": [
    "for address in data.address:\n",
    "    print(address.street)"
   ]
  },
  {
   "cell_type": "code",
   "execution_count": 71,
   "metadata": {},
   "outputs": [],
   "source": [
    "data.address[0].street = \"456 Main St\""
   ]
  },
  {
   "cell_type": "code",
   "execution_count": 72,
   "metadata": {},
   "outputs": [
    {
     "data": {
      "text/plain": [
       "'456 Main St'"
      ]
     },
     "execution_count": 72,
     "metadata": {},
     "output_type": "execute_result"
    }
   ],
   "source": [
    "data.address[0].street"
   ]
  },
  {
   "cell_type": "code",
   "execution_count": null,
   "metadata": {},
   "outputs": [],
   "source": [
    "data2 = Data({}, _entry=open_entry(\"file://./data/address.json\"))"
   ]
  },
  {
   "cell_type": "code",
   "execution_count": null,
   "metadata": {},
   "outputs": [],
   "source": [
    "\n",
    "file_entry可以给data，这个明天试下。\n",
    "file_entry = open_entry(f\"file+geqdsk://{workdir}//data/g900003.00230_ITER_15MA_eqdsk16HR.txt/#equilibrium\")"
   ]
  },
  {
   "cell_type": "code",
   "execution_count": 2,
   "metadata": {},
   "outputs": [
    {
     "name": "stdout",
     "output_type": "stream",
     "text": [
      "{'label': 'boo', 'name': 'boo', 'units': 'm'}\n",
      "{'label': 'boo', 'name': 'boo'}\n",
      "{'label': 'boo', 'name': 'boo'}\n"
     ]
    }
   ],
   "source": [
    "\n",
    "\n",
    "\n",
    "class Foo(SpTree):\n",
    "    boo: Data = sp_property(label=\"boo\", default_value=1.0)\n",
    "\n",
    "\n",
    "class Bar(Foo):\n",
    "    boo: Data = sp_property(label=\"boo\", units=\"m\")\n",
    "\n",
    "\n",
    "@sp_tree\n",
    "class Bar2(Foo):\n",
    "    boo: Data = 2.1234\n",
    "\n",
    "\n",
    "a = Bar()\n",
    "b = Bar2()\n",
    "print(a.boo._metadata)\n",
    "print(b.boo._metadata)\n",
    "print(b.get(\"boo\")._metadata)"
   ]
  }
 ],
 "metadata": {
  "kernelspec": {
   "display_name": "Python 3",
   "language": "python",
   "name": "python3"
  },
  "language_info": {
   "codemirror_mode": {
    "name": "ipython",
    "version": 3
   },
   "file_extension": ".py",
   "mimetype": "text/x-python",
   "name": "python",
   "nbconvert_exporter": "python",
   "pygments_lexer": "ipython3",
   "version": "3.10.12"
  }
 },
 "nbformat": 4,
 "nbformat_minor": 2
}

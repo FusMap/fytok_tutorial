{
 "cells": [
  {
   "cell_type": "markdown",
   "metadata": {},
   "source": [
    "# 本地文件"
   ]
  },
  {
   "cell_type": "markdown",
   "metadata": {},
   "source": [
    "## 针对文件的URL表达式：\n",
    "```\n",
    "file_entry = open_entry(f\"file+format://{file_path}}\")\n",
    "```\n",
    "- open_entry() :API入口\n",
    "- file：处理对象是文件\n",
    "- format：指定文件格式\n",
    "- file_path：文件路径"
   ]
  },
  {
   "cell_type": "markdown",
   "metadata": {},
   "source": [
    "## 处理gdskfile文件"
   ]
  },
  {
   "cell_type": "code",
   "execution_count": 2,
   "metadata": {},
   "outputs": [],
   "source": [
    "### 初始化环境，import open_entry\n",
    "from spdm.core.Entry import open_entry\n",
    "\n",
    "### 指定输入文件的目录workdir\n",
    "workdir = \"./\"\n",
    "\n",
    "### 使用open_entry打开一个gdskfile文件\n",
    "file_entry = open_entry(f\"file+geqdsk://{workdir}/data/g070754.05000/\")\n",
    "\n",
    "\n",
    "### 指定子节点的标识符\n",
    "# file_entry = open_entry(f\"file+geqdsk://{workdir}//data/g900003.00230_ITER_15MA_eqdsk16HR.txt/#equilibrium\")\n"
   ]
  },
  {
   "cell_type": "code",
   "execution_count": 3,
   "metadata": {},
   "outputs": [
    {
     "ename": "NotImplementedError",
     "evalue": "OpTags.keys",
     "output_type": "error",
     "traceback": [
      "\u001b[0;31m---------------------------------------------------------------------------\u001b[0m",
      "\u001b[0;31mNotImplementedError\u001b[0m                       Traceback (most recent call last)",
      "Cell \u001b[0;32mIn[3], line 3\u001b[0m\n\u001b[1;32m      1\u001b[0m \u001b[38;5;66;03m## file_entry是一个Entry对象,B02节介绍的针对entry的对象的操作均可使用\u001b[39;00m\n\u001b[1;32m      2\u001b[0m \u001b[38;5;66;03m## 获得该entry树的所有节点的标识符\u001b[39;00m\n\u001b[0;32m----> 3\u001b[0m [\u001b[38;5;241m*\u001b[39mfile_entry\u001b[38;5;241m.\u001b[39mkeys()]\n",
      "File \u001b[0;32m~/workspace/fytok/SpDM/python/spdm/core/Entry.py:214\u001b[0m, in \u001b[0;36mEntry.keys\u001b[0;34m(self)\u001b[0m\n\u001b[1;32m    213\u001b[0m \u001b[38;5;28;01mdef\u001b[39;00m \u001b[38;5;21mkeys\u001b[39m(\u001b[38;5;28mself\u001b[39m) \u001b[38;5;241m-\u001b[39m\u001b[38;5;241m>\u001b[39m typing\u001b[38;5;241m.\u001b[39mGenerator[\u001b[38;5;28mstr\u001b[39m, \u001b[38;5;28;01mNone\u001b[39;00m, \u001b[38;5;28;01mNone\u001b[39;00m]:\n\u001b[0;32m--> 214\u001b[0m     \u001b[38;5;28;01myield from\u001b[39;00m \u001b[38;5;28mself\u001b[39m\u001b[38;5;241m.\u001b[39m_path\u001b[38;5;241m.\u001b[39mkeys(\u001b[38;5;28mself\u001b[39m\u001b[38;5;241m.\u001b[39m_data)\n",
      "File \u001b[0;32m~/workspace/fytok/SpDM/python/spdm/core/Path.py:653\u001b[0m, in \u001b[0;36mPath.keys\u001b[0;34m(self, source)\u001b[0m\n\u001b[1;32m    652\u001b[0m \u001b[38;5;28;01mdef\u001b[39;00m \u001b[38;5;21mkeys\u001b[39m(\u001b[38;5;28mself\u001b[39m, source) \u001b[38;5;241m-\u001b[39m\u001b[38;5;241m>\u001b[39m typing\u001b[38;5;241m.\u001b[39mGenerator[\u001b[38;5;28mstr\u001b[39m, \u001b[38;5;28;01mNone\u001b[39;00m, \u001b[38;5;28;01mNone\u001b[39;00m]:\n\u001b[0;32m--> 653\u001b[0m     \u001b[38;5;28;01myield from\u001b[39;00m Path\u001b[38;5;241m.\u001b[39m_do_for_each(source, Path\u001b[38;5;241m.\u001b[39mtags\u001b[38;5;241m.\u001b[39mkeys)\n",
      "File \u001b[0;32m~/workspace/fytok/SpDM/python/spdm/core/Path.py:1132\u001b[0m, in \u001b[0;36mPath._do_for_each\u001b[0;34m(source, path, *args, **kwargs)\u001b[0m\n\u001b[1;32m   1130\u001b[0m         \u001b[38;5;28;01mbreak\u001b[39;00m\n\u001b[1;32m   1131\u001b[0m     \u001b[38;5;28;01melif\u001b[39;00m \u001b[38;5;28misinstance\u001b[39m(p, Path\u001b[38;5;241m.\u001b[39mtags):\n\u001b[0;32m-> 1132\u001b[0m         \u001b[38;5;28;01mraise\u001b[39;00m \u001b[38;5;167;01mNotImplementedError\u001b[39;00m(p)\n\u001b[1;32m   1133\u001b[0m \u001b[38;5;28;01melse\u001b[39;00m:\n\u001b[1;32m   1134\u001b[0m     source \u001b[38;5;241m=\u001b[39m Path\u001b[38;5;241m.\u001b[39m_do_find(source, path)\n",
      "\u001b[0;31mNotImplementedError\u001b[0m: OpTags.keys"
     ]
    }
   ],
   "source": [
    "## file_entry是一个Entry对象,B02节介绍的针对entry的对象的操作均可使用\n",
    "## 获得该entry树的所有节点的标识符\n",
    "[*file_entry.keys()]"
   ]
  },
  {
   "cell_type": "code",
   "execution_count": 4,
   "metadata": {},
   "outputs": [
    {
     "ename": "AttributeError",
     "evalue": "'Entry' object has no attribute 'fetch'",
     "output_type": "error",
     "traceback": [
      "\u001b[0;31m---------------------------------------------------------------------------\u001b[0m",
      "\u001b[0;31mAttributeError\u001b[0m                            Traceback (most recent call last)",
      "Cell \u001b[0;32mIn[4], line 2\u001b[0m\n\u001b[1;32m      1\u001b[0m \u001b[38;5;66;03m## 指标移到wall节点，获得数据\u001b[39;00m\n\u001b[0;32m----> 2\u001b[0m \u001b[43mfile_entry\u001b[49m\u001b[38;5;241;43m.\u001b[39;49m\u001b[43mchild\u001b[49m\u001b[43m(\u001b[49m\u001b[38;5;124;43m\"\u001b[39;49m\u001b[38;5;124;43mwall\u001b[39;49m\u001b[38;5;124;43m\"\u001b[39;49m\u001b[43m)\u001b[49m\u001b[38;5;241;43m.\u001b[39;49m\u001b[43mfetch\u001b[49m()\n",
      "\u001b[0;31mAttributeError\u001b[0m: 'Entry' object has no attribute 'fetch'"
     ]
    }
   ],
   "source": [
    "## 指标移到wall节点，获得数据\n",
    "file_entry.child(\"wall\").fetch()"
   ]
  },
  {
   "cell_type": "code",
   "execution_count": 5,
   "metadata": {},
   "outputs": [],
   "source": [
    "### 指定子节点的标识符\n",
    "file_entry_eq = open_entry(f\"file+geqdsk://{workdir}//data/g900003.00230_ITER_15MA_eqdsk16HR.txt/#equilibrium\")"
   ]
  },
  {
   "cell_type": "code",
   "execution_count": 6,
   "metadata": {},
   "outputs": [
    {
     "ename": "NotImplementedError",
     "evalue": "OpTags.keys",
     "output_type": "error",
     "traceback": [
      "\u001b[0;31m---------------------------------------------------------------------------\u001b[0m",
      "\u001b[0;31mNotImplementedError\u001b[0m                       Traceback (most recent call last)",
      "Cell \u001b[0;32mIn[6], line 2\u001b[0m\n\u001b[1;32m      1\u001b[0m \u001b[38;5;66;03m### equilibrium节点的子节点\u001b[39;00m\n\u001b[0;32m----> 2\u001b[0m [\u001b[38;5;241m*\u001b[39mfile_entry_eq\u001b[38;5;241m.\u001b[39mkeys()]\n",
      "File \u001b[0;32m~/workspace/fytok/SpDM/python/spdm/core/Entry.py:214\u001b[0m, in \u001b[0;36mEntry.keys\u001b[0;34m(self)\u001b[0m\n\u001b[1;32m    213\u001b[0m \u001b[38;5;28;01mdef\u001b[39;00m \u001b[38;5;21mkeys\u001b[39m(\u001b[38;5;28mself\u001b[39m) \u001b[38;5;241m-\u001b[39m\u001b[38;5;241m>\u001b[39m typing\u001b[38;5;241m.\u001b[39mGenerator[\u001b[38;5;28mstr\u001b[39m, \u001b[38;5;28;01mNone\u001b[39;00m, \u001b[38;5;28;01mNone\u001b[39;00m]:\n\u001b[0;32m--> 214\u001b[0m     \u001b[38;5;28;01myield from\u001b[39;00m \u001b[38;5;28mself\u001b[39m\u001b[38;5;241m.\u001b[39m_path\u001b[38;5;241m.\u001b[39mkeys(\u001b[38;5;28mself\u001b[39m\u001b[38;5;241m.\u001b[39m_data)\n",
      "File \u001b[0;32m~/workspace/fytok/SpDM/python/spdm/core/Path.py:653\u001b[0m, in \u001b[0;36mPath.keys\u001b[0;34m(self, source)\u001b[0m\n\u001b[1;32m    652\u001b[0m \u001b[38;5;28;01mdef\u001b[39;00m \u001b[38;5;21mkeys\u001b[39m(\u001b[38;5;28mself\u001b[39m, source) \u001b[38;5;241m-\u001b[39m\u001b[38;5;241m>\u001b[39m typing\u001b[38;5;241m.\u001b[39mGenerator[\u001b[38;5;28mstr\u001b[39m, \u001b[38;5;28;01mNone\u001b[39;00m, \u001b[38;5;28;01mNone\u001b[39;00m]:\n\u001b[0;32m--> 653\u001b[0m     \u001b[38;5;28;01myield from\u001b[39;00m Path\u001b[38;5;241m.\u001b[39m_do_for_each(source, Path\u001b[38;5;241m.\u001b[39mtags\u001b[38;5;241m.\u001b[39mkeys)\n",
      "File \u001b[0;32m~/workspace/fytok/SpDM/python/spdm/core/Path.py:1132\u001b[0m, in \u001b[0;36mPath._do_for_each\u001b[0;34m(source, path, *args, **kwargs)\u001b[0m\n\u001b[1;32m   1130\u001b[0m         \u001b[38;5;28;01mbreak\u001b[39;00m\n\u001b[1;32m   1131\u001b[0m     \u001b[38;5;28;01melif\u001b[39;00m \u001b[38;5;28misinstance\u001b[39m(p, Path\u001b[38;5;241m.\u001b[39mtags):\n\u001b[0;32m-> 1132\u001b[0m         \u001b[38;5;28;01mraise\u001b[39;00m \u001b[38;5;167;01mNotImplementedError\u001b[39;00m(p)\n\u001b[1;32m   1133\u001b[0m \u001b[38;5;28;01melse\u001b[39;00m:\n\u001b[1;32m   1134\u001b[0m     source \u001b[38;5;241m=\u001b[39m Path\u001b[38;5;241m.\u001b[39m_do_find(source, path)\n",
      "\u001b[0;31mNotImplementedError\u001b[0m: OpTags.keys"
     ]
    }
   ],
   "source": [
    "### equilibrium节点的子节点\n",
    "[*file_entry_eq.keys()]"
   ]
  },
  {
   "cell_type": "markdown",
   "metadata": {},
   "source": [
    "## HDF5 文件"
   ]
  },
  {
   "cell_type": "code",
   "execution_count": 7,
   "metadata": {},
   "outputs": [
    {
     "name": "stdout",
     "output_type": "stream",
     "text": [
      "\u001b[0;34m2024-04-23 09:28:04,025 [    spdm]     INFO: Load module spdm.plugins.data.plugin_hdf5\u001b[0m\n",
      "\u001b[0;37m2024-04-23 09:28:04,028 [    spdm]    DEBUG: /home/salmon/workspace/fytok/SpDM/python/spdm/plugins/data/plugin_hdf5.py:196:open: Open HDF5 File .//data/test_eq.h5 mode=Mode.read\u001b[0m\n"
     ]
    }
   ],
   "source": [
    "\n",
    "hdf5_entry = open_entry(f\"file+hdf5://{workdir}/data/test_eq.h5\")"
   ]
  },
  {
   "cell_type": "code",
   "execution_count": null,
   "metadata": {},
   "outputs": [],
   "source": [
    "[*hdf5_entry.keys()]"
   ]
  },
  {
   "cell_type": "code",
   "execution_count": null,
   "metadata": {},
   "outputs": [],
   "source": [
    "hdf5_entry.child(\"equilibrium/time_slice/0/boundary\").fetch()"
   ]
  },
  {
   "cell_type": "code",
   "execution_count": null,
   "metadata": {},
   "outputs": [],
   "source": [
    "## 或者使用.来表示字符串\n",
    "hdf5_entry.child(\"equilibrium.time_slice[0].boundary.geometric_axis\").fetch()"
   ]
  },
  {
   "cell_type": "markdown",
   "metadata": {},
   "source": [
    "## NetCDF 文件\n"
   ]
  },
  {
   "cell_type": "code",
   "execution_count": 8,
   "metadata": {},
   "outputs": [
    {
     "name": "stdout",
     "output_type": "stream",
     "text": [
      "\u001b[0;37m2024-04-23 09:28:10,149 [    spdm]    DEBUG: /home/salmon/workspace/fytok/SpDM/python/spdm/plugins/data/plugin_hdf5.py:196:open: Open HDF5 File .//data/test.nc mode=Mode.read\u001b[0m\n"
     ]
    }
   ],
   "source": [
    "nc_entry = open_entry(f\"file+hdf5://{workdir}/data/test.nc\")"
   ]
  },
  {
   "cell_type": "code",
   "execution_count": null,
   "metadata": {},
   "outputs": [],
   "source": [
    "[*nc_entry.keys()]"
   ]
  },
  {
   "cell_type": "code",
   "execution_count": null,
   "metadata": {},
   "outputs": [],
   "source": [
    "nc_entry.child(\"coherent_wave\").fetch()"
   ]
  },
  {
   "cell_type": "code",
   "execution_count": null,
   "metadata": {},
   "outputs": [],
   "source": [
    "[*file_entry.keys()]"
   ]
  },
  {
   "cell_type": "code",
   "execution_count": null,
   "metadata": {},
   "outputs": [],
   "source": [
    "### 访问远程EAST MDS数据库中70754炮的数据，\n",
    "shot_num = 70754\n",
    "time_slice = 10\n",
    "entry = open_entry(\"east+mdsplus://202.127.204.12?enable=efit_east&shot={shot_num}\")"
   ]
  },
  {
   "cell_type": "code",
   "execution_count": null,
   "metadata": {},
   "outputs": [],
   "source": [
    "[*file_entry.keys()]"
   ]
  },
  {
   "cell_type": "code",
   "execution_count": null,
   "metadata": {},
   "outputs": [],
   "source": [
    "file_entry.get(\"vacuum_toroidal_field\")"
   ]
  },
  {
   "cell_type": "code",
   "execution_count": null,
   "metadata": {},
   "outputs": [],
   "source": [
    "file_entry.child(\"vacuum_toroidal_field\").fetch()"
   ]
  }
 ],
 "metadata": {
  "kernelspec": {
   "display_name": "Python 3 (ipykernel)",
   "language": "python",
   "name": "python3"
  },
  "language_info": {
   "codemirror_mode": {
    "name": "ipython",
    "version": 3
   },
   "file_extension": ".py",
   "mimetype": "text/x-python",
   "name": "python",
   "nbconvert_exporter": "python",
   "pygments_lexer": "ipython3",
   "version": "3.11.3"
  }
 },
 "nbformat": 4,
 "nbformat_minor": 2
}

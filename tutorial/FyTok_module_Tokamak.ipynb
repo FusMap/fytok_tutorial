{
 "cells": [
  {
   "cell_type": "markdown",
   "metadata": {},
   "source": [
    "# `fytok.Tokamak`\n"
   ]
  },
  {
   "cell_type": "markdown",
   "metadata": {},
   "source": [
    "## 简介\n",
    "`fytok.Tokmak(Actor)` 不在 IMAS DD 定义的 IDS 中。\n",
    "\n",
    "![fytok_flow](./figures/FyTok_en.svg)"
   ]
  },
  {
   "cell_type": "markdown",
   "metadata": {},
   "source": [
    "```{eval-rst}\n",
    ".. autoclass:: fytok.Tokamak.Tokamak\n",
    "    :members: brief_summary,title,tag, refresh,wall, tf, pf_active, magnetics, equilibrium, core_profiles, core_transport, core_sources, transport_solver\n",
    "    :special-members: __init__\n",
    "    :member-order: bysource\n",
    "    :show-inheritance: True\n",
    "```\n"
   ]
  },
  {
   "cell_type": "markdown",
   "metadata": {},
   "source": [
    "## 示例"
   ]
  },
  {
   "cell_type": "code",
   "execution_count": null,
   "metadata": {},
   "outputs": [],
   "source": [
    "from fytok.Tokamak import Tokamak\n",
    "\n",
    "tok = Tokamak(\n",
    "    \"file+geqdsk://./data/g900003.00230_ITER_15MA_eqdsk16HR.txt\",\n",
    "    device=\"ITER\",\n",
    "    shot=900003,\n",
    "    time=0.0,\n",
    ")"
   ]
  },
  {
   "cell_type": "code",
   "execution_count": null,
   "metadata": {},
   "outputs": [],
   "source": [
    "print(tok.brief_summary)"
   ]
  },
  {
   "cell_type": "code",
   "execution_count": null,
   "metadata": {},
   "outputs": [],
   "source": [
    "display(tok)"
   ]
  },
  {
   "cell_type": "code",
   "execution_count": null,
   "metadata": {},
   "outputs": [],
   "source": [
    "import spdm.view.View as sp_view\n",
    "\n",
    "eq_profiles_1d = tok.equilibrium.time_slice.current.profiles_1d\n",
    "\n",
    "profs = sp_view.plot(\n",
    "    [\n",
    "        ((eq_profiles_1d.dvolume_dpsi, {\"label\": r\"$\\frac{dV}{d\\psi}$\"}), {\"y_label\": r\"$[Wb]$\"}),\n",
    "        (eq_profiles_1d.dpsi_drho_tor, {\"label\": r\"$\\frac{d\\psi}{d\\rho_{tor}}$\"}),\n",
    "        ((eq_profiles_1d.f, {\"label\": r\"fytok\"}), {\"y_label\": r\"$F_{pol} [Wb\\cdot m]$\"}),\n",
    "        ((eq_profiles_1d.q, {\"label\": r\"$fytok$\"}), {\"y_label\": r\"$q [-]$\"}),\n",
    "        ((eq_profiles_1d.rho_tor, {\"label\": r\"$\\rho$\"}), {\"y_label\": r\"$\\rho_{tor}[m]$\"}),\n",
    "        ((eq_profiles_1d.rho_tor_norm, {\"label\": r\"$\\bar{\\rho}$\"}), {\"y_label\": r\"[-]\"}),\n",
    "        ((eq_profiles_1d.dvolume_drho_tor, {\"label\": r\"$dV/d\\rho_{tor}$\"}), {\"y_label\": r\"$4\\pi ^ 2 R_0 \\rho[m ^ 2]$\"}),\n",
    "    ],\n",
    "    x_axis=tok.equilibrium.time_slice.current.profiles_1d.psi,\n",
    "    x_label=r\"$\\bar{\\psi}[-]$\",\n",
    "    title=r\"$\\psi$ dependent profiles\",\n",
    ")"
   ]
  },
  {
   "cell_type": "markdown",
   "metadata": {},
   "source": [
    "## API\n",
    "\n"
   ]
  }
 ],
 "metadata": {
  "kernelspec": {
   "display_name": "Python 3",
   "language": "python",
   "name": "python3"
  },
  "language_info": {
   "codemirror_mode": {
    "name": "ipython",
    "version": 3
   },
   "file_extension": ".py",
   "mimetype": "text/x-python",
   "name": "python",
   "nbconvert_exporter": "python",
   "pygments_lexer": "ipython3",
   "version": "3.10.12"
  }
 },
 "nbformat": 4,
 "nbformat_minor": 2
}

{
 "cells": [
  {
   "cell_type": "markdown",
   "metadata": {},
   "source": [
    "# 数据绑定"
   ]
  },
  {
   "cell_type": "markdown",
   "metadata": {},
   "source": [
    "`HTree` 是一个类，用来进行数据绑定。它的实例化对象是一个层次化的树形结构，每个节点都是一个 `HTree`，`HTree` 对象的属性可以通过点号访问，也可以通过索引访问。\n"
   ]
  },
  {
   "cell_type": "markdown",
   "metadata": {},
   "source": [
    "## 将Python中原生数据映射到`HTree`中"
   ]
  },
  {
   "cell_type": "code",
   "execution_count": 1,
   "metadata": {},
   "outputs": [],
   "source": [
    "from spdm.core.HTree import HTree, List, Dict\n",
    "\n",
    "class Data(Dict):\n",
    "    pass\n",
    "\n",
    "### 传递一个普通的字典结构给Data\n",
    "data = Data(\n",
    "    {\n",
    "        \"name\": \"Alice\",\n",
    "        \"age\": 25,\n",
    "        \"hobbies\": [\"reading\", \"painting\", \"yoga\"],\n",
    "        \"address\": [\n",
    "            {\"street\": \"123 Main St\", \"city\": \"Anytown\", \"state\": \"CA\", \"zip\": \"12345\"},\n",
    "            {\n",
    "                \"street\": \"456 Oak St\",\n",
    "                \"city\": \"Othertown\",\n",
    "                \"state\": \"NY\",\n",
    "                \"zip\": \"67890\",\n",
    "            },\n",
    "            {\"street\": \"789 Elm St\", \"city\": \"Somewhere\", \"state\": \"CO\", \"zip\": \"24680\"},\n",
    "        ],\n",
    "    },\n",
    "    # _entry=open_entry(....)\n",
    ")"
   ]
  },
  {
   "cell_type": "code",
   "execution_count": 2,
   "metadata": {},
   "outputs": [
    {
     "data": {
      "text/plain": [
       "'Alice'"
      ]
     },
     "execution_count": 2,
     "metadata": {},
     "output_type": "execute_result"
    }
   ],
   "source": [
    "## 访问字典中的数据\n",
    "data.get(\"name\")"
   ]
  },
  {
   "cell_type": "code",
   "execution_count": 3,
   "metadata": {},
   "outputs": [
    {
     "data": {
      "text/plain": [
       "[{'street': '123 Main St', 'city': 'Anytown', 'state': 'CA', 'zip': '12345'},\n",
       " {'street': '456 Oak St', 'city': 'Othertown', 'state': 'NY', 'zip': '67890'},\n",
       " {'street': '789 Elm St', 'city': 'Somewhere', 'state': 'CO', 'zip': '24680'}]"
      ]
     },
     "execution_count": 3,
     "metadata": {},
     "output_type": "execute_result"
    }
   ],
   "source": [
    "data.get(\"address\")"
   ]
  },
  {
   "cell_type": "code",
   "execution_count": 4,
   "metadata": {},
   "outputs": [
    {
     "data": {
      "text/plain": [
       "{'street': '456 Oak St', 'city': 'Othertown', 'state': 'NY', 'zip': '67890'}"
      ]
     },
     "execution_count": 4,
     "metadata": {},
     "output_type": "execute_result"
    }
   ],
   "source": [
    "### 但是address不支持直接切片访问。\n",
    "data.get(\"address[1]\")"
   ]
  },
  {
   "cell_type": "code",
   "execution_count": 5,
   "metadata": {},
   "outputs": [
    {
     "data": {
      "text/plain": [
       "{'street': '456 Oak St', 'city': 'Othertown', 'state': 'NY', 'zip': '67890'}"
      ]
     },
     "execution_count": 5,
     "metadata": {},
     "output_type": "execute_result"
    }
   ],
   "source": [
    "### address只能以整体拿回来，然后再切片访问\n",
    "data.get(\"address\")[1]"
   ]
  },
  {
   "cell_type": "markdown",
   "metadata": {},
   "source": [
    "## `sp_tree` 装饰器\n",
    "`sp_tree` 装饰器的作用是根据 `class` 中定义的 `type_hint` 生成 `property`，并于数据源对应 `key` 的 `value` 绑定，且在访问 `property` 时自动根据 `type_hint` 进行类型转换。"
   ]
  },
  {
   "cell_type": "code",
   "execution_count": 6,
   "metadata": {},
   "outputs": [],
   "source": [
    "from spdm.core.sp_property import sp_tree, sp_property \n",
    "from spdm.core.AoS import AoS\n",
    "import pprint\n",
    "\n",
    "### sp_tree装饰器支持在Data类中声明字典中的每个元素key及其value的数据类型，这样就可以直接访问字典中的元素。\n",
    "@sp_tree\n",
    "class Data:\n",
    "    def __init__(self, *args, **kwargs) -> None:\n",
    "        super().__init__(*args, **kwargs)\n",
    "\n",
    "    name: str\n",
    "    age: int\n",
    "    hobbies: List[str]\n",
    "    address: List[Dict]   \n",
    "    # address: AoS[Dict]\n",
    "    # address: AoS[Addrees]\n",
    "\n",
    "\n",
    "data = Data(\n",
    "    {\n",
    "        \"name\": \"Alice\",\n",
    "        \"age\": '25',\n",
    "        \"hobbies\": [\"reading\", \"painting\", \"yoga\"],\n",
    "        \"address\": [\n",
    "            {\"street\": \"123 Main St\", \"city\": \"Anytown\", \"state\": \"CA\", \"zip\": \"12345\"},\n",
    "            {\n",
    "                \"street\": \"456 Oak St\",\n",
    "                \"city\": \"Othertown\",\n",
    "                \"state\": \"NY\",\n",
    "                \"zip\": \"67890\",\n",
    "            },\n",
    "            {\"street\": \"789 Elm St\", \"city\": \"Somewhere\", \"state\": \"CO\", \"zip\": \"24680\"},\n",
    "        ],\n",
    "    },\n",
    "    # _entry=open_entry(....)\n",
    ")"
   ]
  },
  {
   "cell_type": "code",
   "execution_count": 7,
   "metadata": {},
   "outputs": [
    {
     "data": {
      "text/plain": [
       "'Alice'"
      ]
     },
     "execution_count": 7,
     "metadata": {},
     "output_type": "execute_result"
    }
   ],
   "source": [
    "## 发现声明过的元素其颜色都是蓝色的\n",
    "data.name"
   ]
  },
  {
   "cell_type": "code",
   "execution_count": 8,
   "metadata": {},
   "outputs": [
    {
     "data": {
      "text/plain": [
       "int"
      ]
     },
     "execution_count": 8,
     "metadata": {},
     "output_type": "execute_result"
    }
   ],
   "source": [
    "### 除了声明元素的key值，同时可以强制转化原有数据的数据类型\n",
    "type(data.age)"
   ]
  },
  {
   "cell_type": "code",
   "execution_count": 9,
   "metadata": {},
   "outputs": [
    {
     "data": {
      "text/plain": [
       "Data.address"
      ]
     },
     "execution_count": 9,
     "metadata": {},
     "output_type": "execute_result"
    }
   ],
   "source": [
    "### \n",
    "data.address"
   ]
  },
  {
   "cell_type": "code",
   "execution_count": 10,
   "metadata": {},
   "outputs": [
    {
     "ename": "AttributeError",
     "evalue": "'Dict' object has no attribute 'zip'",
     "output_type": "error",
     "traceback": [
      "\u001b[0;31m---------------------------------------------------------------------------\u001b[0m",
      "\u001b[0;31mAttributeError\u001b[0m                            Traceback (most recent call last)",
      "Cell \u001b[0;32mIn[10], line 2\u001b[0m\n\u001b[1;32m      1\u001b[0m \u001b[38;5;66;03m## zip颜色是灰色，因为Dict里面的元素没有一一声明，\u001b[39;00m\n\u001b[0;32m----> 2\u001b[0m \u001b[43mdata\u001b[49m\u001b[38;5;241;43m.\u001b[39;49m\u001b[43maddress\u001b[49m\u001b[43m[\u001b[49m\u001b[38;5;241;43m0\u001b[39;49m\u001b[43m]\u001b[49m\u001b[38;5;241;43m.\u001b[39;49m\u001b[43mzip\u001b[49m\n",
      "\u001b[0;31mAttributeError\u001b[0m: 'Dict' object has no attribute 'zip'"
     ]
    }
   ],
   "source": [
    "## zip颜色是灰色，因为Dict里面的元素没有一一声明，\n",
    "data.address[0].zip"
   ]
  },
  {
   "cell_type": "code",
   "execution_count": null,
   "metadata": {},
   "outputs": [
    {
     "data": {
      "text/plain": [
       "{'street': '123 Main St', 'city': 'Anytown', 'state': 'CA', 'zip': '12345'}"
      ]
     },
     "execution_count": 112,
     "metadata": {},
     "output_type": "execute_result"
    }
   ],
   "source": [
    "### 支持对LIST元素的直接切片访问，而不需要拿回整个字典\n",
    "data.address[0]._cache"
   ]
  },
  {
   "cell_type": "markdown",
   "metadata": {},
   "source": [
    "## AoS 结构体数组"
   ]
  },
  {
   "cell_type": "code",
   "execution_count": null,
   "metadata": {},
   "outputs": [],
   "source": [
    "### 增加Address类，定义address的数据类型\n",
    "\n",
    "@sp_tree\n",
    "class Addrees:\n",
    "    street: str\n",
    "    city: str\n",
    "    state: str\n",
    "    zip: int\n",
    "\n",
    "\n",
    "@sp_tree\n",
    "class Data:\n",
    "    def __init__(self, *args, **kwargs) -> None:\n",
    "        super().__init__(*args, **kwargs)\n",
    "\n",
    "    name: str\n",
    "    age: int\n",
    "    hobbies: List[str]\n",
    "    address: AoS[Addrees]\n",
    "\n",
    "\n",
    "data = Data(\n",
    "    {\n",
    "        \"name\": \"Alice\",\n",
    "        \"age\": '25',\n",
    "        \"hobbies\": [\"reading\", \"painting\", \"yoga\"],\n",
    "        \"address\": [\n",
    "            {\"street\": \"123 Main St\", \"city\": \"Anytown\", \"state\": \"CA\", \"zip\": \"12345\"},\n",
    "            {\n",
    "                \"street\": \"456 Oak St\",\n",
    "                \"city\": \"Othertown\",\n",
    "                \"state\": \"NY\",\n",
    "                \"zip\": \"67890\",\n",
    "            },\n",
    "            {\"street\": \"789 Elm St\", \"city\": \"Somewhere\", \"state\": \"CO\", \"zip\": \"24680\"},\n",
    "        ],\n",
    "    },\n",
    "    # _entry=open_entry(....)\n",
    ")"
   ]
  },
  {
   "cell_type": "code",
   "execution_count": null,
   "metadata": {},
   "outputs": [
    {
     "data": {
      "text/plain": [
       "12345"
      ]
     },
     "execution_count": 130,
     "metadata": {},
     "output_type": "execute_result"
    }
   ],
   "source": [
    "### zip的颜色变成了蓝色，因为在Addrees类中声明了zip\n",
    "data.address[0].zip"
   ]
  },
  {
   "cell_type": "code",
   "execution_count": null,
   "metadata": {},
   "outputs": [
    {
     "data": {
      "text/plain": [
       "'456 Oak St'"
      ]
     },
     "execution_count": 132,
     "metadata": {},
     "output_type": "execute_result"
    }
   ],
   "source": [
    "data.address[1].street"
   ]
  },
  {
   "cell_type": "code",
   "execution_count": null,
   "metadata": {},
   "outputs": [
    {
     "data": {
      "text/plain": [
       "{'street': '123 Main St', 'city': 'Anytown', 'state': 'CA', 'zip': 12345}"
      ]
     },
     "execution_count": 131,
     "metadata": {},
     "output_type": "execute_result"
    }
   ],
   "source": [
    "data.address[0]._cache"
   ]
  },
  {
   "cell_type": "markdown",
   "metadata": {},
   "source": [
    "## 访问属性"
   ]
  },
  {
   "cell_type": "code",
   "execution_count": null,
   "metadata": {},
   "outputs": [],
   "source": [
    "\n",
    "\n",
    "@sp_tree\n",
    "class Addrees:\n",
    "    street: str\n",
    "    city: str\n",
    "    state: str\n",
    "    zip: int\n",
    "    building: str = \"#12345\" # default value\n",
    "    neighbour: str\n",
    "\n",
    "\n",
    "@sp_tree\n",
    "class Data:\n",
    "    def __init__(self, *args, **kwargs) -> None:\n",
    "        super().__init__(*args, **kwargs)\n",
    "\n",
    "    name: str\n",
    "    age: int\n",
    "    hobbies: List[str]\n",
    "    address: AoS[Addrees]\n",
    "\n",
    "\n",
    "data = Data(\n",
    "    {\n",
    "        \"name\": \"Alice\",\n",
    "        \"age\": 25,\n",
    "        \"hobbies\": [\"reading\", \"painting\", \"yoga\"],\n",
    "        \"address\": [\n",
    "            {\"street\": \"123 Main St\", \"city\": \"Anytown\", \"state\": \"CA\", \"zip\": \"12345\"},\n",
    "            {\n",
    "                \"street\": \"456 Oak St\",\n",
    "                \"city\": \"Othertown\",\n",
    "                \"state\": \"NY\",\n",
    "                \"zip\": \"67890\",\n",
    "            },\n",
    "            {\"street\": \"789 Elm St\", \"city\": \"Somewhere\", \"state\": \"CO\", \"zip\": \"24680\"},\n",
    "        ],\n",
    "    },\n",
    "    # _entry=open_entry(....)\n",
    ")\n",
    "\n"
   ]
  },
  {
   "cell_type": "code",
   "execution_count": null,
   "metadata": {},
   "outputs": [
    {
     "data": {
      "text/plain": [
       "'#12345'"
      ]
     },
     "execution_count": 135,
     "metadata": {},
     "output_type": "execute_result"
    }
   ],
   "source": [
    "data.address[0].building"
   ]
  },
  {
   "cell_type": "code",
   "execution_count": null,
   "metadata": {},
   "outputs": [],
   "source": [
    "data.address[0].neighbour=\"zhangshan\""
   ]
  },
  {
   "cell_type": "code",
   "execution_count": null,
   "metadata": {},
   "outputs": [
    {
     "data": {
      "text/plain": [
       "'#12345'"
      ]
     },
     "execution_count": 144,
     "metadata": {},
     "output_type": "execute_result"
    }
   ],
   "source": [
    "### 应用才会生效\n",
    "data.address[1].building"
   ]
  },
  {
   "cell_type": "code",
   "execution_count": null,
   "metadata": {},
   "outputs": [
    {
     "data": {
      "text/plain": [
       "'zhangshan'"
      ]
     },
     "execution_count": 139,
     "metadata": {},
     "output_type": "execute_result"
    }
   ],
   "source": [
    "data.address[0].neighbour"
   ]
  },
  {
   "cell_type": "code",
   "execution_count": null,
   "metadata": {},
   "outputs": [],
   "source": [
    "data.address[1].neighbour = \"lisi\""
   ]
  },
  {
   "cell_type": "code",
   "execution_count": null,
   "metadata": {},
   "outputs": [
    {
     "data": {
      "text/plain": [
       "{'street': '123 Main St',\n",
       " 'city': 'Anytown',\n",
       " 'state': 'CA',\n",
       " 'zip': '12345',\n",
       " 'building': '#12345',\n",
       " 'neighbour': 'zhangshan'}"
      ]
     },
     "execution_count": 142,
     "metadata": {},
     "output_type": "execute_result"
    }
   ],
   "source": [
    "data.address[0]._cache"
   ]
  },
  {
   "cell_type": "code",
   "execution_count": null,
   "metadata": {},
   "outputs": [
    {
     "data": {
      "text/plain": [
       "{'street': '456 Oak St',\n",
       " 'city': 'Othertown',\n",
       " 'state': 'NY',\n",
       " 'zip': '67890',\n",
       " 'building': '#12345',\n",
       " 'neighbour': 'lisi'}"
      ]
     },
     "execution_count": 147,
     "metadata": {},
     "output_type": "execute_result"
    }
   ],
   "source": [
    "data.address[1].neighbour"
   ]
  },
  {
   "cell_type": "markdown",
   "metadata": {},
   "source": [
    "### 增加函数sp_property，定义函数"
   ]
  },
  {
   "cell_type": "code",
   "execution_count": null,
   "metadata": {},
   "outputs": [],
   "source": [
    "@sp_tree\n",
    "class House:\n",
    "    def __init__(self, *args, **kwargs) -> None:\n",
    "        super().__init__(*args, **kwargs)\n",
    "        pprint.pprint((args, kwargs))\n",
    "\n",
    "    level: int = 4\n",
    "    length: float\n",
    "    width: float\n",
    "\n",
    "    @sp_property(units=\"m^2\")\n",
    "    def area(self) -> float:\n",
    "        return self.width * self.length\n",
    "\n",
    "\n",
    "@sp_tree\n",
    "class Addrees:\n",
    "    street: str\n",
    "    city: str\n",
    "    state: str\n",
    "    zip: int\n",
    "    building: str = \"#12345\"\n",
    "    neighbour: str\n",
    "    house: House = sp_property(label=\"big house\", default_value={\"level\": 2, \"area\": 1000})\n",
    "\n",
    "\n",
    "@sp_tree\n",
    "class Data:\n",
    "    def __init__(self, *args, **kwargs) -> None:\n",
    "        super().__init__(*args, **kwargs)\n",
    "\n",
    "    name: str\n",
    "    age: int\n",
    "    hobbies: List[str]\n",
    "    address: AoS[Addrees]\n",
    "\n",
    "\n",
    "data = Data(\n",
    "    {\n",
    "        \"name\": \"Alice\",\n",
    "        \"age\": 25,\n",
    "        \"hobbies\": [\"reading\", \"painting\", \"yoga\"],\n",
    "        \"address\": [\n",
    "            {\"street\": \"123 Main St\", \"city\": \"Anytown\", \"state\": \"CA\", \"zip\": \"12345\"},\n",
    "            {\n",
    "                \"street\": \"456 Oak St\",\n",
    "                \"city\": \"Othertown\",\n",
    "                \"state\": \"NY\",\n",
    "                \"zip\": \"67890\",\n",
    "                \"house\": {\"length\": 5, \"width\": 10},\n",
    "            },\n",
    "            {\"street\": \"789 Elm St\", \"city\": \"Somewhere\", \"state\": \"CO\", \"zip\": \"24680\"},\n",
    "        ],\n",
    "    },\n",
    "    # _entry=open_entry(....)\n",
    ")\n",
    "\n"
   ]
  },
  {
   "cell_type": "code",
   "execution_count": null,
   "metadata": {},
   "outputs": [
    {
     "name": "stdout",
     "output_type": "stream",
     "text": [
      "(({'length': 5, 'width': 10},),\n",
      " {'_entry': None,\n",
      "  '_parent': <__main__.Addrees object at 0x7efc7ea7f760>,\n",
      "  'default_value': {'area': 1000, 'level': 2},\n",
      "  'label': 'big house',\n",
      "  'name': 'house'})\n"
     ]
    }
   ],
   "source": [
    "house=data.address[1].house"
   ]
  },
  {
   "cell_type": "code",
   "execution_count": null,
   "metadata": {},
   "outputs": [
    {
     "data": {
      "text/plain": [
       "4"
      ]
     },
     "execution_count": 151,
     "metadata": {},
     "output_type": "execute_result"
    }
   ],
   "source": [
    "house.level"
   ]
  },
  {
   "cell_type": "code",
   "execution_count": null,
   "metadata": {},
   "outputs": [
    {
     "data": {
      "text/plain": [
       "5.0"
      ]
     },
     "execution_count": 152,
     "metadata": {},
     "output_type": "execute_result"
    }
   ],
   "source": [
    "house.length"
   ]
  },
  {
   "cell_type": "code",
   "execution_count": null,
   "metadata": {},
   "outputs": [
    {
     "data": {
      "text/plain": [
       "10.0"
      ]
     },
     "execution_count": 153,
     "metadata": {},
     "output_type": "execute_result"
    }
   ],
   "source": [
    "house.width"
   ]
  },
  {
   "cell_type": "code",
   "execution_count": null,
   "metadata": {},
   "outputs": [
    {
     "data": {
      "text/plain": [
       "50.0"
      ]
     },
     "execution_count": 154,
     "metadata": {},
     "output_type": "execute_result"
    }
   ],
   "source": [
    "house.area"
   ]
  },
  {
   "cell_type": "code",
   "execution_count": null,
   "metadata": {},
   "outputs": [
    {
     "data": {
      "text/plain": [
       "'m^2'"
      ]
     },
     "execution_count": 155,
     "metadata": {},
     "output_type": "execute_result"
    }
   ],
   "source": [
    "House.area.metadata.get(\"units\")"
   ]
  },
  {
   "cell_type": "code",
   "execution_count": null,
   "metadata": {},
   "outputs": [
    {
     "data": {
      "text/plain": [
       "\"I don't know\""
      ]
     },
     "execution_count": 156,
     "metadata": {},
     "output_type": "execute_result"
    }
   ],
   "source": [
    "data.get(\"address/3/street\", \"I don't know\")"
   ]
  },
  {
   "cell_type": "code",
   "execution_count": null,
   "metadata": {},
   "outputs": [
    {
     "name": "stdout",
     "output_type": "stream",
     "text": [
      "123 Main St\n",
      "456 Oak St\n",
      "789 Elm St\n",
      "tags.not_found\n"
     ]
    }
   ],
   "source": [
    "for address in data.address:\n",
    "    print(address.street)"
   ]
  },
  {
   "cell_type": "code",
   "execution_count": null,
   "metadata": {},
   "outputs": [],
   "source": [
    "data.address[0].street = \"456 Main St\""
   ]
  },
  {
   "cell_type": "code",
   "execution_count": null,
   "metadata": {},
   "outputs": [
    {
     "data": {
      "text/plain": [
       "'456 Main St'"
      ]
     },
     "execution_count": 159,
     "metadata": {},
     "output_type": "execute_result"
    }
   ],
   "source": [
    "data.address[0].street"
   ]
  }
 ],
 "metadata": {
  "kernelspec": {
   "display_name": "Python 3 (ipykernel)",
   "language": "python",
   "name": "python3"
  },
  "language_info": {
   "codemirror_mode": {
    "name": "ipython",
    "version": 3
   },
   "file_extension": ".py",
   "mimetype": "text/x-python",
   "name": "python",
   "nbconvert_exporter": "python",
   "pygments_lexer": "ipython3",
   "version": "3.11.3"
  }
 },
 "nbformat": 4,
 "nbformat_minor": 2
}

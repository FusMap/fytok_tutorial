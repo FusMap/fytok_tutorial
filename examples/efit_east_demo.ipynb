{
 "cells": [
  {
   "cell_type": "code",
   "execution_count": 1,
   "metadata": {},
   "outputs": [],
   "source": [
    "import sys\n",
    "# sys.path\n",
    "sys.path.append(\"/gpfs/fuyun/projects/fuyun/fytok_ext/python\")\n",
    "sys.path.append(\"/scratch/liuxj/workspace_plugins/fytok_tutorial/python\")\n",
    "\n",
    "# sys.path.append(\"/scratch/liuxj/workspace_plugins/fytok_ext/python\")"
   ]
  },
  {
   "cell_type": "code",
   "execution_count": 2,
   "metadata": {},
   "outputs": [
    {
     "data": {
      "text/plain": [
       "['/gpfs/scratch/liuxj/workspace_plugins/fytok_tutorial/python/fytok/plugins/equilibrium/efit_east',\n",
       " '',\n",
       " '/gpfs/fuyun/software/MDSplus-Python/7.131.5-gfbf-2022b-Python-3.10.8/lib/python3.10/site-packages',\n",
       " '/gpfs/fuyun/projects/fuyun/fytok/python',\n",
       " '/gpfs/fuyun/projects/fuyun/spdm/python',\n",
       " '/gpfs/fuyun/software/FyLab/2022b-foss-2022b/lib/python3.10/site-packages',\n",
       " '/gpfs/fuyun/software/scikit-image/0.19.3-foss-2022b/lib/python3.10/site-packages',\n",
       " '/gpfs/fuyun/software/imageio/2.22.2-foss-2022b/lib/python3.10/site-packages',\n",
       " '/gpfs/fuyun/software/dask/2022.10.0-foss-2022b/lib/python3.10/site-packages',\n",
       " '/gpfs/fuyun/software/bokeh/2.4.3-foss-2022b/lib/python3.10/site-packages',\n",
       " '/gpfs/fuyun/software/networkx/2.8.8-gfbf-2022b/lib/python3.10/site-packages',\n",
       " '/gpfs/fuyun/software/matplotlib/3.7.0-gfbf-2022b/lib/python3.10/site-packages',\n",
       " '/gpfs/fuyun/software/Pillow/9.4.0-GCCcore-12.2.0/lib/python3.10/site-packages',\n",
       " '/gpfs/fuyun/software/Tkinter/3.10.8-GCCcore-12.2.0/lib/python3.10/site-packages',\n",
       " '/gpfs/fuyun/software/lxml/4.9.2-GCCcore-12.2.0/lib/python3.10/site-packages',\n",
       " '/gpfs/fuyun/software/netcdf4-python/1.6.3-foss-2022b/lib/python3.10/site-packages',\n",
       " '/gpfs/fuyun/software/PyYAML/6.0-GCCcore-12.2.0/lib/python3.10/site-packages',\n",
       " '/gpfs/fuyun/software/h5py/3.8.0-foss-2022b/lib/python3.10/site-packages',\n",
       " '/gpfs/fuyun/software/mpi4py/3.1.4-gompi-2022b/lib/python3.10/site-packages',\n",
       " '/gpfs/fuyun/software/SciPy-bundle/2023.02-gfbf-2022b/lib/python3.10/site-packages',\n",
       " '/gpfs/fuyun/software/pybind11/2.10.3-GCCcore-12.2.0/lib/python3.10/site-packages',\n",
       " '/gpfs/fuyun/software/Python/3.10.8-GCCcore-12.2.0/easybuild/python',\n",
       " '/usr/local/mdsplus/pydevices',\n",
       " '/gpfs/fuyun/software/MDSplus/7.131.5-GCCcore-12.2.0/pydevices',\n",
       " '/gpfs/fuyun/software/Python/3.10.8-GCCcore-12.2.0/lib/python310.zip',\n",
       " '/gpfs/fuyun/software/Python/3.10.8-GCCcore-12.2.0/lib/python3.10',\n",
       " '/gpfs/fuyun/software/Python/3.10.8-GCCcore-12.2.0/lib/python3.10/lib-dynload',\n",
       " '/home/users/liuxj/.local/lib/python3.10/site-packages',\n",
       " '/gpfs/fuyun/software/Python/3.10.8-GCCcore-12.2.0/lib/python3.10/site-packages',\n",
       " '/gpfs/fuyun/projects/fuyun/fytok_ext/python',\n",
       " '/scratch/liuxj/workspace_plugins/fytok_tutorial/python']"
      ]
     },
     "execution_count": 2,
     "metadata": {},
     "output_type": "execute_result"
    }
   ],
   "source": [
    "sys.path"
   ]
  },
  {
   "cell_type": "code",
   "execution_count": 4,
   "metadata": {},
   "outputs": [],
   "source": [
    "from fytok.plugins.equilibrium.efit_east import efit_east"
   ]
  },
  {
   "cell_type": "code",
   "execution_count": 2,
   "metadata": {},
   "outputs": [
    {
     "name": "stdout",
     "output_type": "stream",
     "text": [
      "\u001b[0;34m2023-12-03 23:40:33,657 [   fytok]     INFO: Load module spdm.plugins.data.plugin_xml\u001b[0m\n",
      "\u001b[0;34m2023-12-03 23:40:33,895 [   fytok]     INFO: Load module fytok.plugins.equilibrium.efit_east\u001b[0m\n",
      "\u001b[0;34m2023-12-03 23:40:33,899 [   fytok]     INFO: Initialize module fytok.modules.Wall \u001b[0m\n",
      "\u001b[0;34m2023-12-03 23:40:33,903 [   fytok]     INFO: Initialize module fytok.modules.TF \u001b[0m\n",
      "\u001b[0;34m2023-12-03 23:40:33,907 [   fytok]     INFO: Initialize module fytok.modules.Magnetics \u001b[0m\n",
      "\u001b[0;34m2023-12-03 23:40:33,912 [   fytok]     INFO: Initialize module fytok.modules.PFActive \u001b[0m\n",
      "\u001b[0;34m2023-12-03 23:40:33,915 [   fytok]     INFO: Initialize module fytok.plugins.equilibrium.efit_east,Third-party Plugin for FyTok \u001b[0m\n"
     ]
    }
   ],
   "source": [
    "from fytok.Tokamak import Tokamak\n",
    "\n",
    "tokamak = Tokamak(\n",
    "    f\"mdsplus://202.127.204.12?enable_efit_east=False\",\n",
    "    device=\"east\",\n",
    "    shot=70754,\n",
    "    equilibrium={\"code\": {\"name\": \"efit_east\"}},\n",
    ")\n",
    "tokamak.equilibrium._entry = None"
   ]
  },
  {
   "cell_type": "code",
   "execution_count": 3,
   "metadata": {},
   "outputs": [
    {
     "name": "stdout",
     "output_type": "stream",
     "text": [
      "\u001b[0;34m2023-12-03 23:40:42,020 [   fytok]     INFO: Execute module fytok.plugins.equilibrium.efit_east,Third-party Plugin for FyTok\u001b[0m\n",
      "\u001b[0;37m2023-12-03 23:40:42,022 [   fytok]    DEBUG: /scratch/liuxj/workspace_plugins/fytok_tutorial/python/fytok/plugins/equilibrium/efit_east/efit_east.py:54:execute: The execute is start\u001b[0m\n",
      "\u001b[0;34m2023-12-03 23:40:42,187 [   fytok]     INFO: Load module spdm.plugins.data.plugin_mdsplus\u001b[0m\n",
      "\u001b[0;37m2023-12-03 23:40:43,115 [   fytok]    DEBUG: /gpfs/fuyun/projects/fuyun/spdm/python/spdm/plugins/data/plugin_mdsplus.py:118:get_tree: Open MDSplus Tree [pcs_east] shot=70754\u001b[0m\n",
      "\u001b[0;37m2023-12-03 23:40:48,058 [   fytok]    DEBUG: /gpfs/fuyun/projects/fuyun/spdm/python/spdm/plugins/data/plugin_mdsplus.py:118:get_tree: Open MDSplus Tree [east] shot=70754\u001b[0m\n",
      "\u001b[0;37m2023-12-03 23:40:48,537 [   fytok]    DEBUG: /scratch/liuxj/workspace_plugins/fytok_tutorial/python/fytok/plugins/equilibrium/efit_east/efit_east.py:103:execute: 70754\u001b[0m\n",
      "\u001b[0;37m2023-12-03 23:40:48,538 [   fytok]    DEBUG: /scratch/liuxj/workspace_plugins/fytok_tutorial/python/fytok/plugins/equilibrium/efit_east/efit_east.py:121:execute: <bound method Actor.working_dir of <fytok.plugins.equilibrium.efit_east.efit_east.EquilibriumEFITEAST object at 0x2b8f1f2beb90>>\u001b[0m\n",
      "\u001b[0;34m2023-12-03 23:40:48,542 [   fytok]     INFO: Enter directory /gpfs/scratch/liuxj/workspace_plugins/fytok_tutorial/python/fytok/plugins/equilibrium/efit_east/fytok_output/fytok_liuxj_service108_57372/fytok.plugins.equilibrium.efit_east\u001b[0m\n",
      "\u001b[0;37m2023-12-03 23:40:48,543 [   fytok]    DEBUG: /scratch/liuxj/workspace_plugins/fytok_tutorial/python/fytok/plugins/equilibrium/efit_east/efit_east.py:125:execute: /gpfs/scratch/liuxj/workspace_plugins/fytok_tutorial/python/fytok/plugins/equilibrium/efit_east/fytok_output/fytok_liuxj_service108_57372/fytok.plugins.equilibrium.efit_east\u001b[0m\n",
      "\u001b[0;34m2023-12-03 23:40:48,548 [   fytok]     INFO: Load module spdm.plugins.data.plugin_namelist\u001b[0m\n",
      " kvtor=            0\n",
      "\n",
      "  ----- time =  7000 ms -----\n",
      " it=  1 chi2=2.58E+02 zm= 9.26E-04 err=2.649E+00 dz= 9.260E-04\n",
      " it=  2 chi2=1.70E+01 zm= 1.73E-03 err=3.992E-01 dz= 7.998E-04 delz= 0.000E+00\n",
      " it=  3 chi2=1.77E+01 zm= 2.50E-03 err=1.695E-01 dz= 7.765E-04 delz= 0.000E+00\n",
      " it=  4 chi2=1.77E+01 zm= 2.84E-03 err=4.533E-02 dz= 3.362E-04 delz= 0.000E+00\n",
      " it=  5 chi2=3.40E+01 zm= 1.04E-02 err=8.007E-02 dz= 7.573E-03 delz=-2.115E+00\n",
      " it=  6 chi2=1.96E+01 zm= 1.57E-02 err=2.027E-02 dz= 5.308E-03 delz=-1.308E+00\n",
      " it=  7 chi2=1.37E+01 zm= 1.92E-02 err=2.554E-02 dz= 3.504E-03 delz=-7.555E-01\n",
      " it=  8 chi2=1.15E+01 zm= 2.11E-02 err=2.923E-02 dz= 1.920E-03 delz=-3.562E-01\n",
      " it=  9 chi2=1.09E+01 zm= 2.21E-02 err=2.578E-02 dz= 9.090E-04 delz=-9.934E-02\n",
      " it= 10 chi2=1.09E+01 zm= 2.24E-02 err=2.008E-02 dz= 3.441E-04 delz= 6.604E-02\n",
      " it= 11 chi2=1.10E+01 zm= 2.25E-02 err=1.453E-02 dz= 6.851E-05 delz= 1.712E-01\n",
      " it= 12 chi2=1.11E+01 zm= 2.24E-02 err=1.009E-02 dz=-5.167E-05 delz= 2.389E-01\n",
      " it= 13 chi2=1.12E+01 zm= 2.23E-02 err=6.878E-03 dz=-1.039E-04 delz= 2.833E-01\n",
      " it= 14 chi2=1.13E+01 zm= 2.22E-02 err=4.508E-03 dz=-1.127E-04 delz= 3.100E-01\n",
      " it= 15 chi2=1.13E+01 zm= 2.21E-02 err=2.799E-03 dz=-9.855E-05 delz= 3.246E-01\n",
      " it= 16 chi2=1.14E+01 zm= 2.20E-02 err=1.724E-03 dz=-8.422E-05 delz= 3.339E-01\n",
      " it= 17 chi2=1.14E+01 zm= 2.19E-02 err=1.037E-03 dz=-6.844E-05 delz= 3.392E-01\n",
      " it= 18 chi2=1.14E+01 zm= 2.19E-02 err=5.948E-04 dz=-5.279E-05 delz= 3.422E-01\n",
      " psurfa=    42.90230628995864     \n",
      " wplasm=    148435.2707838446     \n",
      " b\n",
      " c\n",
      " j\n",
      " k\n",
      " e\n",
      " f\n",
      " d\n",
      "\u001b[0;34m2023-12-03 23:40:50,056 [   fytok]     INFO: Load module spdm.plugins.data.plugin_geqdsk\u001b[0m\n",
      "\u001b[0;34m2023-12-03 23:40:50,081 [   fytok]     INFO: Enter directory /gpfs/scratch/liuxj/workspace_plugins/fytok_tutorial/python/fytok/plugins/equilibrium/efit_east\u001b[0m\n",
      "\u001b[0;34m2023-12-03 23:40:50,082 [   fytok]     INFO: Refresh Equilibrium: EquilibriumEFITEAST Done\u001b[0m\n"
     ]
    },
    {
     "name": "stderr",
     "output_type": "stream",
     "text": [
      "Warning: ieee_denorm is signaling\n",
      "Warning: ieee_overflow is signaling\n",
      "Warning: ieee_underflow is signaling\n",
      "Warning: ieee_inexact is signaling\n",
      "FORTRAN STOP\n"
     ]
    }
   ],
   "source": [
    "tokamak.equilibrium.refresh(time=7.0)"
   ]
  },
  {
   "cell_type": "code",
   "execution_count": 4,
   "metadata": {},
   "outputs": [
    {
     "name": "stdout",
     "output_type": "stream",
     "text": [
      "\u001b[0;34m2023-12-03 23:40:57,713 [   fytok]     INFO: Initialize module fytok.modules.DatasetFAIR \u001b[0m\n",
      "\u001b[0;34m2023-12-03 23:40:57,721 [   fytok]     INFO: Load module spdm.view.view_matplotlib\u001b[0m\n",
      "\u001b[0;34m2023-12-03 23:40:57,770 [   fytok]     INFO: Load module spdm.mesh.mesh_rectangular\u001b[0m\n",
      "\u001b[0;34m2023-12-03 23:40:57,889 [   fytok]     INFO: Initialize module fytok.modules.Interferometer \u001b[0m\n",
      "\u001b[0;37m2023-12-03 23:40:58,187 [   fytok]    DEBUG: /gpfs/fuyun/projects/fuyun/spdm/python/spdm/view/view_matplotlib.py:71:_figure_post: Write figure to  /scratch/liuxj/workspace_plugins/fytok_output/east_70754_0_000000_rz.svg\u001b[0m\n"
     ]
    }
   ],
   "source": [
    "from spdm.view import View as sp_view\n",
    "# fig=sp_view.display(tokamak.equilibrium, time=0.5, plot=\"contour\", plot_options={\"plot\": {\"plot_2d\": {\"plot_type\": \"contour\"}}})\n",
    "sp_view.display(tokamak, title=tokamak.title, output=f\"/scratch/liuxj/workspace_plugins/fytok_output/{tokamak.tag}_rz.svg\")\n"
   ]
  },
  {
   "cell_type": "code",
   "execution_count": 15,
   "metadata": {},
   "outputs": [
    {
     "data": {
      "text/plain": [
       "b'/gpfs/scratch/liuxj/workspace_plugins/fytok_tutorial/python/fytok/plugins/equilibrium/efit_east'"
      ]
     },
     "execution_count": 15,
     "metadata": {},
     "output_type": "execute_result"
    }
   ],
   "source": [
    "import os\n",
    "os.getcwdb()"
   ]
  },
  {
   "cell_type": "code",
   "execution_count": 7,
   "metadata": {},
   "outputs": [
    {
     "data": {
      "text/plain": [
       "<Figure size 640x480 with 1 Axes>"
      ]
     },
     "execution_count": 7,
     "metadata": {},
     "output_type": "execute_result"
    }
   ],
   "source": [
    "import spdm.view.View as sp_view\n",
    "sp_view.display(tokamak.equilibrium)"
   ]
  },
  {
   "cell_type": "code",
   "execution_count": 8,
   "metadata": {},
   "outputs": [],
   "source": [
    "eq_profiles_1d = tokamak.equilibrium.time_slice.current.profiles_1d\n",
    "\n",
    "profs = sp_view.plot(\n",
    "    eq_profiles_1d.pressure,\n",
    "    eq_profiles_1d.dpressure_dpsi,\n",
    "    eq_profiles_1d.f_df_dpsi,\n",
    "    ((eq_profiles_1d.dvolume_dpsi, {\"label\": r\"$\\frac{dV}{d\\psi}$\"}), {\"y_label\": r\"$[Wb]$\"}),\n",
    "    (eq_profiles_1d.dpsi_drho_tor, {\"label\": r\"$\\frac{d\\psi}{d\\rho_{tor}}$\"}),\n",
    "    ((eq_profiles_1d.f, {\"label\": r\"fytok\"}), {\"y_label\": r\"$F_{pol} [Wb\\cdot m]$\"}),\n",
    "    ((eq_profiles_1d.q, {\"label\": r\"$fytok$\"}), {\"y_label\": r\"$q [-]$\"}),\n",
    "    ((eq_profiles_1d.rho_tor, {\"label\": r\"$\\rho$\"}), {\"y_label\": r\"$\\rho_{tor}[m]$\"}),\n",
    "    ((eq_profiles_1d.rho_tor_norm, {\"label\": r\"$\\bar{\\rho}$\"}), {\"y_label\": r\"[-]\"}),\n",
    "    ((eq_profiles_1d.dvolume_drho_tor, {\"label\": r\"$dV/d\\rho_{tor}$\"}), {\"y_label\": r\"$4\\pi ^ 2 R_0 \\rho[m ^ 2]$\"}),\n",
    "    x_axis=tokamak.equilibrium.time_slice.current.profiles_1d.psi,\n",
    "    x_label=r\"$\\bar{\\psi}[-]$\",\n",
    "    title=r\"$\\psi$ dependent profiles\",\n",
    ")"
   ]
  }
 ],
 "metadata": {
  "kernelspec": {
   "display_name": "Python 3",
   "language": "python",
   "name": "python3"
  },
  "language_info": {
   "codemirror_mode": {
    "name": "ipython",
    "version": 3
   },
   "file_extension": ".py",
   "mimetype": "text/x-python",
   "name": "python",
   "nbconvert_exporter": "python",
   "pygments_lexer": "ipython3",
   "version": "3.10.8"
  }
 },
 "nbformat": 4,
 "nbformat_minor": 2
}

{
 "cells": [
  {
   "cell_type": "code",
   "execution_count": 1,
   "metadata": {},
   "outputs": [],
   "source": [
    "import sys\n",
    "# sys.path\n",
    "sys.path.append(\"/gpfs/fuyun/projects/fuyun/fytok_ext/python\")\n",
    "sys.path.append(\"/scratch/liuxj/workspace_plugins/fytok_tutorial/python\")\n",
    "\n",
    "# sys.path.append(\"/scratch/liuxj/workspace_plugins/fytok_ext/python\")"
   ]
  },
  {
   "cell_type": "code",
   "execution_count": 3,
   "metadata": {},
   "outputs": [
    {
     "data": {
      "text/plain": [
       "['/gpfs/scratch/liuxj/workspace_plugins/fytok_tutorial/python/fytok/plugins/equilibrium',\n",
       " '',\n",
       " '/gpfs/fuyun/software/MDSplus-Python/7.131.5-gfbf-2022b-Python-3.10.8/lib/python3.10/site-packages',\n",
       " '/gpfs/fuyun/projects/fuyun/fytok/python',\n",
       " '/gpfs/fuyun/projects/fuyun/spdm/python',\n",
       " '/gpfs/fuyun/software/FyLab/2022b-foss-2022b/lib/python3.10/site-packages',\n",
       " '/gpfs/fuyun/software/scikit-image/0.19.3-foss-2022b/lib/python3.10/site-packages',\n",
       " '/gpfs/fuyun/software/imageio/2.22.2-foss-2022b/lib/python3.10/site-packages',\n",
       " '/gpfs/fuyun/software/dask/2022.10.0-foss-2022b/lib/python3.10/site-packages',\n",
       " '/gpfs/fuyun/software/bokeh/2.4.3-foss-2022b/lib/python3.10/site-packages',\n",
       " '/gpfs/fuyun/software/networkx/2.8.8-gfbf-2022b/lib/python3.10/site-packages',\n",
       " '/gpfs/fuyun/software/matplotlib/3.7.0-gfbf-2022b/lib/python3.10/site-packages',\n",
       " '/gpfs/fuyun/software/Pillow/9.4.0-GCCcore-12.2.0/lib/python3.10/site-packages',\n",
       " '/gpfs/fuyun/software/Tkinter/3.10.8-GCCcore-12.2.0/lib/python3.10/site-packages',\n",
       " '/gpfs/fuyun/software/lxml/4.9.2-GCCcore-12.2.0/lib/python3.10/site-packages',\n",
       " '/gpfs/fuyun/software/netcdf4-python/1.6.3-foss-2022b/lib/python3.10/site-packages',\n",
       " '/gpfs/fuyun/software/PyYAML/6.0-GCCcore-12.2.0/lib/python3.10/site-packages',\n",
       " '/gpfs/fuyun/software/h5py/3.8.0-foss-2022b/lib/python3.10/site-packages',\n",
       " '/gpfs/fuyun/software/mpi4py/3.1.4-gompi-2022b/lib/python3.10/site-packages',\n",
       " '/gpfs/fuyun/software/SciPy-bundle/2023.02-gfbf-2022b/lib/python3.10/site-packages',\n",
       " '/gpfs/fuyun/software/pybind11/2.10.3-GCCcore-12.2.0/lib/python3.10/site-packages',\n",
       " '/gpfs/fuyun/software/Python/3.10.8-GCCcore-12.2.0/easybuild/python',\n",
       " '/usr/local/mdsplus/pydevices',\n",
       " '/gpfs/fuyun/software/MDSplus/7.131.5-GCCcore-12.2.0/pydevices',\n",
       " '/gpfs/fuyun/software/Python/3.10.8-GCCcore-12.2.0/lib/python310.zip',\n",
       " '/gpfs/fuyun/software/Python/3.10.8-GCCcore-12.2.0/lib/python3.10',\n",
       " '/gpfs/fuyun/software/Python/3.10.8-GCCcore-12.2.0/lib/python3.10/lib-dynload',\n",
       " '/home/users/liuxj/.local/lib/python3.10/site-packages',\n",
       " '/gpfs/fuyun/software/Python/3.10.8-GCCcore-12.2.0/lib/python3.10/site-packages',\n",
       " '/gpfs/fuyun/projects/fuyun/fytok_ext/python',\n",
       " '/scratch/liuxj/workspace_plugins/fytok_tutorial/python']"
      ]
     },
     "execution_count": 3,
     "metadata": {},
     "output_type": "execute_result"
    }
   ],
   "source": [
    "sys.path"
   ]
  },
  {
   "cell_type": "code",
   "execution_count": 4,
   "metadata": {},
   "outputs": [],
   "source": [
    "from fytok.plugins.equilibrium.efit_east import efit_east"
   ]
  },
  {
   "cell_type": "code",
   "execution_count": 2,
   "metadata": {},
   "outputs": [
    {
     "name": "stdout",
     "output_type": "stream",
     "text": [
      "\u001b[0;34m2023-12-03 20:02:22,590 [   fytok]     INFO: Load module spdm.plugins.data.plugin_xml\u001b[0m\n",
      "\u001b[0;34m2023-12-03 20:02:22,881 [   fytok]     INFO: Load module fytok.plugins.equilibrium.efit_east\u001b[0m\n",
      "\u001b[0;34m2023-12-03 20:02:22,885 [   fytok]     INFO: Initialize module fytok.modules.Wall \u001b[0m\n",
      "\u001b[0;34m2023-12-03 20:02:22,890 [   fytok]     INFO: Initialize module fytok.modules.TF \u001b[0m\n",
      "\u001b[0;34m2023-12-03 20:02:22,894 [   fytok]     INFO: Initialize module fytok.modules.Magnetics \u001b[0m\n",
      "\u001b[0;34m2023-12-03 20:02:22,899 [   fytok]     INFO: Initialize module fytok.modules.PFActive \u001b[0m\n"
     ]
    },
    {
     "ename": "AttributeError",
     "evalue": "'dict' object has no attribute 'name'",
     "output_type": "error",
     "traceback": [
      "\u001b[0;31m---------------------------------------------------------------------------\u001b[0m",
      "\u001b[0;31mAttributeError\u001b[0m                            Traceback (most recent call last)",
      "\u001b[1;32m/scratch/liuxj/workspace_plugins/fytok_tutorial/python/fytok/plugins/equilibrium/efit_east_test.ipynb Cell 3\u001b[0m line \u001b[0;36m9\n\u001b[1;32m      <a href='vscode-notebook-cell://ssh-remote%2Bservice108-direct/scratch/liuxj/workspace_plugins/fytok_tutorial/python/fytok/plugins/equilibrium/efit_east_test.ipynb#W2sdnNjb2RlLXJlbW90ZQ%3D%3D?line=0'>1</a>\u001b[0m \u001b[39mfrom\u001b[39;00m \u001b[39mfytok\u001b[39;00m\u001b[39m.\u001b[39;00m\u001b[39mTokamak\u001b[39;00m \u001b[39mimport\u001b[39;00m Tokamak\n\u001b[1;32m      <a href='vscode-notebook-cell://ssh-remote%2Bservice108-direct/scratch/liuxj/workspace_plugins/fytok_tutorial/python/fytok/plugins/equilibrium/efit_east_test.ipynb#W2sdnNjb2RlLXJlbW90ZQ%3D%3D?line=2'>3</a>\u001b[0m tokamak \u001b[39m=\u001b[39m Tokamak(\n\u001b[1;32m      <a href='vscode-notebook-cell://ssh-remote%2Bservice108-direct/scratch/liuxj/workspace_plugins/fytok_tutorial/python/fytok/plugins/equilibrium/efit_east_test.ipynb#W2sdnNjb2RlLXJlbW90ZQ%3D%3D?line=3'>4</a>\u001b[0m     \u001b[39mf\u001b[39m\u001b[39m\"\u001b[39m\u001b[39mmdsplus://202.127.204.12?enable_efit_east=True\u001b[39m\u001b[39m\"\u001b[39m,\n\u001b[1;32m      <a href='vscode-notebook-cell://ssh-remote%2Bservice108-direct/scratch/liuxj/workspace_plugins/fytok_tutorial/python/fytok/plugins/equilibrium/efit_east_test.ipynb#W2sdnNjb2RlLXJlbW90ZQ%3D%3D?line=4'>5</a>\u001b[0m     device\u001b[39m=\u001b[39m\u001b[39m\"\u001b[39m\u001b[39meast\u001b[39m\u001b[39m\"\u001b[39m,\n\u001b[1;32m      <a href='vscode-notebook-cell://ssh-remote%2Bservice108-direct/scratch/liuxj/workspace_plugins/fytok_tutorial/python/fytok/plugins/equilibrium/efit_east_test.ipynb#W2sdnNjb2RlLXJlbW90ZQ%3D%3D?line=5'>6</a>\u001b[0m     shot\u001b[39m=\u001b[39m\u001b[39m70754\u001b[39m,\n\u001b[1;32m      <a href='vscode-notebook-cell://ssh-remote%2Bservice108-direct/scratch/liuxj/workspace_plugins/fytok_tutorial/python/fytok/plugins/equilibrium/efit_east_test.ipynb#W2sdnNjb2RlLXJlbW90ZQ%3D%3D?line=6'>7</a>\u001b[0m     equilibrium\u001b[39m=\u001b[39m{\u001b[39m\"\u001b[39m\u001b[39mcode\u001b[39m\u001b[39m\"\u001b[39m: {\u001b[39m\"\u001b[39m\u001b[39mname\u001b[39m\u001b[39m\"\u001b[39m: \u001b[39m\"\u001b[39m\u001b[39mefit_east\u001b[39m\u001b[39m\"\u001b[39m}},\n\u001b[1;32m      <a href='vscode-notebook-cell://ssh-remote%2Bservice108-direct/scratch/liuxj/workspace_plugins/fytok_tutorial/python/fytok/plugins/equilibrium/efit_east_test.ipynb#W2sdnNjb2RlLXJlbW90ZQ%3D%3D?line=7'>8</a>\u001b[0m )\n\u001b[0;32m----> <a href='vscode-notebook-cell://ssh-remote%2Bservice108-direct/scratch/liuxj/workspace_plugins/fytok_tutorial/python/fytok/plugins/equilibrium/efit_east_test.ipynb#W2sdnNjb2RlLXJlbW90ZQ%3D%3D?line=8'>9</a>\u001b[0m tokamak\u001b[39m.\u001b[39;49mequilibrium\u001b[39m.\u001b[39m_entry \u001b[39m=\u001b[39m \u001b[39mNone\u001b[39;00m\n",
      "File \u001b[0;32m/gpfs/fuyun/projects/fuyun/spdm/python/spdm/data/sp_property.py:345\u001b[0m, in \u001b[0;36mSpProperty.__get__\u001b[0;34m(self, instance, owner_cls)\u001b[0m\n\u001b[1;32m    342\u001b[0m     \u001b[39mraise\u001b[39;00m \u001b[39mAttributeError\u001b[39;00m(\u001b[39mf\u001b[39m\u001b[39m\"\u001b[39m\u001b[39mproperty_name is None!\u001b[39m\u001b[39m\"\u001b[39m)\n\u001b[1;32m    344\u001b[0m \u001b[39mwith\u001b[39;00m \u001b[39mself\u001b[39m\u001b[39m.\u001b[39mlock:\n\u001b[0;32m--> 345\u001b[0m     value \u001b[39m=\u001b[39m instance\u001b[39m.\u001b[39;49m__get_property__(\n\u001b[1;32m    346\u001b[0m         property_name,\n\u001b[1;32m    347\u001b[0m         _type_hint\u001b[39m=\u001b[39;49mtype_hint,\n\u001b[1;32m    348\u001b[0m         _getter\u001b[39m=\u001b[39;49m\u001b[39mself\u001b[39;49m\u001b[39m.\u001b[39;49mgetter,\n\u001b[1;32m    349\u001b[0m         \u001b[39m*\u001b[39;49m\u001b[39m*\u001b[39;49mmetadata,\n\u001b[1;32m    350\u001b[0m     )\n\u001b[1;32m    352\u001b[0m     \u001b[39mif\u001b[39;00m \u001b[39mself\u001b[39m\u001b[39m.\u001b[39mstrict \u001b[39mand\u001b[39;00m value \u001b[39mis\u001b[39;00m _not_found_:\n\u001b[1;32m    353\u001b[0m         \u001b[39mraise\u001b[39;00m \u001b[39mAttributeError\u001b[39;00m(\n\u001b[1;32m    354\u001b[0m             \u001b[39mf\u001b[39m\u001b[39m\"\u001b[39m\u001b[39mThe value of property \u001b[39m\u001b[39m'\u001b[39m\u001b[39m{\u001b[39;00mowner_cls\u001b[39m.\u001b[39m\u001b[39m__name__\u001b[39m \u001b[39mif\u001b[39;00m owner_cls \u001b[39mis\u001b[39;00m \u001b[39mnot\u001b[39;00m \u001b[39mNone\u001b[39;00m \u001b[39melse\u001b[39;00m \u001b[39m'\u001b[39m\u001b[39mnone\u001b[39m\u001b[39m'\u001b[39m\u001b[39m}\u001b[39;00m\u001b[39m.\u001b[39m\u001b[39m{\u001b[39;00mproperty_name\u001b[39m}\u001b[39;00m\u001b[39m'\u001b[39m\u001b[39m is not assigned!\u001b[39m\u001b[39m\"\u001b[39m\n\u001b[1;32m    355\u001b[0m         )\n",
      "File \u001b[0;32m/gpfs/fuyun/projects/fuyun/spdm/python/spdm/data/sp_property.py:67\u001b[0m, in \u001b[0;36mSpTree.__get_property__\u001b[0;34m(self, key, *args, **kwargs)\u001b[0m\n\u001b[1;32m     66\u001b[0m \u001b[39mdef\u001b[39;00m \u001b[39m__get_property__\u001b[39m(\u001b[39mself\u001b[39m, key: \u001b[39mstr\u001b[39m, \u001b[39m*\u001b[39margs, \u001b[39m*\u001b[39m\u001b[39m*\u001b[39mkwargs) \u001b[39m-\u001b[39m\u001b[39m>\u001b[39m SpTree:\n\u001b[0;32m---> 67\u001b[0m     \u001b[39mreturn\u001b[39;00m \u001b[39mself\u001b[39;49m\u001b[39m.\u001b[39;49m_get(key, \u001b[39m*\u001b[39;49margs, \u001b[39m*\u001b[39;49m\u001b[39m*\u001b[39;49mkwargs)\n",
      "File \u001b[0;32m/gpfs/fuyun/projects/fuyun/spdm/python/spdm/data/HTree.py:466\u001b[0m, in \u001b[0;36mHTree._get\u001b[0;34m(self, query, _type_hint, *args, **kwargs)\u001b[0m\n\u001b[1;32m    463\u001b[0m         value \u001b[39m=\u001b[39m \u001b[39mself\u001b[39m\u001b[39m.\u001b[39m_get_as_list(query, \u001b[39m*\u001b[39margs, _type_hint\u001b[39m=\u001b[39m_type_hint, \u001b[39m*\u001b[39m\u001b[39m*\u001b[39mkwargs)\n\u001b[1;32m    465\u001b[0m \u001b[39melif\u001b[39;00m \u001b[39misinstance\u001b[39m(query, \u001b[39mstr\u001b[39m):\n\u001b[0;32m--> 466\u001b[0m     value \u001b[39m=\u001b[39m \u001b[39mself\u001b[39;49m\u001b[39m.\u001b[39;49m_get_as_dict(query, \u001b[39m*\u001b[39;49margs, _type_hint\u001b[39m=\u001b[39;49m_type_hint, \u001b[39m*\u001b[39;49m\u001b[39m*\u001b[39;49mkwargs)\n\u001b[1;32m    468\u001b[0m \u001b[39melif\u001b[39;00m \u001b[39misinstance\u001b[39m(query, \u001b[39mset\u001b[39m):  \u001b[39m# compound\u001b[39;00m\n\u001b[1;32m    469\u001b[0m     \u001b[39mraise\u001b[39;00m \u001b[39mNotImplementedError\u001b[39;00m(\u001b[39mf\u001b[39m\u001b[39m\"\u001b[39m\u001b[39mTODO: NamedDict\u001b[39m\u001b[39m\"\u001b[39m)\n",
      "File \u001b[0;32m/gpfs/fuyun/projects/fuyun/spdm/python/spdm/data/HTree.py:501\u001b[0m, in \u001b[0;36mHTree._get_as_dict\u001b[0;34m(self, key, **kwargs)\u001b[0m\n\u001b[1;32m    498\u001b[0m \u001b[39melse\u001b[39;00m:\n\u001b[1;32m    499\u001b[0m     _entry \u001b[39m=\u001b[39m \u001b[39mNone\u001b[39;00m\n\u001b[0;32m--> 501\u001b[0m value \u001b[39m=\u001b[39m \u001b[39mself\u001b[39;49m\u001b[39m.\u001b[39;49m_as_child(cache, key, _entry\u001b[39m=\u001b[39;49m_entry, \u001b[39m*\u001b[39;49m\u001b[39m*\u001b[39;49mkwargs)\n\u001b[1;32m    503\u001b[0m \u001b[39mif\u001b[39;00m \u001b[39mself\u001b[39m\u001b[39m.\u001b[39m_cache \u001b[39mis\u001b[39;00m _not_found_ \u001b[39mor\u001b[39;00m \u001b[39mself\u001b[39m\u001b[39m.\u001b[39m_cache \u001b[39mis\u001b[39;00m \u001b[39mNone\u001b[39;00m:\n\u001b[1;32m    504\u001b[0m     \u001b[39mself\u001b[39m\u001b[39m.\u001b[39m_cache \u001b[39m=\u001b[39m {}\n",
      "File \u001b[0;32m/gpfs/fuyun/projects/fuyun/spdm/python/spdm/data/HTree.py:398\u001b[0m, in \u001b[0;36mHTree._as_child\u001b[0;34m(self, value, key, default_value, _type_hint, _entry, _parent, _getter, force, **kwargs)\u001b[0m\n\u001b[1;32m    394\u001b[0m     res \u001b[39m=\u001b[39m value\n\u001b[1;32m    396\u001b[0m \u001b[39melif\u001b[39;00m \u001b[39missubclass\u001b[39m(get_origin(_type_hint), HTree) \u001b[39mand\u001b[39;00m _getter \u001b[39mis\u001b[39;00m \u001b[39mNone\u001b[39;00m \u001b[39mand\u001b[39;00m force \u001b[39mis\u001b[39;00m \u001b[39mFalse\u001b[39;00m:\n\u001b[1;32m    397\u001b[0m     \u001b[39m# 当 type_hint 为 HTree 并且 _getter 为空，利用 value,_entry,default_value 创建 HTree 对象返回\u001b[39;00m\n\u001b[0;32m--> 398\u001b[0m     res \u001b[39m=\u001b[39m _type_hint(value, _entry\u001b[39m=\u001b[39;49m_entry, _parent\u001b[39m=\u001b[39;49m_parent, default_value\u001b[39m=\u001b[39;49mdefault_value, \u001b[39m*\u001b[39;49m\u001b[39m*\u001b[39;49mkwargs)\n\u001b[1;32m    400\u001b[0m \u001b[39melse\u001b[39;00m:\n\u001b[1;32m    401\u001b[0m     \u001b[39mif\u001b[39;00m value \u001b[39mis\u001b[39;00m _not_found_ \u001b[39mand\u001b[39;00m _entry \u001b[39mis\u001b[39;00m \u001b[39mnot\u001b[39;00m \u001b[39mNone\u001b[39;00m:\n",
      "File \u001b[0;32m/gpfs/fuyun/projects/fuyun/fytok/python/fytok/modules/Utilities.py:104\u001b[0m, in \u001b[0;36mModule.__init__\u001b[0;34m(self, *args, **kwargs)\u001b[0m\n\u001b[1;32m    102\u001b[0m \u001b[39mdef\u001b[39;00m \u001b[39m__init__\u001b[39m(\u001b[39mself\u001b[39m, \u001b[39m*\u001b[39margs, \u001b[39m*\u001b[39m\u001b[39m*\u001b[39mkwargs):\n\u001b[1;32m    103\u001b[0m     \u001b[39mif\u001b[39;00m \u001b[39mself\u001b[39m\u001b[39m.\u001b[39m\u001b[39m__class__\u001b[39m \u001b[39mis\u001b[39;00m Module \u001b[39mor\u001b[39;00m \u001b[39m\"\u001b[39m\u001b[39m_plugin_prefix\u001b[39m\u001b[39m\"\u001b[39m \u001b[39min\u001b[39;00m \u001b[39mvars\u001b[39m(\u001b[39mself\u001b[39m\u001b[39m.\u001b[39m\u001b[39m__class__\u001b[39m):\n\u001b[0;32m--> 104\u001b[0m         \u001b[39mself\u001b[39;49m\u001b[39m.\u001b[39;49m\u001b[39m__class__\u001b[39;49m\u001b[39m.\u001b[39;49m__dispatch_init__(\u001b[39mNone\u001b[39;49;00m, \u001b[39mself\u001b[39;49m, \u001b[39m*\u001b[39;49margs, \u001b[39m*\u001b[39;49m\u001b[39m*\u001b[39;49mkwargs)\n\u001b[1;32m    105\u001b[0m         \u001b[39mreturn\u001b[39;00m\n\u001b[1;32m    107\u001b[0m     \u001b[39msuper\u001b[39m()\u001b[39m.\u001b[39m\u001b[39m__init__\u001b[39m(\u001b[39m*\u001b[39margs, \u001b[39m*\u001b[39m\u001b[39m*\u001b[39mkwargs)\n",
      "File \u001b[0;32m/gpfs/fuyun/projects/fuyun/spdm/python/spdm/utils/plugin.py:95\u001b[0m, in \u001b[0;36mPluggable.__dispatch_init__\u001b[0;34m(cls, sub_list, self, *args, **kwargs)\u001b[0m\n\u001b[1;32m     93\u001b[0m \u001b[39mif\u001b[39;00m inspect\u001b[39m.\u001b[39misclass(n_cls) \u001b[39mand\u001b[39;00m \u001b[39missubclass\u001b[39m(n_cls, \u001b[39mcls\u001b[39m):\n\u001b[1;32m     94\u001b[0m     \u001b[39mself\u001b[39m\u001b[39m.\u001b[39m\u001b[39m__class__\u001b[39m \u001b[39m=\u001b[39m n_cls\n\u001b[0;32m---> 95\u001b[0m     n_cls\u001b[39m.\u001b[39;49m\u001b[39m__init__\u001b[39;49m(\u001b[39mself\u001b[39;49m, \u001b[39m*\u001b[39;49margs, \u001b[39m*\u001b[39;49m\u001b[39m*\u001b[39;49mkwargs)\n\u001b[1;32m     96\u001b[0m \u001b[39melse\u001b[39;00m:\n\u001b[1;32m     97\u001b[0m     \u001b[39mraise\u001b[39;00m \u001b[39mModuleNotFoundError\u001b[39;00m(\u001b[39mf\u001b[39m\u001b[39m\"\u001b[39m\u001b[39mCan not find module as subclass of \u001b[39m\u001b[39m'\u001b[39m\u001b[39m{\u001b[39;00m\u001b[39mcls\u001b[39m\u001b[39m.\u001b[39m\u001b[39m__name__\u001b[39m\u001b[39m}\u001b[39;00m\u001b[39m'\u001b[39m\u001b[39m \u001b[39m\u001b[39m{\u001b[39;00mn_cls\u001b[39m}\u001b[39;00m\u001b[39m from \u001b[39m\u001b[39m{\u001b[39;00msub_list\u001b[39m}\u001b[39;00m\u001b[39m!\u001b[39m\u001b[39m\"\u001b[39m)\n",
      "File \u001b[0;32m/scratch/liuxj/workspace_plugins/fytok_tutorial/python/fytok/plugins/equilibrium/efit_east/efit_east.py:28\u001b[0m, in \u001b[0;36mEquilibriumEFITEAST.__init__\u001b[0;34m(self, *args, **kwargs)\u001b[0m\n\u001b[1;32m     27\u001b[0m \u001b[39mdef\u001b[39;00m \u001b[39m__init__\u001b[39m(\u001b[39mself\u001b[39m, \u001b[39m*\u001b[39margs, \u001b[39m*\u001b[39m\u001b[39m*\u001b[39mkwargs):\n\u001b[0;32m---> 28\u001b[0m     \u001b[39msuper\u001b[39;49m()\u001b[39m.\u001b[39;49m\u001b[39m__init__\u001b[39;49m(\u001b[39m*\u001b[39;49margs, \u001b[39m*\u001b[39;49m\u001b[39m*\u001b[39;49mkwargs)\n",
      "File \u001b[0;32m/gpfs/fuyun/projects/fuyun/fytok/python/fytok/plugins/equilibrium/fy_eq.py:1132\u001b[0m, in \u001b[0;36mFyEqAnalyze.__init__\u001b[0;34m(self, *args, **kwargs)\u001b[0m\n\u001b[1;32m   1131\u001b[0m \u001b[39mdef\u001b[39;00m \u001b[39m__init__\u001b[39m(\u001b[39mself\u001b[39m, \u001b[39m*\u001b[39margs, \u001b[39m*\u001b[39m\u001b[39m*\u001b[39mkwargs):\n\u001b[0;32m-> 1132\u001b[0m     \u001b[39msuper\u001b[39;49m()\u001b[39m.\u001b[39;49m\u001b[39m__init__\u001b[39;49m(\u001b[39m*\u001b[39;49margs, \u001b[39m*\u001b[39;49m\u001b[39m*\u001b[39;49mkwargs)\n",
      "File \u001b[0;32m/gpfs/fuyun/projects/fuyun/fytok/python/fytok/modules/Utilities.py:113\u001b[0m, in \u001b[0;36mModule.__init__\u001b[0;34m(self, *args, **kwargs)\u001b[0m\n\u001b[1;32m    110\u001b[0m \u001b[39mif\u001b[39;00m code \u001b[39mis\u001b[39;00m \u001b[39mnot\u001b[39;00m _not_found_:\n\u001b[1;32m    111\u001b[0m     \u001b[39mself\u001b[39m\u001b[39m.\u001b[39mcode\u001b[39m.\u001b[39mupdate(code)\n\u001b[0;32m--> 113\u001b[0m \u001b[39mif\u001b[39;00m \u001b[39mself\u001b[39;49m\u001b[39m.\u001b[39;49mcode\u001b[39m.\u001b[39;49mname \u001b[39mis\u001b[39;00m _not_found_:\n\u001b[1;32m    114\u001b[0m     \u001b[39mself\u001b[39m\u001b[39m.\u001b[39mcode\u001b[39m.\u001b[39mname \u001b[39m=\u001b[39m \u001b[39mself\u001b[39m\u001b[39m.\u001b[39m\u001b[39m__class__\u001b[39m\u001b[39m.\u001b[39m\u001b[39m__name__\u001b[39m\n\u001b[1;32m    116\u001b[0m logger\u001b[39m.\u001b[39minfo(\u001b[39mf\u001b[39m\u001b[39m\"\u001b[39m\u001b[39mInitialize module \u001b[39m\u001b[39m{\u001b[39;00m\u001b[39mself\u001b[39m\u001b[39m.\u001b[39m_plugin_prefix\u001b[39m}\u001b[39;00m\u001b[39m{\u001b[39;00m\u001b[39mself\u001b[39m\u001b[39m.\u001b[39mcode \u001b[39mor\u001b[39;00m \u001b[39mself\u001b[39m\u001b[39m.\u001b[39m\u001b[39m__class__\u001b[39m\u001b[39m.\u001b[39m\u001b[39m__name__\u001b[39m\u001b[39m}\u001b[39;00m\u001b[39m \u001b[39m\u001b[39m\"\u001b[39m)\n",
      "\u001b[0;31mAttributeError\u001b[0m: 'dict' object has no attribute 'name'"
     ]
    }
   ],
   "source": [
    "from fytok.Tokamak import Tokamak\n",
    "\n",
    "tokamak = Tokamak(\n",
    "    f\"mdsplus://202.127.204.12?enable_efit_east=True\",\n",
    "    device=\"east\",\n",
    "    shot=70754,\n",
    "    equilibrium={\"code\": {\"name\": \"efit_east\"}},\n",
    ")\n",
    "tokamak.equilibrium._entry = None"
   ]
  },
  {
   "cell_type": "code",
   "execution_count": 3,
   "metadata": {},
   "outputs": [
    {
     "name": "stdout",
     "output_type": "stream",
     "text": [
      "\u001b[0;34m2023-12-03 19:54:38,477 [   fytok]     INFO: Execute module fytok.plugins.equilibrium.eq_test,FyTok Demo\u001b[0m\n",
      "\u001b[0;34m2023-12-03 19:54:38,481 [   fytok]     INFO: Enter directory /gpfs/scratch/liuxj/workspace_plugins/fytok_output/fytok_liuxj_service108_184383/fytok.plugins.equilibrium.eq_test\u001b[0m\n",
      "\u001b[0;37m2023-12-03 19:54:38,482 [   fytok]    DEBUG: /scratch/liuxj/workspace_plugins/fytok_tutorial/python/fytok/plugins/equilibrium/eq_test.py:33:execute: (PosixPath('/gpfs/scratch/liuxj/workspace_plugins/fytok_output/fytok_liuxj_service108_184383/fytok.plugins.equilibrium.eq_test'), PosixPath('/gpfs/scratch/liuxj/workspace_plugins/fytok_output/fytok_liuxj_service108_184383/fytok.plugins.equilibrium.eq_test'))\u001b[0m\n",
      "\u001b[0;34m2023-12-03 19:54:40,149 [   fytok]     INFO: Load module spdm.plugins.data.plugin_mdsplus\u001b[0m\n",
      "\u001b[0;37m2023-12-03 19:54:41,054 [   fytok]    DEBUG: /gpfs/fuyun/projects/fuyun/spdm/python/spdm/plugins/data/plugin_mdsplus.py:118:get_tree: Open MDSplus Tree [pcs_east] shot=70754\u001b[0m\n",
      "\u001b[0;37m2023-12-03 19:54:41,777 [   fytok]    DEBUG: /scratch/liuxj/workspace_plugins/fytok_tutorial/python/fytok/plugins/equilibrium/eq_test.py:39:execute: [7802.0864495145315, 7872.482430674098, 8624.815432155805, 8676.206057138925, 10056.68750876422, 9958.66309347542, 4430.36280502094, 4511.083026035765, 4430.36280502094, 4511.083026035765, 614.4523100447434, 497.5670784308663, -516.0224571155316, -484.7221086596805, -160.21720984208054, -2.3027780725769305e-06]\u001b[0m\n",
      "\u001b[0;34m2023-12-03 19:54:41,779 [   fytok]     INFO: Enter directory /gpfs/scratch/liuxj/workspace_plugins\u001b[0m\n"
     ]
    }
   ],
   "source": [
    "tokamak.equilibrium.refresh(time=0.5)"
   ]
  }
 ],
 "metadata": {
  "kernelspec": {
   "display_name": "Python 3",
   "language": "python",
   "name": "python3"
  },
  "language_info": {
   "codemirror_mode": {
    "name": "ipython",
    "version": 3
   },
   "file_extension": ".py",
   "mimetype": "text/x-python",
   "name": "python",
   "nbconvert_exporter": "python",
   "pygments_lexer": "ipython3",
   "version": "3.10.8"
  }
 },
 "nbformat": 4,
 "nbformat_minor": 2
}

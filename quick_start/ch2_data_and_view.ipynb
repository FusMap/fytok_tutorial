{
 "cells": [
  {
   "cell_type": "markdown",
   "metadata": {},
   "source": [
    "# 数据集成与可视化 "
   ]
  },
  {
   "cell_type": "code",
   "execution_count": 1,
   "metadata": {},
   "outputs": [],
   "source": [
    "import pandas as pd\n",
    "import numpy as np\n",
    "import matplotlib.pyplot as plt\n",
    "import scipy.constants\n",
    "\n",
    "from spdm.core.file import File\n",
    "from spdm.core.function import Function\n",
    "from spdm.view import sp_view\n"
   ]
  },
  {
   "cell_type": "code",
   "execution_count": 2,
   "metadata": {},
   "outputs": [
    {
     "name": "stdout",
     "output_type": "stream",
     "text": [
      "\u001b[0;37m2024-07-01 11:26:49,538 [   fytok]  VERBOSE: Mapping path: ['/home/salmon/workspace/fytok/python/fytok/_mapping', '/home/salmon/workspace/fytok_ext/python/fytok/_mapping']\u001b[0m\n",
      "\u001b[0;34m2024-07-01 11:26:49,539 [   fytok]     INFO: \n",
      "###################################################################################################\n",
      "\n",
      "    ______      _____     _\n",
      "   / ____/_  __|_   _|__ | | __\n",
      "  / /_  / / / /  | |/ _ \\| |/ /\n",
      " / __/ / /_/ /   | | (_) |   <\n",
      "/_/    \\__, /    |_|\\___/|_|\\_\\\n",
      "      /____/\n",
      "\n",
      " Copyright (c) 2021-present Zhi YU @ Institute of Plasma Physics Chinese Academy of Sciences \n",
      "            \n",
      " version = 0.5.1  (spdm=beta )\n",
      "\n",
      " Run by salmon at 2024-07-01T11:26:49.537680.\n",
      " Job ID: fytok_salmon_salmon_11531\n",
      "\n",
      "###################################################################################################\n",
      "\u001b[0m\n"
     ]
    }
   ],
   "source": [
    "import fytok"
   ]
  },
  {
   "cell_type": "markdown",
   "metadata": {},
   "source": [
    "## 统一数据访问"
   ]
  },
  {
   "cell_type": "markdown",
   "metadata": {},
   "source": [
    "### 通用资源定位符 URI\n",
    "```\n",
    "<local schema>+<protocol>+<format>://<address>/<path>?<query>#<fragment>\n",
    "```\n",
    "扩展 protocol\n",
    "- schema    : 指定数据语义，通常为装置名\n",
    "- protocol  : 指定数据协议，如 file 或 mdsplus\n",
    "- format    : 明确指定文件格式\n",
    "\n",
    "标准语义\n",
    "- address   : 指定数据地址，如 IP 或主机名\n",
    "- path      : 指定数据路径\n",
    "- query     : 指定数据查询条件\n",
    "- fragment  : 指定数据片段\n"
   ]
  },
  {
   "cell_type": "code",
   "execution_count": 3,
   "metadata": {},
   "outputs": [
    {
     "name": "stdout",
     "output_type": "stream",
     "text": [
      "\u001b[0;37m2024-07-01 11:26:56,704 [   fytok]  VERBOSE: Using ontology: dummy\u001b[0m\n",
      "\u001b[0;37m2024-07-01 11:31:21,086 [   fytok]  VERBOSE: Load module spdm.plugins.data.file_xml\u001b[0m\n"
     ]
    },
    {
     "ename": "RuntimeError",
     "evalue": "Can not find plugin for URITuple(protocol='', authority='', path='', query={}, fragment='')",
     "output_type": "error",
     "traceback": [
      "\u001b[0;31m---------------------------------------------------------------------------\u001b[0m",
      "\u001b[0;31mRuntimeError\u001b[0m                              Traceback (most recent call last)",
      "File \u001b[0;32m~/workspace/spdm/python/spdm/core/entry.py:469\u001b[0m, in \u001b[0;36mopen_entry\u001b[0;34m(uri, plugin_name, local_schema, *args, **kwargs)\u001b[0m\n\u001b[1;32m    468\u001b[0m try:\n\u001b[0;32m--> 469\u001b[0m     uri.protocol = \"+\".join(schemas[1:])\n\u001b[1;32m    470\u001b[0m     entry = EntryMapping(uri, *args, local_schema=schemas[0], **kwargs)\n",
      "File \u001b[0;32m~/workspace/spdm/python/spdm/core/entry.py:278\u001b[0m, in \u001b[0;36m__init__\u001b[0;34m(self, uri, local_schema, global_schema, *args, **kwargs)\u001b[0m\n\u001b[1;32m    277\u001b[0m \n\u001b[0;32m--> 278\u001b[0m         self._handler[\"*\"] = as_entry(uri)\n\u001b[1;32m    279\u001b[0m \n",
      "File \u001b[0;32m/fuyun/software/Python/3.11.3-GCCcore-12.3.0/lib/python3.11/functools.py:909\u001b[0m, in \u001b[0;36msingledispatch.<locals>.wrapper\u001b[0;34m(*args, **kw)\u001b[0m\n\u001b[1;32m    906\u001b[0m     \u001b[38;5;28;01mraise\u001b[39;00m \u001b[38;5;167;01mTypeError\u001b[39;00m(\u001b[38;5;124mf\u001b[39m\u001b[38;5;124m'\u001b[39m\u001b[38;5;132;01m{\u001b[39;00mfuncname\u001b[38;5;132;01m}\u001b[39;00m\u001b[38;5;124m requires at least \u001b[39m\u001b[38;5;124m'\u001b[39m\n\u001b[1;32m    907\u001b[0m                     \u001b[38;5;124m'\u001b[39m\u001b[38;5;124m1 positional argument\u001b[39m\u001b[38;5;124m'\u001b[39m)\n\u001b[0;32m--> 909\u001b[0m \u001b[38;5;28;01mreturn\u001b[39;00m \u001b[43mdispatch\u001b[49m\u001b[43m(\u001b[49m\u001b[43margs\u001b[49m\u001b[43m[\u001b[49m\u001b[38;5;241;43m0\u001b[39;49m\u001b[43m]\u001b[49m\u001b[38;5;241;43m.\u001b[39;49m\u001b[38;5;18;43m__class__\u001b[39;49m\u001b[43m)\u001b[49m\u001b[43m(\u001b[49m\u001b[38;5;241;43m*\u001b[39;49m\u001b[43margs\u001b[49m\u001b[43m,\u001b[49m\u001b[43m \u001b[49m\u001b[38;5;241;43m*\u001b[39;49m\u001b[38;5;241;43m*\u001b[39;49m\u001b[43mkw\u001b[49m\u001b[43m)\u001b[49m\n",
      "File \u001b[0;32m~/workspace/spdm/python/spdm/core/entry.py:506\u001b[0m, in \u001b[0;36m_as_entry\u001b[0;34m(uri, *args, **kwargs)\u001b[0m\n\u001b[1;32m    505\u001b[0m @as_entry.register(URITuple)\n\u001b[0;32m--> 506\u001b[0m def _as_entry(uri, *args, **kwargs):\n\u001b[1;32m    507\u001b[0m     return open_entry(uri, *args, **kwargs)\n",
      "File \u001b[0;32m~/workspace/spdm/python/spdm/core/entry.py:450\u001b[0m, in \u001b[0;36mopen_entry\u001b[0;34m(uri, plugin_name, local_schema, *args, **kwargs)\u001b[0m\n\u001b[1;32m    449\u001b[0m \n\u001b[0;32m--> 450\u001b[0m     elif plugin_name.startswith(\"file\") or plugin_name == \"\":\n\u001b[1;32m    451\u001b[0m         entry = File(uri, *args, _plugin_name=plugin_name, **kwargs).__entry__()\n",
      "File \u001b[0;32m~/workspace/spdm/python/spdm/core/file.py:16\u001b[0m, in \u001b[0;36mFile.__new__\u001b[0;34m(cls, uri, _plugin_name, *args, **kwargs)\u001b[0m\n\u001b[1;32m     15\u001b[0m \u001b[38;5;28;01mif\u001b[39;00m \u001b[38;5;28mcls\u001b[39m \u001b[38;5;129;01mis\u001b[39;00m \u001b[38;5;129;01mnot\u001b[39;00m File \u001b[38;5;129;01mor\u001b[39;00m (_plugin_name \u001b[38;5;129;01mis\u001b[39;00m \u001b[38;5;129;01mnot\u001b[39;00m \u001b[38;5;28;01mNone\u001b[39;00m \u001b[38;5;129;01mand\u001b[39;00m _plugin_name \u001b[38;5;129;01mis\u001b[39;00m \u001b[38;5;129;01mnot\u001b[39;00m \u001b[38;5;124m\"\u001b[39m\u001b[38;5;124mfile\u001b[39m\u001b[38;5;124m\"\u001b[39m):\n\u001b[0;32m---> 16\u001b[0m     \u001b[38;5;28;01mreturn\u001b[39;00m \u001b[38;5;28;43msuper\u001b[39;49m\u001b[43m(\u001b[49m\u001b[43m)\u001b[49m\u001b[38;5;241;43m.\u001b[39;49m\u001b[38;5;21;43m__new__\u001b[39;49m\u001b[43m(\u001b[49m\u001b[38;5;28;43mcls\u001b[39;49m\u001b[43m,\u001b[49m\u001b[43m \u001b[49m\u001b[43m_plugin_name\u001b[49m\u001b[38;5;241;43m=\u001b[39;49m\u001b[43m_plugin_name\u001b[49m\u001b[43m)\u001b[49m\n\u001b[1;32m     18\u001b[0m uri \u001b[38;5;241m=\u001b[39m uri_split(uri)\n",
      "File \u001b[0;32m~/workspace/spdm/python/spdm/core/document.py:23\u001b[0m, in \u001b[0;36mDocument.__new__\u001b[0;34m(cls, _plugin_name, *args, **kwargs)\u001b[0m\n\u001b[1;32m     22\u001b[0m \u001b[38;5;28;01mdef\u001b[39;00m \u001b[38;5;21m__new__\u001b[39m(\u001b[38;5;28mcls\u001b[39m, \u001b[38;5;241m*\u001b[39margs, _plugin_name\u001b[38;5;241m=\u001b[39m\u001b[38;5;28;01mNone\u001b[39;00m, \u001b[38;5;241m*\u001b[39m\u001b[38;5;241m*\u001b[39mkwargs) \u001b[38;5;241m-\u001b[39m\u001b[38;5;241m>\u001b[39m \u001b[38;5;28;01mNone\u001b[39;00m:\n\u001b[0;32m---> 23\u001b[0m     \u001b[38;5;28;01mreturn\u001b[39;00m \u001b[38;5;28;43msuper\u001b[39;49m\u001b[43m(\u001b[49m\u001b[43m)\u001b[49m\u001b[38;5;241;43m.\u001b[39;49m\u001b[38;5;21;43m__new__\u001b[39;49m\u001b[43m(\u001b[49m\u001b[38;5;28;43mcls\u001b[39;49m\u001b[43m,\u001b[49m\u001b[43m \u001b[49m\u001b[43m_plugin_name\u001b[49m\u001b[38;5;241;43m=\u001b[39;49m\u001b[43m_plugin_name\u001b[49m\u001b[43m)\u001b[49m\n",
      "File \u001b[0;32m~/workspace/spdm/python/spdm/core/pluggable.py:143\u001b[0m, in \u001b[0;36mPluggable.__new__\u001b[0;34m(cls, _plugin_name, *args, **kwargs)\u001b[0m\n\u001b[1;32m    141\u001b[0m \u001b[38;5;28;01melse\u001b[39;00m:\n\u001b[0;32m--> 143\u001b[0m     n_cls \u001b[38;5;241m=\u001b[39m \u001b[38;5;28;43mcls\u001b[39;49m\u001b[38;5;241;43m.\u001b[39;49m\u001b[43m_find_plugin\u001b[49m\u001b[43m(\u001b[49m\u001b[43m_plugin_name\u001b[49m\u001b[43m)\u001b[49m\n\u001b[1;32m    145\u001b[0m     \u001b[38;5;28;01mif\u001b[39;00m \u001b[38;5;129;01mnot\u001b[39;00m (inspect\u001b[38;5;241m.\u001b[39misclass(n_cls) \u001b[38;5;129;01mand\u001b[39;00m \u001b[38;5;28missubclass\u001b[39m(n_cls, \u001b[38;5;28mcls\u001b[39m)):\n",
      "File \u001b[0;32m~/workspace/spdm/python/spdm/core/pluggable.py:95\u001b[0m, in \u001b[0;36mPluggable._find_plugin\u001b[0;34m(cls, plugin_name)\u001b[0m\n\u001b[1;32m     94\u001b[0m \u001b[38;5;66;03m# Check if the plugin path is provided\u001b[39;00m\n\u001b[0;32m---> 95\u001b[0m plugin_path \u001b[38;5;241m=\u001b[39m \u001b[38;5;28;43mcls\u001b[39;49m\u001b[38;5;241;43m.\u001b[39;49m\u001b[43m_complete_path\u001b[49m\u001b[43m(\u001b[49m\u001b[43mplugin_name\u001b[49m\u001b[43m)\u001b[49m\n\u001b[1;32m     97\u001b[0m \u001b[38;5;28;01mif\u001b[39;00m plugin_path \u001b[38;5;129;01mis\u001b[39;00m \u001b[38;5;28;01mNone\u001b[39;00m \u001b[38;5;129;01mor\u001b[39;00m plugin_path \u001b[38;5;241m==\u001b[39m \u001b[38;5;28mcls\u001b[39m\u001b[38;5;241m.\u001b[39m\u001b[38;5;18m__module__\u001b[39m \u001b[38;5;129;01mor\u001b[39;00m plugin_path \u001b[38;5;241m==\u001b[39m \u001b[38;5;28mgetattr\u001b[39m(\u001b[38;5;28mcls\u001b[39m, \u001b[38;5;124m\"\u001b[39m\u001b[38;5;124m_plugin_prefix\u001b[39m\u001b[38;5;124m\"\u001b[39m, \u001b[38;5;28;01mNone\u001b[39;00m):\n\u001b[1;32m     98\u001b[0m     \u001b[38;5;66;03m# No plugin path provided, return the class itself\u001b[39;00m\n",
      "File \u001b[0;32m~/workspace/spdm/python/spdm/core/pluggable.py:48\u001b[0m, in \u001b[0;36mPluggable._complete_path\u001b[0;34m(cls, plugin_name)\u001b[0m\n\u001b[1;32m     47\u001b[0m \u001b[38;5;28;01mif\u001b[39;00m \u001b[38;5;129;01mnot\u001b[39;00m plugin_name\u001b[38;5;241m.\u001b[39misidentifier():\n\u001b[0;32m---> 48\u001b[0m     \u001b[38;5;28;01mraise\u001b[39;00m \u001b[38;5;167;01mRuntimeError\u001b[39;00m(\u001b[38;5;124mf\u001b[39m\u001b[38;5;124m\"\u001b[39m\u001b[38;5;124mIllegal plugin name \u001b[39m\u001b[38;5;132;01m{\u001b[39;00mplugin_name\u001b[38;5;132;01m}\u001b[39;00m\u001b[38;5;124m!\u001b[39m\u001b[38;5;124m\"\u001b[39m)\n\u001b[1;32m     50\u001b[0m prefix \u001b[38;5;241m=\u001b[39m \u001b[38;5;28mgetattr\u001b[39m(\u001b[38;5;28mcls\u001b[39m, \u001b[38;5;124m\"\u001b[39m\u001b[38;5;124m_plugin_prefix\u001b[39m\u001b[38;5;124m\"\u001b[39m, \u001b[38;5;28;01mNone\u001b[39;00m)\n",
      "\u001b[0;31mRuntimeError\u001b[0m: Illegal plugin name !",
      "\nThe above exception was the direct cause of the following exception:\n",
      "\u001b[0;31mRuntimeError\u001b[0m                              Traceback (most recent call last)",
      "Cell \u001b[0;32mIn[3], line 3\u001b[0m\n\u001b[1;32m      1\u001b[0m \u001b[38;5;28;01mfrom\u001b[39;00m \u001b[38;5;21;01mfytok\u001b[39;00m\u001b[38;5;21;01m.\u001b[39;00m\u001b[38;5;21;01mmodules\u001b[39;00m\u001b[38;5;21;01m.\u001b[39;00m\u001b[38;5;21;01mwall\u001b[39;00m \u001b[38;5;28;01mimport\u001b[39;00m Wall\n\u001b[0;32m----> 3\u001b[0m wall \u001b[38;5;241m=\u001b[39m \u001b[43mWall\u001b[49m\u001b[43m(\u001b[49m\u001b[38;5;124;43m\"\u001b[39;49m\u001b[38;5;124;43meast://#wall\u001b[39;49m\u001b[38;5;124;43m\"\u001b[39;49m\u001b[43m)\u001b[49m\n",
      "File \u001b[0;32m~/workspace/fytok/python/fytok/modules/utilities.py:115\u001b[0m, in \u001b[0;36mIDS.__init__\u001b[0;34m(self, _entry, *args, **kwargs)\u001b[0m\n\u001b[1;32m    113\u001b[0m     _entry \u001b[38;5;241m=\u001b[39m args[\u001b[38;5;241m0\u001b[39m]\n\u001b[1;32m    114\u001b[0m     args \u001b[38;5;241m=\u001b[39m args[\u001b[38;5;241m1\u001b[39m:]\n\u001b[0;32m--> 115\u001b[0m \u001b[38;5;28;43msuper\u001b[39;49m\u001b[43m(\u001b[49m\u001b[43m)\u001b[49m\u001b[38;5;241;43m.\u001b[39;49m\u001b[38;5;21;43m__init__\u001b[39;49m\u001b[43m(\u001b[49m\u001b[38;5;241;43m*\u001b[39;49m\u001b[43margs\u001b[49m\u001b[43m,\u001b[49m\u001b[43m \u001b[49m\u001b[43m_entry\u001b[49m\u001b[38;5;241;43m=\u001b[39;49m\u001b[43m_entry\u001b[49m\u001b[43m,\u001b[49m\u001b[43m \u001b[49m\u001b[38;5;241;43m*\u001b[39;49m\u001b[38;5;241;43m*\u001b[39;49m\u001b[43mkwargs\u001b[49m\u001b[43m)\u001b[49m\n",
      "File \u001b[0;32m~/workspace/spdm/python/spdm/core/htree.py:58\u001b[0m, in \u001b[0;36mHTreeNode.__init__\u001b[0;34m(self, cache, _entry, _parent, **metadata)\u001b[0m\n\u001b[1;32m     56\u001b[0m \u001b[38;5;250m\u001b[39m\u001b[38;5;124;03m\"\"\"Initialize a HTreeNode object.\"\"\"\u001b[39;00m\n\u001b[1;32m     57\u001b[0m \u001b[38;5;28mself\u001b[39m\u001b[38;5;241m.\u001b[39m_cache \u001b[38;5;241m=\u001b[39m cache\n\u001b[0;32m---> 58\u001b[0m \u001b[38;5;28mself\u001b[39m\u001b[38;5;241m.\u001b[39m_entry \u001b[38;5;241m=\u001b[39m \u001b[43mopen_entry\u001b[49m\u001b[43m(\u001b[49m\u001b[43m_entry\u001b[49m\u001b[43m)\u001b[49m \u001b[38;5;28;01mif\u001b[39;00m _entry \u001b[38;5;129;01mis\u001b[39;00m \u001b[38;5;129;01mnot\u001b[39;00m \u001b[38;5;28;01mNone\u001b[39;00m \u001b[38;5;28;01melse\u001b[39;00m \u001b[38;5;28;01mNone\u001b[39;00m\n\u001b[1;32m     59\u001b[0m \u001b[38;5;28mself\u001b[39m\u001b[38;5;241m.\u001b[39m_parent \u001b[38;5;241m=\u001b[39m _parent\n\u001b[1;32m     60\u001b[0m \u001b[38;5;28mself\u001b[39m\u001b[38;5;241m.\u001b[39m_metadata \u001b[38;5;241m=\u001b[39m {\u001b[38;5;241m*\u001b[39m\u001b[38;5;241m*\u001b[39mmetadata, \u001b[38;5;241m*\u001b[39m\u001b[38;5;241m*\u001b[39m\u001b[38;5;28mgetattr\u001b[39m(\u001b[38;5;28mself\u001b[39m\u001b[38;5;241m.\u001b[39m\u001b[38;5;18m__class__\u001b[39m, \u001b[38;5;124m\"\u001b[39m\u001b[38;5;124m_metadata\u001b[39m\u001b[38;5;124m\"\u001b[39m, {})}\n",
      "File \u001b[0;32m~/workspace/spdm/python/spdm/core/entry.py:471\u001b[0m, in \u001b[0;36mopen_entry\u001b[0;34m(uri, plugin_name, local_schema, *args, **kwargs)\u001b[0m\n\u001b[1;32m    469\u001b[0m     uri.protocol = \"+\".join(schemas[1:])\n\u001b[1;32m    470\u001b[0m     entry = EntryMapping(uri, *args, local_schema=schemas[0], **kwargs)\n\u001b[0;32m--> 471\u001b[0m except RuntimeError as error:\n\u001b[1;32m    472\u001b[0m     raise RuntimeError(f\"Can not find plugin for {uri}\") from error\n\u001b[1;32m    473\u001b[0m \n",
      "\u001b[0;31mRuntimeError\u001b[0m: Can not find plugin for URITuple(protocol='', authority='', path='', query={}, fragment='')"
     ]
    }
   ],
   "source": [
    "from fytok.modules.wall import Wall\n",
    "\n",
    "wall = Wall(\"east://#wall\")"
   ]
  },
  {
   "cell_type": "code",
   "execution_count": null,
   "metadata": {},
   "outputs": [],
   "source": [
    "desc = wall.description_2d[0]"
   ]
  },
  {
   "cell_type": "code",
   "execution_count": null,
   "metadata": {},
   "outputs": [],
   "source": [
    "type(desc.unit)"
   ]
  },
  {
   "cell_type": "code",
   "execution_count": null,
   "metadata": {},
   "outputs": [],
   "source": [
    "fig = sp_view.display(wall)"
   ]
  },
  {
   "cell_type": "code",
   "execution_count": null,
   "metadata": {},
   "outputs": [],
   "source": [
    "fig = sp_view.display(Wall(\"iter://#wall\"))"
   ]
  },
  {
   "cell_type": "code",
   "execution_count": null,
   "metadata": {},
   "outputs": [],
   "source": [
    "fig = sp_view.display(Wall(\"d3d://#wall\"))"
   ]
  },
  {
   "cell_type": "code",
   "execution_count": null,
   "metadata": {},
   "outputs": [],
   "source": [
    "fig = sp_view.display(Wall(\"cfetr://#wall\"))"
   ]
  },
  {
   "cell_type": "markdown",
   "metadata": {},
   "source": [
    "## 文件访问"
   ]
  },
  {
   "cell_type": "code",
   "execution_count": null,
   "metadata": {},
   "outputs": [],
   "source": [
    "eqdsk_file=File(f\"file+geqdsk://./data/geqdsk.txt#equilibrium\").entry"
   ]
  },
  {
   "cell_type": "code",
   "execution_count": null,
   "metadata": {},
   "outputs": [],
   "source": [
    "psi_norm=eqdsk_file.get(\"equilibrium/time_slice/0/profiles_1d/psi_norm\")\n",
    "f_value=eqdsk_file.get(\"equilibrium/time_slice/0/profiles_1d/f\")"
   ]
  },
  {
   "cell_type": "code",
   "execution_count": null,
   "metadata": {},
   "outputs": [],
   "source": [
    "f_value"
   ]
  },
  {
   "cell_type": "markdown",
   "metadata": {},
   "source": [
    "## 插值函数"
   ]
  },
  {
   "cell_type": "code",
   "execution_count": null,
   "metadata": {},
   "outputs": [],
   "source": [
    "f=Function(psi_norm, f_value)\n",
    "plt.plot(psi_norm,f_value)\n",
    "x=np.linspace(0.01,0.95,32)\n",
    "plt.plot(x,f(x),\"+\")"
   ]
  },
  {
   "cell_type": "markdown",
   "metadata": {},
   "source": [
    "## 示例: 平衡分析"
   ]
  },
  {
   "cell_type": "code",
   "execution_count": null,
   "metadata": {},
   "outputs": [],
   "source": [
    "astra_profiles = pd.read_excel(\"./data/profiles.xls\",  header=0, usecols=\"A:BM\")"
   ]
  },
  {
   "cell_type": "code",
   "execution_count": null,
   "metadata": {},
   "outputs": [],
   "source": [
    "from fytok.modules.equilibrium import Equilibrium"
   ]
  },
  {
   "cell_type": "code",
   "execution_count": null,
   "metadata": {},
   "outputs": [],
   "source": [
    "equilibrium = Equilibrium(f\"file+geqdsk://./data/geqdsk.txt#equilibrium\")"
   ]
  },
  {
   "cell_type": "code",
   "execution_count": null,
   "metadata": {},
   "outputs": [],
   "source": [
    "equilibrium.time_slice.current"
   ]
  },
  {
   "cell_type": "code",
   "execution_count": null,
   "metadata": {},
   "outputs": [],
   "source": [
    "fig=sp_view.display(equilibrium)"
   ]
  },
  {
   "cell_type": "code",
   "execution_count": null,
   "metadata": {},
   "outputs": [],
   "source": [
    "eq=equilibrium.time_slice.current()\n",
    "eq_profiles_2d = eq.profiles_2d\n",
    "eq_profiles_1d = eq.profiles_1d\n"
   ]
  },
  {
   "cell_type": "code",
   "execution_count": null,
   "metadata": {},
   "outputs": [],
   "source": [
    "type(eq_profiles_2d)"
   ]
  },
  {
   "cell_type": "code",
   "execution_count": null,
   "metadata": {},
   "outputs": [],
   "source": [
    "fig = sp_view.display(eq_profiles_2d.psi)"
   ]
  },
  {
   "cell_type": "markdown",
   "metadata": {},
   "source": [
    "FyTok 会自动将一维数组转换样条插值函数"
   ]
  },
  {
   "cell_type": "code",
   "execution_count": null,
   "metadata": {},
   "outputs": [],
   "source": [
    "x = np.linspace(0.01, 0.95, 20)\n",
    "eq_profiles_1d.f(x)"
   ]
  },
  {
   "cell_type": "code",
   "execution_count": null,
   "metadata": {},
   "outputs": [],
   "source": [
    "plt.plot(x,f(x))\n",
    "plt.plot(x,eq_profiles_1d.f(x),\".\")"
   ]
  },
  {
   "cell_type": "code",
   "execution_count": null,
   "metadata": {},
   "outputs": [],
   "source": [
    "R0 = equilibrium.time_slice.current.vacuum_toroidal_field.r0\n",
    "psi_axis = equilibrium.time_slice.current.global_quantities.psi_axis\n",
    "psi_boundary = equilibrium.time_slice.current.global_quantities.psi_boundary\n",
    "eq_profiles_1d = equilibrium.time_slice.current.profiles_1d\n",
    "\n",
    "fig = sp_view.plot(\n",
    "    eq_profiles_1d.psi_norm[1:-1], # 横坐标\n",
    "    ( # 分组显示\n",
    "        [\n",
    "            (\n",
    "                Function(astra_profiles[\"xq\"].values, astra_profiles[\"q\"].values)(eq_profiles_1d.rho_tor_norm),\n",
    "                {\"label\": r\"astra\", \"$matplotlib\": {\"linestyle\": \"dashed\"}},\n",
    "            ),\n",
    "            (eq_profiles_1d.q, {\"label\": r\"fytok\"}),\n",
    "        ],\n",
    "        {\"y_label\": r\"$q [-]$\"},\n",
    "    ),\n",
    "    (\n",
    "        [\n",
    "            (\n",
    "                Function(astra_profiles[\"Fp\"].values, astra_profiles[\"rho\"].values),\n",
    "                {\"label\": r\"astra\", \"$matplotlib\": {\"linestyle\": \"dashed\"}},\n",
    "            ),\n",
    "            (eq_profiles_1d.rho_tor),\n",
    "        ],\n",
    "        {\n",
    "            \"y_label\": r\"$\\rho_{tor}[m]$\",\n",
    "        },\n",
    "    ),\n",
    "    (\n",
    "        [\n",
    "            (\n",
    "                Function(astra_profiles[\"Fp\"].values, astra_profiles[\"x\"].values),\n",
    "                {\"label\": r\"astra\", \"$matplotlib\": {\"linestyle\": \"dashed\"}},\n",
    "            ),\n",
    "            (eq_profiles_1d.rho_tor_norm),\n",
    "        ],\n",
    "        {\n",
    "            \"y_label\": r\"$\\bar{\\rho}_{tor}[-]$\",\n",
    "        },\n",
    "    ),\n",
    "    (\n",
    "        [\n",
    "            Function(\n",
    "                astra_profiles[\"Fp\"].values,\n",
    "                4 * (scipy.constants.pi**2) * R0 * astra_profiles[\"rho\"].values,\n",
    "                label=r\"$4\\pi R_0 \\rho$\",\n",
    "            ),\n",
    "            (eq_profiles_1d.dvolume_drho_tor, {\"label\": r\"$\\frac{dV}{d\\bar{\\rho}}$\"}),\n",
    "            (\n",
    "                (scipy.constants.pi * 2.0) * eq_profiles_1d.dvolume_dpsi * eq_profiles_1d.dpsi_drho_tor,\n",
    "                r\"$\\frac{dV}{d\\psi} \\cdot \\frac{d\\psi}{d\\rho}$\",\n",
    "            ),\n",
    "        ],\n",
    "        {\"y_label\": r\"$[m^2]$\"},\n",
    "    ),\n",
    "    x_label=r\"$\\bar{\\rho}_{tor}$\",\n",
    ")"
   ]
  },
  {
   "cell_type": "code",
   "execution_count": null,
   "metadata": {},
   "outputs": [],
   "source": [
    "eq_profiles_1d = equilibrium.time_slice.current.profiles_1d\n",
    "fig = sp_view.plot(  # plot tokamak geometric profile\n",
    "    eq_profiles_1d.grid.psi_norm[1:],\n",
    "    (eq_profiles_1d.dvolume_dpsi, r\"$\\frac{dV}{d\\psi}$\"),\n",
    "    (eq_profiles_1d.dpsi_drho_tor, r\"$\\frac{d\\psi}{d\\rho_{tor}}$\"),\n",
    "    (eq_profiles_1d.f, {\"y_label\": r\"$F_{pol} [Wb\\cdot m]$\"}),\n",
    "    (eq_profiles_1d.q, {\"y_label\": r\"$q [-]$\"}),\n",
    "    ((eq_profiles_1d.rho_tor, r\"$\\rho$\"), {\"y_label\": r\"$\\rho_{tor}[m]$\"}),\n",
    "    # ((eq_profiles_1d.rho_tor_norm, r\"$\\bar{\\rho}$\"), {\"y_label\": r\"[-]\"}),\n",
    "    ((eq_profiles_1d.dvolume_drho_tor, r\"$dV/d\\rho_{tor}$\"), {\"y_label\": r\"$4\\pi ^ 2 R_0 \\rho[m ^ 2]$\"}),\n",
    "    (eq_profiles_1d.gm1, r\"$gm1=\\left<\\frac{1}{R^2}\\right>$\"),\n",
    "    (eq_profiles_1d.gm2, r\"$gm2=\\left<\\frac{\\left|\\nabla \\rho\\right|^2}{R^2}\\right>$\"),\n",
    "    (eq_profiles_1d.gm3, r\"$gm3=\\left<\\left|\\nabla \\rho\\right|^2\\right>$\"),\n",
    "    (eq_profiles_1d.gm4, r\"$gm4=\\left<1/B^2\\right>$\"),\n",
    "    (eq_profiles_1d.gm5, r\"$gm5=\\left<B^2\\right>$\"),\n",
    "    (eq_profiles_1d.gm6, r\"$gm6=\\left<\\nabla \\rho_{tor}^2/ B^2 \\right>$\"),\n",
    "    (eq_profiles_1d.gm7, r\"$gm7=\\left<\\left|\\nabla \\rho\\right|\\right>$\"),\n",
    "    (eq_profiles_1d.gm8, r\"$gm8=\\left<R\\right>$\"),\n",
    "    x_label=r\"\\bar{\\psi}\",\n",
    ")"
   ]
  },
  {
   "cell_type": "markdown",
   "metadata": {},
   "source": [
    "# 示例: Tokamak 装置信息"
   ]
  },
  {
   "cell_type": "code",
   "execution_count": null,
   "metadata": {},
   "outputs": [],
   "source": [
    "from fytok.tokamak import Tokamak"
   ]
  },
  {
   "cell_type": "code",
   "execution_count": null,
   "metadata": {},
   "outputs": [],
   "source": [
    "tokamak = Tokamak(\n",
    "    device=\"iter\",\n",
    "    shot=900003,\n",
    "    equilibrium=f\"file+geqdsk://./data/geqdsk.txt#equilibrium\",\n",
    ")"
   ]
  },
  {
   "cell_type": "markdown",
   "metadata": {},
   "source": [
    "## 展示概要信息"
   ]
  },
  {
   "cell_type": "markdown",
   "metadata": {},
   "source": [
    "展示模拟的概要信息，包括 \n",
    "- 装置名称、炮号、运行序号，\n",
    "- 使用者、运行环境、运行时间、采用的 Ontology 版本\n",
    "- 调用的模块信心"
   ]
  },
  {
   "cell_type": "code",
   "execution_count": null,
   "metadata": {},
   "outputs": [],
   "source": [
    "print(tokamak.brief_summary)"
   ]
  },
  {
   "cell_type": "markdown",
   "metadata": {},
   "source": [
    "## 可视化\n",
    "### 适用于 JupyterLab 环境的可视化接口\n",
    "FyTok 提供了适用于 JupyterLab 环境的可视化接口，`sp_view.display()`调用。默认情况下，`Tokamak` 会将能够获取到的信息尽可能绘制到一张图上。如下图，展示了 pf_active 极向场线圈、magnetic 磁场探针，wall.limiter 壁, interferometer 干涉仪的几何信息，磁平衡信息给出了二维磁面的等高线，最外层磁面、磁轴、X-point等信息。\n",
    "\n",
    "```{note} \n",
    "具有 IDS 可视化语义的 IDS 都应支持 `sp_view.display()` 可视化，如 wall,pf_active,equilibrium。关于可视化库 spdm.view 的进一步细节请参考第二部分 SpDM 的可视化章节。\n",
    "```"
   ]
  },
  {
   "cell_type": "code",
   "execution_count": null,
   "metadata": {},
   "outputs": [],
   "source": [
    "fig=sp_view.display(tokamak)"
   ]
  },
  {
   "cell_type": "markdown",
   "metadata": {},
   "source": [
    "## 将可视化结果输出为图像文件\n",
    "\n",
    "通过指定输出文件路径 `output=f\"output/{tok.tag}_rz.svg\"`，可以将可视化结果以文件的形式保存。"
   ]
  },
  {
   "cell_type": "code",
   "execution_count": null,
   "metadata": {},
   "outputs": [],
   "source": [
    "from IPython.core.display import SVG\n",
    "\n",
    "sp_view.display(tokamak, title=tokamak.title, output=f\"output/{tokamak.tag}_rz.svg\")\n",
    "\n",
    "SVG(f\"output/{tokamak.tag}_rz.svg\")"
   ]
  }
 ],
 "metadata": {
  "kernelspec": {
   "display_name": "Python 3",
   "language": "python",
   "name": "python3"
  },
  "language_info": {
   "codemirror_mode": {
    "name": "ipython",
    "version": 3
   },
   "file_extension": ".py",
   "mimetype": "text/x-python",
   "name": "python",
   "nbconvert_exporter": "python",
   "pygments_lexer": "ipython3",
   "version": "3.11.3"
  }
 },
 "nbformat": 4,
 "nbformat_minor": 2
}

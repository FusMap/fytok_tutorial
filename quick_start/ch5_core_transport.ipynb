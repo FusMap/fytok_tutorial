{
 "cells": [
  {
   "cell_type": "markdown",
   "metadata": {},
   "source": [
    "# 集成计算 case 3: 芯部输运"
   ]
  },
  {
   "cell_type": "markdown",
   "metadata": {},
   "source": [
    "## 介绍\n",
    "__FyTok__ 用于执行集成计算。 "
   ]
  },
  {
   "cell_type": "code",
   "execution_count": 1,
   "metadata": {},
   "outputs": [],
   "source": [
    "# import os \n",
    "# os .environ[\"FY_VERBOSE\"]=\"info\"\n",
    "\n",
    "import numpy as np\n",
    "from spdm.core.path import Path\n",
    "from spdm.core.function import Function\n",
    "from spdm.view import  sp_view\n"
   ]
  },
  {
   "cell_type": "markdown",
   "metadata": {},
   "source": [
    "## 导入基准数据 （ITER 15MA）"
   ]
  },
  {
   "cell_type": "code",
   "execution_count": 2,
   "metadata": {},
   "outputs": [
    {
     "name": "stdout",
     "output_type": "stream",
     "text": [
      "\u001b[0;37m2024-06-05 11:32:06,809 [   fytok]  VERBOSE: Failed to import IMAS ontology: No module named 'fytok.ontology.imas_lastest'\u001b[0m\n",
      "\u001b[0;34m2024-06-05 11:32:06,810 [   fytok]     INFO: Failed to import IMAS wrapper. Using dummy ontology as fallback.\u001b[0m\n",
      "\u001b[0;34m2024-06-05 11:32:06,819 [   fytok]     INFO: \n",
      "###################################################################################################\n",
      "\n",
      "    ______      _____     _\n",
      "   / ____/_  __|_   _|__ | | __\n",
      "  / /_  / / / /  | |/ _ \\| |/ /\n",
      " / __/ / /_/ /   | | (_) |   <\n",
      "/_/    \\__, /    |_|\\___/|_|\\_\\\n",
      "      /____/\n",
      "\n",
      " Copyright (c) 2021-present Zhi YU @ Institute of Plasma Physics Chinese Academy of Sciences \n",
      "            \n",
      " version = 0.4.1  (spdm=beta extension=0.2.3.dev0+g2cc21ff.d20240223)\n",
      "\n",
      " Run by salmon at 2024-06-05T11:32:06.808785.\n",
      " Job ID: fytok_salmon_surface_18375\n",
      "\n",
      "###################################################################################################\n",
      "\u001b[0m\n"
     ]
    }
   ],
   "source": [
    "from fytok.tokamak import Tokamak\n",
    "from fytok.modules.core_profiles import CoreProfiles\n",
    "from fytok.modules.equilibrium import Equilibrium"
   ]
  },
  {
   "cell_type": "code",
   "execution_count": 3,
   "metadata": {},
   "outputs": [
    {
     "name": "stdout",
     "output_type": "stream",
     "text": [
      "\u001b[0;37m2024-06-05 11:32:07,154 [   fytok]  VERBOSE: Load module spdm.plugins.data.plugin_iterprofiles\u001b[0m\n",
      "\u001b[0;37m2024-06-05 11:32:07,210 [   fytok]  VERBOSE: Initialize module default-0_0_0 \u001b[0m\n",
      "\u001b[0;37m2024-06-05 11:32:07,300 [   fytok]  VERBOSE: Load module fytok.plugins.modules.equilibrium.fy_eq\u001b[0m\n",
      "\u001b[0;37m2024-06-05 11:32:07,302 [   fytok]  VERBOSE: Load module spdm.plugins.data.plugin_geqdsk\u001b[0m\n",
      "\u001b[0;37m2024-06-05 11:32:07,354 [   fytok]  VERBOSE: Initialize module fy_eq-0_0_0 \u001b[0m\n"
     ]
    }
   ],
   "source": [
    "core_profiles_astra = CoreProfiles(f\"file+iterprofiles://./data/profiles.xls#core_profiles\")\n",
    "\n",
    "core_profiles_1d_astra = core_profiles_astra.time_slice.current.profiles_1d\n",
    "\n",
    "equilibrium_astra = Equilibrium(f\"file+geqdsk://./data/geqdsk.txt#equilibrium\")"
   ]
  },
  {
   "cell_type": "markdown",
   "metadata": {},
   "source": [
    "## 创建 Tokamak 实例"
   ]
  },
  {
   "cell_type": "markdown",
   "metadata": {},
   "source": [
    "创建参数\n",
    "\n",
    "| 参数                               | 解释                                                                                                                                                                                                |\n",
    "| ---------------------------------- | --------------------------------------------------------------------------------------------------------------------------------------------------------------------------------------------------- |\n",
    "| \"f\"\"                | 数据源。指向一个 geqdsk 文件(file+geqdsk://...)，提供平衡信息,或者数据源的entry入口                                                                                                                                                          |\n",
    "| device=\"name\"                      | 指定装置名称。根据装置名称，可以自动调取装置的静态信息，例如，wall.limiter 的几何形状，pf_active.coils 极向场线圈的位置等等。默认支持的装置信息，括 EAST、ITER 和 D3D，可通过配置文件扩展其他装置。 |\n",
    "| shot=900003 ，                     | 指定放电的炮号。若数据源包含实验数据库，会自动读取相应的炮号作为数据。                                                                                                                              |\n",
    "| run=0                              | 指定模拟运行的编号。若数据源中包含可写入的是模拟数据库，写入模拟结果是会作为数据 index 的一部分。                                                                                                   |\n",
    "| equilibrium={\"code.name: \"fy_eq\" } | 指定子模块 equilibrium 的初始化信息。其中 code.name=\"fy_eq\"，意为调用路径 `fytok.modules.equilibrium.fy_eq` 下的插件                                                                                |\n",
    "| transport_solver={\"code.name: \"fy_trans\" } | 指定子模块 transport_solver 的初始化信息。其中 code.name=\"fy_trans\"，意为调用路径 `fytok.modules.equilibrium.fy_trans` 下的插件                                                                                |\n",
    "| core_sources={\"code.name: \"genray\" } | 指定子模块 core_sources 的初始化信息。其中 code.name=\"genray\"，意为调用第三方物理模块genray                                                                                |\n",
    "| core_transport=\"model\": [ {\"code\": {\"name\": \"dummy\"}},,] | 指定子模块 core_transport 的初始化信息。其中 code.name意在调用计算输运系数的模块                                                                              |\n",
    "| ...... | ......   |\n",
    "\n"
   ]
  },
  {
   "cell_type": "code",
   "execution_count": 4,
   "metadata": {},
   "outputs": [
    {
     "name": "stdout",
     "output_type": "stream",
     "text": [
      "\u001b[0;37m2024-06-05 11:32:07,442 [   fytok]  VERBOSE: Load module spdm.plugins.data.plugin_xml\u001b[0m\n"
     ]
    }
   ],
   "source": [
    "tokamak = Tokamak(\n",
    "    device=\"iter\",\n",
    "    shot=900003,\n",
    "    equilibrium=f\"file+geqdsk://./data/geqdsk.txt#equilibrium\",\n",
    "    core_transport={\n",
    "        \"model\": [\n",
    "            {\"code\": {\"name\": \"predefined\"}},\n",
    "            {\"code\": {\"name\": \"fast_alpha\"}},\n",
    "        ]\n",
    "    },\n",
    "    core_sources={\n",
    "        \"source\": [\n",
    "            f\"file+iterprofiles://./data/profiles.xls#core_sources/source/0\",\n",
    "            {\"code\": {\"name\": \"collisional_equipartition\"}},\n",
    "            {\"code\": {\"name\": \"fusion\", \"parameters\": {\"fusion_reactions\": [\"D(t,n)alpha\"], \"heating\": True}}},\n",
    "            # {\"code\": {\"name\": \"radiation\"}},\n",
    "            # {\"code\": {\"name\": \"synchrotron_radiation\"}},\n",
    "        ]\n",
    "    },\n",
    "    transport_solver={\n",
    "        \"code\": {\n",
    "            \"name\": \"fy_trans\",\n",
    "            \"parameters\": {\n",
    "                \"discontinuity\": [0.96, 0.995],\n",
    "                \"dc_pos\": 0.96,\n",
    "                \"hyper_diff\": 1.0e-5,\n",
    "                \"max_nodes\": 512,\n",
    "                \"bc_tol\": 1,\n",
    "                \"verbose\": 2,\n",
    "                \"units\": {\n",
    "                    \"psi_norm\": 1,\n",
    "                    \"psi_norm_flux\": -0.1,\n",
    "                    \"*/density\": 1.0e19,\n",
    "                    \"*/density_flux\": 1.0e23,\n",
    "                    \"*/temperature\": 1.0e4,\n",
    "                    \"*/temperature_flux\": 1.0e26,\n",
    "                    # \"ion/alpha/density\": 1.0e14,\n",
    "                    # \"ion/alpha/density_flux\": 1.0e16,\n",
    "                    # \"ion/He/density\": 1.0e15,\n",
    "                    # \"ion/He/density_flux\": 1.0e15,\n",
    "                },\n",
    "            },\n",
    "        },\n",
    "        \"ion_thermal\": [\"D\", \"T\"],  #\n",
    "        \"ion_non_thermal\": [\"alpha\", \"He\"],\n",
    "        \"impurities\": [\"Ar\", \"Be\"],\n",
    "        \"boundary_condition_type\": {\n",
    "            # fmt: off\n",
    "            # psi                          at axis \\frac{d\\psi}{dx}=0  , at boundary \\psi=?\n",
    "            \"psi\"                       : 1, \n",
    "            \"psi_norm\"                  : 1, \n",
    "            # density                      at axis \\Gamma_s=0          , at boundary n=?\n",
    "            \"*/density\"                 : 1, \n",
    "            # temperatur                   at axis \\frac{dT}{dx}=0     , at boundary T=?\n",
    "            \"*/temperature\"             : 1,\n",
    "            # fmt: on\n",
    "        },\n",
    "    },\n",
    ")"
   ]
  },
  {
   "cell_type": "code",
   "execution_count": 5,
   "metadata": {},
   "outputs": [
    {
     "name": "stdout",
     "output_type": "stream",
     "text": [
      "\u001b[0;37m2024-06-05 11:32:07,465 [   fytok]  VERBOSE: Load module fytok.plugins.modules.transport_solver_numerics.fy_trans\u001b[0m\n",
      "\u001b[0;37m2024-06-05 11:32:07,468 [   fytok]  VERBOSE: Initialize module fy_trans-0_0_0 \u001b[0m\n",
      "\u001b[0;37m2024-06-05 11:32:07,519 [   fytok]  VERBOSE: Initialize module fy_eq-0_0_0 \u001b[0m\n",
      "\u001b[0;37m2024-06-05 11:32:07,521 [   fytok]  VERBOSE: Initialize module default-0_0_0 \u001b[0m\n",
      "\u001b[0;37m2024-06-05 11:32:07,523 [   fytok]  VERBOSE: Initialize module default-0_0_0 \u001b[0m\n",
      "\u001b[0;37m2024-06-05 11:32:07,526 [   fytok]  VERBOSE: Load module fytok.plugins.modules.core_transport.model.predefined\u001b[0m\n",
      "\u001b[0;37m2024-06-05 11:32:07,528 [   fytok]  VERBOSE: Initialize module predefined-0_0_0 \u001b[0m\n",
      "\u001b[0;37m2024-06-05 11:32:07,530 [   fytok]  VERBOSE: Load module fytok.plugins.modules.core_transport.model.fast_alpha\u001b[0m\n",
      "\u001b[0;37m2024-06-05 11:32:07,533 [   fytok]  VERBOSE: Initialize module fast_alpha-0_0_0 \u001b[0m\n",
      "\u001b[0;37m2024-06-05 11:32:07,536 [   fytok]  VERBOSE: Initialize module default-0_0_0 \u001b[0m\n",
      "\u001b[0;37m2024-06-05 11:32:07,586 [   fytok]  VERBOSE: Initialize module dummy-0_0_0 \u001b[0m\n",
      "\u001b[0;37m2024-06-05 11:32:07,589 [   fytok]  VERBOSE: Load module fytok.plugins.modules.core_sources.source.collisional_equipartition\u001b[0m\n",
      "\u001b[0;37m2024-06-05 11:32:07,591 [   fytok]  VERBOSE: Initialize module collisional_equipartition-0_0_0 \u001b[0m\n",
      "\u001b[0;37m2024-06-05 11:32:07,594 [   fytok]  VERBOSE: Load module fytok.plugins.modules.core_sources.source.fusion\u001b[0m\n",
      "\u001b[0;37m2024-06-05 11:32:07,596 [   fytok]  VERBOSE: Initialize module fusion-0_0_0 \u001b[0m\n",
      "\n",
      "###################################################################################################\n",
      "\n",
      "    ______      _____     _\n",
      "   / ____/_  __|_   _|__ | | __\n",
      "  / /_  / / / /  | |/ _ \\| |/ /\n",
      " / __/ / /_/ /   | | (_) |   <\n",
      "/_/    \\__, /    |_|\\___/|_|\\_\\\n",
      "      /____/\n",
      "\n",
      " Copyright (c) 2021-present Zhi YU @ Institute of Plasma Physics Chinese Academy of Sciences \n",
      "            \n",
      " version = 0.4.1  (spdm=beta extension=0.2.3.dev0+g2cc21ff.d20240223)\n",
      "\n",
      " Run by salmon at 2024-06-05T11:32:06.808785.\n",
      " Job ID: fytok_salmon_surface_18375\n",
      "\n",
      "###################################################################################################\n",
      "\n",
      "---------------------------------------------------------------------------------------------------\n",
      "                                                Brief Summary\n",
      "---------------------------------------------------------------------------------------------------\n",
      "Dataset Description:\n",
      " \n",
      "    Device: ITER, Shot: 900003, Run: 0, \n",
      "    Run by Salmon on Surface at 2024-06-05T11:32:07.456386, base on ontology \"modified imas/3\"\n",
      "\n",
      "---------------------------------------------------------------------------------------------------\n",
      "Modules:\n",
      "    transport_solver        : fy_trans-0_0_0\n",
      "    equilibrium             : fy_eq-0_0_0\n",
      "\n",
      "    core_profiles           : default-0_0_0             \n",
      "    core_transport          : predefined-0_0_0, fast_alpha-0_0_0\n",
      "    core_sources            : dummy-0_0_0, collisional_equipartition-0_0_0, fusion-0_0_0\n",
      "---------------------------------------------------------------------------------------------------\n",
      "\n"
     ]
    }
   ],
   "source": [
    "print(tokamak.brief_summary)"
   ]
  },
  {
   "cell_type": "markdown",
   "metadata": {},
   "source": [
    "## 运行 Tokamak 实例"
   ]
  },
  {
   "cell_type": "code",
   "execution_count": 6,
   "metadata": {},
   "outputs": [],
   "source": [
    "tokamak.initialize()"
   ]
  },
  {
   "cell_type": "code",
   "execution_count": 7,
   "metadata": {},
   "outputs": [
    {
     "name": "stdout",
     "output_type": "stream",
     "text": [
      "\u001b[0;37m2024-06-05 11:32:07,665 [   fytok]  VERBOSE: Refresh module fytok.modules.core_profiles.CoreProfiles\u001b[0m\n"
     ]
    },
    {
     "ename": "KeyError",
     "evalue": "'InPorts.equilibrium/time_slice/0/profiles_1d/grid is not assigned! '",
     "output_type": "error",
     "traceback": [
      "\u001b[0;31m---------------------------------------------------------------------------\u001b[0m",
      "\u001b[0;31mKeyError\u001b[0m                                  Traceback (most recent call last)",
      "Cell \u001b[0;32mIn[7], line 1\u001b[0m\n\u001b[0;32m----> 1\u001b[0m \u001b[43mtokamak\u001b[49m\u001b[38;5;241;43m.\u001b[39;49m\u001b[43mrefresh\u001b[49m\u001b[43m(\u001b[49m\u001b[43m)\u001b[49m\n",
      "File \u001b[0;32m~/workspace/fytok/python/fytok/tokamak.py:183\u001b[0m, in \u001b[0;36mTokamak.refresh\u001b[0;34m(self, *args, **kwargs)\u001b[0m\n\u001b[1;32m    180\u001b[0m \u001b[38;5;28;01mdef\u001b[39;00m \u001b[38;5;21mrefresh\u001b[39m(\u001b[38;5;28mself\u001b[39m, \u001b[38;5;241m*\u001b[39margs, \u001b[38;5;241m*\u001b[39m\u001b[38;5;241m*\u001b[39mkwargs) \u001b[38;5;241m-\u001b[39m\u001b[38;5;241m>\u001b[39m \u001b[38;5;28;01mNone\u001b[39;00m:\n\u001b[1;32m    181\u001b[0m     \u001b[38;5;28msuper\u001b[39m()\u001b[38;5;241m.\u001b[39mrefresh(\u001b[38;5;241m*\u001b[39margs, \u001b[38;5;241m*\u001b[39m\u001b[38;5;241m*\u001b[39mkwargs)\n\u001b[0;32m--> 183\u001b[0m     \u001b[38;5;28;43mself\u001b[39;49m\u001b[38;5;241;43m.\u001b[39;49m\u001b[43mcore_profiles\u001b[49m\u001b[38;5;241;43m.\u001b[39;49m\u001b[43mrefresh\u001b[49m\u001b[43m(\u001b[49m\u001b[43mtime\u001b[49m\u001b[38;5;241;43m=\u001b[39;49m\u001b[38;5;28;43mself\u001b[39;49m\u001b[38;5;241;43m.\u001b[39;49m\u001b[43mtime\u001b[49m\u001b[43m)\u001b[49m\n\u001b[1;32m    184\u001b[0m     \u001b[38;5;28mself\u001b[39m\u001b[38;5;241m.\u001b[39mequilibrium\u001b[38;5;241m.\u001b[39mrefresh(time\u001b[38;5;241m=\u001b[39m\u001b[38;5;28mself\u001b[39m\u001b[38;5;241m.\u001b[39mtime)\n\u001b[1;32m    185\u001b[0m     \u001b[38;5;28mself\u001b[39m\u001b[38;5;241m.\u001b[39mcore_sources\u001b[38;5;241m.\u001b[39mrefresh(time\u001b[38;5;241m=\u001b[39m\u001b[38;5;28mself\u001b[39m\u001b[38;5;241m.\u001b[39mtime)\n",
      "File \u001b[0;32m~/workspace/fytok/python/fytok/modules/core_profiles.py:449\u001b[0m, in \u001b[0;36mCoreProfiles.refresh\u001b[0;34m(self, equilibrium, *args, **kwargs)\u001b[0m\n\u001b[1;32m    448\u001b[0m \u001b[38;5;28;01mdef\u001b[39;00m \u001b[38;5;21mrefresh\u001b[39m(\u001b[38;5;28mself\u001b[39m, \u001b[38;5;241m*\u001b[39margs, equilibrium: Equilibrium \u001b[38;5;241m=\u001b[39m \u001b[38;5;28;01mNone\u001b[39;00m, \u001b[38;5;241m*\u001b[39m\u001b[38;5;241m*\u001b[39mkwargs):\n\u001b[0;32m--> 449\u001b[0m     \u001b[38;5;28;01mreturn\u001b[39;00m \u001b[38;5;28;43msuper\u001b[39;49m\u001b[43m(\u001b[49m\u001b[43m)\u001b[49m\u001b[38;5;241;43m.\u001b[39;49m\u001b[43mrefresh\u001b[49m\u001b[43m(\u001b[49m\u001b[38;5;241;43m*\u001b[39;49m\u001b[43margs\u001b[49m\u001b[43m,\u001b[49m\u001b[43m \u001b[49m\u001b[43mequilibrium\u001b[49m\u001b[38;5;241;43m=\u001b[39;49m\u001b[43mequilibrium\u001b[49m\u001b[43m,\u001b[49m\u001b[43m \u001b[49m\u001b[38;5;241;43m*\u001b[39;49m\u001b[38;5;241;43m*\u001b[39;49m\u001b[43mkwargs\u001b[49m\u001b[43m)\u001b[49m\n",
      "File \u001b[0;32m~/workspace/fytok/python/fytok/modules/utilities.py:142\u001b[0m, in \u001b[0;36mModule.refresh\u001b[0;34m(self, *args, **kwargs)\u001b[0m\n\u001b[1;32m    136\u001b[0m \u001b[38;5;250m\u001b[39m\u001b[38;5;124;03m\"\"\"更新当前 Actor 的状态。\u001b[39;00m\n\u001b[1;32m    137\u001b[0m \u001b[38;5;124;03m更新当前状态树 （time_slice），并执行 self.iteration+=1\u001b[39;00m\n\u001b[1;32m    138\u001b[0m \n\u001b[1;32m    139\u001b[0m \u001b[38;5;124;03m\"\"\"\u001b[39;00m\n\u001b[1;32m    140\u001b[0m logger\u001b[38;5;241m.\u001b[39mverbose(\u001b[38;5;124mf\u001b[39m\u001b[38;5;124m\"\u001b[39m\u001b[38;5;124mRefresh module \u001b[39m\u001b[38;5;132;01m{\u001b[39;00m\u001b[38;5;28mself\u001b[39m\u001b[38;5;241m.\u001b[39mcode\u001b[38;5;241m.\u001b[39mmodule_path\u001b[38;5;132;01m}\u001b[39;00m\u001b[38;5;124m\"\u001b[39m)\n\u001b[0;32m--> 142\u001b[0m current \u001b[38;5;241m=\u001b[39m \u001b[38;5;28;43msuper\u001b[39;49m\u001b[43m(\u001b[49m\u001b[43m)\u001b[49m\u001b[38;5;241;43m.\u001b[39;49m\u001b[43mrefresh\u001b[49m\u001b[43m(\u001b[49m\u001b[38;5;241;43m*\u001b[39;49m\u001b[43margs\u001b[49m\u001b[43m,\u001b[49m\u001b[43m \u001b[49m\u001b[38;5;241;43m*\u001b[39;49m\u001b[38;5;241;43m*\u001b[39;49m\u001b[43mkwargs\u001b[49m\u001b[43m)\u001b[49m\n\u001b[1;32m    144\u001b[0m \u001b[38;5;28;01mreturn\u001b[39;00m current\n",
      "File \u001b[0;32m~/workspace/fytok/SpDM/python/spdm/core/actor.py:136\u001b[0m, in \u001b[0;36mActor.refresh\u001b[0;34m(self, *args, **kwargs)\u001b[0m\n\u001b[1;32m    130\u001b[0m \u001b[38;5;28;01mdef\u001b[39;00m \u001b[38;5;21mrefresh\u001b[39m(\u001b[38;5;28mself\u001b[39m, \u001b[38;5;241m*\u001b[39margs, \u001b[38;5;241m*\u001b[39m\u001b[38;5;241m*\u001b[39mkwargs) \u001b[38;5;241m-\u001b[39m\u001b[38;5;241m>\u001b[39m typing\u001b[38;5;241m.\u001b[39mType[TimeSlice]:\n\u001b[1;32m    131\u001b[0m \u001b[38;5;250m    \u001b[39m\u001b[38;5;124;03m\"\"\"更新当前 Actor 的状态。\u001b[39;00m\n\u001b[1;32m    132\u001b[0m \u001b[38;5;124;03m    更新当前状态树 （time_slice），并执行 self.iteration+=1\u001b[39;00m\n\u001b[1;32m    133\u001b[0m \n\u001b[1;32m    134\u001b[0m \u001b[38;5;124;03m    \"\"\"\u001b[39;00m\n\u001b[0;32m--> 136\u001b[0m     current \u001b[38;5;241m=\u001b[39m \u001b[38;5;28;43mself\u001b[39;49m\u001b[38;5;241;43m.\u001b[39;49m\u001b[43mpreprocess\u001b[49m\u001b[43m(\u001b[49m\u001b[38;5;241;43m*\u001b[39;49m\u001b[43margs\u001b[49m\u001b[43m,\u001b[49m\u001b[43m \u001b[49m\u001b[38;5;241;43m*\u001b[39;49m\u001b[38;5;241;43m*\u001b[39;49m\u001b[43mkwargs\u001b[49m\u001b[43m)\u001b[49m\n\u001b[1;32m    138\u001b[0m     current \u001b[38;5;241m=\u001b[39m \u001b[38;5;28mself\u001b[39m\u001b[38;5;241m.\u001b[39mexecute(current, \u001b[38;5;28mself\u001b[39m\u001b[38;5;241m.\u001b[39mtime_slice\u001b[38;5;241m.\u001b[39mprevious)\n\u001b[1;32m    140\u001b[0m     current \u001b[38;5;241m=\u001b[39m \u001b[38;5;28mself\u001b[39m\u001b[38;5;241m.\u001b[39mpostprocess(current)\n",
      "File \u001b[0;32m~/workspace/fytok/python/fytok/modules/core_profiles.py:427\u001b[0m, in \u001b[0;36mCoreProfiles.preprocess\u001b[0;34m(self, *args, **kwargs)\u001b[0m\n\u001b[1;32m    424\u001b[0m grid \u001b[38;5;241m=\u001b[39m current\u001b[38;5;241m.\u001b[39mget_cache(\u001b[38;5;124m\"\u001b[39m\u001b[38;5;124mprofiles_1d/grid\u001b[39m\u001b[38;5;124m\"\u001b[39m, _not_found_)\n\u001b[1;32m    426\u001b[0m \u001b[38;5;28;01mif\u001b[39;00m \u001b[38;5;129;01mnot\u001b[39;00m \u001b[38;5;28misinstance\u001b[39m(grid, CoreRadialGrid):\n\u001b[0;32m--> 427\u001b[0m     eq_grid: CoreRadialGrid \u001b[38;5;241m=\u001b[39m \u001b[38;5;28;43mself\u001b[39;49m\u001b[38;5;241;43m.\u001b[39;49m\u001b[43minports\u001b[49m\u001b[43m[\u001b[49m\u001b[38;5;124;43m\"\u001b[39;49m\u001b[38;5;124;43mequilibrium/time_slice/0/profiles_1d/grid\u001b[39;49m\u001b[38;5;124;43m\"\u001b[39;49m\u001b[43m]\u001b[49m\u001b[38;5;241m.\u001b[39mfetch()\n\u001b[1;32m    429\u001b[0m     \u001b[38;5;28;01mif\u001b[39;00m \u001b[38;5;28misinstance\u001b[39m(grid, \u001b[38;5;28mdict\u001b[39m):\n\u001b[1;32m    430\u001b[0m         new_grid \u001b[38;5;241m=\u001b[39m grid\n",
      "File \u001b[0;32m~/workspace/fytok/SpDM/python/spdm/core/htree.py:317\u001b[0m, in \u001b[0;36mHTree.__getitem__\u001b[0;34m(self, path)\u001b[0m\n\u001b[1;32m    314\u001b[0m \u001b[38;5;129m@typing\u001b[39m\u001b[38;5;241m.\u001b[39mfinal\n\u001b[1;32m    315\u001b[0m \u001b[38;5;28;01mdef\u001b[39;00m \u001b[38;5;21m__getitem__\u001b[39m(\u001b[38;5;28mself\u001b[39m, path) \u001b[38;5;241m-\u001b[39m\u001b[38;5;241m>\u001b[39m _T:\n\u001b[1;32m    316\u001b[0m     value \u001b[38;5;241m=\u001b[39m \u001b[38;5;28mself\u001b[39m\u001b[38;5;241m.\u001b[39mget(path, default_value\u001b[38;5;241m=\u001b[39m_not_found_)\n\u001b[0;32m--> 317\u001b[0m     \u001b[38;5;28;01mreturn\u001b[39;00m value \u001b[38;5;28;01mif\u001b[39;00m value \u001b[38;5;129;01mis\u001b[39;00m \u001b[38;5;129;01mnot\u001b[39;00m _not_found_ \u001b[38;5;28;01melse\u001b[39;00m \u001b[38;5;28;43mself\u001b[39;49m\u001b[38;5;241;43m.\u001b[39;49m\u001b[38;5;21;43m__missing__\u001b[39;49m\u001b[43m(\u001b[49m\u001b[43mpath\u001b[49m\u001b[43m)\u001b[49m\n",
      "File \u001b[0;32m~/workspace/fytok/SpDM/python/spdm/core/edge.py:87\u001b[0m, in \u001b[0;36mPorts.__missing__\u001b[0;34m(self, key)\u001b[0m\n\u001b[1;32m     86\u001b[0m \u001b[38;5;28;01mdef\u001b[39;00m \u001b[38;5;21m__missing__\u001b[39m(\u001b[38;5;28mself\u001b[39m, key: \u001b[38;5;28mstr\u001b[39m \u001b[38;5;241m|\u001b[39m \u001b[38;5;28mint\u001b[39m) \u001b[38;5;241m-\u001b[39m\u001b[38;5;241m>\u001b[39m typing\u001b[38;5;241m.\u001b[39mAny:\n\u001b[0;32m---> 87\u001b[0m     \u001b[38;5;28;01mraise\u001b[39;00m \u001b[38;5;167;01mKeyError\u001b[39;00m(\u001b[38;5;124mf\u001b[39m\u001b[38;5;124m\"\u001b[39m\u001b[38;5;132;01m{\u001b[39;00m\u001b[38;5;28mself\u001b[39m\u001b[38;5;241m.\u001b[39m\u001b[38;5;18m__class__\u001b[39m\u001b[38;5;241m.\u001b[39m\u001b[38;5;18m__name__\u001b[39m\u001b[38;5;132;01m}\u001b[39;00m\u001b[38;5;124m.\u001b[39m\u001b[38;5;132;01m{\u001b[39;00mkey\u001b[38;5;132;01m}\u001b[39;00m\u001b[38;5;124m is not assigned! \u001b[39m\u001b[38;5;124m\"\u001b[39m)\n",
      "\u001b[0;31mKeyError\u001b[0m: 'InPorts.equilibrium/time_slice/0/profiles_1d/grid is not assigned! '"
     ]
    }
   ],
   "source": [
    "tokamak.refresh()"
   ]
  },
  {
   "cell_type": "code",
   "execution_count": null,
   "metadata": {},
   "outputs": [],
   "source": [
    "tokamak.core_profiles._inports._cache[ 'equilibrium/time_slice/0/profiles_1d/grid'].node"
   ]
  },
  {
   "cell_type": "code",
   "execution_count": null,
   "metadata": {},
   "outputs": [],
   "source": [
    "rho_tor_norm_bdry=0.995\n",
    "rho_tor_norm = np.linspace(0.001,rho_tor_norm_bdry, 128)\n",
    "eq_grid = tokamak.equilibrium.time_slice.current.profiles_1d.grid.remesh(rho_tor_norm)\n",
    "psi_norm = eq_grid.psi_norm\n",
    "F = (1 - rho_tor_norm**2) ** 2\n",
    "n =3e19 -tokamak.core_sources.source[0].fetch(core_profiles_1d_astra).profiles_1d.ion[\"D\"].particles.I(rho_tor_norm)\n"
   ]
  },
  {
   "cell_type": "code",
   "execution_count": null,
   "metadata": {},
   "outputs": [],
   "source": [
    "solver_1d = tokamak.solve(\n",
    "\n",
    "    rho_tor_norm=rho_tor_norm,\n",
    "    impurity_fraction=0.02 * 4 + 0.0012 * 18,\n",
    "    # fmt:off\n",
    "    initial_value={\n",
    "        \"psi\":                              0.0,\n",
    "        \"psi_norm\":                         psi_norm,\n",
    "        \"ion/D/density\":                    n,          # 5.0e19*Fn , #core_profiles_1d_astra.ion[\"D\"].density(rho_tor_norm) ,# 1.0e19,  #\n",
    "        \"ion/T/density\":                    n,          # 5.0e19*Fn , #core_profiles_1d_astra.ion[\"T\"].density(rho_tor_norm) ,# 1.0e19,  #\n",
    "        \"ion/He/density\":                   2.0e19*F,   # core_profiles_1d_astra.ion[\"He\"].density(rho_tor_norm)   ,#    \n",
    "        \"ion/alpha/density\":                1.0e18*F,   #core_profiles_1d_astra.ion[\"alpha\"].density(rho_tor_norm) ,# \n",
    "        \n",
    "        \"ion/D/temperature\":                3.5e4*F, # core_profiles_1d_astra.ion[\"D\"].temperature(rho_tor_norm) *0.5,# \n",
    "        \"ion/T/temperature\":                3.5e4*F, # core_profiles_1d_astra.ion[\"T\"].temperature(rho_tor_norm) *0.5,# \n",
    "        \"electrons/temperature\":            3.5e4*F, #core_profiles_1d_astra.electrons.temperature(rho_tor_norm),# \n",
    "    },\n",
    "    # boundary_value={\n",
    "    #     \"ion/D/density\":                    n[-1],   # core_profiles_1d_astra.ion[\"D\"].density (rho_tor_norm[-1])    ,\n",
    "    #     \"ion/T/density\":                    n[-1],   # core_profiles_1d_astra.ion[\"T\"].density (rho_tor_norm[-1])    ,\n",
    "    #     \"ion/He/density\":                   1.0e19*F[-1],\n",
    "    #     \"ion/alpha/density\":                1.0e18*F[-1],\n",
    "    #     \"ion/D/temperature\":                4.0e4*F[-1] , # core_profiles_1d_astra.ion[\"D\"].temperature (rho_tor_norm[-1]) ,  # 2000,\n",
    "    #     \"ion/T/temperature\":                4.0e4*F[-1] , # core_profiles_1d_astra.ion[\"T\"].temperature (rho_tor_norm[-1]) ,  # 2000,\n",
    "    #     \"electrons/temperature\":            4.0e4*F[-1] , # core_profiles_1d_astra.electrons.temperature(rho_tor_norm[-1]),   # 2000,\n",
    "    # },\n",
    "    # fmt:on\n",
    ")"
   ]
  },
  {
   "cell_type": "markdown",
   "metadata": {},
   "source": [
    "## 后处理\n"
   ]
  },
  {
   "cell_type": "code",
   "execution_count": null,
   "metadata": {},
   "outputs": [],
   "source": [
    "tokamak.flush()\n",
    "core_profiles_1d = tokamak.core_profiles.time_slice.current.profiles_1d"
   ]
  },
  {
   "cell_type": "code",
   "execution_count": null,
   "metadata": {},
   "outputs": [],
   "source": [
    "fig = sp_view.plot(\n",
    "    solver_1d.grid.rho_tor_norm,\n",
    "    [\n",
    "        (core_profiles_1d.psi_norm, r\"$\\bar{\\psi}$\"),\n",
    "        (\n",
    "            Function(\n",
    "                equilibrium_astra.time_slice.current.profiles_1d.grid.rho_tor_norm[:-1],\n",
    "                equilibrium_astra.time_slice.current.profiles_1d.grid.psi_norm[:-1],\n",
    "            ),\n",
    "            {\"label\": r\"$\\bar{\\psi}$ astra\", \"$matplotlib\": {\"linestyle\": \"dashed\"}},\n",
    "        ),\n",
    "    ],\n",
    "    *[\n",
    "        [\n",
    "            (Path(equ.identifier).get(core_profiles_1d, 0), f\"{equ.identifier} \"),\n",
    "            (\n",
    "                Path(equ.identifier).get(core_profiles_1d_astra, 0),\n",
    "                {\"label\": f\"{equ.identifier} astra\", \"$matplotlib\": {\"linestyle\": \"dashed\"}},\n",
    "            ),\n",
    "        ]\n",
    "        for equ in solver_1d.equations\n",
    "        if equ.identifier != \"psi_norm\"\n",
    "    ],\n",
    "    (\n",
    "        (0.5 * (solver_1d.X[:-1] + solver_1d.X[1:]), solver_1d.rms_residuals * 100),\n",
    "        {\"label\": \"$rms$ residuals\", \"y_label\": r\"[\\%]\"},\n",
    "    ),\n",
    "    vline={\"x\": 0.96, \"color\": \"r\", \"linestyle\": \"--\"},\n",
    "    x_label=r\"$\\bar{\\rho}$ [-]\",\n",
    "    fontsize=12,\n",
    ")"
   ]
  }
 ],
 "metadata": {
  "kernelspec": {
   "display_name": "Python 3",
   "language": "python",
   "name": "python3"
  },
  "language_info": {
   "codemirror_mode": {
    "name": "ipython",
    "version": 3
   },
   "file_extension": ".py",
   "mimetype": "text/x-python",
   "name": "python",
   "nbconvert_exporter": "python",
   "pygments_lexer": "ipython3",
   "version": "3.11.3"
  }
 },
 "nbformat": 4,
 "nbformat_minor": 2
}

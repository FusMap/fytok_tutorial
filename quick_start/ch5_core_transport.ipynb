{
 "cells": [
  {
   "cell_type": "markdown",
   "metadata": {},
   "source": [
    "# 集成计算 case 3: 芯部输运"
   ]
  },
  {
   "cell_type": "markdown",
   "metadata": {},
   "source": [
    "## 介绍\n",
    "__FyTok__ 用于执行集成计算。 "
   ]
  },
  {
   "cell_type": "code",
   "execution_count": null,
   "metadata": {},
   "outputs": [],
   "source": [
    "import os \n",
    "os .environ[\"FY_VERBOSE\"]=\"info\"\n",
    "\n",
    "import numpy as np\n",
    "from fytok.tokamak import Tokamak\n",
    "from fytok.modules.core_profiles import CoreProfiles\n",
    "from fytok.modules.equilibrium import Equilibrium\n",
    "from spdm.core.path import Path\n",
    "from spdm.core.function import Function\n",
    "from spdm.view import  sp_view\n"
   ]
  },
  {
   "cell_type": "markdown",
   "metadata": {},
   "source": [
    "## 导入基准数据 （ITER 15MA）"
   ]
  },
  {
   "cell_type": "code",
   "execution_count": null,
   "metadata": {},
   "outputs": [],
   "source": [
    "core_profiles_astra = CoreProfiles(f\"file+iterprofiles://./data/15MA Inductive at burn-ASTRA.xls#core_profiles\")\n",
    "\n",
    "core_profiles_1d_astra = core_profiles_astra.time_slice.current.profiles_1d\n",
    "\n",
    "equilibrium_astra = Equilibrium(f\"file+geqdsk://./data/g900003.00230_ITER_15MA_eqdsk16VVHR.txt#equilibrium\")"
   ]
  },
  {
   "cell_type": "markdown",
   "metadata": {},
   "source": [
    "## 创建 Tokamak 实例"
   ]
  },
  {
   "cell_type": "markdown",
   "metadata": {},
   "source": [
    "创建参数\n",
    "\n",
    "| 参数                               | 解释                                                                                                                                                                                                |\n",
    "| ---------------------------------- | --------------------------------------------------------------------------------------------------------------------------------------------------------------------------------------------------- |\n",
    "| \"f\"\"                | 数据源。指向一个 geqdsk 文件(file+geqdsk://...)，提供平衡信息,或者数据源的entry入口                                                                                                                                                          |\n",
    "| device=\"name\"                      | 指定装置名称。根据装置名称，可以自动调取装置的静态信息，例如，wall.limiter 的几何形状，pf_active.coils 极向场线圈的位置等等。默认支持的装置信息，括 EAST、ITER 和 D3D，可通过配置文件扩展其他装置。 |\n",
    "| shot=900003 ，                     | 指定放电的炮号。若数据源包含实验数据库，会自动读取相应的炮号作为数据。                                                                                                                              |\n",
    "| run=0                              | 指定模拟运行的编号。若数据源中包含可写入的是模拟数据库，写入模拟结果是会作为数据 index 的一部分。                                                                                                   |\n",
    "| equilibrium={\"code.name: \"fy_eq\" } | 指定子模块 equilibrium 的初始化信息。其中 code.name=\"fy_eq\"，意为调用路径 `fytok.modules.equilibrium.fy_eq` 下的插件                                                                                |\n",
    "| transport_solver={\"code.name: \"fy_trans\" } | 指定子模块 transport_solver 的初始化信息。其中 code.name=\"fy_trans\"，意为调用路径 `fytok.modules.equilibrium.fy_trans` 下的插件                                                                                |\n",
    "| core_sources={\"code.name: \"genray\" } | 指定子模块 core_sources 的初始化信息。其中 code.name=\"genray\"，意为调用第三方物理模块genray                                                                                |\n",
    "| core_transport=\"model\": [ {\"code\": {\"name\": \"dummy\"}},,] | 指定子模块 core_transport 的初始化信息。其中 code.name意在调用计算输运系数的模块                                                                              |\n",
    "| ...... | ......   |\n",
    "\n"
   ]
  },
  {
   "cell_type": "code",
   "execution_count": null,
   "metadata": {},
   "outputs": [],
   "source": [
    "tokamak = Tokamak(\n",
    "    device=\"iter\",\n",
    "    shot=900003,\n",
    "    equilibrium=f\"file+geqdsk://./data/g900003.00230_ITER_15MA_eqdsk16VVHR.txt#equilibrium\",\n",
    "    core_transport={\n",
    "        \"model\": [\n",
    "            {\"code\": {\"name\": \"predefined\"}},\n",
    "            {\"code\": {\"name\": \"fast_alpha\"}},\n",
    "        ]\n",
    "    },\n",
    "    core_sources={\n",
    "        \"source\": [\n",
    "            f\"file+iterprofiles://./data/15MA Inductive at burn-ASTRA.xls#core_sources/source/0\",\n",
    "            {\"code\": {\"name\": \"collisional_equipartition\"}},\n",
    "            {\"code\": {\"name\": \"fusion\", \"parameters\": {\"fusion_reactions\": [\"D(t,n)alpha\"], \"heating\": True}}},\n",
    "            # {\"code\": {\"name\": \"radiation\"}},\n",
    "            # {\"code\": {\"name\": \"synchrotron_radiation\"}},\n",
    "        ]\n",
    "    },\n",
    "    transport_solver={\n",
    "        \"code\": {\n",
    "            \"name\": \"fy_trans\",\n",
    "            \"parameters\": {\n",
    "                \"discontinuity\": [0.96, 0.995],\n",
    "                \"dc_pos\": 0.96,\n",
    "                \"hyper_diff\": 1.0e-5,\n",
    "                \"max_nodes\": 512,\n",
    "                \"bc_tol\": 1,\n",
    "                \"verbose\": 2,\n",
    "                \"units\": {\n",
    "                    \"psi_norm\": 1,\n",
    "                    \"psi_norm_flux\": -0.1,\n",
    "                    \"*/density\": 1.0e19,\n",
    "                    \"*/density_flux\": 1.0e23,\n",
    "                    \"*/temperature\": 1.0e4,\n",
    "                    \"*/temperature_flux\": 1.0e26,\n",
    "                    # \"ion/alpha/density\": 1.0e14,\n",
    "                    # \"ion/alpha/density_flux\": 1.0e16,\n",
    "                    # \"ion/He/density\": 1.0e15,\n",
    "                    # \"ion/He/density_flux\": 1.0e15,\n",
    "                },\n",
    "            },\n",
    "        },\n",
    "        \"ion_thermal\": [\"D\", \"T\"],  #\n",
    "        \"ion_non_thermal\": [\"alpha\", \"He\"],\n",
    "        \"impurities\": [\"Ar\", \"Be\"],\n",
    "        \"boundary_condition_type\": {\n",
    "            # fmt: off\n",
    "            # psi                          at axis \\frac{d\\psi}{dx}=0  , at boundary \\psi=?\n",
    "            \"psi\"                       : 1, \n",
    "            \"psi_norm\"                  : 1, \n",
    "            # density                      at axis \\Gamma_s=0          , at boundary n=?\n",
    "            \"*/density\"                 : 1, \n",
    "            # temperatur                   at axis \\frac{dT}{dx}=0     , at boundary T=?\n",
    "            \"*/temperature\"             : 1,\n",
    "            # fmt: on\n",
    "        },\n",
    "    },\n",
    ")"
   ]
  },
  {
   "cell_type": "code",
   "execution_count": null,
   "metadata": {},
   "outputs": [],
   "source": [
    "print(tokamak.brief_summary)"
   ]
  },
  {
   "cell_type": "markdown",
   "metadata": {},
   "source": [
    "## 运行 Tokamak 实例"
   ]
  },
  {
   "cell_type": "code",
   "execution_count": null,
   "metadata": {},
   "outputs": [],
   "source": [
    "tokamak.initialize()"
   ]
  },
  {
   "cell_type": "code",
   "execution_count": null,
   "metadata": {},
   "outputs": [],
   "source": [
    "tokamak.refresh()"
   ]
  },
  {
   "cell_type": "code",
   "execution_count": null,
   "metadata": {},
   "outputs": [],
   "source": [
    "rho_tor_norm_bdry=0.995\n",
    "rho_tor_norm = np.linspace(0.001,rho_tor_norm_bdry, 128)\n",
    "eq_grid = tokamak.equilibrium.time_slice.current.profiles_1d.grid.remesh(rho_tor_norm)\n",
    "psi_norm = eq_grid.psi_norm\n",
    "F = (1 - rho_tor_norm**2) ** 2\n",
    "n =3e19 -tokamak.core_sources.source[0].fetch(core_profiles_1d_astra).profiles_1d.ion[\"D\"].particles.I(rho_tor_norm)\n"
   ]
  },
  {
   "cell_type": "code",
   "execution_count": null,
   "metadata": {},
   "outputs": [],
   "source": [
    "solver_1d = tokamak.solve(\n",
    "\n",
    "    rho_tor_norm=rho_tor_norm,\n",
    "    impurity_fraction=0.02 * 4 + 0.0012 * 18,\n",
    "    # fmt:off\n",
    "    initial_value={\n",
    "        \"psi\":                              0.0,\n",
    "        \"psi_norm\":                         psi_norm,\n",
    "        \"ion/D/density\":                    n,          # 5.0e19*Fn , #core_profiles_1d_astra.ion[\"D\"].density(rho_tor_norm) ,# 1.0e19,  #\n",
    "        \"ion/T/density\":                    n,          # 5.0e19*Fn , #core_profiles_1d_astra.ion[\"T\"].density(rho_tor_norm) ,# 1.0e19,  #\n",
    "        \"ion/He/density\":                   2.0e19*F,   # core_profiles_1d_astra.ion[\"He\"].density(rho_tor_norm)   ,#    \n",
    "        \"ion/alpha/density\":                1.0e18*F,   #core_profiles_1d_astra.ion[\"alpha\"].density(rho_tor_norm) ,# \n",
    "        \n",
    "        \"ion/D/temperature\":                3.5e4*F, # core_profiles_1d_astra.ion[\"D\"].temperature(rho_tor_norm) *0.5,# \n",
    "        \"ion/T/temperature\":                3.5e4*F, # core_profiles_1d_astra.ion[\"T\"].temperature(rho_tor_norm) *0.5,# \n",
    "        \"electrons/temperature\":            3.5e4*F, #core_profiles_1d_astra.electrons.temperature(rho_tor_norm),# \n",
    "    },\n",
    "    # boundary_value={\n",
    "    #     \"ion/D/density\":                    n[-1],   # core_profiles_1d_astra.ion[\"D\"].density (rho_tor_norm[-1])    ,\n",
    "    #     \"ion/T/density\":                    n[-1],   # core_profiles_1d_astra.ion[\"T\"].density (rho_tor_norm[-1])    ,\n",
    "    #     \"ion/He/density\":                   1.0e19*F[-1],\n",
    "    #     \"ion/alpha/density\":                1.0e18*F[-1],\n",
    "    #     \"ion/D/temperature\":                4.0e4*F[-1] , # core_profiles_1d_astra.ion[\"D\"].temperature (rho_tor_norm[-1]) ,  # 2000,\n",
    "    #     \"ion/T/temperature\":                4.0e4*F[-1] , # core_profiles_1d_astra.ion[\"T\"].temperature (rho_tor_norm[-1]) ,  # 2000,\n",
    "    #     \"electrons/temperature\":            4.0e4*F[-1] , # core_profiles_1d_astra.electrons.temperature(rho_tor_norm[-1]),   # 2000,\n",
    "    # },\n",
    "    # fmt:on\n",
    ")"
   ]
  },
  {
   "cell_type": "markdown",
   "metadata": {},
   "source": [
    "## 后处理\n"
   ]
  },
  {
   "cell_type": "code",
   "execution_count": null,
   "metadata": {},
   "outputs": [],
   "source": [
    "tokamak.flush()\n",
    "core_profiles_1d = tokamak.core_profiles.time_slice.current.profiles_1d"
   ]
  },
  {
   "cell_type": "code",
   "execution_count": null,
   "metadata": {},
   "outputs": [],
   "source": [
    "fig = sp_view.plot(\n",
    "    solver_1d.grid.rho_tor_norm,\n",
    "    [\n",
    "        (core_profiles_1d.psi_norm, r\"$\\bar{\\psi}$\"),\n",
    "        (\n",
    "            Function(\n",
    "                equilibrium_astra.time_slice.current.profiles_1d.grid.rho_tor_norm[:-1],\n",
    "                equilibrium_astra.time_slice.current.profiles_1d.grid.psi_norm[:-1],\n",
    "            ),\n",
    "            {\"label\": r\"$\\bar{\\psi}$ astra\", \"$matplotlib\": {\"linestyle\": \"dashed\"}},\n",
    "        ),\n",
    "    ],\n",
    "    *[\n",
    "        [\n",
    "            (Path(equ.identifier).get(core_profiles_1d, 0), f\"{equ.identifier} \"),\n",
    "            (\n",
    "                Path(equ.identifier).get(core_profiles_1d_astra, 0),\n",
    "                {\"label\": f\"{equ.identifier} astra\", \"$matplotlib\": {\"linestyle\": \"dashed\"}},\n",
    "            ),\n",
    "        ]\n",
    "        for equ in solver_1d.equations\n",
    "        if equ.identifier != \"psi_norm\"\n",
    "    ],\n",
    "    (\n",
    "        (0.5 * (solver_1d.X[:-1] + solver_1d.X[1:]), solver_1d.rms_residuals * 100),\n",
    "        {\"label\": \"$rms$ residuals\", \"y_label\": r\"[\\%]\"},\n",
    "    ),\n",
    "    vline={\"x\": 0.96, \"color\": \"r\", \"linestyle\": \"--\"},\n",
    "    x_label=r\"$\\bar{\\rho}$ [-]\",\n",
    "    fontsize=12,\n",
    ")"
   ]
  }
 ],
 "metadata": {
  "kernelspec": {
   "display_name": "Python 3",
   "language": "python",
   "name": "python3"
  },
  "language_info": {
   "codemirror_mode": {
    "name": "ipython",
    "version": 3
   },
   "file_extension": ".py",
   "mimetype": "text/x-python",
   "name": "python",
   "nbconvert_exporter": "python",
   "pygments_lexer": "ipython3",
   "version": "3.11.3"
  }
 },
 "nbformat": 4,
 "nbformat_minor": 2
}

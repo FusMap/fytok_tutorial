{
 "cells": [
  {
   "cell_type": "markdown",
   "metadata": {},
   "source": [
    "# 数据文件 `File`"
   ]
  },
  {
   "cell_type": "markdown",
   "metadata": {},
   "source": [
    "`spdm.data.File` 用来处理非结构化及半结构化数据文件。"
   ]
  },
  {
   "cell_type": "markdown",
   "metadata": {},
   "source": [
    "## 初始化环境"
   ]
  },
  {
   "cell_type": "code",
   "execution_count": 1,
   "metadata": {},
   "outputs": [],
   "source": [
    "from spdm.core.file import File\n",
    "from spdm.utils.logger import logger\n",
    "from pathlib import Path"
   ]
  },
  {
   "cell_type": "markdown",
   "metadata": {},
   "source": [
    "## 非结构化数据"
   ]
  },
  {
   "cell_type": "code",
   "execution_count": 3,
   "metadata": {},
   "outputs": [
    {
     "name": "stdout",
     "output_type": "stream",
     "text": [
      "\u001b[0;37m2024-07-30 10:59:39,684 [    spdm]  VERBOSE: Load module spdm.plugins.data.file_geqdsk\u001b[0m\n"
     ]
    },
    {
     "ename": "FileNotFoundError",
     "evalue": "[Errno 2] No such file or directory: '/home/salmon/workspace/fytok_tutorial/dev_reference/data/g070754.05000'",
     "output_type": "error",
     "traceback": [
      "\u001b[0;31m---------------------------------------------------------------------------\u001b[0m",
      "\u001b[0;31mFileNotFoundError\u001b[0m                         Traceback (most recent call last)",
      "Cell \u001b[0;32mIn[3], line 1\u001b[0m\n\u001b[0;32m----> 1\u001b[0m \u001b[38;5;28;43;01mwith\u001b[39;49;00m\u001b[43m \u001b[49m\u001b[43mFile\u001b[49m\u001b[43m(\u001b[49m\u001b[38;5;124;43m\"\u001b[39;49m\u001b[38;5;124;43mfile+geqdsk://./data/g070754.05000\u001b[39;49m\u001b[38;5;124;43m\"\u001b[39;49m\u001b[43m,\u001b[49m\u001b[43m \u001b[49m\u001b[43mmode\u001b[49m\u001b[38;5;241;43m=\u001b[39;49m\u001b[38;5;124;43m\"\u001b[39;49m\u001b[38;5;124;43mr\u001b[39;49m\u001b[38;5;124;43m\"\u001b[39;49m\u001b[43m,\u001b[49m\u001b[43m \u001b[49m\u001b[38;5;28;43mformat\u001b[39;49m\u001b[38;5;241;43m=\u001b[39;49m\u001b[38;5;124;43m\"\u001b[39;49m\u001b[38;5;124;43mGEQdsk\u001b[39;49m\u001b[38;5;124;43m\"\u001b[39;49m\u001b[43m)\u001b[49m\u001b[43m \u001b[49m\u001b[38;5;28;43;01mas\u001b[39;49;00m\u001b[43m \u001b[49m\u001b[43mfid\u001b[49m\u001b[43m:\u001b[49m\n\u001b[1;32m      2\u001b[0m \u001b[43m    \u001b[49m\u001b[43mdoc\u001b[49m\u001b[43m \u001b[49m\u001b[38;5;241;43m=\u001b[39;49m\u001b[43m \u001b[49m\u001b[43mfid\u001b[49m\u001b[38;5;241;43m.\u001b[39;49m\u001b[43mread\u001b[49m\u001b[43m(\u001b[49m\u001b[43m)\u001b[49m\n\u001b[1;32m      3\u001b[0m \u001b[43m    \u001b[49m\u001b[43meq_test\u001b[49m\u001b[43m \u001b[49m\u001b[38;5;241;43m=\u001b[39;49m\u001b[43m \u001b[49m\u001b[43mdoc\u001b[49m\u001b[38;5;241;43m.\u001b[39;49m\u001b[43mdump\u001b[49m\u001b[43m(\u001b[49m\u001b[43m)\u001b[49m\n",
      "File \u001b[0;32m~/workspace/spdm/python/spdm/core/document.py:164\u001b[0m, in \u001b[0;36mDocument.__enter__\u001b[0;34m(self)\u001b[0m\n\u001b[1;32m    162\u001b[0m \u001b[38;5;129m@typing\u001b[39m\u001b[38;5;241m.\u001b[39mfinal\n\u001b[1;32m    163\u001b[0m \u001b[38;5;28;01mdef\u001b[39;00m \u001b[38;5;21m__enter__\u001b[39m(\u001b[38;5;28mself\u001b[39m) \u001b[38;5;241m-\u001b[39m\u001b[38;5;241m>\u001b[39m Entry:\n\u001b[0;32m--> 164\u001b[0m     \u001b[38;5;28;01mreturn\u001b[39;00m \u001b[38;5;28;43mself\u001b[39;49m\u001b[38;5;241;43m.\u001b[39;49m\u001b[43mopen\u001b[49m\u001b[43m(\u001b[49m\u001b[43m)\u001b[49m\n",
      "File \u001b[0;32m~/workspace/fytok/python/spdm/plugins/data/file_geqdsk.py:421\u001b[0m, in \u001b[0;36mGEQdskFile.open\u001b[0;34m(self)\u001b[0m\n\u001b[1;32m    419\u001b[0m \u001b[38;5;28;01mdef\u001b[39;00m \u001b[38;5;21mopen\u001b[39m(\u001b[38;5;28mself\u001b[39m) \u001b[38;5;241m-\u001b[39m\u001b[38;5;241m>\u001b[39m Entry:\n\u001b[1;32m    420\u001b[0m     \u001b[38;5;28;01mif\u001b[39;00m \u001b[38;5;28mself\u001b[39m\u001b[38;5;241m.\u001b[39m_root \u001b[38;5;129;01mis\u001b[39;00m \u001b[38;5;28;01mNone\u001b[39;00m:\n\u001b[0;32m--> 421\u001b[0m         \u001b[38;5;28;01mwith\u001b[39;00m \u001b[38;5;28;43mopen\u001b[39;49m\u001b[43m(\u001b[49m\n\u001b[1;32m    422\u001b[0m \u001b[43m            \u001b[49m\u001b[43mpathlib\u001b[49m\u001b[38;5;241;43m.\u001b[39;49m\u001b[43mPath\u001b[49m\u001b[43m(\u001b[49m\u001b[38;5;28;43mself\u001b[39;49m\u001b[38;5;241;43m.\u001b[39;49m\u001b[43muri\u001b[49m\u001b[38;5;241;43m.\u001b[39;49m\u001b[43mpath\u001b[49m\u001b[43m)\u001b[49m\u001b[38;5;241;43m.\u001b[39;49m\u001b[43mexpanduser\u001b[49m\u001b[43m(\u001b[49m\u001b[43m)\u001b[49m\u001b[38;5;241;43m.\u001b[39;49m\u001b[43mresolve\u001b[49m\u001b[43m(\u001b[49m\u001b[43m)\u001b[49m\u001b[43m,\u001b[49m\n\u001b[1;32m    423\u001b[0m \u001b[43m            \u001b[49m\u001b[43mmode\u001b[49m\u001b[38;5;241;43m=\u001b[39;49m\u001b[38;5;124;43m\"\u001b[39;49m\u001b[38;5;124;43mr\u001b[39;49m\u001b[38;5;124;43m\"\u001b[39;49m\u001b[43m,\u001b[49m\n\u001b[1;32m    424\u001b[0m \u001b[43m            \u001b[49m\u001b[43mencoding\u001b[49m\u001b[38;5;241;43m=\u001b[39;49m\u001b[38;5;124;43m\"\u001b[39;49m\u001b[38;5;124;43mutf-8\u001b[39;49m\u001b[38;5;124;43m\"\u001b[39;49m\u001b[43m,\u001b[49m\n\u001b[1;32m    425\u001b[0m \u001b[43m        \u001b[49m\u001b[43m)\u001b[49m \u001b[38;5;28;01mas\u001b[39;00m fid:\n\u001b[1;32m    426\u001b[0m             \u001b[38;5;28mself\u001b[39m\u001b[38;5;241m.\u001b[39m_root \u001b[38;5;241m=\u001b[39m sp_from_geqdsk(sp_read_geqdsk(fid))\n\u001b[1;32m    428\u001b[0m     \u001b[38;5;28;01mreturn\u001b[39;00m \u001b[38;5;28msuper\u001b[39m()\u001b[38;5;241m.\u001b[39mopen()\n",
      "\u001b[0;31mFileNotFoundError\u001b[0m: [Errno 2] No such file or directory: '/home/salmon/workspace/fytok_tutorial/dev_reference/data/g070754.05000'"
     ]
    }
   ],
   "source": [
    "with File(\"file+geqdsk://./data/g070754.05000\", mode=\"r\", format=\"GEQdsk\") as fid:\n",
    "    doc = fid.read()\n",
    "    eq_test = doc.dump()"
   ]
  },
  {
   "cell_type": "code",
   "execution_count": null,
   "metadata": {},
   "outputs": [
    {
     "data": {
      "text/plain": [
       "dict_keys(['wall', 'equilibrium'])"
      ]
     },
     "execution_count": 4,
     "metadata": {},
     "output_type": "execute_result"
    }
   ],
   "source": [
    "#### eq_test是Python中的字典，其key遵守IMAS IDS的组织结构\n",
    "eq_test.keys()"
   ]
  },
  {
   "cell_type": "code",
   "execution_count": null,
   "metadata": {},
   "outputs": [
    {
     "data": {
      "text/plain": [
       "dict_keys(['time', 'vacuum_toroidal_field', 'time_slice'])"
      ]
     },
     "execution_count": 403,
     "metadata": {},
     "output_type": "execute_result"
    }
   ],
   "source": [
    "#### 查看equilibrium中的数据\n",
    "eq_test[\"equilibrium\"].keys()"
   ]
  },
  {
   "cell_type": "markdown",
   "metadata": {},
   "source": [
    "## 半结构化数据"
   ]
  },
  {
   "cell_type": "markdown",
   "metadata": {},
   "source": [
    "### **NameList**文件"
   ]
  },
  {
   "cell_type": "code",
   "execution_count": 5,
   "metadata": {},
   "outputs": [
    {
     "name": "stdout",
     "output_type": "stream",
     "text": [
      "\u001b[0;37m2024-07-30 10:59:56,893 [    spdm]  VERBOSE: Load module spdm.plugins.data.file_namelist\u001b[0m\n"
     ]
    },
    {
     "ename": "TypeError",
     "evalue": "NAMELISTFile.read() got an unexpected keyword argument 'default_value'",
     "output_type": "error",
     "traceback": [
      "\u001b[0;31m---------------------------------------------------------------------------\u001b[0m",
      "\u001b[0;31mTypeError\u001b[0m                                 Traceback (most recent call last)",
      "Cell \u001b[0;32mIn[5], line 4\u001b[0m\n\u001b[1;32m      1\u001b[0m \u001b[38;5;66;03m###以GENRAY的输入文件genray.dat为例，它是一个NameList格式的文件。\u001b[39;00m\n\u001b[1;32m      2\u001b[0m \u001b[38;5;28;01mwith\u001b[39;00m File(\u001b[38;5;124mf\u001b[39m\u001b[38;5;124m\"\u001b[39m\u001b[38;5;124mfile+namelist://./data/genray.dat\u001b[39m\u001b[38;5;124m\"\u001b[39m, \u001b[38;5;28mformat\u001b[39m\u001b[38;5;241m=\u001b[39m \u001b[38;5;124m\"\u001b[39m\u001b[38;5;124mnamelist\u001b[39m\u001b[38;5;124m\"\u001b[39m ,mode\u001b[38;5;241m=\u001b[39m\u001b[38;5;124m\"\u001b[39m\u001b[38;5;124mr\u001b[39m\u001b[38;5;124m\"\u001b[39m) \u001b[38;5;28;01mas\u001b[39;00m oid:\n\u001b[1;32m      3\u001b[0m \u001b[38;5;66;03m### 仅仅建立链接，而没有拿回数据\u001b[39;00m\n\u001b[0;32m----> 4\u001b[0m     output_entry \u001b[38;5;241m=\u001b[39m \u001b[43moid\u001b[49m\u001b[38;5;241;43m.\u001b[39;49m\u001b[43mread\u001b[49m\u001b[43m(\u001b[49m\u001b[43m)\u001b[49m\n\u001b[1;32m      5\u001b[0m \u001b[38;5;66;03m### 拿回所有数据\u001b[39;00m\n\u001b[1;32m      6\u001b[0m     output_data \u001b[38;5;241m=\u001b[39m oid\u001b[38;5;241m.\u001b[39mread()\u001b[38;5;241m.\u001b[39mdump()\n",
      "File \u001b[0;32m~/workspace/spdm/python/spdm/core/document.py:80\u001b[0m, in \u001b[0;36mDocument.Entry.read\u001b[0;34m(self, *args, **kwargs)\u001b[0m\n\u001b[1;32m     79\u001b[0m \u001b[38;5;28;01mdef\u001b[39;00m \u001b[38;5;21mread\u001b[39m(\u001b[38;5;28mself\u001b[39m, \u001b[38;5;241m*\u001b[39margs, \u001b[38;5;241m*\u001b[39m\u001b[38;5;241m*\u001b[39mkwargs) \u001b[38;5;241m-\u001b[39m\u001b[38;5;241m>\u001b[39m typing\u001b[38;5;241m.\u001b[39mAny:\n\u001b[0;32m---> 80\u001b[0m     \u001b[38;5;28;01mreturn\u001b[39;00m \u001b[38;5;28;43mself\u001b[39;49m\u001b[38;5;241;43m.\u001b[39;49m\u001b[43mfind\u001b[49m\u001b[43m(\u001b[49m\u001b[38;5;241;43m*\u001b[39;49m\u001b[43margs\u001b[49m\u001b[43m,\u001b[49m\u001b[43m \u001b[49m\u001b[38;5;241;43m*\u001b[39;49m\u001b[38;5;241;43m*\u001b[39;49m\u001b[43mkwargs\u001b[49m\u001b[43m)\u001b[49m\n",
      "File \u001b[0;32m~/workspace/spdm/python/spdm/core/document.py:70\u001b[0m, in \u001b[0;36mDocument.Entry.find\u001b[0;34m(self, default_value, *args, **kwargs)\u001b[0m\n\u001b[1;32m     67\u001b[0m     res \u001b[38;5;241m=\u001b[39m \u001b[38;5;28msuper\u001b[39m()\u001b[38;5;241m.\u001b[39mfind(\u001b[38;5;241m*\u001b[39margs, default_value\u001b[38;5;241m=\u001b[39m_not_found_, \u001b[38;5;241m*\u001b[39m\u001b[38;5;241m*\u001b[39mkwargs)\n\u001b[1;32m     69\u001b[0m \u001b[38;5;28;01mif\u001b[39;00m res \u001b[38;5;129;01mis\u001b[39;00m _not_found_:\n\u001b[0;32m---> 70\u001b[0m     res \u001b[38;5;241m=\u001b[39m \u001b[38;5;28;43mself\u001b[39;49m\u001b[38;5;241;43m.\u001b[39;49m\u001b[43m_doc\u001b[49m\u001b[38;5;241;43m.\u001b[39;49m\u001b[43mread\u001b[49m\u001b[43m(\u001b[49m\u001b[38;5;28;43mself\u001b[39;49m\u001b[38;5;241;43m.\u001b[39;49m\u001b[43m_path\u001b[49m\u001b[43m,\u001b[49m\u001b[43m \u001b[49m\u001b[38;5;241;43m*\u001b[39;49m\u001b[43margs\u001b[49m\u001b[43m,\u001b[49m\u001b[43m \u001b[49m\u001b[43mdefault_value\u001b[49m\u001b[38;5;241;43m=\u001b[39;49m\u001b[43mdefault_value\u001b[49m\u001b[43m,\u001b[49m\u001b[43m \u001b[49m\u001b[38;5;241;43m*\u001b[39;49m\u001b[38;5;241;43m*\u001b[39;49m\u001b[43mkwargs\u001b[49m\u001b[43m)\u001b[49m\n\u001b[1;32m     71\u001b[0m     \u001b[38;5;28;01mif\u001b[39;00m \u001b[38;5;28mlen\u001b[39m(args) \u001b[38;5;241m+\u001b[39m \u001b[38;5;28mlen\u001b[39m(kwargs) \u001b[38;5;241m==\u001b[39m \u001b[38;5;241m0\u001b[39m:\n\u001b[1;32m     72\u001b[0m         \u001b[38;5;28mself\u001b[39m\u001b[38;5;241m.\u001b[39m_cache \u001b[38;5;241m=\u001b[39m \u001b[38;5;28mself\u001b[39m\u001b[38;5;241m.\u001b[39m_path\u001b[38;5;241m.\u001b[39mupdate(\u001b[38;5;28mself\u001b[39m\u001b[38;5;241m.\u001b[39m_cache, res)\n",
      "\u001b[0;31mTypeError\u001b[0m: NAMELISTFile.read() got an unexpected keyword argument 'default_value'"
     ]
    }
   ],
   "source": [
    "###以GENRAY的输入文件genray.dat为例，它是一个NameList格式的文件。\n",
    "with File(f\"file+namelist://./data/genray.dat\", format= \"namelist\" ,mode=\"r\") as oid:\n",
    "### 仅仅建立链接，而没有拿回数据\n",
    "    output_entry = oid.read()\n",
    "### 拿回所有数据\n",
    "    output_data = oid.read().dump()\n",
    "###获取namelist中的关键字key\n",
    "logger.info(output_data.keys())\n",
    "### 通过child获取某个子节点的值，而不需要把整个树读回来\n",
    "logger.info(output_entry.child(\"main_lobes\").__value__)"
   ]
  },
  {
   "cell_type": "code",
   "execution_count": 6,
   "metadata": {},
   "outputs": [
    {
     "ename": "NameError",
     "evalue": "name 'output_data' is not defined",
     "output_type": "error",
     "traceback": [
      "\u001b[0;31m---------------------------------------------------------------------------\u001b[0m",
      "\u001b[0;31mNameError\u001b[0m                                 Traceback (most recent call last)",
      "Cell \u001b[0;32mIn[6], line 2\u001b[0m\n\u001b[1;32m      1\u001b[0m \u001b[38;5;66;03m###获取namelist中的关键字key\u001b[39;00m\n\u001b[0;32m----> 2\u001b[0m logger\u001b[38;5;241m.\u001b[39minfo(\u001b[43moutput_data\u001b[49m\u001b[38;5;241m.\u001b[39mkeys())\n\u001b[1;32m      3\u001b[0m \u001b[38;5;66;03m### 通过child获取某个子节点的值，而不需要把整个树读回来\u001b[39;00m\n\u001b[1;32m      4\u001b[0m logger\u001b[38;5;241m.\u001b[39minfo(output_entry\u001b[38;5;241m.\u001b[39mchild(\u001b[38;5;124m\"\u001b[39m\u001b[38;5;124mmain_lobes\u001b[39m\u001b[38;5;124m\"\u001b[39m)\u001b[38;5;241m.\u001b[39m__value__)\n",
      "\u001b[0;31mNameError\u001b[0m: name 'output_data' is not defined"
     ]
    }
   ],
   "source": [
    "###获取namelist中的关键字key\n",
    "logger.info(output_data.keys())\n",
    "### 通过child获取某个子节点的值，而不需要把整个树读回来\n",
    "logger.info(output_entry.child(\"main_lobes\").__value__)"
   ]
  },
  {
   "cell_type": "code",
   "execution_count": null,
   "metadata": {},
   "outputs": [],
   "source": [
    "#### NotImplementedError: TODO: NAMELISTFile.write\n",
    "# with File(f\"{DATA_INPUT}/test-eq.h5\", mode=\"w\", format=\"namelist\") as oid:\n",
    "#     oid.write(eq_test)"
   ]
  },
  {
   "cell_type": "markdown",
   "metadata": {},
   "source": [
    "### **netCDF**文件\n"
   ]
  },
  {
   "cell_type": "code",
   "execution_count": null,
   "metadata": {},
   "outputs": [
    {
     "name": "stdout",
     "output_type": "stream",
     "text": [
      "\u001b[0;37m2023-11-15 14:19:21,349 [    spdm]    DEBUG: /home/salmon/workspace/fytok/SpDM/python/spdm/utils/sp_export.py:66:sp_load_module: Load module spdm.plugins.data.plugin_netcdf\u001b[0m\n",
      "\u001b[0;37m2023-11-15 14:19:21,373 [    spdm]    DEBUG: /home/salmon/workspace/fytok/SpDM/python/spdm/plugins/data/plugin_netcdf.py:149:open: Open NetCDF File ./data/genray_profs_in.nc mode=Mode.read\u001b[0m\n",
      "\u001b[0;34m2023-11-15 14:19:21,379 [    spdm]     INFO: dict_keys(['charge', 'dmass', 'en', 'eqdsk_name', 'nj', 'nspecgr', 'r', 'temp', 'zeff', 'title'])\u001b[0m\n",
      "\u001b[0;34m2023-11-15 14:19:21,380 [    spdm]     INFO: [1.00000000e+00 1.83619995e+03 3.67239990e+03 2.20343994e+04]\u001b[0m\n"
     ]
    }
   ],
   "source": [
    "### 以GENRAY的剖面输入文件genray_profs_in.nc为例，它是一个netCDF格式的文件。\n",
    "with File(f\"./data/genray_profs_in.nc\", format= \"NetCDf\" ,mode=\"r\") as oid:\n",
    "### 仅仅建立链接，而没有拿回数据\n",
    "    output_entry = oid.read()\n",
    "### 拿回所有数据\n",
    "    output_data = oid.read().dump()\n",
    "###获取namelist中的关键字key\n",
    "logger.info(output_data.keys())\n",
    "logger.info(output_data[\"dmass\"].data)\n",
    "### 通过child获取某个子节点的值，而不需要把整个树读回来\n",
    "# logger.info(output_entry.child(\"dmass\").__value__)"
   ]
  },
  {
   "cell_type": "code",
   "execution_count": null,
   "metadata": {},
   "outputs": [
    {
     "name": "stdout",
     "output_type": "stream",
     "text": [
      "\u001b[0;37m2023-11-15 14:19:32,717 [    spdm]    DEBUG: /home/salmon/workspace/fytok/SpDM/python/spdm/plugins/data/plugin_netcdf.py:149:open: Open NetCDF File ./data/test-eq.nc mode=Mode.create|write\u001b[0m\n",
      "\u001b[0;37m2023-11-15 14:19:32,741 [    spdm]    DEBUG: /home/salmon/workspace/fytok/SpDM/python/spdm/plugins/data/plugin_netcdf.py:149:open: Open NetCDF File ./data/test-eq.nc mode=Mode.read\u001b[0m\n",
      "\u001b[0;34m2023-11-15 14:19:32,745 [    spdm]     INFO: dict_keys(['wall', 'equilibrium'])\u001b[0m\n",
      "\u001b[0;34m2023-11-15 14:19:32,746 [    spdm]     INFO: {'description_2d': {'0': {'limiter': {'unit': {'0': {'outline': {'r': array([1.35838, 1.35838, 1.35838, 1.36314, 1.4371 , 1.43721, 1.44164,\n",
      "       1.4297 , 1.39169, 1.39151, 1.37929, 1.399  , 1.43623, 1.45919,\n",
      "       1.47791, 1.54494, 1.61204, 1.63506, 1.66054, 1.66519, 1.6955 ,\n",
      "       1.70668, 1.71388, 1.714  , 1.73649, 1.76324, 1.80199, 1.80237,\n",
      "       1.93972, 1.97063, 2.07495, 2.1771 , 2.27925, 2.35   , 2.35   ,\n",
      "       2.35   , 2.27925, 2.1771 , 2.07495, 1.9728 , 1.97063, 1.92059,\n",
      "       1.87055, 1.82051, 1.79281, 1.76511, 1.75421, 1.67782, 1.60143,\n",
      "       1.48426, 1.36709, 1.33132, 1.37874, 1.42615, 1.40528, 1.3844 ,\n",
      "       1.36353, 1.35838, 1.35838, 1.35838, 1.35838]),\n",
      "                                                                 'z': array([ 0.      ,  0.227   ,  0.454   ,  0.455735,  0.798332,  0.798821,\n",
      "        0.838195,  0.908908,  1.01426 ,  1.01473 ,  1.04859 ,  1.03946 ,\n",
      "        1.0256  ,  1.02095 ,  1.02514 ,  1.05454 ,  1.08394 ,  1.09586 ,\n",
      "        1.114   ,  1.11765 ,  1.14183 ,  1.16211 ,  1.13093 ,  1.13044 ,\n",
      "        1.033   ,  0.969832,  0.92567 ,  0.925347,  0.809223,  0.783389,\n",
      "        0.68838 ,  0.58904 ,  0.4897  ,  0.49    ,  0.      , -0.49    ,\n",
      "       -0.4897  , -0.58904 , -0.68838 , -0.78772 , -0.783389, -0.832375,\n",
      "       -0.881361, -0.930347, -1.05034 , -1.17034 , -1.13917 , -1.03465 ,\n",
      "       -0.930138, -0.95338 , -0.976622, -1.01072 , -0.879327, -0.747939,\n",
      "       -0.65062 , -0.5533  , -0.455981, -0.454   , -0.227   ,  0.      ,\n",
      "        0.      ])}}}}}}}\u001b[0m\n"
     ]
    }
   ],
   "source": [
    "#### 写.nc文件\n",
    "with File(f\"./data/test-eq.nc\", mode=\"w\", format=\"netcdf\") as oid:\n",
    "    oid.write(eq_test)\n",
    "with File(f\"./data/test-eq.nc\", format= \"NetCDf\" ,mode=\"r\") as oid: \n",
    "    test_data = oid.read().dump()\n",
    "    logger.info(test_data.keys())\n",
    "    logger.info(test_data[\"wall\"])"
   ]
  },
  {
   "cell_type": "markdown",
   "metadata": {},
   "source": [
    "### **HDF5**文件"
   ]
  },
  {
   "cell_type": "code",
   "execution_count": null,
   "metadata": {},
   "outputs": [
    {
     "name": "stdout",
     "output_type": "stream",
     "text": [
      "\u001b[0;37m2023-11-15 14:19:43,508 [    spdm]    DEBUG: /home/salmon/workspace/fytok/SpDM/python/spdm/utils/sp_export.py:66:sp_load_module: Load module spdm.plugins.data.plugin_hdf5\u001b[0m\n",
      "\u001b[0;37m2023-11-15 14:19:43,511 [    spdm]    DEBUG: /home/salmon/workspace/fytok/SpDM/python/spdm/plugins/data/plugin_hdf5.py:197:open: Open HDF5 File ./data/testall.h5 mode=Mode.read\u001b[0m\n",
      "\u001b[0;34m2023-11-15 14:19:43,518 [    spdm]     INFO: dict_keys(['coherent_wave'])\u001b[0m\n",
      "\u001b[0;34m2023-11-15 14:19:43,519 [    spdm]     INFO: {'current_tor': 461821.31203568814,\n",
      " 'frequency': 4600000000.0,\n",
      " 'power': 19375694355948.902}\u001b[0m\n"
     ]
    }
   ],
   "source": [
    "### 以testall.h5，它是一个HDF5格式的文件。\n",
    "with File(f\"./data/testall.h5\", format= \"HDF5\" ,mode=\"r\") as oid:\n",
    "### 仅仅建立链接，而没有拿回数据\n",
    "    output_entry = oid.read()\n",
    "### 拿回所有数据\n",
    "    output_data = oid.read().dump()\n",
    "###获取namelist中的关键字key\n",
    "logger.info(output_data.keys())\n",
    "logger.info(output_data[\"coherent_wave\"][\"global_quantities\"])\n",
    "\n",
    "### 通过child获取某个子节点的值，而不需要把整个树读回来\n",
    "# logger.info(output_entry.child(\"coherent_wave.current_tor\").__value__)"
   ]
  },
  {
   "cell_type": "code",
   "execution_count": null,
   "metadata": {},
   "outputs": [
    {
     "name": "stdout",
     "output_type": "stream",
     "text": [
      "\u001b[0;37m2023-11-15 14:19:47,011 [    spdm]    DEBUG: /home/salmon/workspace/fytok/SpDM/python/spdm/plugins/data/plugin_hdf5.py:197:open: Open HDF5 File ./data/test-eq.hdf5 mode=Mode.create|write\u001b[0m\n",
      "\u001b[0;37m2023-11-15 14:19:47,034 [    spdm]    DEBUG: /home/salmon/workspace/fytok/SpDM/python/spdm/plugins/data/plugin_hdf5.py:197:open: Open HDF5 File ./data/test-eq.hdf5 mode=Mode.read\u001b[0m\n",
      "\u001b[0;34m2023-11-15 14:19:47,044 [    spdm]     INFO: dict_keys(['equilibrium', 'wall'])\u001b[0m\n",
      "\u001b[0;34m2023-11-15 14:19:47,046 [    spdm]     INFO: {'description_2d': [{'limiter': {'unit': [{'outline': {'r': array([1.35838, 1.35838, 1.35838, 1.36314, 1.4371 , 1.43721, 1.44164,\n",
      "       1.4297 , 1.39169, 1.39151, 1.37929, 1.399  , 1.43623, 1.45919,\n",
      "       1.47791, 1.54494, 1.61204, 1.63506, 1.66054, 1.66519, 1.6955 ,\n",
      "       1.70668, 1.71388, 1.714  , 1.73649, 1.76324, 1.80199, 1.80237,\n",
      "       1.93972, 1.97063, 2.07495, 2.1771 , 2.27925, 2.35   , 2.35   ,\n",
      "       2.35   , 2.27925, 2.1771 , 2.07495, 1.9728 , 1.97063, 1.92059,\n",
      "       1.87055, 1.82051, 1.79281, 1.76511, 1.75421, 1.67782, 1.60143,\n",
      "       1.48426, 1.36709, 1.33132, 1.37874, 1.42615, 1.40528, 1.3844 ,\n",
      "       1.36353, 1.35838, 1.35838, 1.35838, 1.35838]),\n",
      "                                                       'z': array([ 0.      ,  0.227   ,  0.454   ,  0.455735,  0.798332,  0.798821,\n",
      "        0.838195,  0.908908,  1.01426 ,  1.01473 ,  1.04859 ,  1.03946 ,\n",
      "        1.0256  ,  1.02095 ,  1.02514 ,  1.05454 ,  1.08394 ,  1.09586 ,\n",
      "        1.114   ,  1.11765 ,  1.14183 ,  1.16211 ,  1.13093 ,  1.13044 ,\n",
      "        1.033   ,  0.969832,  0.92567 ,  0.925347,  0.809223,  0.783389,\n",
      "        0.68838 ,  0.58904 ,  0.4897  ,  0.49    ,  0.      , -0.49    ,\n",
      "       -0.4897  , -0.58904 , -0.68838 , -0.78772 , -0.783389, -0.832375,\n",
      "       -0.881361, -0.930347, -1.05034 , -1.17034 , -1.13917 , -1.03465 ,\n",
      "       -0.930138, -0.95338 , -0.976622, -1.01072 , -0.879327, -0.747939,\n",
      "       -0.65062 , -0.5533  , -0.455981, -0.454   , -0.227   ,  0.      ,\n",
      "        0.      ])}}]}}]}\u001b[0m\n"
     ]
    }
   ],
   "source": [
    "#### 写.nc文件\n",
    "with File(f\"./data/test-eq.hdf5\", mode=\"w\", format=\"HDF5\") as oid:\n",
    "    oid.write(eq_test)\n",
    "with File(f\"./data/test-eq.hdf5\", format= \"HDF5\" ,mode=\"r\") as oid: \n",
    "    test_data = oid.read().dump()\n",
    "    logger.info(test_data.keys())\n",
    "    logger.info(test_data[\"wall\"])"
   ]
  },
  {
   "cell_type": "markdown",
   "metadata": {},
   "source": [
    "```{note}\n",
    "（1）其他的半结构化数据,YAML,JSON等，访问形式类似。\n",
    "```"
   ]
  }
 ],
 "metadata": {
  "kernelspec": {
   "display_name": "Python 3 (ipykernel)",
   "language": "python",
   "name": "python3"
  },
  "language_info": {
   "codemirror_mode": {
    "name": "ipython",
    "version": 3
   },
   "file_extension": ".py",
   "mimetype": "text/x-python",
   "name": "python",
   "nbconvert_exporter": "python",
   "pygments_lexer": "ipython3",
   "version": "3.11.3"
  }
 },
 "nbformat": 4,
 "nbformat_minor": 2
}

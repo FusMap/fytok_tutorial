{
 "cells": [
  {
   "cell_type": "markdown",
   "metadata": {},
   "source": [
    "# 远程数据库 "
   ]
  },
  {
   "cell_type": "markdown",
   "metadata": {},
   "source": [
    "```{note}\n",
    "    注:MDSplus数据库的访问，仅在等离子所内网有效。\n",
    "```"
   ]
  },
  {
   "cell_type": "markdown",
   "metadata": {},
   "source": [
    "\n",
    "在**SpDM**中，使用open_entry()建立统一的访问入口,支持远程MDSplus Server数据库的访问，及本地MDSplus的数据库中数据的访问。支持两个有用的功能：\n",
    "\n",
    "（1）**不同数据源的自动集成**\n",
    "\n",
    "SpDM中提供**open_entry**建立访问链接，**wall，pf，tf，magnetics**等被映射的数据均可以通过该链接入口访问。数据源来自于静态的XML文件，动态的MDS数据库中的不同tree：east,pcs_east,efit_east等\n",
    "\n",
    "SpDM中数据的访问方式是按照IDS的树状结构逐层访问。\n",
    "\n",
    "（2）**针对大型的数据库系统，“指标游走，懒惰执行”发挥重要作用**\n",
    "\n",
    "SpDM的Entry支持指标游走，懒惰加载数据功能。这对大型的数据库系统非常重要。SpDM后台已经自动集成了不同数据源的数据，对应于不同的IDS条目中。所请求的条目或者某个条目中可能存储了大量的数据，如果请求的时候便立即从底层访问层后端读取所有数据，可能需要很长时间才能完成。通常情况下，用户可能只需要个别的数据子集，”懒惰加载”使得用户仅仅建立链接，只有在需要的时候才真正获取数据，这样会利于加速。\n",
    "\n",
    "- **.child(path)**：将链接指针移动到指定的树节点，建立新的链接。返回是新的path。\n",
    "- **.get(path)**：获得给定path节点的全部数据。返回时具体数值。（get=child+fetch）"
   ]
  },
  {
   "cell_type": "markdown",
   "metadata": {},
   "source": [
    "## 针对数据库系统的URI表达式：\n",
    "### 访问远程数据库系统\n",
    "```\n",
    "\n",
    "entry = open_entry(\"device+mdsplus://202.127.204.12?enable=efit_east&shot={shot_num}\")\n",
    "\n",
    "```\n",
    "- device : 指定数据来源的装置\n",
    "- mdsplus： 处理对象是MDS数据库\n",
    "- 202.127.204.12 ：EAST mds数据库访问地址\n",
    "- enable：同时可以获取efit_east数据\n",
    "- shot：指定炮号\n",
    "\n",
    "\n",
    "### 访问本地的MDSplus数据库\n",
    "```\n",
    "···\n",
    "entry_local = open_entry(f\"east+mdsplus://{DATA_PATH}/mdsplus/~t/?enable=efit_east&shot=70745\")\n",
    "```\n",
    "- device : 指定数据来源的装置,如east\n",
    "- mdsplus： 处理对象是MDS数据库\n",
    "- {DATA_PATH}/mdsplus/~t/ 本地数据库的目录\n",
    "- enable：同时可以获取efit_east数据\n",
    "- shot：指定炮号"
   ]
  },
  {
   "cell_type": "markdown",
   "metadata": {},
   "source": [
    "### 加载基本环境"
   ]
  },
  {
   "cell_type": "code",
   "execution_count": 2,
   "metadata": {},
   "outputs": [],
   "source": [
    "### import基本环境\n",
    "from spdm.core.entry import open_entry\n",
    "from spdm.utils.logger import logger\n",
    "import MDSplus\n",
    "import os\n"
   ]
  },
  {
   "cell_type": "code",
   "execution_count": 3,
   "metadata": {},
   "outputs": [],
   "source": [
    "### 指定mapping文件的路径\n",
    "os.environ[\"SP_DATA_MAPPING_PATH\"] = \"/gpfs/fuyun/projects/fuyun/fytok/python/fytok/_mapping\""
   ]
  },
  {
   "cell_type": "markdown",
   "metadata": {},
   "source": [
    "### 访问远程EAST MDSplus数据库"
   ]
  },
  {
   "cell_type": "code",
   "execution_count": 4,
   "metadata": {},
   "outputs": [
    {
     "ename": "FileNotFoundError",
     "evalue": "Can not find mapping files for ('spdm/mapping/east', mdsplus://202.127.204.12?enable=efit_east,shot={shot_num}) MAPPING_PATH=[]!",
     "output_type": "error",
     "traceback": [
      "\u001b[0;31m---------------------------------------------------------------------------\u001b[0m",
      "\u001b[0;31mFileNotFoundError\u001b[0m                         Traceback (most recent call last)",
      "Cell \u001b[0;32mIn[4], line 4\u001b[0m\n\u001b[1;32m      2\u001b[0m shot_num \u001b[38;5;241m=\u001b[39m \u001b[38;5;241m70754\u001b[39m\n\u001b[1;32m      3\u001b[0m time_slice \u001b[38;5;241m=\u001b[39m \u001b[38;5;241m10\u001b[39m\n\u001b[0;32m----> 4\u001b[0m entry_reomte \u001b[38;5;241m=\u001b[39m \u001b[43mopen_entry\u001b[49m\u001b[43m(\u001b[49m\u001b[38;5;124;43m\"\u001b[39;49m\u001b[38;5;124;43meast+mdsplus://202.127.204.12?enable=efit_east&shot=\u001b[39;49m\u001b[38;5;132;43;01m{shot_num}\u001b[39;49;00m\u001b[38;5;124;43m\"\u001b[39;49m\u001b[43m)\u001b[49m\n",
      "File \u001b[0;32m~/workspace/spdm/python/spdm/core/entry.py:340\u001b[0m, in \u001b[0;36mopen_entry\u001b[0;34m(uri, _plugin_name, *args, **kwargs)\u001b[0m\n\u001b[1;32m    337\u001b[0m \u001b[38;5;28;01mfrom\u001b[39;00m \u001b[38;5;21;01mspdm\u001b[39;00m\u001b[38;5;21;01m.\u001b[39;00m\u001b[38;5;21;01mcore\u001b[39;00m\u001b[38;5;21;01m.\u001b[39;00m\u001b[38;5;21;01mmapper\u001b[39;00m \u001b[38;5;28;01mimport\u001b[39;00m Mapper\n\u001b[1;32m    339\u001b[0m \u001b[38;5;28;01mtry\u001b[39;00m:\n\u001b[0;32m--> 340\u001b[0m     entry \u001b[38;5;241m=\u001b[39m \u001b[43mMapper\u001b[49m\u001b[43m(\u001b[49m\u001b[43muri\u001b[49m\u001b[43m,\u001b[49m\u001b[43m \u001b[49m\u001b[38;5;241;43m*\u001b[39;49m\u001b[43margs\u001b[49m\u001b[43m,\u001b[49m\u001b[43m \u001b[49m\u001b[43m_plugin_name\u001b[49m\u001b[38;5;241;43m=\u001b[39;49m\u001b[43m_plugin_name\u001b[49m\u001b[43m,\u001b[49m\u001b[43m \u001b[49m\u001b[38;5;241;43m*\u001b[39;49m\u001b[38;5;241;43m*\u001b[39;49m\u001b[43mkwargs\u001b[49m\u001b[43m)\u001b[49m\n\u001b[1;32m    341\u001b[0m \u001b[38;5;28;01mexcept\u001b[39;00m \u001b[38;5;167;01mModuleNotFoundError\u001b[39;00m \u001b[38;5;28;01mas\u001b[39;00m error:\n\u001b[1;32m    342\u001b[0m     \u001b[38;5;28;01mraise\u001b[39;00m \u001b[38;5;167;01mModuleNotFoundError\u001b[39;00m(\u001b[38;5;124mf\u001b[39m\u001b[38;5;124m\"\u001b[39m\u001b[38;5;132;01m{\u001b[39;00muri\u001b[38;5;241m.\u001b[39mprotocol\u001b[38;5;132;01m}\u001b[39;00m\u001b[38;5;124m is not a mapping!\u001b[39m\u001b[38;5;124m\"\u001b[39m) \u001b[38;5;28;01mfrom\u001b[39;00m \u001b[38;5;21;01merror\u001b[39;00m\n",
      "File \u001b[0;32m~/workspace/spdm/python/spdm/core/mapper.py:39\u001b[0m, in \u001b[0;36mMapper.__init__\u001b[0;34m(self, uri, schema, namespace, *args, **kwargs)\u001b[0m\n\u001b[1;32m     36\u001b[0m     \u001b[38;5;28;01melif\u001b[39;00m uri\u001b[38;5;241m.\u001b[39mnetloc \u001b[38;5;241m==\u001b[39m \u001b[38;5;124m\"\u001b[39m\u001b[38;5;124m\"\u001b[39m \u001b[38;5;129;01mand\u001b[39;00m \u001b[38;5;129;01mnot\u001b[39;00m uri\u001b[38;5;241m.\u001b[39mprotocol\u001b[38;5;241m.\u001b[39mstartswith(\u001b[38;5;124m\"\u001b[39m\u001b[38;5;124mfile\u001b[39m\u001b[38;5;124m\"\u001b[39m):\n\u001b[1;32m     37\u001b[0m         uri\u001b[38;5;241m.\u001b[39mprotocol \u001b[38;5;241m=\u001b[39m \u001b[38;5;124m\"\u001b[39m\u001b[38;5;124mfile+\u001b[39m\u001b[38;5;124m\"\u001b[39m \u001b[38;5;241m+\u001b[39m uri\u001b[38;5;241m.\u001b[39mprotocol\n\u001b[0;32m---> 39\u001b[0m \u001b[38;5;28mself\u001b[39m\u001b[38;5;241m.\u001b[39m_mapper, \u001b[38;5;28mself\u001b[39m\u001b[38;5;241m.\u001b[39m_handler \u001b[38;5;241m=\u001b[39m \u001b[43mMapper\u001b[49m\u001b[38;5;241;43m.\u001b[39;49m\u001b[43m_get_mapper\u001b[49m\u001b[43m(\u001b[49m\u001b[43mschema\u001b[49m\u001b[43m,\u001b[49m\u001b[43m \u001b[49m\u001b[43muri\u001b[49m\u001b[43m,\u001b[49m\u001b[43m \u001b[49m\u001b[43mnamespace\u001b[49m\u001b[43m)\u001b[49m\n",
      "File \u001b[0;32m~/workspace/spdm/python/spdm/core/mapper.py:143\u001b[0m, in \u001b[0;36mMapper._get_mapper\u001b[0;34m(cls, schema, uri, namespace)\u001b[0m\n\u001b[1;32m    140\u001b[0m             mapping_files\u001b[38;5;241m.\u001b[39mappend(p)\n\u001b[1;32m    142\u001b[0m \u001b[38;5;28;01mif\u001b[39;00m \u001b[38;5;28mlen\u001b[39m(mapping_files) \u001b[38;5;241m==\u001b[39m \u001b[38;5;241m0\u001b[39m:\n\u001b[0;32m--> 143\u001b[0m     \u001b[38;5;28;01mraise\u001b[39;00m \u001b[38;5;167;01mFileNotFoundError\u001b[39;00m(\u001b[38;5;124mf\u001b[39m\u001b[38;5;124m\"\u001b[39m\u001b[38;5;124mCan not find mapping files for \u001b[39m\u001b[38;5;132;01m{\u001b[39;00mmapper_tag\u001b[38;5;132;01m}\u001b[39;00m\u001b[38;5;124m MAPPING_PATH=\u001b[39m\u001b[38;5;132;01m{\u001b[39;00m\u001b[38;5;28mcls\u001b[39m\u001b[38;5;241m.\u001b[39m_mapping_path\u001b[38;5;132;01m}\u001b[39;00m\u001b[38;5;124m!\u001b[39m\u001b[38;5;124m\"\u001b[39m)\n\u001b[1;32m    145\u001b[0m mapper: Entry \u001b[38;5;241m=\u001b[39m File(mapping_files, mode\u001b[38;5;241m=\u001b[39m\u001b[38;5;124m\"\u001b[39m\u001b[38;5;124mr\u001b[39m\u001b[38;5;124m\"\u001b[39m, kind\u001b[38;5;241m=\u001b[39m\u001b[38;5;124m\"\u001b[39m\u001b[38;5;124mxml\u001b[39m\u001b[38;5;124m\"\u001b[39m)\u001b[38;5;241m.\u001b[39m__entry__()\n\u001b[1;32m    147\u001b[0m \u001b[38;5;28;01mif\u001b[39;00m \u001b[38;5;129;01mnot\u001b[39;00m \u001b[38;5;28misinstance\u001b[39m(handlers, \u001b[38;5;28mdict\u001b[39m):\n",
      "\u001b[0;31mFileNotFoundError\u001b[0m: Can not find mapping files for ('spdm/mapping/east', mdsplus://202.127.204.12?enable=efit_east,shot={shot_num}) MAPPING_PATH=[]!"
     ]
    }
   ],
   "source": [
    "### 访问远程EAST MDS数据库中70754炮的数据，\n",
    "shot_num = 70754\n",
    "time_slice = 10\n",
    "entry_reomte = open_entry(\"east+mdsplus://202.127.204.12?enable=efit_east&shot={shot_num}\")"
   ]
  },
  {
   "cell_type": "code",
   "execution_count": null,
   "metadata": {},
   "outputs": [],
   "source": [
    "wall = entry_reomte.child(\"wall\")"
   ]
  },
  {
   "cell_type": "code",
   "execution_count": null,
   "metadata": {},
   "outputs": [],
   "source": [
    "wall.get()"
   ]
  },
  {
   "cell_type": "markdown",
   "metadata": {},
   "source": [
    "### 访问远程本地MDSplus数据库"
   ]
  },
  {
   "cell_type": "code",
   "execution_count": null,
   "metadata": {},
   "outputs": [],
   "source": [
    "# ### 访问本地MDSplus路径中中的70754炮的数据\n",
    "shot_num = 70754\n",
    "time_slice = 10\n",
    "DATA_PATH = \"/scratch/jupytertest/workspace_fytok/fytok_data\"\n",
    "entry_local = open_entry(f\"east+mdsplus://{DATA_PATH}/mdsplus/~t/?shot=70745\")"
   ]
  },
  {
   "cell_type": "markdown",
   "metadata": {},
   "source": [
    "open_entry建立了指向数据库系统的链接entry_local，并且自动集成了已经映射的wall，pf，tf，magnetics等数据。\n",
    "\n",
    "entry_local作为访问这些数据的入口。自动继成Entry的一切针对指针和数据的操作。"
   ]
  },
  {
   "cell_type": "code",
   "execution_count": null,
   "metadata": {},
   "outputs": [],
   "source": [
    "### .child操作会将链接进一步指向wall\n",
    "wall = entry_local.child(\"wall\")\n",
    "### 打印wall的类型，仍然是个entry\n",
    "type(wall)\n",
    "wall.get()"
   ]
  },
  {
   "cell_type": "code",
   "execution_count": null,
   "metadata": {},
   "outputs": [],
   "source": [
    "### 支持按照连续字符串格式，继续移动链接到wall中的下一个子节点中,outline仍然是个entry\n",
    "outline = entry_local.child(\"wall.description_2d[0].limiter.unit[0].outline\")\n",
    "### 获取outline的数据\n",
    "print(outline.get())"
   ]
  },
  {
   "cell_type": "markdown",
   "metadata": {},
   "source": [
    "#### SpDM中数据以字典形式在内存中直接交互"
   ]
  },
  {
   "cell_type": "code",
   "execution_count": null,
   "metadata": {},
   "outputs": [],
   "source": [
    "[entry_local.get(\"wall\").keys()]"
   ]
  },
  {
   "cell_type": "markdown",
   "metadata": {},
   "source": [
    "#### SpDM中list的访问"
   ]
  },
  {
   "cell_type": "code",
   "execution_count": null,
   "metadata": {},
   "outputs": [],
   "source": [
    "### 例如，b_field_pol_probe探针有多个，以list形式存在\n",
    "type(entry_local.get(\"magnetics\")[\"b_field_pol_probe\"])\n"
   ]
  },
  {
   "cell_type": "code",
   "execution_count": null,
   "metadata": {},
   "outputs": [],
   "source": [
    "\n",
    "### 每个探针下面是一个字典结构，获得其keys\n",
    "entry_local.get(\"magnetics.b_field_pol_probe[0]\").keys()\n"
   ]
  },
  {
   "cell_type": "code",
   "execution_count": null,
   "metadata": {},
   "outputs": [],
   "source": [
    "\n",
    "entry_local.child(\"magnetics.b_field_pol_probe[0].position\").fetch()"
   ]
  },
  {
   "cell_type": "markdown",
   "metadata": {},
   "source": [
    "#### SpDM中数据按照树状结构层层访问"
   ]
  },
  {
   "cell_type": "code",
   "execution_count": null,
   "metadata": {},
   "outputs": [],
   "source": [
    "### SpDM中数据按照层层路径进行访问:wall.description_2d[0].limiter.unit.outlin\n",
    "### 获取outline的数据：\n",
    "entry_local.get(\"wall.description_2d[0].limiter.unit.outline\")"
   ]
  }
 ],
 "metadata": {
  "kernelspec": {
   "display_name": "Python 3 (ipykernel)",
   "language": "python",
   "name": "python3"
  },
  "language_info": {
   "codemirror_mode": {
    "name": "ipython",
    "version": 3
   },
   "file_extension": ".py",
   "mimetype": "text/x-python",
   "name": "python",
   "nbconvert_exporter": "python",
   "pygments_lexer": "ipython3",
   "version": "3.11.3"
  }
 },
 "nbformat": 4,
 "nbformat_minor": 2
}
